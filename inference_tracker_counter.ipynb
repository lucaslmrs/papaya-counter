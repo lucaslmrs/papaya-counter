{
 "cells": [
  {
   "cell_type": "code",
   "execution_count": 55,
   "metadata": {
    "colab": {
     "base_uri": "https://localhost:8080/"
    },
    "id": "EGF39EIgANRK",
    "outputId": "c2251566-a8ef-4e43-d464-f908c9149441"
   },
   "outputs": [
    {
     "name": "stdout",
     "output_type": "stream",
     "text": [
      "Drive already mounted at /content/drive; to attempt to forcibly remount, call drive.mount(\"/content/drive\", force_remount=True).\n"
     ]
    }
   ],
   "source": [
    "from google.colab import drive\n",
    "drive.mount('/content/drive')"
   ]
  },
  {
   "cell_type": "code",
   "execution_count": 56,
   "metadata": {
    "id": "QOHC8nMKHhXa"
   },
   "outputs": [],
   "source": [
    "import os\n",
    "import numpy as np"
   ]
  },
  {
   "cell_type": "markdown",
   "metadata": {
    "id": "C5w5bHwTGUdp"
   },
   "source": [
    "## Install YOLOv8"
   ]
  },
  {
   "cell_type": "code",
   "execution_count": null,
   "metadata": {
    "colab": {
     "base_uri": "https://localhost:8080/"
    },
    "collapsed": true,
    "id": "S2kB2mCmGPmL",
    "outputId": "ba7368af-e1c9-4d3f-c9fb-a1d3ddabdfba"
   },
   "outputs": [
    {
     "name": "stdout",
     "output_type": "stream",
     "text": [
      "Ultralytics 8.3.27 🚀 Python-3.10.12 torch-2.5.0+cu121 CUDA:0 (Tesla T4, 15102MiB)\n",
      "Setup complete ✅ (2 CPUs, 12.7 GB RAM, 32.5/112.6 GB disk)\n"
     ]
    }
   ],
   "source": [
    "# !pip install ultralytics==8.3.19\n",
    "!pip install ultralytics\n",
    "import ultralytics\n",
    "ultralytics.checks()"
   ]
  },
  {
   "cell_type": "markdown",
   "metadata": {
    "id": "c-Fg7kPTG1xL"
   },
   "source": [
    "## Install Roboflow Supervision"
   ]
  },
  {
   "cell_type": "code",
   "execution_count": 58,
   "metadata": {
    "colab": {
     "base_uri": "https://localhost:8080/"
    },
    "id": "dbt0QFEn9OFu",
    "outputId": "be253a17-7359-41a1-e39d-5ba15180d2ee"
   },
   "outputs": [
    {
     "name": "stdout",
     "output_type": "stream",
     "text": [
      "supervision.__version__: 0.24.0\n"
     ]
    }
   ],
   "source": [
    "!pip install supervision[assets]==0.24.0\n",
    "\n",
    "from IPython import display\n",
    "display.clear_output()\n",
    "\n",
    "import supervision as sv\n",
    "print(\"supervision.__version__:\", sv.__version__)"
   ]
  },
  {
   "cell_type": "markdown",
   "metadata": {
    "id": "Y99ZDFi4G9zU"
   },
   "source": [
    "## Load pre-trained YOLOv8 model"
   ]
  },
  {
   "cell_type": "code",
   "execution_count": 59,
   "metadata": {
    "id": "9-7SBD_bHDuQ"
   },
   "outputs": [],
   "source": [
    "from ultralytics import YOLO\n",
    "\n",
    "model = YOLO(\n",
    "    os.path.join(\"/content/drive/MyDrive/Papaya-counter/results/complete_train/yolo11m\", 'train/weights/best.pt')\n",
    ")"
   ]
  },
  {
   "cell_type": "markdown",
   "metadata": {
    "id": "Kc0NETYnJWex"
   },
   "source": [
    "## Predict and annotate whole video"
   ]
  },
  {
   "cell_type": "code",
   "execution_count": 64,
   "metadata": {
    "id": "7Qwykp5K9VdK"
   },
   "outputs": [],
   "source": [
    "# settings\n",
    "LINE_START = sv.Point(0, 480/2 - 20)\n",
    "LINE_END = sv.Point(640, 480/2 - 20)\n",
    "\n",
    "SELECTED_CLASS_IDS = [0]\n",
    "SOURCE_VIDEO_PATH = f\"/content/drive/MyDrive/Papaya-counter/Teste_Video_resized.mp4\"\n",
    "TARGET_VIDEO_PATH = f\"/content/drive/MyDrive/Papaya-counter/results/complete_train/yolo11m/FINAL.mp4\""
   ]
  },
  {
   "cell_type": "code",
   "execution_count": 65,
   "metadata": {
    "colab": {
     "base_uri": "https://localhost:8080/"
    },
    "id": "kTBvc5FDJcyw",
    "outputId": "4df38a85-8fb3-4a76-f6cd-089de2232a3a"
   },
   "outputs": [
    {
     "data": {
      "text/plain": [
       "VideoInfo(width=640, height=480, fps=30, total_frames=1231)"
      ]
     },
     "execution_count": 65,
     "metadata": {},
     "output_type": "execute_result"
    }
   ],
   "source": [
    "sv.VideoInfo.from_video_path(SOURCE_VIDEO_PATH)"
   ]
  },
  {
   "cell_type": "code",
   "execution_count": 66,
   "metadata": {
    "id": "MdrNpHPbdS65"
   },
   "outputs": [],
   "source": [
    "import cv2\n",
    "# counter\n",
    "# Define the text, font, and position\n",
    "counter_font = cv2.FONT_HERSHEY_SIMPLEX\n",
    "counter_font_scale = 2\n",
    "counter_text_color = (0, 255, 0)\n",
    "counter_text_black = (0, 0, 0)\n",
    "counter_thickness = 4\n",
    "counter_position = (10, 50)"
   ]
  },
  {
   "cell_type": "code",
   "execution_count": 67,
   "metadata": {
    "id": "UdnkBZVn9Xyb"
   },
   "outputs": [],
   "source": [
    "# create BYTETracker instance\n",
    "byte_tracker = sv.ByteTrack(\n",
    "    track_activation_threshold=0.2,\n",
    "    lost_track_buffer=30,\n",
    "    minimum_matching_threshold=0.9,\n",
    "    frame_rate=30,\n",
    "    minimum_consecutive_frames=2)\n",
    "\n",
    "byte_tracker.reset()\n",
    "\n",
    "# create LineZone instance, it is previously called LineCounter class\n",
    "line_zone = sv.LineZone(start=LINE_START, end=LINE_END)\n",
    "\n",
    "# create instance of BoxAnnotator, LabelAnnotator, and TraceAnnotator\n",
    "box_annotator = sv.BoxAnnotator(thickness=1)\n",
    "label_annotator = sv.LabelAnnotator(text_thickness=1, text_scale=0.5, text_color=sv.Color.BLACK, text_padding=0)\n",
    "\n",
    "# define call back function to be used in video processing\n",
    "def callback(frame: np.ndarray, index: int) -> np.ndarray:\n",
    "\n",
    "    # model prediction on single frame and conversion to supervision Detections\n",
    "    # Conf = 0.25 due to the necessity of a high sensibility/recall\n",
    "    results = model(frame, conf=0.10, verbose=False)[0]\n",
    "    detections = sv.Detections.from_ultralytics(results)\n",
    "    # only consider class id from selected_classes define above\n",
    "    detections = detections[np.isin(detections.class_id, SELECTED_CLASS_IDS)]\n",
    "    # tracking detections\n",
    "    detections = byte_tracker.update_with_detections(detections)\n",
    "    labels = [\n",
    "        f\"#{tracker_id} {model.model.names[class_id]}\"\n",
    "        for class_id, tracker_id\n",
    "        in zip(detections.class_id, detections.tracker_id)\n",
    "    ]\n",
    "\n",
    "    five_seconds = 30*5\n",
    "    thirty_five_seconds = 30*35\n",
    "    if (index >= five_seconds) and (index <= thirty_five_seconds):\n",
    "        # update line counter\n",
    "        line_zone.trigger(detections)\n",
    "\n",
    "    annotated_frame = frame.copy()\n",
    "    annotated_frame = cv2.putText(annotated_frame, str(line_zone.in_count), counter_position, counter_font, counter_font_scale, counter_text_black, counter_thickness+1, cv2.LINE_AA)\n",
    "    annotated_frame = cv2.putText(annotated_frame, str(line_zone.in_count), counter_position, counter_font, counter_font_scale, counter_text_color, counter_thickness, cv2.LINE_AA)\n",
    "    annotated_frame = box_annotator.annotate(scene=annotated_frame, detections=detections)\n",
    "    annotated_frame = label_annotator.annotate(scene=annotated_frame, detections=detections, labels=labels)\n",
    "\n",
    "    # return frame with box and line annotated result\n",
    "\n",
    "    return annotated_frame\n",
    "\n",
    "# process the whole video\n",
    "sv.process_video(\n",
    "    source_path = SOURCE_VIDEO_PATH,\n",
    "    target_path = TARGET_VIDEO_PATH,\n",
    "    callback=callback\n",
    ")"
   ]
  }
 ],
 "metadata": {
  "accelerator": "GPU",
  "colab": {
   "gpuType": "T4",
   "provenance": []
  },
  "kernelspec": {
   "display_name": "Python 3",
   "name": "python3"
  },
  "language_info": {
   "name": "python"
  }
 },
 "nbformat": 4,
 "nbformat_minor": 0
}

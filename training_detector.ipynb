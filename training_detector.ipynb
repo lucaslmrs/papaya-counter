{
 "cells": [
  {
   "cell_type": "code",
   "execution_count": 1,
   "metadata": {
    "id": "0UHFVSseYvBe"
   },
   "outputs": [],
   "source": [
    "import locale\n",
    "locale.getpreferredencoding = lambda: \"UTF-8\""
   ]
  },
  {
   "cell_type": "code",
   "execution_count": null,
   "metadata": {
    "colab": {
     "base_uri": "https://localhost:8080/"
    },
    "collapsed": true,
    "id": "Nm1iO_hJUJ4_",
    "outputId": "aaf9316e-ed10-4747-e055-d231a3ac2fba"
   },
   "outputs": [],
   "source": [
    "!unzip /content/drive/MyDrive/Papaya-counter/dataset.zip -d /content/"
   ]
  },
  {
   "cell_type": "code",
   "execution_count": null,
   "metadata": {
    "id": "Lv4qrxEQhFya"
   },
   "outputs": [],
   "source": [
    "# !cp /content/drive/MyDrive/Papaya-counter/Teste_Video.mp4"
   ]
  },
  {
   "cell_type": "code",
   "execution_count": 4,
   "metadata": {
    "id": "YtBsIaflVc1o"
   },
   "outputs": [],
   "source": [
    "!cp  /content/drive/MyDrive/Papaya-counter/config.yaml /content/"
   ]
  },
  {
   "cell_type": "code",
   "execution_count": 6,
   "metadata": {
    "id": "2pqZclhtVGi4"
   },
   "outputs": [],
   "source": [
    "%%capture\n",
    "!pip install ultralytics"
   ]
  },
  {
   "cell_type": "code",
   "execution_count": 7,
   "metadata": {
    "colab": {
     "base_uri": "https://localhost:8080/"
    },
    "id": "ZF9wObLTU9kz",
    "outputId": "d703e21d-93e2-4633-d595-ca45e4e5532a"
   },
   "outputs": [
    {
     "name": "stdout",
     "output_type": "stream",
     "text": [
      "Creating new Ultralytics Settings v0.0.6 file ✅ \n",
      "View Ultralytics Settings with 'yolo settings' or at '/root/.config/Ultralytics/settings.json'\n",
      "Update Settings with 'yolo settings key=value', i.e. 'yolo settings runs_dir=path/to/dir'. For help see https://docs.ultralytics.com/quickstart/#ultralytics-settings.\n"
     ]
    }
   ],
   "source": [
    "import os\n",
    "from ultralytics import YOLO"
   ]
  },
  {
   "cell_type": "code",
   "execution_count": 8,
   "metadata": {
    "id": "Z-3on_FRU81k"
   },
   "outputs": [],
   "source": [
    "class Args:\n",
    "    project = 'testing_code'\n",
    "    config_train = 'config.yaml'\n",
    "    epochs = 50\n",
    "    batch = 16\n",
    "\n",
    "args = Args()"
   ]
  },
  {
   "cell_type": "code",
   "execution_count": 33,
   "metadata": {
    "id": "xMwqjiXdXsI1"
   },
   "outputs": [],
   "source": [
    "# !rm -rf /content/testing_code/yolo11n/val2"
   ]
  },
  {
   "cell_type": "code",
   "execution_count": 9,
   "metadata": {
    "id": "CRF6xvwmiJW1"
   },
   "outputs": [],
   "source": [
    "yolo_project = f'{args.project}/yolo11n'"
   ]
  },
  {
   "cell_type": "code",
   "execution_count": 30,
   "metadata": {
    "colab": {
     "base_uri": "https://localhost:8080/"
    },
    "collapsed": true,
    "id": "O8L2oz-fUcRk",
    "outputId": "3b77eb69-a1d5-47f6-8f85-0dc9f5b8ee7f"
   },
   "outputs": [
    {
     "name": "stdout",
     "output_type": "stream",
     "text": [
      "\u001b[34m\u001b[1mengine/trainer: \u001b[0mtask=detect, mode=train, model=yolo11n.yaml, data=config.yaml, epochs=50, time=None, patience=25, batch=16, imgsz=640, save=True, save_period=-1, cache=False, device=cuda:0, workers=8, project=testing_code/yolo11n, name=train, exist_ok=False, pretrained=True, optimizer=auto, verbose=True, seed=0, deterministic=True, single_cls=False, rect=False, cos_lr=False, close_mosaic=10, resume=False, amp=True, fraction=1.0, profile=False, freeze=10, multi_scale=False, overlap_mask=True, mask_ratio=4, dropout=0.0, val=True, split=val, save_json=False, save_hybrid=False, conf=None, iou=0.7, max_det=300, half=False, dnn=False, plots=True, source=None, vid_stride=1, stream_buffer=False, visualize=False, augment=False, agnostic_nms=False, classes=None, retina_masks=False, embed=None, show=False, save_frames=False, save_txt=False, save_conf=False, save_crop=False, show_labels=True, show_conf=True, show_boxes=True, line_width=None, format=torchscript, keras=False, optimize=False, int8=False, dynamic=False, simplify=True, opset=None, workspace=4, nms=False, lr0=0.01, lrf=0.01, momentum=0.937, weight_decay=0.0005, warmup_epochs=3.0, warmup_momentum=0.8, warmup_bias_lr=0.1, box=7.5, cls=0.5, dfl=1.5, pose=12.0, kobj=1.0, label_smoothing=0.0, nbs=64, hsv_h=0.015, hsv_s=0.7, hsv_v=0.4, degrees=0.0, translate=0.1, scale=0.5, shear=0.0, perspective=0.0, flipud=0.0, fliplr=0.5, bgr=0.0, mosaic=1.0, mixup=0.0, copy_paste=0.0, copy_paste_mode=flip, auto_augment=randaugment, erasing=0.4, crop_fraction=1.0, cfg=None, tracker=botsort.yaml, save_dir=testing_code/yolo11n/train\n",
      "Overriding model.yaml nc=80 with nc=1\n",
      "\n",
      "                   from  n    params  module                                       arguments                     \n",
      "  0                  -1  1       464  ultralytics.nn.modules.conv.Conv             [3, 16, 3, 2]                 \n",
      "  1                  -1  1      4672  ultralytics.nn.modules.conv.Conv             [16, 32, 3, 2]                \n",
      "  2                  -1  1      6640  ultralytics.nn.modules.block.C3k2            [32, 64, 1, False, 0.25]      \n",
      "  3                  -1  1     36992  ultralytics.nn.modules.conv.Conv             [64, 64, 3, 2]                \n",
      "  4                  -1  1     26080  ultralytics.nn.modules.block.C3k2            [64, 128, 1, False, 0.25]     \n",
      "  5                  -1  1    147712  ultralytics.nn.modules.conv.Conv             [128, 128, 3, 2]              \n",
      "  6                  -1  1     87040  ultralytics.nn.modules.block.C3k2            [128, 128, 1, True]           \n",
      "  7                  -1  1    295424  ultralytics.nn.modules.conv.Conv             [128, 256, 3, 2]              \n",
      "  8                  -1  1    346112  ultralytics.nn.modules.block.C3k2            [256, 256, 1, True]           \n",
      "  9                  -1  1    164608  ultralytics.nn.modules.block.SPPF            [256, 256, 5]                 \n",
      " 10                  -1  1    249728  ultralytics.nn.modules.block.C2PSA           [256, 256, 1]                 \n",
      " 11                  -1  1         0  torch.nn.modules.upsampling.Upsample         [None, 2, 'nearest']          \n",
      " 12             [-1, 6]  1         0  ultralytics.nn.modules.conv.Concat           [1]                           \n",
      " 13                  -1  1    111296  ultralytics.nn.modules.block.C3k2            [384, 128, 1, False]          \n",
      " 14                  -1  1         0  torch.nn.modules.upsampling.Upsample         [None, 2, 'nearest']          \n",
      " 15             [-1, 4]  1         0  ultralytics.nn.modules.conv.Concat           [1]                           \n",
      " 16                  -1  1     32096  ultralytics.nn.modules.block.C3k2            [256, 64, 1, False]           \n",
      " 17                  -1  1     36992  ultralytics.nn.modules.conv.Conv             [64, 64, 3, 2]                \n",
      " 18            [-1, 13]  1         0  ultralytics.nn.modules.conv.Concat           [1]                           \n",
      " 19                  -1  1     86720  ultralytics.nn.modules.block.C3k2            [192, 128, 1, False]          \n",
      " 20                  -1  1    147712  ultralytics.nn.modules.conv.Conv             [128, 128, 3, 2]              \n",
      " 21            [-1, 10]  1         0  ultralytics.nn.modules.conv.Concat           [1]                           \n",
      " 22                  -1  1    378880  ultralytics.nn.modules.block.C3k2            [384, 256, 1, True]           \n",
      " 23        [16, 19, 22]  1    430867  ultralytics.nn.modules.head.Detect           [1, [64, 128, 256]]           \n",
      "YOLO11n summary: 319 layers, 2,590,035 parameters, 2,590,019 gradients, 6.4 GFLOPs\n",
      "\n",
      "\u001b[34m\u001b[1mTensorBoard: \u001b[0mStart with 'tensorboard --logdir testing_code/yolo11n/train', view at http://localhost:6006/\n",
      "Freezing layer 'model.0.conv.weight'\n",
      "Freezing layer 'model.0.bn.weight'\n",
      "Freezing layer 'model.0.bn.bias'\n",
      "Freezing layer 'model.1.conv.weight'\n",
      "Freezing layer 'model.1.bn.weight'\n",
      "Freezing layer 'model.1.bn.bias'\n",
      "Freezing layer 'model.2.cv1.conv.weight'\n",
      "Freezing layer 'model.2.cv1.bn.weight'\n",
      "Freezing layer 'model.2.cv1.bn.bias'\n",
      "Freezing layer 'model.2.cv2.conv.weight'\n",
      "Freezing layer 'model.2.cv2.bn.weight'\n",
      "Freezing layer 'model.2.cv2.bn.bias'\n",
      "Freezing layer 'model.2.m.0.cv1.conv.weight'\n",
      "Freezing layer 'model.2.m.0.cv1.bn.weight'\n",
      "Freezing layer 'model.2.m.0.cv1.bn.bias'\n",
      "Freezing layer 'model.2.m.0.cv2.conv.weight'\n",
      "Freezing layer 'model.2.m.0.cv2.bn.weight'\n",
      "Freezing layer 'model.2.m.0.cv2.bn.bias'\n",
      "Freezing layer 'model.3.conv.weight'\n",
      "Freezing layer 'model.3.bn.weight'\n",
      "Freezing layer 'model.3.bn.bias'\n",
      "Freezing layer 'model.4.cv1.conv.weight'\n",
      "Freezing layer 'model.4.cv1.bn.weight'\n",
      "Freezing layer 'model.4.cv1.bn.bias'\n",
      "Freezing layer 'model.4.cv2.conv.weight'\n",
      "Freezing layer 'model.4.cv2.bn.weight'\n",
      "Freezing layer 'model.4.cv2.bn.bias'\n",
      "Freezing layer 'model.4.m.0.cv1.conv.weight'\n",
      "Freezing layer 'model.4.m.0.cv1.bn.weight'\n",
      "Freezing layer 'model.4.m.0.cv1.bn.bias'\n",
      "Freezing layer 'model.4.m.0.cv2.conv.weight'\n",
      "Freezing layer 'model.4.m.0.cv2.bn.weight'\n",
      "Freezing layer 'model.4.m.0.cv2.bn.bias'\n",
      "Freezing layer 'model.5.conv.weight'\n",
      "Freezing layer 'model.5.bn.weight'\n",
      "Freezing layer 'model.5.bn.bias'\n",
      "Freezing layer 'model.6.cv1.conv.weight'\n",
      "Freezing layer 'model.6.cv1.bn.weight'\n",
      "Freezing layer 'model.6.cv1.bn.bias'\n",
      "Freezing layer 'model.6.cv2.conv.weight'\n",
      "Freezing layer 'model.6.cv2.bn.weight'\n",
      "Freezing layer 'model.6.cv2.bn.bias'\n",
      "Freezing layer 'model.6.m.0.cv1.conv.weight'\n",
      "Freezing layer 'model.6.m.0.cv1.bn.weight'\n",
      "Freezing layer 'model.6.m.0.cv1.bn.bias'\n",
      "Freezing layer 'model.6.m.0.cv2.conv.weight'\n",
      "Freezing layer 'model.6.m.0.cv2.bn.weight'\n",
      "Freezing layer 'model.6.m.0.cv2.bn.bias'\n",
      "Freezing layer 'model.6.m.0.cv3.conv.weight'\n",
      "Freezing layer 'model.6.m.0.cv3.bn.weight'\n",
      "Freezing layer 'model.6.m.0.cv3.bn.bias'\n",
      "Freezing layer 'model.6.m.0.m.0.cv1.conv.weight'\n",
      "Freezing layer 'model.6.m.0.m.0.cv1.bn.weight'\n",
      "Freezing layer 'model.6.m.0.m.0.cv1.bn.bias'\n",
      "Freezing layer 'model.6.m.0.m.0.cv2.conv.weight'\n",
      "Freezing layer 'model.6.m.0.m.0.cv2.bn.weight'\n",
      "Freezing layer 'model.6.m.0.m.0.cv2.bn.bias'\n",
      "Freezing layer 'model.6.m.0.m.1.cv1.conv.weight'\n",
      "Freezing layer 'model.6.m.0.m.1.cv1.bn.weight'\n",
      "Freezing layer 'model.6.m.0.m.1.cv1.bn.bias'\n",
      "Freezing layer 'model.6.m.0.m.1.cv2.conv.weight'\n",
      "Freezing layer 'model.6.m.0.m.1.cv2.bn.weight'\n",
      "Freezing layer 'model.6.m.0.m.1.cv2.bn.bias'\n",
      "Freezing layer 'model.7.conv.weight'\n",
      "Freezing layer 'model.7.bn.weight'\n",
      "Freezing layer 'model.7.bn.bias'\n",
      "Freezing layer 'model.8.cv1.conv.weight'\n",
      "Freezing layer 'model.8.cv1.bn.weight'\n",
      "Freezing layer 'model.8.cv1.bn.bias'\n",
      "Freezing layer 'model.8.cv2.conv.weight'\n",
      "Freezing layer 'model.8.cv2.bn.weight'\n",
      "Freezing layer 'model.8.cv2.bn.bias'\n",
      "Freezing layer 'model.8.m.0.cv1.conv.weight'\n",
      "Freezing layer 'model.8.m.0.cv1.bn.weight'\n",
      "Freezing layer 'model.8.m.0.cv1.bn.bias'\n",
      "Freezing layer 'model.8.m.0.cv2.conv.weight'\n",
      "Freezing layer 'model.8.m.0.cv2.bn.weight'\n",
      "Freezing layer 'model.8.m.0.cv2.bn.bias'\n",
      "Freezing layer 'model.8.m.0.cv3.conv.weight'\n",
      "Freezing layer 'model.8.m.0.cv3.bn.weight'\n",
      "Freezing layer 'model.8.m.0.cv3.bn.bias'\n",
      "Freezing layer 'model.8.m.0.m.0.cv1.conv.weight'\n",
      "Freezing layer 'model.8.m.0.m.0.cv1.bn.weight'\n",
      "Freezing layer 'model.8.m.0.m.0.cv1.bn.bias'\n",
      "Freezing layer 'model.8.m.0.m.0.cv2.conv.weight'\n",
      "Freezing layer 'model.8.m.0.m.0.cv2.bn.weight'\n",
      "Freezing layer 'model.8.m.0.m.0.cv2.bn.bias'\n",
      "Freezing layer 'model.8.m.0.m.1.cv1.conv.weight'\n",
      "Freezing layer 'model.8.m.0.m.1.cv1.bn.weight'\n",
      "Freezing layer 'model.8.m.0.m.1.cv1.bn.bias'\n",
      "Freezing layer 'model.8.m.0.m.1.cv2.conv.weight'\n",
      "Freezing layer 'model.8.m.0.m.1.cv2.bn.weight'\n",
      "Freezing layer 'model.8.m.0.m.1.cv2.bn.bias'\n",
      "Freezing layer 'model.9.cv1.conv.weight'\n",
      "Freezing layer 'model.9.cv1.bn.weight'\n",
      "Freezing layer 'model.9.cv1.bn.bias'\n",
      "Freezing layer 'model.9.cv2.conv.weight'\n",
      "Freezing layer 'model.9.cv2.bn.weight'\n",
      "Freezing layer 'model.9.cv2.bn.bias'\n",
      "Freezing layer 'model.23.dfl.conv.weight'\n",
      "\u001b[34m\u001b[1mAMP: \u001b[0mrunning Automatic Mixed Precision (AMP) checks...\n",
      "\u001b[34m\u001b[1mAMP: \u001b[0mchecks passed ✅\n"
     ]
    },
    {
     "name": "stderr",
     "output_type": "stream",
     "text": [
      "\u001b[34m\u001b[1mtrain: \u001b[0mScanning /content/dataset/labels/train.cache... 245 images, 0 backgrounds, 0 corrupt: 100%|██████████| 245/245 [00:00<?, ?it/s]"
     ]
    },
    {
     "name": "stdout",
     "output_type": "stream",
     "text": [
      "\u001b[34m\u001b[1malbumentations: \u001b[0mBlur(p=0.01, blur_limit=(3, 7)), MedianBlur(p=0.01, blur_limit=(3, 7)), ToGray(p=0.01, num_output_channels=3, method='weighted_average'), CLAHE(p=0.01, clip_limit=(1.0, 4.0), tile_grid_size=(8, 8))\n"
     ]
    },
    {
     "name": "stderr",
     "output_type": "stream",
     "text": [
      "\n",
      "\u001b[34m\u001b[1mval: \u001b[0mScanning /content/dataset/labels/val.cache... 62 images, 0 backgrounds, 0 corrupt: 100%|██████████| 62/62 [00:00<?, ?it/s]\n"
     ]
    },
    {
     "name": "stdout",
     "output_type": "stream",
     "text": [
      "Plotting labels to testing_code/yolo11n/train/labels.jpg... \n",
      "\u001b[34m\u001b[1moptimizer:\u001b[0m 'optimizer=auto' found, ignoring 'lr0=0.01' and 'momentum=0.937' and determining best 'optimizer', 'lr0' and 'momentum' automatically... \n",
      "\u001b[34m\u001b[1moptimizer:\u001b[0m AdamW(lr=0.002, momentum=0.9) with parameter groups 81 weight(decay=0.0), 88 weight(decay=0.0005), 87 bias(decay=0.0)\n",
      "\u001b[34m\u001b[1mTensorBoard: \u001b[0mmodel graph visualization added ✅\n",
      "Image sizes 640 train, 640 val\n",
      "Using 2 dataloader workers\n",
      "Logging results to \u001b[1mtesting_code/yolo11n/train\u001b[0m\n",
      "Starting training for 50 epochs...\n",
      "\n",
      "      Epoch    GPU_mem   box_loss   cls_loss   dfl_loss  Instances       Size\n"
     ]
    },
    {
     "name": "stderr",
     "output_type": "stream",
     "text": [
      "       1/50      3.94G      5.114       3.59      4.121        444        640: 100%|██████████| 16/16 [00:10<00:00,  1.51it/s]\n",
      "                 Class     Images  Instances      Box(P          R      mAP50  mAP50-95): 100%|██████████| 2/2 [00:00<00:00,  2.74it/s]"
     ]
    },
    {
     "name": "stdout",
     "output_type": "stream",
     "text": [
      "                   all         62       2869          0          0          0          0\n"
     ]
    },
    {
     "name": "stderr",
     "output_type": "stream",
     "text": [
      "\n"
     ]
    },
    {
     "name": "stdout",
     "output_type": "stream",
     "text": [
      "\n",
      "      Epoch    GPU_mem   box_loss   cls_loss   dfl_loss  Instances       Size\n"
     ]
    },
    {
     "name": "stderr",
     "output_type": "stream",
     "text": [
      "       2/50      3.02G      4.426      3.312      3.708        349        640: 100%|██████████| 16/16 [00:04<00:00,  3.67it/s]\n",
      "                 Class     Images  Instances      Box(P          R      mAP50  mAP50-95): 100%|██████████| 2/2 [00:00<00:00,  2.21it/s]"
     ]
    },
    {
     "name": "stdout",
     "output_type": "stream",
     "text": [
      "                   all         62       2869          0          0          0          0\n"
     ]
    },
    {
     "name": "stderr",
     "output_type": "stream",
     "text": [
      "\n"
     ]
    },
    {
     "name": "stdout",
     "output_type": "stream",
     "text": [
      "\n",
      "      Epoch    GPU_mem   box_loss   cls_loss   dfl_loss  Instances       Size\n"
     ]
    },
    {
     "name": "stderr",
     "output_type": "stream",
     "text": [
      "       3/50      2.79G      3.881      2.857      3.426        395        640: 100%|██████████| 16/16 [00:06<00:00,  2.29it/s]\n",
      "                 Class     Images  Instances      Box(P          R      mAP50  mAP50-95): 100%|██████████| 2/2 [00:01<00:00,  1.17it/s]"
     ]
    },
    {
     "name": "stdout",
     "output_type": "stream",
     "text": [
      "                   all         62       2869          0          0          0          0\n"
     ]
    },
    {
     "name": "stderr",
     "output_type": "stream",
     "text": [
      "\n"
     ]
    },
    {
     "name": "stdout",
     "output_type": "stream",
     "text": [
      "\n",
      "      Epoch    GPU_mem   box_loss   cls_loss   dfl_loss  Instances       Size\n"
     ]
    },
    {
     "name": "stderr",
     "output_type": "stream",
     "text": [
      "       4/50      3.08G      3.442      2.359      3.104        250        640: 100%|██████████| 16/16 [00:06<00:00,  2.44it/s]\n",
      "                 Class     Images  Instances      Box(P          R      mAP50  mAP50-95): 100%|██████████| 2/2 [00:00<00:00,  2.49it/s]"
     ]
    },
    {
     "name": "stdout",
     "output_type": "stream",
     "text": [
      "                   all         62       2869          0          0          0          0\n"
     ]
    },
    {
     "name": "stderr",
     "output_type": "stream",
     "text": [
      "\n"
     ]
    },
    {
     "name": "stdout",
     "output_type": "stream",
     "text": [
      "\n",
      "      Epoch    GPU_mem   box_loss   cls_loss   dfl_loss  Instances       Size\n"
     ]
    },
    {
     "name": "stderr",
     "output_type": "stream",
     "text": [
      "       5/50      3.51G      3.129      1.984       2.91        315        640: 100%|██████████| 16/16 [00:04<00:00,  3.95it/s]\n",
      "                 Class     Images  Instances      Box(P          R      mAP50  mAP50-95): 100%|██████████| 2/2 [00:00<00:00,  2.19it/s]"
     ]
    },
    {
     "name": "stdout",
     "output_type": "stream",
     "text": [
      "                   all         62       2869          0          0          0          0\n"
     ]
    },
    {
     "name": "stderr",
     "output_type": "stream",
     "text": [
      "\n"
     ]
    },
    {
     "name": "stdout",
     "output_type": "stream",
     "text": [
      "\n",
      "      Epoch    GPU_mem   box_loss   cls_loss   dfl_loss  Instances       Size\n"
     ]
    },
    {
     "name": "stderr",
     "output_type": "stream",
     "text": [
      "       6/50      2.41G      2.886       1.72       2.74        284        640: 100%|██████████| 16/16 [00:07<00:00,  2.18it/s]\n",
      "                 Class     Images  Instances      Box(P          R      mAP50  mAP50-95): 100%|██████████| 2/2 [00:02<00:00,  1.17s/it]"
     ]
    },
    {
     "name": "stdout",
     "output_type": "stream",
     "text": [
      "                   all         62       2869     0.0274      0.177     0.0209     0.0046\n"
     ]
    },
    {
     "name": "stderr",
     "output_type": "stream",
     "text": [
      "\n"
     ]
    },
    {
     "name": "stdout",
     "output_type": "stream",
     "text": [
      "\n",
      "      Epoch    GPU_mem   box_loss   cls_loss   dfl_loss  Instances       Size\n"
     ]
    },
    {
     "name": "stderr",
     "output_type": "stream",
     "text": [
      "       7/50      2.41G      2.712      1.621      2.606        306        640: 100%|██████████| 16/16 [00:04<00:00,  3.31it/s]\n",
      "                 Class     Images  Instances      Box(P          R      mAP50  mAP50-95): 100%|██████████| 2/2 [00:01<00:00,  1.66it/s]"
     ]
    },
    {
     "name": "stdout",
     "output_type": "stream",
     "text": [
      "                   all         62       2869     0.0277       0.18     0.0431     0.0076\n"
     ]
    },
    {
     "name": "stderr",
     "output_type": "stream",
     "text": [
      "\n"
     ]
    },
    {
     "name": "stdout",
     "output_type": "stream",
     "text": [
      "\n",
      "      Epoch    GPU_mem   box_loss   cls_loss   dfl_loss  Instances       Size\n"
     ]
    },
    {
     "name": "stderr",
     "output_type": "stream",
     "text": [
      "       8/50      3.22G      2.628      1.544      2.476        335        640: 100%|██████████| 16/16 [00:04<00:00,  3.65it/s]\n",
      "                 Class     Images  Instances      Box(P          R      mAP50  mAP50-95): 100%|██████████| 2/2 [00:01<00:00,  1.71it/s]"
     ]
    },
    {
     "name": "stdout",
     "output_type": "stream",
     "text": [
      "                   all         62       2869      0.166      0.215     0.0913     0.0159\n"
     ]
    },
    {
     "name": "stderr",
     "output_type": "stream",
     "text": [
      "\n"
     ]
    },
    {
     "name": "stdout",
     "output_type": "stream",
     "text": [
      "\n",
      "      Epoch    GPU_mem   box_loss   cls_loss   dfl_loss  Instances       Size\n"
     ]
    },
    {
     "name": "stderr",
     "output_type": "stream",
     "text": [
      "       9/50      2.68G      2.554      1.491      2.342        413        640: 100%|██████████| 16/16 [00:07<00:00,  2.15it/s]\n",
      "                 Class     Images  Instances      Box(P          R      mAP50  mAP50-95): 100%|██████████| 2/2 [00:02<00:00,  1.05s/it]"
     ]
    },
    {
     "name": "stdout",
     "output_type": "stream",
     "text": [
      "                   all         62       2869      0.101      0.121     0.0445    0.00727\n"
     ]
    },
    {
     "name": "stderr",
     "output_type": "stream",
     "text": [
      "\n"
     ]
    },
    {
     "name": "stdout",
     "output_type": "stream",
     "text": [
      "\n",
      "      Epoch    GPU_mem   box_loss   cls_loss   dfl_loss  Instances       Size\n"
     ]
    },
    {
     "name": "stderr",
     "output_type": "stream",
     "text": [
      "      10/50      2.75G      2.448      1.476        2.3        410        640: 100%|██████████| 16/16 [00:04<00:00,  3.68it/s]\n",
      "                 Class     Images  Instances      Box(P          R      mAP50  mAP50-95): 100%|██████████| 2/2 [00:00<00:00,  2.13it/s]"
     ]
    },
    {
     "name": "stdout",
     "output_type": "stream",
     "text": [
      "                   all         62       2869      0.453      0.364      0.303     0.0697\n"
     ]
    },
    {
     "name": "stderr",
     "output_type": "stream",
     "text": [
      "\n"
     ]
    },
    {
     "name": "stdout",
     "output_type": "stream",
     "text": [
      "\n",
      "      Epoch    GPU_mem   box_loss   cls_loss   dfl_loss  Instances       Size\n"
     ]
    },
    {
     "name": "stderr",
     "output_type": "stream",
     "text": [
      "      11/50       3.6G      2.405       1.44      2.214        336        640: 100%|██████████| 16/16 [00:04<00:00,  3.73it/s]\n",
      "                 Class     Images  Instances      Box(P          R      mAP50  mAP50-95): 100%|██████████| 2/2 [00:01<00:00,  1.39it/s]"
     ]
    },
    {
     "name": "stdout",
     "output_type": "stream",
     "text": [
      "                   all         62       2869      0.511      0.492      0.466      0.139\n"
     ]
    },
    {
     "name": "stderr",
     "output_type": "stream",
     "text": [
      "\n"
     ]
    },
    {
     "name": "stdout",
     "output_type": "stream",
     "text": [
      "\n",
      "      Epoch    GPU_mem   box_loss   cls_loss   dfl_loss  Instances       Size\n"
     ]
    },
    {
     "name": "stderr",
     "output_type": "stream",
     "text": [
      "      12/50      3.54G      2.356      1.376      2.101        395        640: 100%|██████████| 16/16 [00:07<00:00,  2.17it/s]\n",
      "                 Class     Images  Instances      Box(P          R      mAP50  mAP50-95): 100%|██████████| 2/2 [00:02<00:00,  1.09s/it]"
     ]
    },
    {
     "name": "stdout",
     "output_type": "stream",
     "text": [
      "                   all         62       2869      0.425       0.45      0.343     0.0959\n"
     ]
    },
    {
     "name": "stderr",
     "output_type": "stream",
     "text": [
      "\n"
     ]
    },
    {
     "name": "stdout",
     "output_type": "stream",
     "text": [
      "\n",
      "      Epoch    GPU_mem   box_loss   cls_loss   dfl_loss  Instances       Size\n"
     ]
    },
    {
     "name": "stderr",
     "output_type": "stream",
     "text": [
      "      13/50      3.07G      2.311      1.387      2.102        443        640: 100%|██████████| 16/16 [00:04<00:00,  3.81it/s]\n",
      "                 Class     Images  Instances      Box(P          R      mAP50  mAP50-95): 100%|██████████| 2/2 [00:01<00:00,  2.00it/s]"
     ]
    },
    {
     "name": "stdout",
     "output_type": "stream",
     "text": [
      "                   all         62       2869      0.646      0.646      0.661      0.237\n"
     ]
    },
    {
     "name": "stderr",
     "output_type": "stream",
     "text": [
      "\n"
     ]
    },
    {
     "name": "stdout",
     "output_type": "stream",
     "text": [
      "\n",
      "      Epoch    GPU_mem   box_loss   cls_loss   dfl_loss  Instances       Size\n"
     ]
    },
    {
     "name": "stderr",
     "output_type": "stream",
     "text": [
      "      14/50      2.56G      2.275      1.354      2.042        356        640: 100%|██████████| 16/16 [00:04<00:00,  3.72it/s]\n",
      "                 Class     Images  Instances      Box(P          R      mAP50  mAP50-95): 100%|██████████| 2/2 [00:01<00:00,  1.40it/s]"
     ]
    },
    {
     "name": "stdout",
     "output_type": "stream",
     "text": [
      "                   all         62       2869      0.674      0.689      0.722       0.32\n"
     ]
    },
    {
     "name": "stderr",
     "output_type": "stream",
     "text": [
      "\n"
     ]
    },
    {
     "name": "stdout",
     "output_type": "stream",
     "text": [
      "\n",
      "      Epoch    GPU_mem   box_loss   cls_loss   dfl_loss  Instances       Size\n"
     ]
    },
    {
     "name": "stderr",
     "output_type": "stream",
     "text": [
      "      15/50         3G      2.186      1.305      1.985        370        640: 100%|██████████| 16/16 [00:07<00:00,  2.28it/s]\n",
      "                 Class     Images  Instances      Box(P          R      mAP50  mAP50-95): 100%|██████████| 2/2 [00:01<00:00,  1.08it/s]"
     ]
    },
    {
     "name": "stdout",
     "output_type": "stream",
     "text": [
      "                   all         62       2869      0.679      0.688      0.718      0.317\n"
     ]
    },
    {
     "name": "stderr",
     "output_type": "stream",
     "text": [
      "\n"
     ]
    },
    {
     "name": "stdout",
     "output_type": "stream",
     "text": [
      "\n",
      "      Epoch    GPU_mem   box_loss   cls_loss   dfl_loss  Instances       Size\n"
     ]
    },
    {
     "name": "stderr",
     "output_type": "stream",
     "text": [
      "      16/50      2.44G       2.19      1.315      1.937        309        640: 100%|██████████| 16/16 [00:04<00:00,  3.78it/s]\n",
      "                 Class     Images  Instances      Box(P          R      mAP50  mAP50-95): 100%|██████████| 2/2 [00:00<00:00,  2.31it/s]"
     ]
    },
    {
     "name": "stdout",
     "output_type": "stream",
     "text": [
      "                   all         62       2869      0.664      0.657       0.69      0.286\n"
     ]
    },
    {
     "name": "stderr",
     "output_type": "stream",
     "text": [
      "\n"
     ]
    },
    {
     "name": "stdout",
     "output_type": "stream",
     "text": [
      "\n",
      "      Epoch    GPU_mem   box_loss   cls_loss   dfl_loss  Instances       Size\n"
     ]
    },
    {
     "name": "stderr",
     "output_type": "stream",
     "text": [
      "      17/50      3.08G      2.105      1.289      1.906        295        640: 100%|██████████| 16/16 [00:04<00:00,  3.80it/s]\n",
      "                 Class     Images  Instances      Box(P          R      mAP50  mAP50-95): 100%|██████████| 2/2 [00:01<00:00,  1.22it/s]"
     ]
    },
    {
     "name": "stdout",
     "output_type": "stream",
     "text": [
      "                   all         62       2869      0.697      0.726      0.741      0.347\n"
     ]
    },
    {
     "name": "stderr",
     "output_type": "stream",
     "text": [
      "\n"
     ]
    },
    {
     "name": "stdout",
     "output_type": "stream",
     "text": [
      "\n",
      "      Epoch    GPU_mem   box_loss   cls_loss   dfl_loss  Instances       Size\n"
     ]
    },
    {
     "name": "stderr",
     "output_type": "stream",
     "text": [
      "      18/50      2.38G      2.077      1.243      1.845        406        640: 100%|██████████| 16/16 [00:07<00:00,  2.23it/s]\n",
      "                 Class     Images  Instances      Box(P          R      mAP50  mAP50-95): 100%|██████████| 2/2 [00:01<00:00,  1.61it/s]"
     ]
    },
    {
     "name": "stdout",
     "output_type": "stream",
     "text": [
      "                   all         62       2869      0.643      0.661      0.673      0.278\n"
     ]
    },
    {
     "name": "stderr",
     "output_type": "stream",
     "text": [
      "\n"
     ]
    },
    {
     "name": "stdout",
     "output_type": "stream",
     "text": [
      "\n",
      "      Epoch    GPU_mem   box_loss   cls_loss   dfl_loss  Instances       Size\n"
     ]
    },
    {
     "name": "stderr",
     "output_type": "stream",
     "text": [
      "      19/50      3.24G      2.073      1.245      1.818        557        640: 100%|██████████| 16/16 [00:04<00:00,  3.71it/s]\n",
      "                 Class     Images  Instances      Box(P          R      mAP50  mAP50-95): 100%|██████████| 2/2 [00:00<00:00,  2.29it/s]"
     ]
    },
    {
     "name": "stdout",
     "output_type": "stream",
     "text": [
      "                   all         62       2869      0.723      0.737      0.747      0.347\n"
     ]
    },
    {
     "name": "stderr",
     "output_type": "stream",
     "text": [
      "\n"
     ]
    },
    {
     "name": "stdout",
     "output_type": "stream",
     "text": [
      "\n",
      "      Epoch    GPU_mem   box_loss   cls_loss   dfl_loss  Instances       Size\n"
     ]
    },
    {
     "name": "stderr",
     "output_type": "stream",
     "text": [
      "      20/50      2.68G      2.008      1.221      1.786        290        640: 100%|██████████| 16/16 [00:07<00:00,  2.16it/s]\n",
      "                 Class     Images  Instances      Box(P          R      mAP50  mAP50-95): 100%|██████████| 2/2 [00:01<00:00,  1.15it/s]"
     ]
    },
    {
     "name": "stdout",
     "output_type": "stream",
     "text": [
      "                   all         62       2869      0.708      0.737      0.727      0.339\n"
     ]
    },
    {
     "name": "stderr",
     "output_type": "stream",
     "text": [
      "\n"
     ]
    },
    {
     "name": "stdout",
     "output_type": "stream",
     "text": [
      "\n",
      "      Epoch    GPU_mem   box_loss   cls_loss   dfl_loss  Instances       Size\n"
     ]
    },
    {
     "name": "stderr",
     "output_type": "stream",
     "text": [
      "      21/50      2.39G       1.99      1.194      1.738        395        640: 100%|██████████| 16/16 [00:07<00:00,  2.11it/s]\n",
      "                 Class     Images  Instances      Box(P          R      mAP50  mAP50-95): 100%|██████████| 2/2 [00:01<00:00,  1.16it/s]"
     ]
    },
    {
     "name": "stdout",
     "output_type": "stream",
     "text": [
      "                   all         62       2869      0.698      0.728      0.753      0.347\n"
     ]
    },
    {
     "name": "stderr",
     "output_type": "stream",
     "text": [
      "\n"
     ]
    },
    {
     "name": "stdout",
     "output_type": "stream",
     "text": [
      "\n",
      "      Epoch    GPU_mem   box_loss   cls_loss   dfl_loss  Instances       Size\n"
     ]
    },
    {
     "name": "stderr",
     "output_type": "stream",
     "text": [
      "      22/50      2.56G      1.965      1.185      1.708        500        640: 100%|██████████| 16/16 [00:04<00:00,  3.84it/s]\n",
      "                 Class     Images  Instances      Box(P          R      mAP50  mAP50-95): 100%|██████████| 2/2 [00:01<00:00,  1.93it/s]"
     ]
    },
    {
     "name": "stdout",
     "output_type": "stream",
     "text": [
      "                   all         62       2869      0.724      0.756      0.778      0.379\n"
     ]
    },
    {
     "name": "stderr",
     "output_type": "stream",
     "text": [
      "\n"
     ]
    },
    {
     "name": "stdout",
     "output_type": "stream",
     "text": [
      "\n",
      "      Epoch    GPU_mem   box_loss   cls_loss   dfl_loss  Instances       Size\n"
     ]
    },
    {
     "name": "stderr",
     "output_type": "stream",
     "text": [
      "      23/50      2.72G      1.932      1.154      1.666        427        640: 100%|██████████| 16/16 [00:04<00:00,  3.29it/s]\n",
      "                 Class     Images  Instances      Box(P          R      mAP50  mAP50-95): 100%|██████████| 2/2 [00:01<00:00,  1.27it/s]"
     ]
    },
    {
     "name": "stdout",
     "output_type": "stream",
     "text": [
      "                   all         62       2869       0.73       0.76      0.786      0.389\n"
     ]
    },
    {
     "name": "stderr",
     "output_type": "stream",
     "text": [
      "\n"
     ]
    },
    {
     "name": "stdout",
     "output_type": "stream",
     "text": [
      "\n",
      "      Epoch    GPU_mem   box_loss   cls_loss   dfl_loss  Instances       Size\n"
     ]
    },
    {
     "name": "stderr",
     "output_type": "stream",
     "text": [
      "      24/50      2.72G      1.912      1.152       1.65        314        640: 100%|██████████| 16/16 [00:07<00:00,  2.14it/s]\n",
      "                 Class     Images  Instances      Box(P          R      mAP50  mAP50-95): 100%|██████████| 2/2 [00:01<00:00,  1.15it/s]"
     ]
    },
    {
     "name": "stdout",
     "output_type": "stream",
     "text": [
      "                   all         62       2869      0.746      0.777      0.798      0.402\n"
     ]
    },
    {
     "name": "stderr",
     "output_type": "stream",
     "text": [
      "\n"
     ]
    },
    {
     "name": "stdout",
     "output_type": "stream",
     "text": [
      "\n",
      "      Epoch    GPU_mem   box_loss   cls_loss   dfl_loss  Instances       Size\n"
     ]
    },
    {
     "name": "stderr",
     "output_type": "stream",
     "text": [
      "      25/50      2.53G      1.864      1.153      1.653        285        640: 100%|██████████| 16/16 [00:04<00:00,  3.75it/s]\n",
      "                 Class     Images  Instances      Box(P          R      mAP50  mAP50-95): 100%|██████████| 2/2 [00:00<00:00,  2.16it/s]"
     ]
    },
    {
     "name": "stdout",
     "output_type": "stream",
     "text": [
      "                   all         62       2869      0.755      0.805      0.824      0.424\n"
     ]
    },
    {
     "name": "stderr",
     "output_type": "stream",
     "text": [
      "\n"
     ]
    },
    {
     "name": "stdout",
     "output_type": "stream",
     "text": [
      "\n",
      "      Epoch    GPU_mem   box_loss   cls_loss   dfl_loss  Instances       Size\n"
     ]
    },
    {
     "name": "stderr",
     "output_type": "stream",
     "text": [
      "      26/50      3.45G        1.9      1.135      1.617        417        640: 100%|██████████| 16/16 [00:04<00:00,  3.68it/s]\n",
      "                 Class     Images  Instances      Box(P          R      mAP50  mAP50-95): 100%|██████████| 2/2 [00:01<00:00,  1.06it/s]"
     ]
    },
    {
     "name": "stdout",
     "output_type": "stream",
     "text": [
      "                   all         62       2869      0.722      0.735       0.77      0.374\n"
     ]
    },
    {
     "name": "stderr",
     "output_type": "stream",
     "text": [
      "\n"
     ]
    },
    {
     "name": "stdout",
     "output_type": "stream",
     "text": [
      "\n",
      "      Epoch    GPU_mem   box_loss   cls_loss   dfl_loss  Instances       Size\n"
     ]
    },
    {
     "name": "stderr",
     "output_type": "stream",
     "text": [
      "      27/50      3.65G      1.851      1.129      1.608        335        640: 100%|██████████| 16/16 [00:07<00:00,  2.10it/s]\n",
      "                 Class     Images  Instances      Box(P          R      mAP50  mAP50-95): 100%|██████████| 2/2 [00:01<00:00,  1.13it/s]"
     ]
    },
    {
     "name": "stdout",
     "output_type": "stream",
     "text": [
      "                   all         62       2869      0.746      0.806      0.818      0.431\n"
     ]
    },
    {
     "name": "stderr",
     "output_type": "stream",
     "text": [
      "\n"
     ]
    },
    {
     "name": "stdout",
     "output_type": "stream",
     "text": [
      "\n",
      "      Epoch    GPU_mem   box_loss   cls_loss   dfl_loss  Instances       Size\n"
     ]
    },
    {
     "name": "stderr",
     "output_type": "stream",
     "text": [
      "      28/50      2.43G      1.892      1.102       1.59        290        640: 100%|██████████| 16/16 [00:04<00:00,  3.80it/s]\n",
      "                 Class     Images  Instances      Box(P          R      mAP50  mAP50-95): 100%|██████████| 2/2 [00:00<00:00,  2.20it/s]"
     ]
    },
    {
     "name": "stdout",
     "output_type": "stream",
     "text": [
      "                   all         62       2869      0.752      0.793       0.83      0.418\n"
     ]
    },
    {
     "name": "stderr",
     "output_type": "stream",
     "text": [
      "\n"
     ]
    },
    {
     "name": "stdout",
     "output_type": "stream",
     "text": [
      "\n",
      "      Epoch    GPU_mem   box_loss   cls_loss   dfl_loss  Instances       Size\n"
     ]
    },
    {
     "name": "stderr",
     "output_type": "stream",
     "text": [
      "      29/50      2.39G      1.841      1.136      1.586        319        640: 100%|██████████| 16/16 [00:04<00:00,  3.24it/s]\n",
      "                 Class     Images  Instances      Box(P          R      mAP50  mAP50-95): 100%|██████████| 2/2 [00:01<00:00,  1.37it/s]"
     ]
    },
    {
     "name": "stdout",
     "output_type": "stream",
     "text": [
      "                   all         62       2869      0.765      0.803      0.842      0.459\n"
     ]
    },
    {
     "name": "stderr",
     "output_type": "stream",
     "text": [
      "\n"
     ]
    },
    {
     "name": "stdout",
     "output_type": "stream",
     "text": [
      "\n",
      "      Epoch    GPU_mem   box_loss   cls_loss   dfl_loss  Instances       Size\n"
     ]
    },
    {
     "name": "stderr",
     "output_type": "stream",
     "text": [
      "      30/50      2.91G      1.857      1.113      1.571        412        640: 100%|██████████| 16/16 [00:08<00:00,  1.99it/s]\n",
      "                 Class     Images  Instances      Box(P          R      mAP50  mAP50-95): 100%|██████████| 2/2 [00:01<00:00,  1.96it/s]"
     ]
    },
    {
     "name": "stdout",
     "output_type": "stream",
     "text": [
      "                   all         62       2869      0.739      0.785      0.817      0.405\n"
     ]
    },
    {
     "name": "stderr",
     "output_type": "stream",
     "text": [
      "\n"
     ]
    },
    {
     "name": "stdout",
     "output_type": "stream",
     "text": [
      "\n",
      "      Epoch    GPU_mem   box_loss   cls_loss   dfl_loss  Instances       Size\n"
     ]
    },
    {
     "name": "stderr",
     "output_type": "stream",
     "text": [
      "      31/50      3.14G      1.817      1.106      1.551        373        640: 100%|██████████| 16/16 [00:04<00:00,  3.89it/s]\n",
      "                 Class     Images  Instances      Box(P          R      mAP50  mAP50-95): 100%|██████████| 2/2 [00:01<00:00,  1.89it/s]"
     ]
    },
    {
     "name": "stdout",
     "output_type": "stream",
     "text": [
      "                   all         62       2869      0.743        0.8      0.834      0.439\n"
     ]
    },
    {
     "name": "stderr",
     "output_type": "stream",
     "text": [
      "\n"
     ]
    },
    {
     "name": "stdout",
     "output_type": "stream",
     "text": [
      "\n",
      "      Epoch    GPU_mem   box_loss   cls_loss   dfl_loss  Instances       Size\n"
     ]
    },
    {
     "name": "stderr",
     "output_type": "stream",
     "text": [
      "      32/50      2.66G      1.818      1.093      1.546        536        640: 100%|██████████| 16/16 [00:05<00:00,  3.09it/s]\n",
      "                 Class     Images  Instances      Box(P          R      mAP50  mAP50-95): 100%|██████████| 2/2 [00:01<00:00,  1.20it/s]"
     ]
    },
    {
     "name": "stdout",
     "output_type": "stream",
     "text": [
      "                   all         62       2869      0.771      0.816      0.853      0.446\n"
     ]
    },
    {
     "name": "stderr",
     "output_type": "stream",
     "text": [
      "\n"
     ]
    },
    {
     "name": "stdout",
     "output_type": "stream",
     "text": [
      "\n",
      "      Epoch    GPU_mem   box_loss   cls_loss   dfl_loss  Instances       Size\n"
     ]
    },
    {
     "name": "stderr",
     "output_type": "stream",
     "text": [
      "      33/50      2.68G       1.81      1.103      1.549        329        640: 100%|██████████| 16/16 [00:07<00:00,  2.15it/s]\n",
      "                 Class     Images  Instances      Box(P          R      mAP50  mAP50-95): 100%|██████████| 2/2 [00:01<00:00,  1.55it/s]"
     ]
    },
    {
     "name": "stdout",
     "output_type": "stream",
     "text": [
      "                   all         62       2869      0.764      0.806      0.851      0.459\n"
     ]
    },
    {
     "name": "stderr",
     "output_type": "stream",
     "text": [
      "\n"
     ]
    },
    {
     "name": "stdout",
     "output_type": "stream",
     "text": [
      "\n",
      "      Epoch    GPU_mem   box_loss   cls_loss   dfl_loss  Instances       Size\n"
     ]
    },
    {
     "name": "stderr",
     "output_type": "stream",
     "text": [
      "      34/50      3.17G      1.788      1.068      1.515        455        640: 100%|██████████| 16/16 [00:04<00:00,  3.89it/s]\n",
      "                 Class     Images  Instances      Box(P          R      mAP50  mAP50-95): 100%|██████████| 2/2 [00:01<00:00,  1.86it/s]"
     ]
    },
    {
     "name": "stdout",
     "output_type": "stream",
     "text": [
      "                   all         62       2869      0.766      0.806      0.853      0.453\n"
     ]
    },
    {
     "name": "stderr",
     "output_type": "stream",
     "text": [
      "\n"
     ]
    },
    {
     "name": "stdout",
     "output_type": "stream",
     "text": [
      "\n",
      "      Epoch    GPU_mem   box_loss   cls_loss   dfl_loss  Instances       Size\n"
     ]
    },
    {
     "name": "stderr",
     "output_type": "stream",
     "text": [
      "      35/50      2.89G      1.771      1.071      1.515        375        640: 100%|██████████| 16/16 [00:04<00:00,  3.22it/s]\n",
      "                 Class     Images  Instances      Box(P          R      mAP50  mAP50-95): 100%|██████████| 2/2 [00:01<00:00,  1.22it/s]"
     ]
    },
    {
     "name": "stdout",
     "output_type": "stream",
     "text": [
      "                   all         62       2869      0.769      0.821      0.861      0.465\n"
     ]
    },
    {
     "name": "stderr",
     "output_type": "stream",
     "text": [
      "\n"
     ]
    },
    {
     "name": "stdout",
     "output_type": "stream",
     "text": [
      "\n",
      "      Epoch    GPU_mem   box_loss   cls_loss   dfl_loss  Instances       Size\n"
     ]
    },
    {
     "name": "stderr",
     "output_type": "stream",
     "text": [
      "      36/50      3.09G      1.759      1.071      1.501        360        640: 100%|██████████| 16/16 [00:07<00:00,  2.20it/s]\n",
      "                 Class     Images  Instances      Box(P          R      mAP50  mAP50-95): 100%|██████████| 2/2 [00:01<00:00,  1.62it/s]"
     ]
    },
    {
     "name": "stdout",
     "output_type": "stream",
     "text": [
      "                   all         62       2869      0.787       0.81      0.863      0.458\n"
     ]
    },
    {
     "name": "stderr",
     "output_type": "stream",
     "text": [
      "\n"
     ]
    },
    {
     "name": "stdout",
     "output_type": "stream",
     "text": [
      "\n",
      "      Epoch    GPU_mem   box_loss   cls_loss   dfl_loss  Instances       Size\n"
     ]
    },
    {
     "name": "stderr",
     "output_type": "stream",
     "text": [
      "      37/50       2.4G       1.76      1.057      1.493        448        640: 100%|██████████| 16/16 [00:04<00:00,  3.85it/s]\n",
      "                 Class     Images  Instances      Box(P          R      mAP50  mAP50-95): 100%|██████████| 2/2 [00:00<00:00,  2.02it/s]"
     ]
    },
    {
     "name": "stdout",
     "output_type": "stream",
     "text": [
      "                   all         62       2869      0.791      0.809      0.866      0.462\n"
     ]
    },
    {
     "name": "stderr",
     "output_type": "stream",
     "text": [
      "\n"
     ]
    },
    {
     "name": "stdout",
     "output_type": "stream",
     "text": [
      "\n",
      "      Epoch    GPU_mem   box_loss   cls_loss   dfl_loss  Instances       Size\n"
     ]
    },
    {
     "name": "stderr",
     "output_type": "stream",
     "text": [
      "      38/50      3.21G      1.732      1.068      1.493        389        640: 100%|██████████| 16/16 [00:05<00:00,  2.96it/s]\n",
      "                 Class     Images  Instances      Box(P          R      mAP50  mAP50-95): 100%|██████████| 2/2 [00:01<00:00,  1.45it/s]"
     ]
    },
    {
     "name": "stdout",
     "output_type": "stream",
     "text": [
      "                   all         62       2869      0.789       0.83      0.878      0.506\n"
     ]
    },
    {
     "name": "stderr",
     "output_type": "stream",
     "text": [
      "\n"
     ]
    },
    {
     "name": "stdout",
     "output_type": "stream",
     "text": [
      "\n",
      "      Epoch    GPU_mem   box_loss   cls_loss   dfl_loss  Instances       Size\n"
     ]
    },
    {
     "name": "stderr",
     "output_type": "stream",
     "text": [
      "      39/50      2.35G      1.743      1.055       1.49        504        640: 100%|██████████| 16/16 [00:07<00:00,  2.11it/s]\n",
      "                 Class     Images  Instances      Box(P          R      mAP50  mAP50-95): 100%|██████████| 2/2 [00:01<00:00,  1.92it/s]"
     ]
    },
    {
     "name": "stdout",
     "output_type": "stream",
     "text": [
      "                   all         62       2869      0.782      0.813      0.861      0.468\n"
     ]
    },
    {
     "name": "stderr",
     "output_type": "stream",
     "text": [
      "\n"
     ]
    },
    {
     "name": "stdout",
     "output_type": "stream",
     "text": [
      "\n",
      "      Epoch    GPU_mem   box_loss   cls_loss   dfl_loss  Instances       Size\n"
     ]
    },
    {
     "name": "stderr",
     "output_type": "stream",
     "text": [
      "      40/50      2.83G       1.73      1.043      1.469        400        640: 100%|██████████| 16/16 [00:04<00:00,  3.94it/s]\n",
      "                 Class     Images  Instances      Box(P          R      mAP50  mAP50-95): 100%|██████████| 2/2 [00:01<00:00,  1.98it/s]"
     ]
    },
    {
     "name": "stdout",
     "output_type": "stream",
     "text": [
      "                   all         62       2869      0.796      0.802      0.864      0.465\n"
     ]
    },
    {
     "name": "stderr",
     "output_type": "stream",
     "text": [
      "\n"
     ]
    },
    {
     "name": "stdout",
     "output_type": "stream",
     "text": [
      "Closing dataloader mosaic\n",
      "\u001b[34m\u001b[1malbumentations: \u001b[0mBlur(p=0.01, blur_limit=(3, 7)), MedianBlur(p=0.01, blur_limit=(3, 7)), ToGray(p=0.01, num_output_channels=3, method='weighted_average'), CLAHE(p=0.01, clip_limit=(1.0, 4.0), tile_grid_size=(8, 8))\n",
      "\n",
      "      Epoch    GPU_mem   box_loss   cls_loss   dfl_loss  Instances       Size\n"
     ]
    },
    {
     "name": "stderr",
     "output_type": "stream",
     "text": [
      "      41/50      1.82G      1.657      1.202      1.476        229        640: 100%|██████████| 16/16 [00:11<00:00,  1.45it/s]\n",
      "                 Class     Images  Instances      Box(P          R      mAP50  mAP50-95): 100%|██████████| 2/2 [00:01<00:00,  1.05it/s]"
     ]
    },
    {
     "name": "stdout",
     "output_type": "stream",
     "text": [
      "                   all         62       2869      0.805      0.808      0.873      0.488\n"
     ]
    },
    {
     "name": "stderr",
     "output_type": "stream",
     "text": [
      "\n"
     ]
    },
    {
     "name": "stdout",
     "output_type": "stream",
     "text": [
      "\n",
      "      Epoch    GPU_mem   box_loss   cls_loss   dfl_loss  Instances       Size\n"
     ]
    },
    {
     "name": "stderr",
     "output_type": "stream",
     "text": [
      "      42/50      1.65G      1.619      1.127      1.436        216        640: 100%|██████████| 16/16 [00:03<00:00,  4.07it/s]\n",
      "                 Class     Images  Instances      Box(P          R      mAP50  mAP50-95): 100%|██████████| 2/2 [00:01<00:00,  1.94it/s]"
     ]
    },
    {
     "name": "stdout",
     "output_type": "stream",
     "text": [
      "                   all         62       2869       0.82      0.837       0.89       0.51\n"
     ]
    },
    {
     "name": "stderr",
     "output_type": "stream",
     "text": [
      "\n"
     ]
    },
    {
     "name": "stdout",
     "output_type": "stream",
     "text": [
      "\n",
      "      Epoch    GPU_mem   box_loss   cls_loss   dfl_loss  Instances       Size\n"
     ]
    },
    {
     "name": "stderr",
     "output_type": "stream",
     "text": [
      "      43/50      1.69G      1.596      1.075      1.427        237        640: 100%|██████████| 16/16 [00:03<00:00,  4.06it/s]\n",
      "                 Class     Images  Instances      Box(P          R      mAP50  mAP50-95): 100%|██████████| 2/2 [00:01<00:00,  1.30it/s]"
     ]
    },
    {
     "name": "stdout",
     "output_type": "stream",
     "text": [
      "                   all         62       2869      0.815      0.823      0.883       0.51\n"
     ]
    },
    {
     "name": "stderr",
     "output_type": "stream",
     "text": [
      "\n"
     ]
    },
    {
     "name": "stdout",
     "output_type": "stream",
     "text": [
      "\n",
      "      Epoch    GPU_mem   box_loss   cls_loss   dfl_loss  Instances       Size\n"
     ]
    },
    {
     "name": "stderr",
     "output_type": "stream",
     "text": [
      "      44/50      1.65G      1.594      1.078      1.415        223        640: 100%|██████████| 16/16 [00:06<00:00,  2.37it/s]\n",
      "                 Class     Images  Instances      Box(P          R      mAP50  mAP50-95): 100%|██████████| 2/2 [00:01<00:00,  1.03it/s]"
     ]
    },
    {
     "name": "stdout",
     "output_type": "stream",
     "text": [
      "                   all         62       2869      0.821      0.822      0.887      0.509\n"
     ]
    },
    {
     "name": "stderr",
     "output_type": "stream",
     "text": [
      "\n"
     ]
    },
    {
     "name": "stdout",
     "output_type": "stream",
     "text": [
      "\n",
      "      Epoch    GPU_mem   box_loss   cls_loss   dfl_loss  Instances       Size\n"
     ]
    },
    {
     "name": "stderr",
     "output_type": "stream",
     "text": [
      "      45/50      1.76G       1.57      1.053      1.422        213        640: 100%|██████████| 16/16 [00:06<00:00,  2.31it/s]\n",
      "                 Class     Images  Instances      Box(P          R      mAP50  mAP50-95): 100%|██████████| 2/2 [00:01<00:00,  1.01it/s]"
     ]
    },
    {
     "name": "stdout",
     "output_type": "stream",
     "text": [
      "                   all         62       2869       0.83      0.823      0.895      0.516\n"
     ]
    },
    {
     "name": "stderr",
     "output_type": "stream",
     "text": [
      "\n"
     ]
    },
    {
     "name": "stdout",
     "output_type": "stream",
     "text": [
      "\n",
      "      Epoch    GPU_mem   box_loss   cls_loss   dfl_loss  Instances       Size\n"
     ]
    },
    {
     "name": "stderr",
     "output_type": "stream",
     "text": [
      "      46/50       1.7G      1.577      1.041      1.414        245        640: 100%|██████████| 16/16 [00:06<00:00,  2.37it/s]\n",
      "                 Class     Images  Instances      Box(P          R      mAP50  mAP50-95): 100%|██████████| 2/2 [00:02<00:00,  1.05s/it]"
     ]
    },
    {
     "name": "stdout",
     "output_type": "stream",
     "text": [
      "                   all         62       2869      0.831      0.821      0.895      0.521\n"
     ]
    },
    {
     "name": "stderr",
     "output_type": "stream",
     "text": [
      "\n"
     ]
    },
    {
     "name": "stdout",
     "output_type": "stream",
     "text": [
      "\n",
      "      Epoch    GPU_mem   box_loss   cls_loss   dfl_loss  Instances       Size\n"
     ]
    },
    {
     "name": "stderr",
     "output_type": "stream",
     "text": [
      "      47/50      1.65G       1.54      1.023      1.405        225        640: 100%|██████████| 16/16 [00:05<00:00,  3.02it/s]\n",
      "                 Class     Images  Instances      Box(P          R      mAP50  mAP50-95): 100%|██████████| 2/2 [00:00<00:00,  2.17it/s]"
     ]
    },
    {
     "name": "stdout",
     "output_type": "stream",
     "text": [
      "                   all         62       2869      0.815      0.834       0.89      0.512\n"
     ]
    },
    {
     "name": "stderr",
     "output_type": "stream",
     "text": [
      "\n"
     ]
    },
    {
     "name": "stdout",
     "output_type": "stream",
     "text": [
      "\n",
      "      Epoch    GPU_mem   box_loss   cls_loss   dfl_loss  Instances       Size\n"
     ]
    },
    {
     "name": "stderr",
     "output_type": "stream",
     "text": [
      "      48/50      1.59G      1.538      1.011      1.411        205        640: 100%|██████████| 16/16 [00:04<00:00,  3.97it/s]\n",
      "                 Class     Images  Instances      Box(P          R      mAP50  mAP50-95): 100%|██████████| 2/2 [00:00<00:00,  2.27it/s]"
     ]
    },
    {
     "name": "stdout",
     "output_type": "stream",
     "text": [
      "                   all         62       2869      0.825      0.824      0.892      0.517\n"
     ]
    },
    {
     "name": "stderr",
     "output_type": "stream",
     "text": [
      "\n"
     ]
    },
    {
     "name": "stdout",
     "output_type": "stream",
     "text": [
      "\n",
      "      Epoch    GPU_mem   box_loss   cls_loss   dfl_loss  Instances       Size\n"
     ]
    },
    {
     "name": "stderr",
     "output_type": "stream",
     "text": [
      "      49/50      1.65G      1.565      1.022      1.394        234        640: 100%|██████████| 16/16 [00:05<00:00,  2.72it/s]\n",
      "                 Class     Images  Instances      Box(P          R      mAP50  mAP50-95): 100%|██████████| 2/2 [00:01<00:00,  1.18it/s]"
     ]
    },
    {
     "name": "stdout",
     "output_type": "stream",
     "text": [
      "                   all         62       2869      0.828      0.824      0.891      0.511\n"
     ]
    },
    {
     "name": "stderr",
     "output_type": "stream",
     "text": [
      "\n"
     ]
    },
    {
     "name": "stdout",
     "output_type": "stream",
     "text": [
      "\n",
      "      Epoch    GPU_mem   box_loss   cls_loss   dfl_loss  Instances       Size\n"
     ]
    },
    {
     "name": "stderr",
     "output_type": "stream",
     "text": [
      "      50/50      1.69G      1.531      1.004      1.391        223        640: 100%|██████████| 16/16 [00:05<00:00,  2.77it/s]\n",
      "                 Class     Images  Instances      Box(P          R      mAP50  mAP50-95): 100%|██████████| 2/2 [00:00<00:00,  2.31it/s]"
     ]
    },
    {
     "name": "stdout",
     "output_type": "stream",
     "text": [
      "                   all         62       2869      0.832      0.822       0.89      0.505\n"
     ]
    },
    {
     "name": "stderr",
     "output_type": "stream",
     "text": [
      "\n"
     ]
    },
    {
     "name": "stdout",
     "output_type": "stream",
     "text": [
      "\n",
      "50 epochs completed in 0.118 hours.\n",
      "Optimizer stripped from testing_code/yolo11n/train/weights/last.pt, 5.5MB\n",
      "Optimizer stripped from testing_code/yolo11n/train/weights/best.pt, 5.5MB\n",
      "\n",
      "Validating testing_code/yolo11n/train/weights/best.pt...\n",
      "WARNING ⚠️ validating an untrained model YAML will result in 0 mAP.\n",
      "Ultralytics 8.3.27 🚀 Python-3.10.12 torch-2.5.0+cu121 CUDA:0 (Tesla T4, 15102MiB)\n",
      "YOLO11n summary (fused): 238 layers, 2,582,347 parameters, 0 gradients, 6.3 GFLOPs\n"
     ]
    },
    {
     "name": "stderr",
     "output_type": "stream",
     "text": [
      "                 Class     Images  Instances      Box(P          R      mAP50  mAP50-95): 100%|██████████| 2/2 [00:04<00:00,  2.24s/it]\n"
     ]
    },
    {
     "name": "stdout",
     "output_type": "stream",
     "text": [
      "                   all         62       2869      0.831      0.822      0.895      0.521\n",
      "Speed: 0.2ms preprocess, 1.7ms inference, 0.0ms loss, 4.7ms postprocess per image\n",
      "Results saved to \u001b[1mtesting_code/yolo11n/train\u001b[0m\n"
     ]
    },
    {
     "data": {
      "text/plain": [
       "ultralytics.utils.metrics.DetMetrics object with attributes:\n",
       "\n",
       "ap_class_index: array([0])\n",
       "box: ultralytics.utils.metrics.Metric object\n",
       "confusion_matrix: <ultralytics.utils.metrics.ConfusionMatrix object at 0x7b7ee5699b10>\n",
       "curves: ['Precision-Recall(B)', 'F1-Confidence(B)', 'Precision-Confidence(B)', 'Recall-Confidence(B)']\n",
       "curves_results: [[array([          0,    0.001001,    0.002002,    0.003003,    0.004004,    0.005005,    0.006006,    0.007007,    0.008008,    0.009009,     0.01001,    0.011011,    0.012012,    0.013013,    0.014014,    0.015015,    0.016016,    0.017017,    0.018018,    0.019019,     0.02002,    0.021021,    0.022022,    0.023023,\n",
       "          0.024024,    0.025025,    0.026026,    0.027027,    0.028028,    0.029029,     0.03003,    0.031031,    0.032032,    0.033033,    0.034034,    0.035035,    0.036036,    0.037037,    0.038038,    0.039039,     0.04004,    0.041041,    0.042042,    0.043043,    0.044044,    0.045045,    0.046046,    0.047047,\n",
       "          0.048048,    0.049049,     0.05005,    0.051051,    0.052052,    0.053053,    0.054054,    0.055055,    0.056056,    0.057057,    0.058058,    0.059059,     0.06006,    0.061061,    0.062062,    0.063063,    0.064064,    0.065065,    0.066066,    0.067067,    0.068068,    0.069069,     0.07007,    0.071071,\n",
       "          0.072072,    0.073073,    0.074074,    0.075075,    0.076076,    0.077077,    0.078078,    0.079079,     0.08008,    0.081081,    0.082082,    0.083083,    0.084084,    0.085085,    0.086086,    0.087087,    0.088088,    0.089089,     0.09009,    0.091091,    0.092092,    0.093093,    0.094094,    0.095095,\n",
       "          0.096096,    0.097097,    0.098098,    0.099099,      0.1001,      0.1011,      0.1021,      0.1031,      0.1041,     0.10511,     0.10611,     0.10711,     0.10811,     0.10911,     0.11011,     0.11111,     0.11211,     0.11311,     0.11411,     0.11512,     0.11612,     0.11712,     0.11812,     0.11912,\n",
       "           0.12012,     0.12112,     0.12212,     0.12312,     0.12412,     0.12513,     0.12613,     0.12713,     0.12813,     0.12913,     0.13013,     0.13113,     0.13213,     0.13313,     0.13413,     0.13514,     0.13614,     0.13714,     0.13814,     0.13914,     0.14014,     0.14114,     0.14214,     0.14314,\n",
       "           0.14414,     0.14515,     0.14615,     0.14715,     0.14815,     0.14915,     0.15015,     0.15115,     0.15215,     0.15315,     0.15415,     0.15516,     0.15616,     0.15716,     0.15816,     0.15916,     0.16016,     0.16116,     0.16216,     0.16316,     0.16416,     0.16517,     0.16617,     0.16717,\n",
       "           0.16817,     0.16917,     0.17017,     0.17117,     0.17217,     0.17317,     0.17417,     0.17518,     0.17618,     0.17718,     0.17818,     0.17918,     0.18018,     0.18118,     0.18218,     0.18318,     0.18418,     0.18519,     0.18619,     0.18719,     0.18819,     0.18919,     0.19019,     0.19119,\n",
       "           0.19219,     0.19319,     0.19419,      0.1952,      0.1962,      0.1972,      0.1982,      0.1992,      0.2002,      0.2012,      0.2022,      0.2032,      0.2042,     0.20521,     0.20621,     0.20721,     0.20821,     0.20921,     0.21021,     0.21121,     0.21221,     0.21321,     0.21421,     0.21522,\n",
       "           0.21622,     0.21722,     0.21822,     0.21922,     0.22022,     0.22122,     0.22222,     0.22322,     0.22422,     0.22523,     0.22623,     0.22723,     0.22823,     0.22923,     0.23023,     0.23123,     0.23223,     0.23323,     0.23423,     0.23524,     0.23624,     0.23724,     0.23824,     0.23924,\n",
       "           0.24024,     0.24124,     0.24224,     0.24324,     0.24424,     0.24525,     0.24625,     0.24725,     0.24825,     0.24925,     0.25025,     0.25125,     0.25225,     0.25325,     0.25425,     0.25526,     0.25626,     0.25726,     0.25826,     0.25926,     0.26026,     0.26126,     0.26226,     0.26326,\n",
       "           0.26426,     0.26527,     0.26627,     0.26727,     0.26827,     0.26927,     0.27027,     0.27127,     0.27227,     0.27327,     0.27427,     0.27528,     0.27628,     0.27728,     0.27828,     0.27928,     0.28028,     0.28128,     0.28228,     0.28328,     0.28428,     0.28529,     0.28629,     0.28729,\n",
       "           0.28829,     0.28929,     0.29029,     0.29129,     0.29229,     0.29329,     0.29429,      0.2953,      0.2963,      0.2973,      0.2983,      0.2993,      0.3003,      0.3013,      0.3023,      0.3033,      0.3043,     0.30531,     0.30631,     0.30731,     0.30831,     0.30931,     0.31031,     0.31131,\n",
       "           0.31231,     0.31331,     0.31431,     0.31532,     0.31632,     0.31732,     0.31832,     0.31932,     0.32032,     0.32132,     0.32232,     0.32332,     0.32432,     0.32533,     0.32633,     0.32733,     0.32833,     0.32933,     0.33033,     0.33133,     0.33233,     0.33333,     0.33433,     0.33534,\n",
       "           0.33634,     0.33734,     0.33834,     0.33934,     0.34034,     0.34134,     0.34234,     0.34334,     0.34434,     0.34535,     0.34635,     0.34735,     0.34835,     0.34935,     0.35035,     0.35135,     0.35235,     0.35335,     0.35435,     0.35536,     0.35636,     0.35736,     0.35836,     0.35936,\n",
       "           0.36036,     0.36136,     0.36236,     0.36336,     0.36436,     0.36537,     0.36637,     0.36737,     0.36837,     0.36937,     0.37037,     0.37137,     0.37237,     0.37337,     0.37437,     0.37538,     0.37638,     0.37738,     0.37838,     0.37938,     0.38038,     0.38138,     0.38238,     0.38338,\n",
       "           0.38438,     0.38539,     0.38639,     0.38739,     0.38839,     0.38939,     0.39039,     0.39139,     0.39239,     0.39339,     0.39439,      0.3954,      0.3964,      0.3974,      0.3984,      0.3994,      0.4004,      0.4014,      0.4024,      0.4034,      0.4044,     0.40541,     0.40641,     0.40741,\n",
       "           0.40841,     0.40941,     0.41041,     0.41141,     0.41241,     0.41341,     0.41441,     0.41542,     0.41642,     0.41742,     0.41842,     0.41942,     0.42042,     0.42142,     0.42242,     0.42342,     0.42442,     0.42543,     0.42643,     0.42743,     0.42843,     0.42943,     0.43043,     0.43143,\n",
       "           0.43243,     0.43343,     0.43443,     0.43544,     0.43644,     0.43744,     0.43844,     0.43944,     0.44044,     0.44144,     0.44244,     0.44344,     0.44444,     0.44545,     0.44645,     0.44745,     0.44845,     0.44945,     0.45045,     0.45145,     0.45245,     0.45345,     0.45445,     0.45546,\n",
       "           0.45646,     0.45746,     0.45846,     0.45946,     0.46046,     0.46146,     0.46246,     0.46346,     0.46446,     0.46547,     0.46647,     0.46747,     0.46847,     0.46947,     0.47047,     0.47147,     0.47247,     0.47347,     0.47447,     0.47548,     0.47648,     0.47748,     0.47848,     0.47948,\n",
       "           0.48048,     0.48148,     0.48248,     0.48348,     0.48448,     0.48549,     0.48649,     0.48749,     0.48849,     0.48949,     0.49049,     0.49149,     0.49249,     0.49349,     0.49449,      0.4955,      0.4965,      0.4975,      0.4985,      0.4995,      0.5005,      0.5015,      0.5025,      0.5035,\n",
       "            0.5045,     0.50551,     0.50651,     0.50751,     0.50851,     0.50951,     0.51051,     0.51151,     0.51251,     0.51351,     0.51451,     0.51552,     0.51652,     0.51752,     0.51852,     0.51952,     0.52052,     0.52152,     0.52252,     0.52352,     0.52452,     0.52553,     0.52653,     0.52753,\n",
       "           0.52853,     0.52953,     0.53053,     0.53153,     0.53253,     0.53353,     0.53453,     0.53554,     0.53654,     0.53754,     0.53854,     0.53954,     0.54054,     0.54154,     0.54254,     0.54354,     0.54454,     0.54555,     0.54655,     0.54755,     0.54855,     0.54955,     0.55055,     0.55155,\n",
       "           0.55255,     0.55355,     0.55455,     0.55556,     0.55656,     0.55756,     0.55856,     0.55956,     0.56056,     0.56156,     0.56256,     0.56356,     0.56456,     0.56557,     0.56657,     0.56757,     0.56857,     0.56957,     0.57057,     0.57157,     0.57257,     0.57357,     0.57457,     0.57558,\n",
       "           0.57658,     0.57758,     0.57858,     0.57958,     0.58058,     0.58158,     0.58258,     0.58358,     0.58458,     0.58559,     0.58659,     0.58759,     0.58859,     0.58959,     0.59059,     0.59159,     0.59259,     0.59359,     0.59459,      0.5956,      0.5966,      0.5976,      0.5986,      0.5996,\n",
       "            0.6006,      0.6016,      0.6026,      0.6036,      0.6046,     0.60561,     0.60661,     0.60761,     0.60861,     0.60961,     0.61061,     0.61161,     0.61261,     0.61361,     0.61461,     0.61562,     0.61662,     0.61762,     0.61862,     0.61962,     0.62062,     0.62162,     0.62262,     0.62362,\n",
       "           0.62462,     0.62563,     0.62663,     0.62763,     0.62863,     0.62963,     0.63063,     0.63163,     0.63263,     0.63363,     0.63463,     0.63564,     0.63664,     0.63764,     0.63864,     0.63964,     0.64064,     0.64164,     0.64264,     0.64364,     0.64464,     0.64565,     0.64665,     0.64765,\n",
       "           0.64865,     0.64965,     0.65065,     0.65165,     0.65265,     0.65365,     0.65465,     0.65566,     0.65666,     0.65766,     0.65866,     0.65966,     0.66066,     0.66166,     0.66266,     0.66366,     0.66466,     0.66567,     0.66667,     0.66767,     0.66867,     0.66967,     0.67067,     0.67167,\n",
       "           0.67267,     0.67367,     0.67467,     0.67568,     0.67668,     0.67768,     0.67868,     0.67968,     0.68068,     0.68168,     0.68268,     0.68368,     0.68468,     0.68569,     0.68669,     0.68769,     0.68869,     0.68969,     0.69069,     0.69169,     0.69269,     0.69369,     0.69469,      0.6957,\n",
       "            0.6967,      0.6977,      0.6987,      0.6997,      0.7007,      0.7017,      0.7027,      0.7037,      0.7047,     0.70571,     0.70671,     0.70771,     0.70871,     0.70971,     0.71071,     0.71171,     0.71271,     0.71371,     0.71471,     0.71572,     0.71672,     0.71772,     0.71872,     0.71972,\n",
       "           0.72072,     0.72172,     0.72272,     0.72372,     0.72472,     0.72573,     0.72673,     0.72773,     0.72873,     0.72973,     0.73073,     0.73173,     0.73273,     0.73373,     0.73473,     0.73574,     0.73674,     0.73774,     0.73874,     0.73974,     0.74074,     0.74174,     0.74274,     0.74374,\n",
       "           0.74474,     0.74575,     0.74675,     0.74775,     0.74875,     0.74975,     0.75075,     0.75175,     0.75275,     0.75375,     0.75475,     0.75576,     0.75676,     0.75776,     0.75876,     0.75976,     0.76076,     0.76176,     0.76276,     0.76376,     0.76476,     0.76577,     0.76677,     0.76777,\n",
       "           0.76877,     0.76977,     0.77077,     0.77177,     0.77277,     0.77377,     0.77477,     0.77578,     0.77678,     0.77778,     0.77878,     0.77978,     0.78078,     0.78178,     0.78278,     0.78378,     0.78478,     0.78579,     0.78679,     0.78779,     0.78879,     0.78979,     0.79079,     0.79179,\n",
       "           0.79279,     0.79379,     0.79479,      0.7958,      0.7968,      0.7978,      0.7988,      0.7998,      0.8008,      0.8018,      0.8028,      0.8038,      0.8048,     0.80581,     0.80681,     0.80781,     0.80881,     0.80981,     0.81081,     0.81181,     0.81281,     0.81381,     0.81481,     0.81582,\n",
       "           0.81682,     0.81782,     0.81882,     0.81982,     0.82082,     0.82182,     0.82282,     0.82382,     0.82482,     0.82583,     0.82683,     0.82783,     0.82883,     0.82983,     0.83083,     0.83183,     0.83283,     0.83383,     0.83483,     0.83584,     0.83684,     0.83784,     0.83884,     0.83984,\n",
       "           0.84084,     0.84184,     0.84284,     0.84384,     0.84484,     0.84585,     0.84685,     0.84785,     0.84885,     0.84985,     0.85085,     0.85185,     0.85285,     0.85385,     0.85485,     0.85586,     0.85686,     0.85786,     0.85886,     0.85986,     0.86086,     0.86186,     0.86286,     0.86386,\n",
       "           0.86486,     0.86587,     0.86687,     0.86787,     0.86887,     0.86987,     0.87087,     0.87187,     0.87287,     0.87387,     0.87487,     0.87588,     0.87688,     0.87788,     0.87888,     0.87988,     0.88088,     0.88188,     0.88288,     0.88388,     0.88488,     0.88589,     0.88689,     0.88789,\n",
       "           0.88889,     0.88989,     0.89089,     0.89189,     0.89289,     0.89389,     0.89489,      0.8959,      0.8969,      0.8979,      0.8989,      0.8999,      0.9009,      0.9019,      0.9029,      0.9039,      0.9049,     0.90591,     0.90691,     0.90791,     0.90891,     0.90991,     0.91091,     0.91191,\n",
       "           0.91291,     0.91391,     0.91491,     0.91592,     0.91692,     0.91792,     0.91892,     0.91992,     0.92092,     0.92192,     0.92292,     0.92392,     0.92492,     0.92593,     0.92693,     0.92793,     0.92893,     0.92993,     0.93093,     0.93193,     0.93293,     0.93393,     0.93493,     0.93594,\n",
       "           0.93694,     0.93794,     0.93894,     0.93994,     0.94094,     0.94194,     0.94294,     0.94394,     0.94494,     0.94595,     0.94695,     0.94795,     0.94895,     0.94995,     0.95095,     0.95195,     0.95295,     0.95395,     0.95495,     0.95596,     0.95696,     0.95796,     0.95896,     0.95996,\n",
       "           0.96096,     0.96196,     0.96296,     0.96396,     0.96496,     0.96597,     0.96697,     0.96797,     0.96897,     0.96997,     0.97097,     0.97197,     0.97297,     0.97397,     0.97497,     0.97598,     0.97698,     0.97798,     0.97898,     0.97998,     0.98098,     0.98198,     0.98298,     0.98398,\n",
       "           0.98498,     0.98599,     0.98699,     0.98799,     0.98899,     0.98999,     0.99099,     0.99199,     0.99299,     0.99399,     0.99499,       0.996,       0.997,       0.998,       0.999,           1]), array([[          1,           1,           1,           1,           1,           1,           1,           1,           1,           1,           1,           1,           1,           1,           1,           1,           1,           1,           1,           1,           1,           1,           1,\n",
       "                  1,           1,     0.99202,     0.99202,     0.99202,     0.99202,     0.99202,     0.99202,     0.99202,     0.99202,     0.99202,     0.99202,     0.99202,     0.99202,     0.99202,     0.99202,     0.99202,     0.99202,     0.99202,     0.99202,     0.99202,     0.99202,     0.99202,\n",
       "            0.99202,     0.99202,     0.99202,     0.99202,     0.99202,     0.99202,     0.99202,     0.99202,     0.99202,     0.99202,     0.99202,     0.99202,     0.99202,     0.99202,     0.99202,     0.99202,     0.99202,     0.99202,     0.99202,     0.99202,     0.99202,     0.99202,     0.99202,\n",
       "            0.99202,     0.99202,     0.99202,     0.99202,     0.99202,     0.99202,     0.99202,     0.99202,     0.99202,     0.99202,     0.99202,     0.99202,     0.99202,     0.99202,     0.99202,     0.99202,     0.99202,     0.99202,     0.99202,     0.99202,     0.99202,     0.99202,     0.99202,\n",
       "            0.99202,     0.99202,     0.99202,     0.99202,     0.99202,     0.99202,     0.99202,     0.99202,     0.99202,     0.99202,     0.99202,     0.99202,     0.99202,     0.99202,     0.99202,     0.99202,     0.99202,     0.99202,     0.99202,     0.99202,     0.99202,     0.99202,     0.99202,\n",
       "            0.99202,     0.99202,     0.99202,     0.99202,     0.99202,     0.99202,     0.99202,     0.99202,     0.99202,     0.99202,     0.99202,     0.99202,     0.99202,     0.99202,     0.99202,     0.98879,     0.98879,     0.98879,     0.98879,     0.98879,     0.98879,     0.98879,     0.98879,\n",
       "            0.98879,     0.98879,     0.98879,     0.98879,     0.98879,     0.98879,     0.98879,     0.98879,     0.98879,     0.98879,     0.98879,     0.98879,     0.98879,     0.98879,     0.98879,     0.98879,     0.98701,     0.98701,     0.98701,     0.98701,     0.98701,     0.98592,     0.98592,\n",
       "            0.98592,     0.98592,     0.98592,     0.98592,     0.98592,     0.98592,     0.98592,     0.98592,     0.98592,     0.98592,     0.98464,     0.98464,     0.98464,     0.98464,     0.98464,     0.98464,     0.98464,     0.98464,     0.98349,     0.98349,     0.98349,     0.98349,     0.98349,\n",
       "            0.98349,     0.98349,     0.98349,     0.98201,     0.98201,     0.98201,     0.98201,     0.98063,     0.98063,     0.98063,     0.98037,     0.98037,     0.98037,     0.98037,     0.98037,     0.98037,     0.98037,     0.98037,     0.98037,     0.98037,     0.98037,     0.98037,     0.98037,\n",
       "            0.98037,     0.98037,     0.98037,     0.98037,     0.98037,     0.98037,     0.98037,     0.98037,     0.98037,     0.98037,     0.98037,     0.98037,     0.98037,     0.98037,     0.98037,     0.98037,     0.98037,     0.98037,     0.98037,     0.98037,     0.98037,     0.98037,     0.98037,\n",
       "            0.98037,     0.98037,     0.98037,     0.98037,     0.98037,     0.98037,     0.98037,     0.98037,     0.98037,     0.98037,     0.98037,     0.98037,     0.98037,     0.98037,     0.98037,     0.98037,     0.98037,     0.98037,     0.98037,     0.98037,     0.98037,     0.98037,     0.98037,\n",
       "            0.98037,     0.98037,     0.98037,     0.98037,     0.98037,     0.98037,     0.98037,     0.98037,     0.97949,     0.97949,     0.97949,     0.97949,     0.97949,     0.97949,     0.97896,     0.97896,     0.97896,     0.97896,     0.97896,     0.97896,     0.97896,     0.97896,     0.97896,\n",
       "            0.97837,     0.97837,     0.97837,     0.97837,     0.97837,     0.97837,     0.97837,     0.97837,     0.97837,     0.97837,     0.97837,     0.97837,     0.97837,     0.97837,     0.97837,     0.97837,     0.97837,     0.97837,     0.97837,     0.97837,     0.97837,     0.97837,     0.97837,\n",
       "            0.97837,     0.97837,     0.97837,     0.97837,     0.97837,     0.97837,     0.97837,     0.97837,     0.97837,     0.97837,     0.97837,     0.97837,     0.97837,     0.97837,     0.97837,     0.97837,     0.97837,     0.97837,     0.97837,     0.97837,     0.97837,     0.97837,     0.97837,\n",
       "            0.97837,     0.97837,     0.97837,     0.97837,     0.97837,     0.97837,     0.97837,     0.97837,     0.97837,     0.97828,     0.97828,     0.97828,     0.97828,     0.97828,     0.97828,     0.97828,     0.97828,     0.97828,     0.97828,     0.97828,     0.97828,     0.97828,     0.97828,\n",
       "            0.97828,     0.97803,     0.97803,     0.97803,     0.97803,     0.97803,     0.97803,     0.97803,     0.97803,     0.97803,     0.97803,     0.97803,     0.97803,     0.97803,     0.97803,     0.97803,     0.97803,     0.97803,     0.97803,     0.97803,     0.97803,     0.97803,     0.97803,\n",
       "            0.97803,     0.97803,     0.97803,     0.97803,     0.97803,     0.97803,     0.97803,     0.97803,     0.97803,     0.97803,     0.97803,     0.97803,     0.97803,     0.97803,     0.97803,     0.97803,     0.97803,     0.97803,     0.97803,     0.97803,     0.97768,     0.97768,     0.97768,\n",
       "            0.97768,     0.97768,     0.97768,     0.97768,     0.97768,     0.97768,     0.97625,     0.97625,     0.97625,     0.97625,     0.97569,     0.97569,     0.97569,     0.97569,     0.97569,     0.97494,     0.97432,     0.97432,     0.97432,     0.97279,     0.97133,     0.97133,     0.97122,\n",
       "            0.97122,     0.97122,     0.97122,     0.97122,     0.97122,     0.97122,     0.97122,     0.97122,     0.97122,     0.97122,     0.96979,     0.96939,     0.96939,     0.96939,     0.96939,     0.96939,     0.96939,      0.9688,      0.9688,     0.96877,     0.96877,     0.96877,     0.96877,\n",
       "            0.96877,     0.96877,     0.96877,     0.96877,     0.96877,     0.96877,     0.96806,     0.96763,     0.96763,     0.96763,     0.96763,     0.96763,     0.96763,     0.96763,     0.96763,     0.96763,     0.96763,     0.96763,     0.96763,     0.96763,     0.96763,     0.96763,     0.96763,\n",
       "            0.96763,     0.96763,     0.96763,     0.96763,     0.96763,     0.96763,     0.96763,     0.96763,     0.96763,     0.96726,     0.96726,     0.96726,     0.96726,     0.96726,     0.96704,     0.96704,     0.96704,     0.96704,     0.96704,     0.96704,     0.96704,     0.96648,     0.96602,\n",
       "            0.96602,     0.96602,     0.96602,     0.96545,     0.96426,     0.96426,     0.96365,     0.96266,     0.96266,     0.96266,     0.96266,     0.96214,     0.96214,     0.96174,     0.96174,     0.96174,     0.96113,     0.95997,     0.95997,     0.95992,     0.95992,     0.95992,     0.95992,\n",
       "            0.95992,     0.95992,     0.95992,     0.95992,     0.95992,     0.95992,     0.95992,     0.95992,     0.95992,     0.95992,     0.95992,     0.95992,     0.95992,     0.95992,     0.95992,     0.95992,     0.95992,     0.95992,     0.95992,     0.95992,     0.95954,     0.95954,     0.95954,\n",
       "            0.95907,     0.95907,     0.95802,     0.95802,      0.9575,     0.95704,     0.95704,      0.9569,      0.9569,      0.9569,      0.9569,      0.9569,      0.9569,      0.9565,      0.9565,     0.95541,     0.95493,     0.95446,     0.95446,     0.95405,     0.95405,     0.95367,     0.95367,\n",
       "            0.95289,     0.95289,     0.95289,     0.95289,     0.95289,      0.9519,      0.9519,     0.95154,     0.95154,     0.95103,     0.95088,     0.95088,     0.95088,     0.95088,     0.95088,     0.94939,     0.94939,     0.94783,     0.94691,     0.94691,     0.94643,     0.94598,     0.94533,\n",
       "            0.94533,     0.94533,     0.94533,     0.94533,     0.94492,     0.94357,     0.94357,     0.94357,     0.94323,     0.94323,     0.94283,     0.94183,     0.94147,     0.94147,     0.94114,     0.94114,     0.94072,     0.93994,     0.93994,     0.93994,     0.93966,     0.93966,     0.93948,\n",
       "            0.93948,     0.93948,       0.939,     0.93824,     0.93824,     0.93824,     0.93824,     0.93824,     0.93824,     0.93824,     0.93824,      0.9378,     0.93693,     0.93564,     0.93564,     0.93521,     0.93393,     0.93393,     0.93319,     0.93319,     0.93277,     0.93211,     0.93211,\n",
       "            0.93211,     0.93129,     0.92994,      0.9295,     0.92828,     0.92828,     0.92809,     0.92809,     0.92809,     0.92719,     0.92719,     0.92719,     0.92719,     0.92719,     0.92701,     0.92701,     0.92619,     0.92537,     0.92455,     0.92455,     0.92331,     0.92304,     0.92304,\n",
       "            0.92197,     0.92197,      0.9214,      0.9214,      0.9214,      0.9214,      0.9211,     0.92088,     0.92088,     0.92045,     0.92045,     0.92045,     0.92045,     0.91938,     0.91938,     0.91938,     0.91864,      0.9184,      0.9184,     0.91807,     0.91771,     0.91759,     0.91759,\n",
       "            0.91734,     0.91734,     0.91659,     0.91655,     0.91655,     0.91655,     0.91655,     0.91588,     0.91553,     0.91517,     0.91447,     0.91412,     0.91382,     0.91312,     0.91231,     0.91208,     0.91208,     0.91208,     0.91208,     0.91208,     0.91144,     0.91144,     0.91122,\n",
       "            0.91089,     0.90984,     0.90984,      0.9095,      0.9095,      0.9095,      0.9095,     0.90884,      0.9086,      0.9086,     0.90753,     0.90729,     0.90697,     0.90664,     0.90429,     0.90245,     0.90173,     0.90067,         0.9,     0.89956,     0.89956,     0.89956,     0.89908,\n",
       "            0.89908,     0.89803,     0.89773,     0.89556,      0.8938,     0.89351,      0.8933,      0.8933,     0.89118,     0.88937,     0.88879,     0.88856,     0.88827,     0.88648,     0.88625,     0.88564,     0.88538,     0.88538,     0.88538,     0.88529,     0.88529,     0.88497,     0.88405,\n",
       "            0.88309,     0.88245,     0.88175,     0.88175,     0.88175,     0.88175,     0.88175,     0.88175,     0.88175,     0.88175,     0.88008,     0.87884,     0.87811,     0.87811,     0.87811,     0.87795,     0.87739,     0.87692,     0.87692,     0.87677,     0.87591,      0.8756,      0.8748,\n",
       "             0.8748,      0.8744,      0.8744,      0.8742,     0.87029,     0.86943,     0.86943,     0.86943,     0.86943,     0.86919,     0.86565,     0.86445,     0.86422,     0.86304,     0.86255,     0.86255,     0.86255,     0.86255,     0.86255,     0.86241,     0.86241,     0.86241,     0.86241,\n",
       "             0.8612,     0.86037,     0.85894,     0.85861,     0.85861,     0.85817,     0.85725,     0.85703,     0.85628,     0.85607,     0.85435,     0.85234,     0.85207,     0.85192,     0.85114,     0.85041,     0.85026,     0.84974,     0.84922,     0.84851,     0.84675,     0.84505,     0.84332,\n",
       "            0.84257,     0.84126,     0.84107,     0.83978,      0.8396,     0.83801,     0.83753,     0.83734,     0.83559,     0.83559,     0.83559,     0.83547,     0.83523,     0.83458,     0.83263,     0.83186,     0.83057,     0.82959,     0.82686,     0.82451,     0.82447,     0.82282,     0.82182,\n",
       "            0.82182,     0.82166,     0.82122,     0.81809,       0.818,     0.81756,     0.81719,      0.8171,     0.81596,     0.81574,     0.81428,     0.81364,     0.80838,     0.80695,     0.80633,     0.80593,     0.80425,     0.80284,     0.80125,     0.80112,         0.8,      0.7968,     0.79551,\n",
       "            0.79531,     0.79429,     0.79269,     0.79155,     0.79098,     0.78619,     0.78583,      0.7818,     0.78175,      0.7809,     0.77988,     0.77823,     0.77823,     0.77757,     0.77349,     0.77226,     0.77185,     0.77016,     0.76925,     0.76845,     0.76748,     0.76606,     0.76347,\n",
       "            0.76167,     0.76152,     0.75943,     0.75744,     0.75668,     0.75261,     0.75193,     0.75015,     0.74852,     0.74764,     0.74742,     0.74611,     0.74568,     0.74438,      0.7441,     0.74396,      0.7431,     0.74203,     0.74132,     0.73941,     0.73737,     0.73647,     0.73466,\n",
       "            0.73419,      0.7333,     0.73144,     0.72981,      0.7284,     0.72694,     0.72506,     0.72461,     0.72182,     0.71819,     0.71527,     0.71393,     0.70913,      0.7084,     0.70349,     0.70298,     0.70059,      0.6961,     0.68688,     0.67827,     0.67314,     0.67133,     0.66793,\n",
       "            0.66207,     0.65977,     0.65789,     0.65749,     0.65531,     0.65243,     0.65116,     0.64984,      0.6485,     0.64507,     0.64007,     0.63803,     0.63557,     0.63342,     0.62585,     0.62314,     0.61816,      0.6127,     0.61186,     0.60602,     0.60254,     0.59524,     0.59019,\n",
       "            0.58776,     0.58587,     0.58529,     0.57809,     0.57566,     0.57134,     0.56404,      0.5621,     0.55495,     0.54975,     0.54038,     0.53757,     0.52882,     0.52706,     0.52015,     0.51759,     0.50952,     0.50952,     0.50411,     0.49614,     0.48407,     0.47898,     0.47425,\n",
       "            0.46764,     0.45259,      0.4502,     0.44233,     0.42697,     0.40948,     0.40599,     0.39085,     0.36423,     0.34465,     0.33771,     0.32186,     0.31456,     0.29535,     0.27954,     0.27327,     0.26749,     0.24186,     0.22737,      0.2151,     0.19849,     0.17467,     0.16418,\n",
       "            0.15121,     0.13609,     0.12097,     0.10585,    0.090724,    0.075604,    0.060483,    0.045362,    0.030241,    0.015121,           0]]), 'Recall', 'Precision'], [array([          0,    0.001001,    0.002002,    0.003003,    0.004004,    0.005005,    0.006006,    0.007007,    0.008008,    0.009009,     0.01001,    0.011011,    0.012012,    0.013013,    0.014014,    0.015015,    0.016016,    0.017017,    0.018018,    0.019019,     0.02002,    0.021021,    0.022022,    0.023023,\n",
       "          0.024024,    0.025025,    0.026026,    0.027027,    0.028028,    0.029029,     0.03003,    0.031031,    0.032032,    0.033033,    0.034034,    0.035035,    0.036036,    0.037037,    0.038038,    0.039039,     0.04004,    0.041041,    0.042042,    0.043043,    0.044044,    0.045045,    0.046046,    0.047047,\n",
       "          0.048048,    0.049049,     0.05005,    0.051051,    0.052052,    0.053053,    0.054054,    0.055055,    0.056056,    0.057057,    0.058058,    0.059059,     0.06006,    0.061061,    0.062062,    0.063063,    0.064064,    0.065065,    0.066066,    0.067067,    0.068068,    0.069069,     0.07007,    0.071071,\n",
       "          0.072072,    0.073073,    0.074074,    0.075075,    0.076076,    0.077077,    0.078078,    0.079079,     0.08008,    0.081081,    0.082082,    0.083083,    0.084084,    0.085085,    0.086086,    0.087087,    0.088088,    0.089089,     0.09009,    0.091091,    0.092092,    0.093093,    0.094094,    0.095095,\n",
       "          0.096096,    0.097097,    0.098098,    0.099099,      0.1001,      0.1011,      0.1021,      0.1031,      0.1041,     0.10511,     0.10611,     0.10711,     0.10811,     0.10911,     0.11011,     0.11111,     0.11211,     0.11311,     0.11411,     0.11512,     0.11612,     0.11712,     0.11812,     0.11912,\n",
       "           0.12012,     0.12112,     0.12212,     0.12312,     0.12412,     0.12513,     0.12613,     0.12713,     0.12813,     0.12913,     0.13013,     0.13113,     0.13213,     0.13313,     0.13413,     0.13514,     0.13614,     0.13714,     0.13814,     0.13914,     0.14014,     0.14114,     0.14214,     0.14314,\n",
       "           0.14414,     0.14515,     0.14615,     0.14715,     0.14815,     0.14915,     0.15015,     0.15115,     0.15215,     0.15315,     0.15415,     0.15516,     0.15616,     0.15716,     0.15816,     0.15916,     0.16016,     0.16116,     0.16216,     0.16316,     0.16416,     0.16517,     0.16617,     0.16717,\n",
       "           0.16817,     0.16917,     0.17017,     0.17117,     0.17217,     0.17317,     0.17417,     0.17518,     0.17618,     0.17718,     0.17818,     0.17918,     0.18018,     0.18118,     0.18218,     0.18318,     0.18418,     0.18519,     0.18619,     0.18719,     0.18819,     0.18919,     0.19019,     0.19119,\n",
       "           0.19219,     0.19319,     0.19419,      0.1952,      0.1962,      0.1972,      0.1982,      0.1992,      0.2002,      0.2012,      0.2022,      0.2032,      0.2042,     0.20521,     0.20621,     0.20721,     0.20821,     0.20921,     0.21021,     0.21121,     0.21221,     0.21321,     0.21421,     0.21522,\n",
       "           0.21622,     0.21722,     0.21822,     0.21922,     0.22022,     0.22122,     0.22222,     0.22322,     0.22422,     0.22523,     0.22623,     0.22723,     0.22823,     0.22923,     0.23023,     0.23123,     0.23223,     0.23323,     0.23423,     0.23524,     0.23624,     0.23724,     0.23824,     0.23924,\n",
       "           0.24024,     0.24124,     0.24224,     0.24324,     0.24424,     0.24525,     0.24625,     0.24725,     0.24825,     0.24925,     0.25025,     0.25125,     0.25225,     0.25325,     0.25425,     0.25526,     0.25626,     0.25726,     0.25826,     0.25926,     0.26026,     0.26126,     0.26226,     0.26326,\n",
       "           0.26426,     0.26527,     0.26627,     0.26727,     0.26827,     0.26927,     0.27027,     0.27127,     0.27227,     0.27327,     0.27427,     0.27528,     0.27628,     0.27728,     0.27828,     0.27928,     0.28028,     0.28128,     0.28228,     0.28328,     0.28428,     0.28529,     0.28629,     0.28729,\n",
       "           0.28829,     0.28929,     0.29029,     0.29129,     0.29229,     0.29329,     0.29429,      0.2953,      0.2963,      0.2973,      0.2983,      0.2993,      0.3003,      0.3013,      0.3023,      0.3033,      0.3043,     0.30531,     0.30631,     0.30731,     0.30831,     0.30931,     0.31031,     0.31131,\n",
       "           0.31231,     0.31331,     0.31431,     0.31532,     0.31632,     0.31732,     0.31832,     0.31932,     0.32032,     0.32132,     0.32232,     0.32332,     0.32432,     0.32533,     0.32633,     0.32733,     0.32833,     0.32933,     0.33033,     0.33133,     0.33233,     0.33333,     0.33433,     0.33534,\n",
       "           0.33634,     0.33734,     0.33834,     0.33934,     0.34034,     0.34134,     0.34234,     0.34334,     0.34434,     0.34535,     0.34635,     0.34735,     0.34835,     0.34935,     0.35035,     0.35135,     0.35235,     0.35335,     0.35435,     0.35536,     0.35636,     0.35736,     0.35836,     0.35936,\n",
       "           0.36036,     0.36136,     0.36236,     0.36336,     0.36436,     0.36537,     0.36637,     0.36737,     0.36837,     0.36937,     0.37037,     0.37137,     0.37237,     0.37337,     0.37437,     0.37538,     0.37638,     0.37738,     0.37838,     0.37938,     0.38038,     0.38138,     0.38238,     0.38338,\n",
       "           0.38438,     0.38539,     0.38639,     0.38739,     0.38839,     0.38939,     0.39039,     0.39139,     0.39239,     0.39339,     0.39439,      0.3954,      0.3964,      0.3974,      0.3984,      0.3994,      0.4004,      0.4014,      0.4024,      0.4034,      0.4044,     0.40541,     0.40641,     0.40741,\n",
       "           0.40841,     0.40941,     0.41041,     0.41141,     0.41241,     0.41341,     0.41441,     0.41542,     0.41642,     0.41742,     0.41842,     0.41942,     0.42042,     0.42142,     0.42242,     0.42342,     0.42442,     0.42543,     0.42643,     0.42743,     0.42843,     0.42943,     0.43043,     0.43143,\n",
       "           0.43243,     0.43343,     0.43443,     0.43544,     0.43644,     0.43744,     0.43844,     0.43944,     0.44044,     0.44144,     0.44244,     0.44344,     0.44444,     0.44545,     0.44645,     0.44745,     0.44845,     0.44945,     0.45045,     0.45145,     0.45245,     0.45345,     0.45445,     0.45546,\n",
       "           0.45646,     0.45746,     0.45846,     0.45946,     0.46046,     0.46146,     0.46246,     0.46346,     0.46446,     0.46547,     0.46647,     0.46747,     0.46847,     0.46947,     0.47047,     0.47147,     0.47247,     0.47347,     0.47447,     0.47548,     0.47648,     0.47748,     0.47848,     0.47948,\n",
       "           0.48048,     0.48148,     0.48248,     0.48348,     0.48448,     0.48549,     0.48649,     0.48749,     0.48849,     0.48949,     0.49049,     0.49149,     0.49249,     0.49349,     0.49449,      0.4955,      0.4965,      0.4975,      0.4985,      0.4995,      0.5005,      0.5015,      0.5025,      0.5035,\n",
       "            0.5045,     0.50551,     0.50651,     0.50751,     0.50851,     0.50951,     0.51051,     0.51151,     0.51251,     0.51351,     0.51451,     0.51552,     0.51652,     0.51752,     0.51852,     0.51952,     0.52052,     0.52152,     0.52252,     0.52352,     0.52452,     0.52553,     0.52653,     0.52753,\n",
       "           0.52853,     0.52953,     0.53053,     0.53153,     0.53253,     0.53353,     0.53453,     0.53554,     0.53654,     0.53754,     0.53854,     0.53954,     0.54054,     0.54154,     0.54254,     0.54354,     0.54454,     0.54555,     0.54655,     0.54755,     0.54855,     0.54955,     0.55055,     0.55155,\n",
       "           0.55255,     0.55355,     0.55455,     0.55556,     0.55656,     0.55756,     0.55856,     0.55956,     0.56056,     0.56156,     0.56256,     0.56356,     0.56456,     0.56557,     0.56657,     0.56757,     0.56857,     0.56957,     0.57057,     0.57157,     0.57257,     0.57357,     0.57457,     0.57558,\n",
       "           0.57658,     0.57758,     0.57858,     0.57958,     0.58058,     0.58158,     0.58258,     0.58358,     0.58458,     0.58559,     0.58659,     0.58759,     0.58859,     0.58959,     0.59059,     0.59159,     0.59259,     0.59359,     0.59459,      0.5956,      0.5966,      0.5976,      0.5986,      0.5996,\n",
       "            0.6006,      0.6016,      0.6026,      0.6036,      0.6046,     0.60561,     0.60661,     0.60761,     0.60861,     0.60961,     0.61061,     0.61161,     0.61261,     0.61361,     0.61461,     0.61562,     0.61662,     0.61762,     0.61862,     0.61962,     0.62062,     0.62162,     0.62262,     0.62362,\n",
       "           0.62462,     0.62563,     0.62663,     0.62763,     0.62863,     0.62963,     0.63063,     0.63163,     0.63263,     0.63363,     0.63463,     0.63564,     0.63664,     0.63764,     0.63864,     0.63964,     0.64064,     0.64164,     0.64264,     0.64364,     0.64464,     0.64565,     0.64665,     0.64765,\n",
       "           0.64865,     0.64965,     0.65065,     0.65165,     0.65265,     0.65365,     0.65465,     0.65566,     0.65666,     0.65766,     0.65866,     0.65966,     0.66066,     0.66166,     0.66266,     0.66366,     0.66466,     0.66567,     0.66667,     0.66767,     0.66867,     0.66967,     0.67067,     0.67167,\n",
       "           0.67267,     0.67367,     0.67467,     0.67568,     0.67668,     0.67768,     0.67868,     0.67968,     0.68068,     0.68168,     0.68268,     0.68368,     0.68468,     0.68569,     0.68669,     0.68769,     0.68869,     0.68969,     0.69069,     0.69169,     0.69269,     0.69369,     0.69469,      0.6957,\n",
       "            0.6967,      0.6977,      0.6987,      0.6997,      0.7007,      0.7017,      0.7027,      0.7037,      0.7047,     0.70571,     0.70671,     0.70771,     0.70871,     0.70971,     0.71071,     0.71171,     0.71271,     0.71371,     0.71471,     0.71572,     0.71672,     0.71772,     0.71872,     0.71972,\n",
       "           0.72072,     0.72172,     0.72272,     0.72372,     0.72472,     0.72573,     0.72673,     0.72773,     0.72873,     0.72973,     0.73073,     0.73173,     0.73273,     0.73373,     0.73473,     0.73574,     0.73674,     0.73774,     0.73874,     0.73974,     0.74074,     0.74174,     0.74274,     0.74374,\n",
       "           0.74474,     0.74575,     0.74675,     0.74775,     0.74875,     0.74975,     0.75075,     0.75175,     0.75275,     0.75375,     0.75475,     0.75576,     0.75676,     0.75776,     0.75876,     0.75976,     0.76076,     0.76176,     0.76276,     0.76376,     0.76476,     0.76577,     0.76677,     0.76777,\n",
       "           0.76877,     0.76977,     0.77077,     0.77177,     0.77277,     0.77377,     0.77477,     0.77578,     0.77678,     0.77778,     0.77878,     0.77978,     0.78078,     0.78178,     0.78278,     0.78378,     0.78478,     0.78579,     0.78679,     0.78779,     0.78879,     0.78979,     0.79079,     0.79179,\n",
       "           0.79279,     0.79379,     0.79479,      0.7958,      0.7968,      0.7978,      0.7988,      0.7998,      0.8008,      0.8018,      0.8028,      0.8038,      0.8048,     0.80581,     0.80681,     0.80781,     0.80881,     0.80981,     0.81081,     0.81181,     0.81281,     0.81381,     0.81481,     0.81582,\n",
       "           0.81682,     0.81782,     0.81882,     0.81982,     0.82082,     0.82182,     0.82282,     0.82382,     0.82482,     0.82583,     0.82683,     0.82783,     0.82883,     0.82983,     0.83083,     0.83183,     0.83283,     0.83383,     0.83483,     0.83584,     0.83684,     0.83784,     0.83884,     0.83984,\n",
       "           0.84084,     0.84184,     0.84284,     0.84384,     0.84484,     0.84585,     0.84685,     0.84785,     0.84885,     0.84985,     0.85085,     0.85185,     0.85285,     0.85385,     0.85485,     0.85586,     0.85686,     0.85786,     0.85886,     0.85986,     0.86086,     0.86186,     0.86286,     0.86386,\n",
       "           0.86486,     0.86587,     0.86687,     0.86787,     0.86887,     0.86987,     0.87087,     0.87187,     0.87287,     0.87387,     0.87487,     0.87588,     0.87688,     0.87788,     0.87888,     0.87988,     0.88088,     0.88188,     0.88288,     0.88388,     0.88488,     0.88589,     0.88689,     0.88789,\n",
       "           0.88889,     0.88989,     0.89089,     0.89189,     0.89289,     0.89389,     0.89489,      0.8959,      0.8969,      0.8979,      0.8989,      0.8999,      0.9009,      0.9019,      0.9029,      0.9039,      0.9049,     0.90591,     0.90691,     0.90791,     0.90891,     0.90991,     0.91091,     0.91191,\n",
       "           0.91291,     0.91391,     0.91491,     0.91592,     0.91692,     0.91792,     0.91892,     0.91992,     0.92092,     0.92192,     0.92292,     0.92392,     0.92492,     0.92593,     0.92693,     0.92793,     0.92893,     0.92993,     0.93093,     0.93193,     0.93293,     0.93393,     0.93493,     0.93594,\n",
       "           0.93694,     0.93794,     0.93894,     0.93994,     0.94094,     0.94194,     0.94294,     0.94394,     0.94494,     0.94595,     0.94695,     0.94795,     0.94895,     0.94995,     0.95095,     0.95195,     0.95295,     0.95395,     0.95495,     0.95596,     0.95696,     0.95796,     0.95896,     0.95996,\n",
       "           0.96096,     0.96196,     0.96296,     0.96396,     0.96496,     0.96597,     0.96697,     0.96797,     0.96897,     0.96997,     0.97097,     0.97197,     0.97297,     0.97397,     0.97497,     0.97598,     0.97698,     0.97798,     0.97898,     0.97998,     0.98098,     0.98198,     0.98298,     0.98398,\n",
       "           0.98498,     0.98599,     0.98699,     0.98799,     0.98899,     0.98999,     0.99099,     0.99199,     0.99299,     0.99399,     0.99499,       0.996,       0.997,       0.998,       0.999,           1]), array([[    0.26457,     0.26457,     0.26457,     0.26457,     0.26457,     0.26457,     0.26457,     0.26457,     0.26457,     0.26457,     0.26457,     0.26457,     0.26457,     0.26457,     0.26457,     0.26457,     0.26457,     0.26457,     0.26457,     0.26457,      0.2646,     0.26468,       0.265,\n",
       "            0.26548,     0.26597,     0.26641,     0.26756,      0.2694,     0.27123,     0.27366,     0.27674,      0.2809,     0.28445,      0.2892,     0.29399,     0.29801,     0.30277,     0.30745,     0.31266,      0.3171,     0.32192,     0.32594,     0.33053,     0.33547,     0.34027,     0.34491,\n",
       "            0.34887,     0.35269,     0.35721,     0.36189,     0.36594,     0.36921,     0.37434,     0.37851,     0.38254,     0.38737,     0.39141,     0.39482,     0.39894,     0.40322,     0.40598,      0.4105,     0.41396,     0.41799,     0.42117,     0.42479,     0.42882,     0.43246,     0.43682,\n",
       "            0.44011,      0.4438,      0.4474,     0.45022,     0.45344,     0.45768,     0.46159,     0.46463,     0.46898,     0.47302,     0.47575,     0.47938,     0.48274,     0.48517,     0.48917,     0.49283,     0.49641,     0.49931,     0.50264,     0.50566,     0.50908,     0.51254,     0.51509,\n",
       "            0.51863,     0.52222,     0.52576,      0.5287,     0.53193,     0.53477,     0.53759,     0.53945,     0.54264,     0.54562,     0.54864,     0.55135,     0.55275,     0.55543,     0.55782,     0.56083,     0.56297,     0.56641,      0.5709,     0.57306,     0.57572,     0.57793,     0.58053,\n",
       "            0.58256,     0.58639,     0.58893,     0.59228,     0.59393,     0.59604,     0.59804,     0.60013,     0.60224,     0.60427,      0.6074,     0.60963,     0.61166,     0.61404,     0.61562,     0.61706,     0.61988,     0.62297,     0.62447,     0.62674,     0.62909,     0.63233,     0.63479,\n",
       "              0.637,     0.63868,     0.64056,     0.64288,     0.64481,     0.64647,     0.64882,     0.65173,     0.65381,     0.65544,     0.65755,     0.65928,     0.66094,     0.66285,     0.66436,     0.66555,     0.66701,     0.66887,     0.67041,     0.67246,     0.67302,     0.67435,     0.67583,\n",
       "            0.67816,     0.68035,     0.68111,     0.68271,     0.68441,     0.68637,     0.68722,      0.6887,        0.69,     0.69139,     0.69339,     0.69585,     0.69724,     0.69822,     0.69992,     0.70208,     0.70289,     0.70495,     0.70668,     0.70761,     0.70851,     0.70997,     0.71152,\n",
       "            0.71253,     0.71318,     0.71467,     0.71634,     0.71701,     0.71777,     0.71934,     0.72036,     0.72262,     0.72355,      0.7245,     0.72539,     0.72667,     0.72783,     0.72895,     0.72956,     0.73071,     0.73196,     0.73301,     0.73418,      0.7349,      0.7365,       0.737,\n",
       "             0.7383,      0.7389,     0.74027,     0.74168,     0.74214,     0.74384,     0.74498,     0.74618,     0.74706,      0.7486,     0.74922,      0.7508,     0.75212,     0.75344,     0.75456,     0.75521,     0.75566,     0.75693,     0.75747,     0.75793,     0.75802,     0.75907,     0.75988,\n",
       "            0.76077,     0.76114,     0.76188,      0.7629,     0.76383,     0.76429,     0.76426,     0.76501,     0.76591,     0.76637,     0.76687,     0.76817,     0.76906,     0.76904,     0.76959,     0.77068,     0.77093,     0.77199,     0.77373,     0.77382,     0.77502,     0.77552,     0.77573,\n",
       "            0.77705,     0.77801,     0.77863,     0.78044,     0.78106,     0.78238,     0.78323,     0.78339,     0.78506,      0.7863,     0.78729,     0.78774,     0.78861,     0.78936,     0.79012,     0.79104,     0.79224,     0.79325,     0.79424,     0.79458,     0.79545,      0.7962,      0.7971,\n",
       "            0.79695,     0.79712,     0.79803,         0.8,     0.80021,      0.8001,     0.80112,      0.8016,     0.80267,     0.80357,     0.80411,     0.80476,     0.80478,      0.8049,     0.80541,     0.80552,     0.80595,     0.80602,     0.80626,     0.80655,      0.8069,     0.80712,     0.80747,\n",
       "            0.80788,     0.80801,     0.80807,     0.80815,     0.80852,      0.8094,     0.80999,     0.81007,     0.81006,     0.81044,      0.8097,     0.80967,     0.81009,     0.81022,     0.80988,      0.8101,      0.8107,     0.81112,     0.81126,     0.81138,     0.81292,     0.81334,     0.81338,\n",
       "            0.81387,     0.81389,     0.81442,     0.81505,     0.81507,      0.8153,     0.81598,     0.81597,     0.81653,     0.81643,     0.81656,      0.8162,     0.81677,     0.81681,     0.81735,     0.81828,     0.81864,     0.81834,     0.81822,     0.81812,     0.81885,     0.81854,      0.8191,\n",
       "            0.81919,     0.81936,     0.82034,     0.81998,     0.82054,     0.82209,     0.82178,     0.82208,      0.8218,     0.82208,     0.82253,     0.82241,     0.82234,     0.82289,     0.82311,     0.82351,     0.82303,     0.82377,     0.82371,     0.82395,     0.82438,     0.82382,     0.82402,\n",
       "            0.82447,     0.82554,      0.8263,     0.82638,      0.8265,     0.82633,     0.82647,     0.82601,     0.82575,     0.82561,     0.82502,     0.82475,     0.82579,     0.82521,       0.825,     0.82489,     0.82538,     0.82484,     0.82463,     0.82535,     0.82511,     0.82612,     0.82613,\n",
       "            0.82607,     0.82643,     0.82618,     0.82608,     0.82626,     0.82671,     0.82685,     0.82673,     0.82651,     0.82567,     0.82482,      0.8244,      0.8245,     0.82488,     0.82449,     0.82402,     0.82416,      0.8239,     0.82413,     0.82337,      0.8237,     0.82351,     0.82398,\n",
       "            0.82408,     0.82426,     0.82398,      0.8243,     0.82472,     0.82461,     0.82402,     0.82389,     0.82376,     0.82297,     0.82278,     0.82282,     0.82205,     0.82205,     0.82243,     0.82259,      0.8223,     0.82263,     0.82197,     0.82199,     0.82192,     0.82141,      0.8211,\n",
       "            0.82032,     0.82003,     0.82031,     0.81993,     0.81972,     0.81842,     0.81844,     0.81719,     0.81654,     0.81581,      0.8155,     0.81559,     0.81532,     0.81476,     0.81552,      0.8161,     0.81555,       0.815,     0.81429,     0.81379,     0.81359,     0.81428,     0.81427,\n",
       "            0.81331,     0.81321,     0.81227,      0.8125,     0.81199,     0.81154,     0.81057,     0.80998,     0.80983,     0.80908,     0.80796,     0.80818,     0.80789,      0.8082,     0.80804,     0.80706,     0.80592,     0.80546,     0.80387,     0.80341,     0.80327,     0.80305,      0.8029,\n",
       "            0.80287,     0.80234,     0.80147,     0.80111,     0.79988,     0.79911,     0.79895,     0.79866,     0.79894,     0.79762,     0.79743,     0.79776,     0.79806,     0.79751,     0.79696,     0.79665,     0.79605,     0.79624,     0.79592,     0.79622,     0.79582,     0.79566,     0.79448,\n",
       "            0.79361,     0.79306,     0.79265,     0.79257,      0.7924,     0.79215,     0.79199,     0.79198,      0.7921,     0.79178,     0.79129,     0.79097,     0.78976,     0.78911,     0.78807,      0.7871,     0.78669,     0.78567,     0.78562,     0.78465,     0.78365,     0.78317,     0.78195,\n",
       "            0.78089,     0.78026,     0.78037,     0.77976,     0.77969,     0.77877,     0.77811,     0.77743,     0.77637,     0.77577,     0.77527,     0.77423,     0.77384,     0.77273,     0.77057,     0.76939,     0.76879,     0.76785,     0.76709,     0.76658,     0.76679,     0.76503,     0.76427,\n",
       "            0.76417,      0.7628,     0.76134,     0.76006,     0.76008,      0.7579,     0.75661,     0.75621,      0.7557,     0.75525,     0.75507,     0.75403,     0.75289,     0.75134,     0.75035,     0.74946,     0.74831,      0.7472,     0.74657,      0.7465,     0.74576,     0.74523,     0.74407,\n",
       "            0.74417,     0.74331,     0.74214,     0.74176,     0.74085,     0.73946,     0.73927,     0.73838,     0.73758,      0.7365,     0.73515,     0.73396,     0.73288,     0.73199,     0.72971,     0.72823,     0.72741,     0.72686,     0.72655,     0.72589,     0.72457,     0.72204,     0.72136,\n",
       "            0.72045,     0.71868,     0.71837,     0.71741,     0.71629,     0.71545,     0.71489,     0.71408,     0.71242,     0.71167,     0.71155,     0.71148,     0.71012,     0.70814,     0.70729,      0.7063,     0.70589,     0.70445,     0.70277,     0.70248,     0.70105,     0.69962,     0.69747,\n",
       "            0.69631,     0.69517,     0.69362,     0.69239,     0.69156,     0.68921,     0.68745,     0.68554,     0.68484,     0.68338,      0.6823,     0.67963,     0.67888,     0.67708,     0.67469,     0.67378,     0.67214,     0.67061,     0.66849,     0.66317,       0.663,     0.66055,     0.65876,\n",
       "            0.65743,     0.65606,      0.6545,     0.65341,       0.652,     0.64981,     0.64885,     0.64727,     0.64632,      0.6451,     0.64298,     0.64203,      0.6409,     0.63963,     0.63628,     0.63586,      0.6345,     0.63046,     0.62901,     0.62674,     0.62511,      0.6225,     0.62048,\n",
       "            0.61808,     0.61741,     0.61609,     0.61196,     0.61144,     0.60911,     0.60743,     0.60637,     0.60569,     0.60334,     0.60081,     0.59878,     0.59824,     0.59346,     0.59053,     0.58944,     0.58803,     0.58582,     0.58443,     0.58339,     0.57919,     0.57772,     0.57617,\n",
       "            0.57397,     0.57305,     0.57213,     0.56858,     0.56678,     0.56406,     0.56223,      0.5608,     0.55558,     0.55246,     0.54937,      0.5479,     0.54568,     0.54332,     0.54184,     0.53463,     0.53276,     0.52933,     0.52808,      0.5262,     0.51883,     0.51579,     0.51287,\n",
       "            0.51126,     0.50984,     0.50463,     0.50175,      0.4982,     0.49702,     0.49342,     0.49105,      0.4861,     0.48408,     0.48111,      0.4799,     0.47286,     0.47036,     0.46872,     0.46075,     0.45704,     0.45498,     0.45156,     0.44718,     0.44535,     0.44234,     0.44107,\n",
       "            0.43281,     0.43139,      0.4294,     0.42446,     0.41992,     0.41567,     0.41415,     0.41283,     0.40834,      0.4043,     0.40059,     0.39591,     0.39446,     0.39074,     0.38056,     0.37677,     0.37392,      0.3677,     0.36474,     0.36374,      0.3563,     0.35203,       0.348,\n",
       "            0.34406,     0.33889,      0.3348,     0.32934,     0.32783,     0.32211,     0.32056,      0.3188,      0.3148,     0.31329,     0.30744,      0.3043,     0.30125,     0.29495,     0.29029,     0.28433,     0.28155,     0.27737,     0.27125,     0.26965,     0.26345,     0.26027,     0.25789,\n",
       "            0.24962,     0.24457,     0.23884,     0.23538,      0.2312,     0.22787,     0.22418,     0.22071,     0.21474,     0.21238,     0.20632,     0.20115,     0.19613,     0.19377,     0.19039,     0.18604,     0.18461,     0.17911,       0.173,     0.16717,     0.16536,     0.16122,     0.16038,\n",
       "            0.15348,     0.14938,     0.14686,     0.14204,     0.14005,     0.13534,     0.13125,     0.12864,     0.12372,     0.11838,     0.11751,     0.11438,     0.11277,     0.10998,      0.1037,    0.099921,    0.098618,    0.094169,    0.089063,    0.087517,    0.085176,    0.080022,      0.0769,\n",
       "           0.073515,    0.071542,    0.068266,    0.064978,    0.064176,    0.061219,    0.060304,    0.058564,    0.056299,    0.054227,    0.052295,    0.051267,    0.048255,    0.044944,    0.043547,    0.040841,    0.036867,    0.036211,    0.035752,    0.034463,    0.032612,    0.029705,    0.028672,\n",
       "           0.027777,    0.026944,    0.025673,    0.023512,    0.022608,    0.022259,    0.021909,     0.02156,    0.021153,    0.020689,    0.020339,    0.019916,    0.017251,     0.01697,    0.016689,    0.014415,    0.013575,    0.012661,    0.012127,    0.011594,    0.010887,    0.010254,   0.0097826,\n",
       "          0.0093108,    0.008473,   0.0061561,   0.0060468,   0.0059375,   0.0058283,    0.005719,   0.0056097,   0.0046694,   0.0043138,   0.0040875,   0.0039452,   0.0038028,   0.0036605,   0.0035181,   0.0032718,   0.0029869,    0.002768,    0.002711,    0.002654,    0.002597,     0.00254,   0.0024829,\n",
       "          0.0024259,   0.0023689,   0.0023119,   0.0022548,   0.0021978,   0.0021407,   0.0020439,   0.0015684,   0.0013701,   0.0013335,   0.0012969,   0.0012603,   0.0012237,   0.0011871,   0.0011505,   0.0011139,   0.0010773,   0.0010407,   0.0010041,  0.00096751,   0.0009309,  0.00089429,  0.00085768,\n",
       "         0.00082107,  0.00078445,  0.00074784,  0.00071122,           0,           0,           0,           0,           0,           0,           0,           0,           0,           0,           0,           0,           0,           0,           0,           0,           0,           0,           0,\n",
       "                  0,           0,           0,           0,           0,           0,           0,           0,           0,           0,           0,           0,           0,           0,           0,           0,           0,           0,           0,           0,           0,           0,           0,\n",
       "                  0,           0,           0,           0,           0,           0,           0,           0,           0,           0,           0,           0,           0,           0,           0,           0,           0,           0,           0,           0,           0,           0,           0,\n",
       "                  0,           0,           0,           0,           0,           0,           0,           0,           0,           0,           0]]), 'Confidence', 'F1'], [array([          0,    0.001001,    0.002002,    0.003003,    0.004004,    0.005005,    0.006006,    0.007007,    0.008008,    0.009009,     0.01001,    0.011011,    0.012012,    0.013013,    0.014014,    0.015015,    0.016016,    0.017017,    0.018018,    0.019019,     0.02002,    0.021021,    0.022022,    0.023023,\n",
       "          0.024024,    0.025025,    0.026026,    0.027027,    0.028028,    0.029029,     0.03003,    0.031031,    0.032032,    0.033033,    0.034034,    0.035035,    0.036036,    0.037037,    0.038038,    0.039039,     0.04004,    0.041041,    0.042042,    0.043043,    0.044044,    0.045045,    0.046046,    0.047047,\n",
       "          0.048048,    0.049049,     0.05005,    0.051051,    0.052052,    0.053053,    0.054054,    0.055055,    0.056056,    0.057057,    0.058058,    0.059059,     0.06006,    0.061061,    0.062062,    0.063063,    0.064064,    0.065065,    0.066066,    0.067067,    0.068068,    0.069069,     0.07007,    0.071071,\n",
       "          0.072072,    0.073073,    0.074074,    0.075075,    0.076076,    0.077077,    0.078078,    0.079079,     0.08008,    0.081081,    0.082082,    0.083083,    0.084084,    0.085085,    0.086086,    0.087087,    0.088088,    0.089089,     0.09009,    0.091091,    0.092092,    0.093093,    0.094094,    0.095095,\n",
       "          0.096096,    0.097097,    0.098098,    0.099099,      0.1001,      0.1011,      0.1021,      0.1031,      0.1041,     0.10511,     0.10611,     0.10711,     0.10811,     0.10911,     0.11011,     0.11111,     0.11211,     0.11311,     0.11411,     0.11512,     0.11612,     0.11712,     0.11812,     0.11912,\n",
       "           0.12012,     0.12112,     0.12212,     0.12312,     0.12412,     0.12513,     0.12613,     0.12713,     0.12813,     0.12913,     0.13013,     0.13113,     0.13213,     0.13313,     0.13413,     0.13514,     0.13614,     0.13714,     0.13814,     0.13914,     0.14014,     0.14114,     0.14214,     0.14314,\n",
       "           0.14414,     0.14515,     0.14615,     0.14715,     0.14815,     0.14915,     0.15015,     0.15115,     0.15215,     0.15315,     0.15415,     0.15516,     0.15616,     0.15716,     0.15816,     0.15916,     0.16016,     0.16116,     0.16216,     0.16316,     0.16416,     0.16517,     0.16617,     0.16717,\n",
       "           0.16817,     0.16917,     0.17017,     0.17117,     0.17217,     0.17317,     0.17417,     0.17518,     0.17618,     0.17718,     0.17818,     0.17918,     0.18018,     0.18118,     0.18218,     0.18318,     0.18418,     0.18519,     0.18619,     0.18719,     0.18819,     0.18919,     0.19019,     0.19119,\n",
       "           0.19219,     0.19319,     0.19419,      0.1952,      0.1962,      0.1972,      0.1982,      0.1992,      0.2002,      0.2012,      0.2022,      0.2032,      0.2042,     0.20521,     0.20621,     0.20721,     0.20821,     0.20921,     0.21021,     0.21121,     0.21221,     0.21321,     0.21421,     0.21522,\n",
       "           0.21622,     0.21722,     0.21822,     0.21922,     0.22022,     0.22122,     0.22222,     0.22322,     0.22422,     0.22523,     0.22623,     0.22723,     0.22823,     0.22923,     0.23023,     0.23123,     0.23223,     0.23323,     0.23423,     0.23524,     0.23624,     0.23724,     0.23824,     0.23924,\n",
       "           0.24024,     0.24124,     0.24224,     0.24324,     0.24424,     0.24525,     0.24625,     0.24725,     0.24825,     0.24925,     0.25025,     0.25125,     0.25225,     0.25325,     0.25425,     0.25526,     0.25626,     0.25726,     0.25826,     0.25926,     0.26026,     0.26126,     0.26226,     0.26326,\n",
       "           0.26426,     0.26527,     0.26627,     0.26727,     0.26827,     0.26927,     0.27027,     0.27127,     0.27227,     0.27327,     0.27427,     0.27528,     0.27628,     0.27728,     0.27828,     0.27928,     0.28028,     0.28128,     0.28228,     0.28328,     0.28428,     0.28529,     0.28629,     0.28729,\n",
       "           0.28829,     0.28929,     0.29029,     0.29129,     0.29229,     0.29329,     0.29429,      0.2953,      0.2963,      0.2973,      0.2983,      0.2993,      0.3003,      0.3013,      0.3023,      0.3033,      0.3043,     0.30531,     0.30631,     0.30731,     0.30831,     0.30931,     0.31031,     0.31131,\n",
       "           0.31231,     0.31331,     0.31431,     0.31532,     0.31632,     0.31732,     0.31832,     0.31932,     0.32032,     0.32132,     0.32232,     0.32332,     0.32432,     0.32533,     0.32633,     0.32733,     0.32833,     0.32933,     0.33033,     0.33133,     0.33233,     0.33333,     0.33433,     0.33534,\n",
       "           0.33634,     0.33734,     0.33834,     0.33934,     0.34034,     0.34134,     0.34234,     0.34334,     0.34434,     0.34535,     0.34635,     0.34735,     0.34835,     0.34935,     0.35035,     0.35135,     0.35235,     0.35335,     0.35435,     0.35536,     0.35636,     0.35736,     0.35836,     0.35936,\n",
       "           0.36036,     0.36136,     0.36236,     0.36336,     0.36436,     0.36537,     0.36637,     0.36737,     0.36837,     0.36937,     0.37037,     0.37137,     0.37237,     0.37337,     0.37437,     0.37538,     0.37638,     0.37738,     0.37838,     0.37938,     0.38038,     0.38138,     0.38238,     0.38338,\n",
       "           0.38438,     0.38539,     0.38639,     0.38739,     0.38839,     0.38939,     0.39039,     0.39139,     0.39239,     0.39339,     0.39439,      0.3954,      0.3964,      0.3974,      0.3984,      0.3994,      0.4004,      0.4014,      0.4024,      0.4034,      0.4044,     0.40541,     0.40641,     0.40741,\n",
       "           0.40841,     0.40941,     0.41041,     0.41141,     0.41241,     0.41341,     0.41441,     0.41542,     0.41642,     0.41742,     0.41842,     0.41942,     0.42042,     0.42142,     0.42242,     0.42342,     0.42442,     0.42543,     0.42643,     0.42743,     0.42843,     0.42943,     0.43043,     0.43143,\n",
       "           0.43243,     0.43343,     0.43443,     0.43544,     0.43644,     0.43744,     0.43844,     0.43944,     0.44044,     0.44144,     0.44244,     0.44344,     0.44444,     0.44545,     0.44645,     0.44745,     0.44845,     0.44945,     0.45045,     0.45145,     0.45245,     0.45345,     0.45445,     0.45546,\n",
       "           0.45646,     0.45746,     0.45846,     0.45946,     0.46046,     0.46146,     0.46246,     0.46346,     0.46446,     0.46547,     0.46647,     0.46747,     0.46847,     0.46947,     0.47047,     0.47147,     0.47247,     0.47347,     0.47447,     0.47548,     0.47648,     0.47748,     0.47848,     0.47948,\n",
       "           0.48048,     0.48148,     0.48248,     0.48348,     0.48448,     0.48549,     0.48649,     0.48749,     0.48849,     0.48949,     0.49049,     0.49149,     0.49249,     0.49349,     0.49449,      0.4955,      0.4965,      0.4975,      0.4985,      0.4995,      0.5005,      0.5015,      0.5025,      0.5035,\n",
       "            0.5045,     0.50551,     0.50651,     0.50751,     0.50851,     0.50951,     0.51051,     0.51151,     0.51251,     0.51351,     0.51451,     0.51552,     0.51652,     0.51752,     0.51852,     0.51952,     0.52052,     0.52152,     0.52252,     0.52352,     0.52452,     0.52553,     0.52653,     0.52753,\n",
       "           0.52853,     0.52953,     0.53053,     0.53153,     0.53253,     0.53353,     0.53453,     0.53554,     0.53654,     0.53754,     0.53854,     0.53954,     0.54054,     0.54154,     0.54254,     0.54354,     0.54454,     0.54555,     0.54655,     0.54755,     0.54855,     0.54955,     0.55055,     0.55155,\n",
       "           0.55255,     0.55355,     0.55455,     0.55556,     0.55656,     0.55756,     0.55856,     0.55956,     0.56056,     0.56156,     0.56256,     0.56356,     0.56456,     0.56557,     0.56657,     0.56757,     0.56857,     0.56957,     0.57057,     0.57157,     0.57257,     0.57357,     0.57457,     0.57558,\n",
       "           0.57658,     0.57758,     0.57858,     0.57958,     0.58058,     0.58158,     0.58258,     0.58358,     0.58458,     0.58559,     0.58659,     0.58759,     0.58859,     0.58959,     0.59059,     0.59159,     0.59259,     0.59359,     0.59459,      0.5956,      0.5966,      0.5976,      0.5986,      0.5996,\n",
       "            0.6006,      0.6016,      0.6026,      0.6036,      0.6046,     0.60561,     0.60661,     0.60761,     0.60861,     0.60961,     0.61061,     0.61161,     0.61261,     0.61361,     0.61461,     0.61562,     0.61662,     0.61762,     0.61862,     0.61962,     0.62062,     0.62162,     0.62262,     0.62362,\n",
       "           0.62462,     0.62563,     0.62663,     0.62763,     0.62863,     0.62963,     0.63063,     0.63163,     0.63263,     0.63363,     0.63463,     0.63564,     0.63664,     0.63764,     0.63864,     0.63964,     0.64064,     0.64164,     0.64264,     0.64364,     0.64464,     0.64565,     0.64665,     0.64765,\n",
       "           0.64865,     0.64965,     0.65065,     0.65165,     0.65265,     0.65365,     0.65465,     0.65566,     0.65666,     0.65766,     0.65866,     0.65966,     0.66066,     0.66166,     0.66266,     0.66366,     0.66466,     0.66567,     0.66667,     0.66767,     0.66867,     0.66967,     0.67067,     0.67167,\n",
       "           0.67267,     0.67367,     0.67467,     0.67568,     0.67668,     0.67768,     0.67868,     0.67968,     0.68068,     0.68168,     0.68268,     0.68368,     0.68468,     0.68569,     0.68669,     0.68769,     0.68869,     0.68969,     0.69069,     0.69169,     0.69269,     0.69369,     0.69469,      0.6957,\n",
       "            0.6967,      0.6977,      0.6987,      0.6997,      0.7007,      0.7017,      0.7027,      0.7037,      0.7047,     0.70571,     0.70671,     0.70771,     0.70871,     0.70971,     0.71071,     0.71171,     0.71271,     0.71371,     0.71471,     0.71572,     0.71672,     0.71772,     0.71872,     0.71972,\n",
       "           0.72072,     0.72172,     0.72272,     0.72372,     0.72472,     0.72573,     0.72673,     0.72773,     0.72873,     0.72973,     0.73073,     0.73173,     0.73273,     0.73373,     0.73473,     0.73574,     0.73674,     0.73774,     0.73874,     0.73974,     0.74074,     0.74174,     0.74274,     0.74374,\n",
       "           0.74474,     0.74575,     0.74675,     0.74775,     0.74875,     0.74975,     0.75075,     0.75175,     0.75275,     0.75375,     0.75475,     0.75576,     0.75676,     0.75776,     0.75876,     0.75976,     0.76076,     0.76176,     0.76276,     0.76376,     0.76476,     0.76577,     0.76677,     0.76777,\n",
       "           0.76877,     0.76977,     0.77077,     0.77177,     0.77277,     0.77377,     0.77477,     0.77578,     0.77678,     0.77778,     0.77878,     0.77978,     0.78078,     0.78178,     0.78278,     0.78378,     0.78478,     0.78579,     0.78679,     0.78779,     0.78879,     0.78979,     0.79079,     0.79179,\n",
       "           0.79279,     0.79379,     0.79479,      0.7958,      0.7968,      0.7978,      0.7988,      0.7998,      0.8008,      0.8018,      0.8028,      0.8038,      0.8048,     0.80581,     0.80681,     0.80781,     0.80881,     0.80981,     0.81081,     0.81181,     0.81281,     0.81381,     0.81481,     0.81582,\n",
       "           0.81682,     0.81782,     0.81882,     0.81982,     0.82082,     0.82182,     0.82282,     0.82382,     0.82482,     0.82583,     0.82683,     0.82783,     0.82883,     0.82983,     0.83083,     0.83183,     0.83283,     0.83383,     0.83483,     0.83584,     0.83684,     0.83784,     0.83884,     0.83984,\n",
       "           0.84084,     0.84184,     0.84284,     0.84384,     0.84484,     0.84585,     0.84685,     0.84785,     0.84885,     0.84985,     0.85085,     0.85185,     0.85285,     0.85385,     0.85485,     0.85586,     0.85686,     0.85786,     0.85886,     0.85986,     0.86086,     0.86186,     0.86286,     0.86386,\n",
       "           0.86486,     0.86587,     0.86687,     0.86787,     0.86887,     0.86987,     0.87087,     0.87187,     0.87287,     0.87387,     0.87487,     0.87588,     0.87688,     0.87788,     0.87888,     0.87988,     0.88088,     0.88188,     0.88288,     0.88388,     0.88488,     0.88589,     0.88689,     0.88789,\n",
       "           0.88889,     0.88989,     0.89089,     0.89189,     0.89289,     0.89389,     0.89489,      0.8959,      0.8969,      0.8979,      0.8989,      0.8999,      0.9009,      0.9019,      0.9029,      0.9039,      0.9049,     0.90591,     0.90691,     0.90791,     0.90891,     0.90991,     0.91091,     0.91191,\n",
       "           0.91291,     0.91391,     0.91491,     0.91592,     0.91692,     0.91792,     0.91892,     0.91992,     0.92092,     0.92192,     0.92292,     0.92392,     0.92492,     0.92593,     0.92693,     0.92793,     0.92893,     0.92993,     0.93093,     0.93193,     0.93293,     0.93393,     0.93493,     0.93594,\n",
       "           0.93694,     0.93794,     0.93894,     0.93994,     0.94094,     0.94194,     0.94294,     0.94394,     0.94494,     0.94595,     0.94695,     0.94795,     0.94895,     0.94995,     0.95095,     0.95195,     0.95295,     0.95395,     0.95495,     0.95596,     0.95696,     0.95796,     0.95896,     0.95996,\n",
       "           0.96096,     0.96196,     0.96296,     0.96396,     0.96496,     0.96597,     0.96697,     0.96797,     0.96897,     0.96997,     0.97097,     0.97197,     0.97297,     0.97397,     0.97497,     0.97598,     0.97698,     0.97798,     0.97898,     0.97998,     0.98098,     0.98198,     0.98298,     0.98398,\n",
       "           0.98498,     0.98599,     0.98699,     0.98799,     0.98899,     0.98999,     0.99099,     0.99199,     0.99299,     0.99399,     0.99499,       0.996,       0.997,       0.998,       0.999,           1]), array([[    0.15269,     0.15269,     0.15269,     0.15269,     0.15269,     0.15269,     0.15269,     0.15269,     0.15269,     0.15269,     0.15269,     0.15269,     0.15269,     0.15269,     0.15269,     0.15269,     0.15269,     0.15269,     0.15269,     0.15269,     0.15271,     0.15276,     0.15297,\n",
       "             0.1533,     0.15363,     0.15392,     0.15469,     0.15592,     0.15716,     0.15879,     0.16087,     0.16369,     0.16613,     0.16938,     0.17268,     0.17549,      0.1788,     0.18207,     0.18574,     0.18888,     0.19231,      0.1952,     0.19851,     0.20209,     0.20558,     0.20898,\n",
       "            0.21191,     0.21475,     0.21813,     0.22163,     0.22468,     0.22719,     0.23112,      0.2343,      0.2374,     0.24113,     0.24429,     0.24696,     0.25019,     0.25358,      0.2558,      0.2594,     0.26217,     0.26541,     0.26803,     0.27097,     0.27431,     0.27733,     0.28098,\n",
       "             0.2837,     0.28681,     0.28982,      0.2922,     0.29495,     0.29858,     0.30191,     0.30459,     0.30834,     0.31184,     0.31421,     0.31746,     0.32042,     0.32264,     0.32619,     0.32948,     0.33274,     0.33535,      0.3384,     0.34119,     0.34431,     0.34752,     0.34992,\n",
       "             0.3532,     0.35653,     0.35988,     0.36265,     0.36579,     0.36848,     0.37117,     0.37294,       0.376,     0.37887,     0.38178,     0.38447,     0.38583,     0.38845,     0.39079,     0.39381,     0.39598,     0.39945,     0.40394,     0.40616,     0.40896,     0.41125,     0.41395,\n",
       "            0.41602,     0.42001,     0.42262,     0.42608,     0.42786,     0.43011,     0.43221,     0.43439,      0.4366,     0.43874,     0.44205,     0.44456,      0.4468,     0.44941,     0.45126,     0.45297,     0.45609,     0.45945,     0.46107,     0.46355,     0.46613,     0.46978,     0.47258,\n",
       "             0.4752,     0.47717,     0.47943,     0.48204,     0.48448,     0.48644,     0.48911,     0.49243,      0.4949,     0.49695,     0.49938,     0.50138,      0.5034,     0.50581,     0.50757,     0.50935,     0.51116,     0.51335,     0.51526,      0.5179,     0.51857,     0.52035,     0.52222,\n",
       "              0.525,     0.52784,     0.52908,     0.53105,     0.53319,     0.53557,     0.53672,     0.53886,     0.54056,     0.54238,     0.54485,     0.54789,     0.54961,     0.55107,     0.55331,     0.55624,     0.55738,     0.55999,     0.56228,     0.56371,     0.56498,     0.56684,     0.56881,\n",
       "            0.57023,     0.57119,     0.57323,     0.57565,     0.57664,     0.57788,     0.58031,     0.58164,      0.5846,     0.58634,     0.58773,     0.58917,     0.59113,     0.59281,      0.5943,     0.59539,     0.59692,     0.59859,         0.6,     0.60171,     0.60296,     0.60526,     0.60623,\n",
       "            0.60814,      0.6091,     0.61096,     0.61348,     0.61411,     0.61644,     0.61832,     0.61997,     0.62119,     0.62393,     0.62495,     0.62748,     0.62931,     0.63117,     0.63274,     0.63398,     0.63493,     0.63689,     0.63798,     0.63896,     0.63925,     0.64092,     0.64207,\n",
       "            0.64367,      0.6442,     0.64544,      0.6469,     0.64824,     0.64924,     0.64962,     0.65148,     0.65313,     0.65415,     0.65541,     0.65743,     0.65952,     0.65973,     0.66064,     0.66264,     0.66316,     0.66472,     0.66731,     0.66778,     0.66997,     0.67072,     0.67136,\n",
       "            0.67376,     0.67521,     0.67614,     0.67945,     0.68039,      0.6824,     0.68407,     0.68432,     0.68688,     0.68897,     0.69049,     0.69138,     0.69273,     0.69389,     0.69506,     0.69709,     0.69897,     0.70053,     0.70291,     0.70406,     0.70542,     0.70661,     0.70827,\n",
       "            0.70884,     0.70968,      0.7112,     0.71461,     0.71552,     0.71578,     0.71741,      0.7184,     0.72034,     0.72179,     0.72311,     0.72417,     0.72456,     0.72506,     0.72679,      0.7272,     0.72835,     0.72887,     0.72977,      0.7307,      0.7314,      0.7321,     0.73336,\n",
       "            0.73452,     0.73531,     0.73577,     0.73633,     0.73794,     0.73973,     0.74086,     0.74125,     0.74243,     0.74408,     0.74401,      0.7447,      0.7459,     0.74736,     0.74756,      0.7485,     0.75019,     0.75141,     0.75239,     0.75312,     0.75605,     0.75729,     0.75787,\n",
       "            0.75899,     0.75955,     0.76179,     0.76346,     0.76373,     0.76439,     0.76559,     0.76638,     0.76845,     0.76916,     0.76985,     0.77032,     0.77133,      0.7725,     0.77347,     0.77598,     0.77691,     0.77792,     0.77827,     0.77843,     0.77983,     0.78157,     0.78317,\n",
       "            0.78362,     0.78393,     0.78572,     0.78624,     0.78787,     0.79073,     0.79104,      0.7922,     0.79258,      0.7931,     0.79455,     0.79482,       0.796,     0.79796,     0.79868,     0.80099,     0.80133,     0.80282,     0.80357,     0.80421,     0.80568,     0.80632,     0.80733,\n",
       "            0.80884,     0.81123,     0.81377,     0.81426,     0.81506,     0.81587,     0.81699,     0.81709,     0.81725,     0.81797,     0.81781,     0.81796,     0.82138,     0.82168,     0.82162,     0.82279,       0.824,     0.82448,     0.82458,     0.82603,     0.82695,     0.82899,     0.83005,\n",
       "            0.83029,     0.83139,     0.83159,     0.83179,      0.8326,      0.8341,     0.83455,     0.83502,     0.83496,     0.83549,     0.83525,     0.83513,     0.83615,      0.8373,     0.83798,     0.83811,     0.83954,     0.84021,     0.84106,     0.84138,     0.84235,      0.8431,     0.84485,\n",
       "            0.84546,     0.84646,     0.84665,     0.84747,     0.84849,     0.84846,     0.84913,     0.84964,     0.85016,     0.85053,     0.85132,     0.85186,     0.85222,     0.85255,     0.85378,     0.85411,     0.85482,     0.85584,     0.85616,     0.85702,     0.85796,     0.85831,     0.85852,\n",
       "             0.8589,     0.85912,     0.86028,     0.86143,     0.86227,     0.86195,     0.86249,     0.86224,     0.86208,     0.86219,      0.8624,     0.86302,     0.86417,     0.86555,     0.86726,      0.8686,     0.86911,     0.86927,      0.8691,     0.87022,     0.87093,     0.87297,     0.87408,\n",
       "            0.87417,     0.87464,     0.87457,     0.87576,     0.87597,     0.87664,     0.87674,     0.87725,     0.87786,     0.87802,     0.87777,      0.8788,     0.87965,     0.88137,     0.88139,     0.88151,     0.88126,     0.88116,     0.88082,     0.88171,     0.88336,     0.88333,     0.88398,\n",
       "            0.88497,     0.88519,     0.88506,     0.88527,     0.88535,     0.88595,     0.88619,     0.88691,     0.88826,     0.88868,     0.89016,     0.89117,     0.89299,     0.89324,     0.89349,     0.89378,     0.89419,     0.89549,     0.89579,     0.89766,     0.89831,     0.89901,     0.89878,\n",
       "            0.89935,     0.89962,     0.90028,     0.90063,     0.90134,     0.90242,     0.90269,     0.90495,     0.90693,     0.90725,     0.90717,     0.90749,     0.90843,     0.90909,      0.9093,     0.90913,     0.90984,     0.91009,     0.91122,     0.91105,     0.91134,     0.91199,     0.91178,\n",
       "              0.912,       0.912,     0.91311,     0.91314,      0.9138,      0.9142,     0.91491,     0.91586,     0.91587,     0.91641,     0.91633,     0.91637,     0.91692,     0.91739,     0.91789,     0.91829,     0.91862,     0.91931,     0.91919,     0.91911,     0.92042,     0.92015,     0.92003,\n",
       "            0.92044,     0.92066,     0.92129,      0.9211,     0.92193,     0.92294,     0.92383,     0.92445,     0.92549,     0.92633,     0.92696,     0.92681,     0.92709,     0.92687,     0.92763,     0.92796,     0.92825,     0.92889,     0.92984,     0.93122,     0.93205,     0.93198,     0.93229,\n",
       "            0.93272,     0.93313,     0.93344,     0.93386,     0.93421,     0.93547,     0.93736,     0.93822,     0.93812,     0.93798,     0.93782,     0.93816,     0.93802,     0.93939,      0.9396,     0.93992,     0.93982,     0.93975,     0.94064,     0.94107,     0.94098,     0.94272,     0.94315,\n",
       "            0.94328,      0.9436,     0.94487,     0.94528,     0.94516,     0.94506,       0.945,     0.94596,     0.94683,     0.94738,     0.94791,     0.94886,     0.95087,     0.95067,     0.95058,     0.95066,     0.95118,     0.95138,     0.95176,     0.95284,      0.9527,     0.95366,     0.95402,\n",
       "            0.95391,     0.95493,      0.9554,     0.95638,     0.95688,     0.95667,      0.9565,     0.95691,     0.95786,     0.95893,     0.95897,     0.95933,     0.95986,     0.95971,      0.9595,     0.95942,     0.95928,     0.95914,     0.95896,     0.95911,     0.95971,     0.95949,     0.95945,\n",
       "             0.9615,     0.96163,     0.96192,     0.96204,     0.96257,     0.96303,     0.96425,     0.96544,     0.96537,     0.96593,     0.96644,     0.96637,     0.96695,     0.96686,     0.96661,     0.96691,     0.96715,     0.96754,     0.96744,     0.96727,     0.96715,     0.96696,     0.96681,\n",
       "            0.96662,     0.96657,     0.96647,     0.96616,     0.96684,     0.96666,     0.96871,     0.96863,     0.96858,     0.96841,     0.96823,     0.96808,     0.96879,     0.96919,     0.96974,      0.9712,      0.9711,     0.97095,     0.97086,     0.97079,     0.97128,     0.97277,     0.97426,\n",
       "            0.97413,     0.97488,     0.97563,     0.97571,     0.97614,     0.97765,     0.97755,     0.97747,     0.97718,     0.97787,      0.9777,     0.97762,      0.9775,     0.97736,     0.97728,     0.97687,     0.97676,     0.97656,     0.97649,     0.97638,     0.97593,     0.97574,     0.97746,\n",
       "            0.97737,     0.97824,     0.97795,     0.97778,     0.97758,     0.97751,     0.97829,     0.97816,     0.97787,     0.97775,     0.97757,      0.9775,     0.97707,     0.97691,     0.97788,      0.9774,     0.97716,     0.97815,     0.97794,     0.97766,     0.97755,     0.97736,     0.97728,\n",
       "            0.97673,      0.9777,     0.97891,      0.9786,     0.97832,      0.9793,     0.97921,     0.97912,     0.98013,     0.97989,     0.97966,     0.97936,     0.97927,     0.97903,     0.97835,     0.97808,     0.97788,     0.97743,     0.97721,     0.97714,     0.97657,     0.97623,      0.9759,\n",
       "            0.97716,     0.97837,     0.97806,     0.97931,      0.9792,     0.98049,     0.98038,     0.98143,     0.98175,     0.98344,     0.98307,     0.98287,     0.98456,     0.98418,     0.98587,     0.98553,     0.98536,     0.98511,     0.98687,     0.98679,     0.98866,      0.9885,     0.98838,\n",
       "            0.98795,     0.98767,     0.98733,     0.98713,     0.98686,     0.99194,     0.99179,     0.99165,     0.99139,     0.99128,       0.991,     0.99075,     0.99048,     0.99036,     0.99017,     0.98992,     0.98983,     0.98949,     0.98909,     0.98868,     0.98854,     0.98823,     0.98816,\n",
       "            0.98759,     0.98722,     0.98699,     0.98652,     0.98632,     0.98581,     0.98534,     0.98997,     0.98955,     0.98905,     0.98896,     0.98865,     0.98848,     0.98817,     0.98742,     0.98693,     0.98675,      0.9861,     0.98527,       0.985,     0.98458,     0.98356,     0.98288,\n",
       "            0.98207,     0.98157,     0.98067,     0.97968,     0.97942,     0.97841,     0.97808,     0.97743,     0.97651,     0.98098,     0.98719,     0.98693,      0.9861,           1,           1,           1,           1,           1,           1,           1,           1,           1,           1,\n",
       "                  1,           1,           1,           1,           1,           1,           1,           1,           1,           1,           1,           1,           1,           1,           1,           1,           1,           1,           1,           1,           1,           1,           1,\n",
       "                  1,           1,           1,           1,           1,           1,           1,           1,           1,           1,           1,           1,           1,           1,           1,           1,           1,           1,           1,           1,           1,           1,           1,\n",
       "                  1,           1,           1,           1,           1,           1,           1,           1,           1,           1,           1,           1,           1,           1,           1,           1,           1,           1,           1,           1,           1,           1,           1,\n",
       "                  1,           1,           1,           1,           1,           1,           1,           1,           1,           1,           1,           1,           1,           1,           1,           1,           1,           1,           1,           1,           1,           1,           1,\n",
       "                  1,           1,           1,           1,           1,           1,           1,           1,           1,           1,           1,           1,           1,           1,           1,           1,           1,           1,           1,           1,           1,           1,           1,\n",
       "                  1,           1,           1,           1,           1,           1,           1,           1,           1,           1,           1,           1,           1,           1,           1,           1,           1,           1,           1,           1,           1,           1,           1,\n",
       "                  1,           1,           1,           1,           1,           1,           1,           1,           1,           1,           1]]), 'Confidence', 'Precision'], [array([          0,    0.001001,    0.002002,    0.003003,    0.004004,    0.005005,    0.006006,    0.007007,    0.008008,    0.009009,     0.01001,    0.011011,    0.012012,    0.013013,    0.014014,    0.015015,    0.016016,    0.017017,    0.018018,    0.019019,     0.02002,    0.021021,    0.022022,    0.023023,\n",
       "          0.024024,    0.025025,    0.026026,    0.027027,    0.028028,    0.029029,     0.03003,    0.031031,    0.032032,    0.033033,    0.034034,    0.035035,    0.036036,    0.037037,    0.038038,    0.039039,     0.04004,    0.041041,    0.042042,    0.043043,    0.044044,    0.045045,    0.046046,    0.047047,\n",
       "          0.048048,    0.049049,     0.05005,    0.051051,    0.052052,    0.053053,    0.054054,    0.055055,    0.056056,    0.057057,    0.058058,    0.059059,     0.06006,    0.061061,    0.062062,    0.063063,    0.064064,    0.065065,    0.066066,    0.067067,    0.068068,    0.069069,     0.07007,    0.071071,\n",
       "          0.072072,    0.073073,    0.074074,    0.075075,    0.076076,    0.077077,    0.078078,    0.079079,     0.08008,    0.081081,    0.082082,    0.083083,    0.084084,    0.085085,    0.086086,    0.087087,    0.088088,    0.089089,     0.09009,    0.091091,    0.092092,    0.093093,    0.094094,    0.095095,\n",
       "          0.096096,    0.097097,    0.098098,    0.099099,      0.1001,      0.1011,      0.1021,      0.1031,      0.1041,     0.10511,     0.10611,     0.10711,     0.10811,     0.10911,     0.11011,     0.11111,     0.11211,     0.11311,     0.11411,     0.11512,     0.11612,     0.11712,     0.11812,     0.11912,\n",
       "           0.12012,     0.12112,     0.12212,     0.12312,     0.12412,     0.12513,     0.12613,     0.12713,     0.12813,     0.12913,     0.13013,     0.13113,     0.13213,     0.13313,     0.13413,     0.13514,     0.13614,     0.13714,     0.13814,     0.13914,     0.14014,     0.14114,     0.14214,     0.14314,\n",
       "           0.14414,     0.14515,     0.14615,     0.14715,     0.14815,     0.14915,     0.15015,     0.15115,     0.15215,     0.15315,     0.15415,     0.15516,     0.15616,     0.15716,     0.15816,     0.15916,     0.16016,     0.16116,     0.16216,     0.16316,     0.16416,     0.16517,     0.16617,     0.16717,\n",
       "           0.16817,     0.16917,     0.17017,     0.17117,     0.17217,     0.17317,     0.17417,     0.17518,     0.17618,     0.17718,     0.17818,     0.17918,     0.18018,     0.18118,     0.18218,     0.18318,     0.18418,     0.18519,     0.18619,     0.18719,     0.18819,     0.18919,     0.19019,     0.19119,\n",
       "           0.19219,     0.19319,     0.19419,      0.1952,      0.1962,      0.1972,      0.1982,      0.1992,      0.2002,      0.2012,      0.2022,      0.2032,      0.2042,     0.20521,     0.20621,     0.20721,     0.20821,     0.20921,     0.21021,     0.21121,     0.21221,     0.21321,     0.21421,     0.21522,\n",
       "           0.21622,     0.21722,     0.21822,     0.21922,     0.22022,     0.22122,     0.22222,     0.22322,     0.22422,     0.22523,     0.22623,     0.22723,     0.22823,     0.22923,     0.23023,     0.23123,     0.23223,     0.23323,     0.23423,     0.23524,     0.23624,     0.23724,     0.23824,     0.23924,\n",
       "           0.24024,     0.24124,     0.24224,     0.24324,     0.24424,     0.24525,     0.24625,     0.24725,     0.24825,     0.24925,     0.25025,     0.25125,     0.25225,     0.25325,     0.25425,     0.25526,     0.25626,     0.25726,     0.25826,     0.25926,     0.26026,     0.26126,     0.26226,     0.26326,\n",
       "           0.26426,     0.26527,     0.26627,     0.26727,     0.26827,     0.26927,     0.27027,     0.27127,     0.27227,     0.27327,     0.27427,     0.27528,     0.27628,     0.27728,     0.27828,     0.27928,     0.28028,     0.28128,     0.28228,     0.28328,     0.28428,     0.28529,     0.28629,     0.28729,\n",
       "           0.28829,     0.28929,     0.29029,     0.29129,     0.29229,     0.29329,     0.29429,      0.2953,      0.2963,      0.2973,      0.2983,      0.2993,      0.3003,      0.3013,      0.3023,      0.3033,      0.3043,     0.30531,     0.30631,     0.30731,     0.30831,     0.30931,     0.31031,     0.31131,\n",
       "           0.31231,     0.31331,     0.31431,     0.31532,     0.31632,     0.31732,     0.31832,     0.31932,     0.32032,     0.32132,     0.32232,     0.32332,     0.32432,     0.32533,     0.32633,     0.32733,     0.32833,     0.32933,     0.33033,     0.33133,     0.33233,     0.33333,     0.33433,     0.33534,\n",
       "           0.33634,     0.33734,     0.33834,     0.33934,     0.34034,     0.34134,     0.34234,     0.34334,     0.34434,     0.34535,     0.34635,     0.34735,     0.34835,     0.34935,     0.35035,     0.35135,     0.35235,     0.35335,     0.35435,     0.35536,     0.35636,     0.35736,     0.35836,     0.35936,\n",
       "           0.36036,     0.36136,     0.36236,     0.36336,     0.36436,     0.36537,     0.36637,     0.36737,     0.36837,     0.36937,     0.37037,     0.37137,     0.37237,     0.37337,     0.37437,     0.37538,     0.37638,     0.37738,     0.37838,     0.37938,     0.38038,     0.38138,     0.38238,     0.38338,\n",
       "           0.38438,     0.38539,     0.38639,     0.38739,     0.38839,     0.38939,     0.39039,     0.39139,     0.39239,     0.39339,     0.39439,      0.3954,      0.3964,      0.3974,      0.3984,      0.3994,      0.4004,      0.4014,      0.4024,      0.4034,      0.4044,     0.40541,     0.40641,     0.40741,\n",
       "           0.40841,     0.40941,     0.41041,     0.41141,     0.41241,     0.41341,     0.41441,     0.41542,     0.41642,     0.41742,     0.41842,     0.41942,     0.42042,     0.42142,     0.42242,     0.42342,     0.42442,     0.42543,     0.42643,     0.42743,     0.42843,     0.42943,     0.43043,     0.43143,\n",
       "           0.43243,     0.43343,     0.43443,     0.43544,     0.43644,     0.43744,     0.43844,     0.43944,     0.44044,     0.44144,     0.44244,     0.44344,     0.44444,     0.44545,     0.44645,     0.44745,     0.44845,     0.44945,     0.45045,     0.45145,     0.45245,     0.45345,     0.45445,     0.45546,\n",
       "           0.45646,     0.45746,     0.45846,     0.45946,     0.46046,     0.46146,     0.46246,     0.46346,     0.46446,     0.46547,     0.46647,     0.46747,     0.46847,     0.46947,     0.47047,     0.47147,     0.47247,     0.47347,     0.47447,     0.47548,     0.47648,     0.47748,     0.47848,     0.47948,\n",
       "           0.48048,     0.48148,     0.48248,     0.48348,     0.48448,     0.48549,     0.48649,     0.48749,     0.48849,     0.48949,     0.49049,     0.49149,     0.49249,     0.49349,     0.49449,      0.4955,      0.4965,      0.4975,      0.4985,      0.4995,      0.5005,      0.5015,      0.5025,      0.5035,\n",
       "            0.5045,     0.50551,     0.50651,     0.50751,     0.50851,     0.50951,     0.51051,     0.51151,     0.51251,     0.51351,     0.51451,     0.51552,     0.51652,     0.51752,     0.51852,     0.51952,     0.52052,     0.52152,     0.52252,     0.52352,     0.52452,     0.52553,     0.52653,     0.52753,\n",
       "           0.52853,     0.52953,     0.53053,     0.53153,     0.53253,     0.53353,     0.53453,     0.53554,     0.53654,     0.53754,     0.53854,     0.53954,     0.54054,     0.54154,     0.54254,     0.54354,     0.54454,     0.54555,     0.54655,     0.54755,     0.54855,     0.54955,     0.55055,     0.55155,\n",
       "           0.55255,     0.55355,     0.55455,     0.55556,     0.55656,     0.55756,     0.55856,     0.55956,     0.56056,     0.56156,     0.56256,     0.56356,     0.56456,     0.56557,     0.56657,     0.56757,     0.56857,     0.56957,     0.57057,     0.57157,     0.57257,     0.57357,     0.57457,     0.57558,\n",
       "           0.57658,     0.57758,     0.57858,     0.57958,     0.58058,     0.58158,     0.58258,     0.58358,     0.58458,     0.58559,     0.58659,     0.58759,     0.58859,     0.58959,     0.59059,     0.59159,     0.59259,     0.59359,     0.59459,      0.5956,      0.5966,      0.5976,      0.5986,      0.5996,\n",
       "            0.6006,      0.6016,      0.6026,      0.6036,      0.6046,     0.60561,     0.60661,     0.60761,     0.60861,     0.60961,     0.61061,     0.61161,     0.61261,     0.61361,     0.61461,     0.61562,     0.61662,     0.61762,     0.61862,     0.61962,     0.62062,     0.62162,     0.62262,     0.62362,\n",
       "           0.62462,     0.62563,     0.62663,     0.62763,     0.62863,     0.62963,     0.63063,     0.63163,     0.63263,     0.63363,     0.63463,     0.63564,     0.63664,     0.63764,     0.63864,     0.63964,     0.64064,     0.64164,     0.64264,     0.64364,     0.64464,     0.64565,     0.64665,     0.64765,\n",
       "           0.64865,     0.64965,     0.65065,     0.65165,     0.65265,     0.65365,     0.65465,     0.65566,     0.65666,     0.65766,     0.65866,     0.65966,     0.66066,     0.66166,     0.66266,     0.66366,     0.66466,     0.66567,     0.66667,     0.66767,     0.66867,     0.66967,     0.67067,     0.67167,\n",
       "           0.67267,     0.67367,     0.67467,     0.67568,     0.67668,     0.67768,     0.67868,     0.67968,     0.68068,     0.68168,     0.68268,     0.68368,     0.68468,     0.68569,     0.68669,     0.68769,     0.68869,     0.68969,     0.69069,     0.69169,     0.69269,     0.69369,     0.69469,      0.6957,\n",
       "            0.6967,      0.6977,      0.6987,      0.6997,      0.7007,      0.7017,      0.7027,      0.7037,      0.7047,     0.70571,     0.70671,     0.70771,     0.70871,     0.70971,     0.71071,     0.71171,     0.71271,     0.71371,     0.71471,     0.71572,     0.71672,     0.71772,     0.71872,     0.71972,\n",
       "           0.72072,     0.72172,     0.72272,     0.72372,     0.72472,     0.72573,     0.72673,     0.72773,     0.72873,     0.72973,     0.73073,     0.73173,     0.73273,     0.73373,     0.73473,     0.73574,     0.73674,     0.73774,     0.73874,     0.73974,     0.74074,     0.74174,     0.74274,     0.74374,\n",
       "           0.74474,     0.74575,     0.74675,     0.74775,     0.74875,     0.74975,     0.75075,     0.75175,     0.75275,     0.75375,     0.75475,     0.75576,     0.75676,     0.75776,     0.75876,     0.75976,     0.76076,     0.76176,     0.76276,     0.76376,     0.76476,     0.76577,     0.76677,     0.76777,\n",
       "           0.76877,     0.76977,     0.77077,     0.77177,     0.77277,     0.77377,     0.77477,     0.77578,     0.77678,     0.77778,     0.77878,     0.77978,     0.78078,     0.78178,     0.78278,     0.78378,     0.78478,     0.78579,     0.78679,     0.78779,     0.78879,     0.78979,     0.79079,     0.79179,\n",
       "           0.79279,     0.79379,     0.79479,      0.7958,      0.7968,      0.7978,      0.7988,      0.7998,      0.8008,      0.8018,      0.8028,      0.8038,      0.8048,     0.80581,     0.80681,     0.80781,     0.80881,     0.80981,     0.81081,     0.81181,     0.81281,     0.81381,     0.81481,     0.81582,\n",
       "           0.81682,     0.81782,     0.81882,     0.81982,     0.82082,     0.82182,     0.82282,     0.82382,     0.82482,     0.82583,     0.82683,     0.82783,     0.82883,     0.82983,     0.83083,     0.83183,     0.83283,     0.83383,     0.83483,     0.83584,     0.83684,     0.83784,     0.83884,     0.83984,\n",
       "           0.84084,     0.84184,     0.84284,     0.84384,     0.84484,     0.84585,     0.84685,     0.84785,     0.84885,     0.84985,     0.85085,     0.85185,     0.85285,     0.85385,     0.85485,     0.85586,     0.85686,     0.85786,     0.85886,     0.85986,     0.86086,     0.86186,     0.86286,     0.86386,\n",
       "           0.86486,     0.86587,     0.86687,     0.86787,     0.86887,     0.86987,     0.87087,     0.87187,     0.87287,     0.87387,     0.87487,     0.87588,     0.87688,     0.87788,     0.87888,     0.87988,     0.88088,     0.88188,     0.88288,     0.88388,     0.88488,     0.88589,     0.88689,     0.88789,\n",
       "           0.88889,     0.88989,     0.89089,     0.89189,     0.89289,     0.89389,     0.89489,      0.8959,      0.8969,      0.8979,      0.8989,      0.8999,      0.9009,      0.9019,      0.9029,      0.9039,      0.9049,     0.90591,     0.90691,     0.90791,     0.90891,     0.90991,     0.91091,     0.91191,\n",
       "           0.91291,     0.91391,     0.91491,     0.91592,     0.91692,     0.91792,     0.91892,     0.91992,     0.92092,     0.92192,     0.92292,     0.92392,     0.92492,     0.92593,     0.92693,     0.92793,     0.92893,     0.92993,     0.93093,     0.93193,     0.93293,     0.93393,     0.93493,     0.93594,\n",
       "           0.93694,     0.93794,     0.93894,     0.93994,     0.94094,     0.94194,     0.94294,     0.94394,     0.94494,     0.94595,     0.94695,     0.94795,     0.94895,     0.94995,     0.95095,     0.95195,     0.95295,     0.95395,     0.95495,     0.95596,     0.95696,     0.95796,     0.95896,     0.95996,\n",
       "           0.96096,     0.96196,     0.96296,     0.96396,     0.96496,     0.96597,     0.96697,     0.96797,     0.96897,     0.96997,     0.97097,     0.97197,     0.97297,     0.97397,     0.97497,     0.97598,     0.97698,     0.97798,     0.97898,     0.97998,     0.98098,     0.98198,     0.98298,     0.98398,\n",
       "           0.98498,     0.98599,     0.98699,     0.98799,     0.98899,     0.98999,     0.99099,     0.99199,     0.99299,     0.99399,     0.99499,       0.996,       0.997,       0.998,       0.999,           1]), array([[    0.98989,     0.98989,     0.98989,     0.98989,     0.98989,     0.98989,     0.98989,     0.98989,     0.98989,     0.98989,     0.98989,     0.98989,     0.98989,     0.98989,     0.98989,     0.98989,     0.98989,     0.98989,     0.98989,     0.98989,     0.98989,     0.98989,     0.98989,\n",
       "            0.98989,     0.98989,     0.98989,     0.98975,     0.98954,     0.98919,     0.98919,     0.98919,     0.98919,      0.9885,      0.9885,      0.9885,     0.98745,     0.98745,     0.98745,     0.98745,     0.98745,     0.98745,      0.9871,     0.98675,     0.98675,     0.98675,     0.98675,\n",
       "            0.98641,     0.98606,     0.98571,     0.98571,     0.98571,     0.98501,     0.98432,     0.98432,     0.98432,     0.98432,     0.98397,     0.98397,     0.98397,     0.98362,     0.98327,     0.98327,     0.98327,     0.98327,     0.98257,     0.98257,     0.98188,     0.98153,     0.98083,\n",
       "            0.98083,     0.98048,     0.98048,     0.98048,     0.98013,     0.97978,     0.97978,     0.97909,     0.97909,     0.97909,     0.97909,     0.97839,     0.97839,     0.97769,     0.97769,     0.97734,       0.977,       0.977,     0.97665,      0.9763,      0.9763,     0.97595,      0.9756,\n",
       "             0.9756,      0.9756,     0.97525,     0.97525,     0.97456,     0.97456,     0.97456,     0.97456,     0.97456,     0.97456,     0.97456,     0.97421,     0.97421,     0.97421,     0.97421,     0.97386,     0.97351,     0.97316,     0.97316,     0.97281,     0.97212,     0.97177,     0.97142,\n",
       "            0.97142,     0.97107,     0.97107,     0.97107,     0.97072,     0.97037,     0.97037,     0.97037,     0.97037,     0.97037,     0.97037,     0.96968,     0.96933,     0.96898,     0.96828,     0.96758,     0.96724,     0.96724,     0.96724,     0.96724,     0.96724,     0.96689,     0.96654,\n",
       "            0.96584,     0.96549,      0.9648,      0.9648,     0.96375,      0.9634,      0.9634,      0.9634,     0.96305,     0.96236,     0.96236,     0.96236,     0.96201,     0.96131,     0.96131,     0.95992,     0.95957,     0.95957,     0.95922,     0.95852,     0.95852,     0.95783,     0.95748,\n",
       "            0.95748,     0.95678,     0.95573,     0.95561,     0.95539,     0.95539,     0.95504,     0.95399,     0.95364,     0.95329,     0.95329,     0.95329,     0.95329,      0.9526,     0.95225,     0.95155,      0.9512,      0.9512,     0.95085,     0.95016,     0.94981,     0.94981,     0.94981,\n",
       "            0.94946,     0.94911,     0.94876,     0.94804,     0.94772,     0.94702,     0.94597,     0.94597,     0.94597,     0.94458,     0.94423,     0.94353,     0.94284,     0.94249,     0.94249,     0.94179,     0.94179,     0.94179,     0.94179,     0.94144,     0.94075,      0.9404,      0.9397,\n",
       "            0.93935,       0.939,       0.939,     0.93761,     0.93761,     0.93761,     0.93691,     0.93691,     0.93691,     0.93552,     0.93517,     0.93447,     0.93447,     0.93447,     0.93447,     0.93377,     0.93308,     0.93273,     0.93203,     0.93133,     0.93099,     0.93064,     0.93064,\n",
       "            0.92994,     0.92994,     0.92959,     0.92959,     0.92959,      0.9289,     0.92801,     0.92646,     0.92576,     0.92506,     0.92402,     0.92377,     0.92225,     0.92177,     0.92158,     0.92082,     0.92053,     0.92053,     0.92053,      0.9199,     0.91914,     0.91914,     0.91853,\n",
       "            0.91774,     0.91774,     0.91774,      0.9167,      0.9167,      0.9167,       0.916,       0.916,     0.91599,     0.91565,     0.91565,      0.9153,      0.9153,      0.9153,      0.9153,     0.91426,     0.91426,     0.91426,     0.91286,     0.91182,     0.91182,     0.91182,     0.91141,\n",
       "            0.91007,     0.90914,     0.90903,     0.90857,     0.90763,     0.90694,     0.90694,     0.90659,     0.90624,     0.90624,     0.90554,     0.90554,     0.90498,      0.9045,      0.9031,     0.90275,     0.90206,     0.90142,     0.90066,     0.89997,     0.89978,     0.89927,     0.89824,\n",
       "            0.89753,     0.89665,     0.89613,      0.8955,     0.89404,     0.89357,     0.89334,     0.89299,     0.89125,     0.88978,     0.88811,     0.88707,     0.88637,     0.88463,     0.88354,     0.88276,     0.88184,     0.88114,     0.88013,      0.8794,     0.87905,     0.87835,     0.87766,\n",
       "            0.87731,     0.87661,     0.87487,     0.87411,     0.87382,     0.87348,     0.87348,     0.87243,     0.87103,     0.86989,     0.86929,      0.8679,      0.8679,      0.8665,      0.8665,     0.86546,     0.86511,      0.8632,     0.86249,     0.86207,     0.86197,     0.85918,     0.85849,\n",
       "            0.85814,     0.85814,     0.85814,     0.85674,     0.85605,     0.85605,       0.855,      0.8543,     0.85326,     0.85326,     0.85256,     0.85198,     0.85047,     0.84942,     0.84908,     0.84733,     0.84594,     0.84583,     0.84489,     0.84468,     0.84398,     0.84211,     0.84141,\n",
       "            0.84071,     0.84036,     0.83923,     0.83887,     0.83827,     0.83707,     0.83618,     0.83513,     0.83444,     0.83339,     0.83236,     0.83165,     0.83025,     0.82876,      0.8284,       0.827,     0.82677,      0.8252,     0.82468,     0.82468,     0.82328,     0.82328,     0.82224,\n",
       "            0.82189,     0.82152,     0.82084,     0.82044,     0.82001,     0.81945,      0.8193,     0.81859,     0.81823,     0.81608,     0.81464,     0.81394,     0.81318,     0.81283,     0.81143,     0.81039,     0.80934,     0.80822,     0.80787,     0.80611,     0.80586,     0.80481,     0.80411,\n",
       "            0.80376,     0.80319,     0.80249,     0.80237,     0.80225,     0.80207,     0.80036,     0.79966,     0.79895,     0.79714,      0.7961,      0.7957,     0.79395,     0.79366,     0.79331,     0.79331,     0.79217,     0.79191,     0.79041,     0.78971,     0.78878,     0.78755,      0.7868,\n",
       "            0.78505,     0.78435,      0.7839,     0.78224,     0.78118,     0.77908,     0.77867,     0.77663,     0.77557,     0.77417,     0.77344,     0.77309,      0.7717,     0.76961,     0.76961,     0.76958,     0.76821,     0.76711,     0.76599,     0.76423,     0.76333,     0.76298,     0.76212,\n",
       "            0.76037,     0.75985,     0.75826,     0.75776,     0.75671,     0.75544,     0.75369,     0.75229,     0.75158,     0.75018,     0.74843,     0.74807,     0.74695,     0.74625,     0.74595,      0.7442,     0.74245,     0.74174,      0.7393,     0.73789,     0.73649,     0.73614,     0.73545,\n",
       "            0.73472,     0.73367,     0.73231,     0.73156,     0.72946,     0.72778,     0.72735,     0.72639,     0.72594,     0.72349,      0.7222,     0.72208,     0.72137,     0.72032,     0.71926,     0.71856,     0.71732,      0.7168,     0.71609,     0.71538,     0.71433,     0.71362,     0.71187,\n",
       "            0.71012,     0.70907,     0.70801,     0.70766,     0.70695,     0.70589,     0.70547,     0.70408,     0.70308,     0.70237,     0.70167,     0.70096,     0.69851,     0.69711,     0.69536,     0.69396,      0.6929,     0.69118,     0.69045,     0.68904,     0.68735,     0.68624,     0.68448,\n",
       "            0.68273,     0.68177,     0.68132,     0.68038,     0.67991,     0.67829,     0.67689,     0.67535,     0.67375,     0.67255,     0.67184,     0.67027,     0.66938,     0.66748,     0.66399,     0.66204,     0.66098,     0.65923,     0.65818,     0.65747,     0.65711,     0.65467,     0.65361,\n",
       "            0.65325,     0.65115,     0.64871,     0.64695,     0.64657,     0.64293,     0.64064,     0.63977,     0.63855,      0.6375,     0.63696,     0.63556,      0.6338,      0.6317,     0.62995,     0.62855,      0.6268,     0.62496,     0.62364,     0.62294,     0.62154,     0.62083,     0.61908,\n",
       "            0.61903,     0.61767,     0.61592,     0.61521,      0.6138,     0.61136,     0.61029,     0.60873,     0.60767,     0.60627,     0.60452,     0.60277,     0.60136,     0.59961,     0.59647,     0.59437,     0.59331,     0.59261,     0.59184,      0.5908,     0.58909,     0.58508,     0.58402,\n",
       "            0.58278,     0.58034,     0.57946,     0.57806,     0.57666,      0.5756,      0.5749,      0.5735,     0.57105,     0.56988,     0.56954,      0.5691,     0.56666,     0.56421,     0.56315,     0.56187,     0.56117,     0.55929,     0.55705,     0.55631,     0.55456,     0.55246,     0.54966,\n",
       "            0.54826,     0.54651,     0.54444,     0.54262,     0.54143,     0.53863,     0.53653,     0.53408,     0.53294,     0.53085,     0.52953,     0.52621,     0.52515,     0.52305,     0.52025,      0.5192,     0.51729,     0.51552,     0.51307,      0.5068,     0.50643,     0.50364,     0.50157,\n",
       "            0.49948,     0.49786,     0.49599,     0.49471,     0.49295,     0.49033,     0.48893,     0.48683,     0.48577,     0.48425,     0.48175,     0.48069,     0.47929,     0.47789,     0.47422,     0.47368,     0.47211,     0.46757,     0.46599,     0.46354,     0.46179,       0.459,     0.45684,\n",
       "            0.45427,     0.45357,     0.45216,      0.4478,     0.44709,     0.44464,     0.44242,     0.44132,     0.44061,     0.43816,     0.43554,     0.43344,     0.43273,     0.42767,     0.42452,     0.42312,     0.42169,     0.41944,     0.41804,     0.41699,     0.41262,     0.41087,     0.40903,\n",
       "            0.40684,     0.40579,     0.40473,     0.40119,     0.39931,     0.39638,     0.39459,     0.39319,     0.38813,     0.38498,     0.38201,     0.38061,     0.37848,     0.37623,     0.37483,     0.36802,     0.36627,     0.36306,      0.3619,     0.36015,     0.35334,     0.35054,     0.34763,\n",
       "            0.34617,     0.34477,     0.34005,     0.33746,     0.33428,     0.33323,     0.32991,     0.32781,     0.32344,     0.32167,     0.31907,     0.31801,     0.31191,     0.30975,     0.30823,     0.30142,     0.29828,     0.29643,     0.29355,     0.28989,     0.28836,     0.28586,     0.28481,\n",
       "              0.278,     0.27675,     0.27502,       0.271,     0.26733,     0.26382,     0.26261,     0.26156,     0.25789,     0.25469,     0.25177,      0.2481,     0.24697,     0.24408,     0.23623,     0.23333,     0.23115,     0.22644,     0.22421,     0.22346,      0.2179,     0.21473,     0.21176,\n",
       "            0.20879,     0.20494,     0.20197,     0.19795,     0.19687,     0.19271,      0.1916,     0.19031,     0.18745,     0.18632,     0.18221,     0.18001,     0.17783,     0.17347,      0.1702,     0.16613,     0.16424,     0.16141,     0.15724,     0.15616,     0.15197,     0.14986,     0.14829,\n",
       "            0.14286,     0.13956,     0.13585,     0.13362,     0.13094,     0.12872,     0.12637,     0.12417,     0.12041,     0.11893,     0.11515,     0.11194,     0.10884,     0.10739,     0.10532,     0.10267,      0.1018,    0.098468,    0.094793,    0.091305,    0.090227,    0.087769,    0.087271,\n",
       "           0.083203,    0.080805,    0.079334,    0.076528,    0.075376,    0.072659,    0.070305,     0.06879,    0.065984,    0.062959,    0.062464,    0.060704,    0.059796,    0.058229,    0.054726,    0.052624,    0.051903,    0.049445,     0.04664,    0.045793,    0.044513,    0.041707,    0.040015,\n",
       "           0.038187,    0.037124,    0.035364,    0.033603,    0.033175,    0.031598,    0.031111,    0.030186,    0.028985,    0.027884,    0.026859,    0.026317,    0.024733,    0.022988,    0.022258,    0.020846,     0.01878,    0.018439,    0.018201,    0.017534,    0.016576,    0.015076,    0.014545,\n",
       "           0.014084,    0.013656,    0.013004,    0.011896,    0.011433,    0.011255,    0.011076,    0.010897,     0.01069,    0.010453,    0.010274,    0.010058,   0.0087004,   0.0085575,   0.0084145,   0.0072598,    0.006834,    0.006371,   0.0061004,   0.0058307,   0.0054734,   0.0051535,   0.0049153,\n",
       "          0.0046772,   0.0042545,   0.0030875,   0.0030326,   0.0029776,   0.0029226,   0.0028677,   0.0028127,   0.0023402,   0.0021615,    0.002048,   0.0019765,    0.001905,   0.0018336,   0.0017621,   0.0016386,   0.0014957,   0.0013859,   0.0013573,   0.0013288,   0.0013002,   0.0012716,    0.001243,\n",
       "          0.0012144,   0.0011858,   0.0011573,   0.0011287,   0.0011001,   0.0010715,    0.001023,   0.0007848,  0.00068553,  0.00066721,  0.00064889,  0.00063057,  0.00061224,  0.00059392,   0.0005756,  0.00055728,  0.00053896,  0.00052063,  0.00050231,  0.00048399,  0.00046567,  0.00044735,  0.00042902,\n",
       "          0.0004107,  0.00039238,  0.00037406,  0.00035574,           0,           0,           0,           0,           0,           0,           0,           0,           0,           0,           0,           0,           0,           0,           0,           0,           0,           0,           0,\n",
       "                  0,           0,           0,           0,           0,           0,           0,           0,           0,           0,           0,           0,           0,           0,           0,           0,           0,           0,           0,           0,           0,           0,           0,\n",
       "                  0,           0,           0,           0,           0,           0,           0,           0,           0,           0,           0,           0,           0,           0,           0,           0,           0,           0,           0,           0,           0,           0,           0,\n",
       "                  0,           0,           0,           0,           0,           0,           0,           0,           0,           0,           0]]), 'Confidence', 'Recall']]\n",
       "fitness: 0.5586698833631547\n",
       "keys: ['metrics/precision(B)', 'metrics/recall(B)', 'metrics/mAP50(B)', 'metrics/mAP50-95(B)']\n",
       "maps: array([     0.5213])\n",
       "names: {0: 'Papaya'}\n",
       "plot: True\n",
       "results_dict: {'metrics/precision(B)': 0.8313897397202415, 'metrics/recall(B)': 0.8215197595643744, 'metrics/mAP50(B)': 0.8950056168787968, 'metrics/mAP50-95(B)': 0.5212992463058612, 'fitness': 0.5586698833631547}\n",
       "save_dir: PosixPath('testing_code/yolo11n/train')\n",
       "speed: {'preprocess': 0.16377049107705394, 'inference': 1.6926450114096365, 'loss': 0.000499909923922631, 'postprocess': 4.681141145767704}\n",
       "task: 'detect'"
      ]
     },
     "execution_count": 30,
     "metadata": {},
     "output_type": "execute_result"
    }
   ],
   "source": [
    "model = YOLO(\"yolo11n.yaml\")\n",
    "model.to('cuda')\n",
    "\n",
    "# Train\n",
    "model.train(\n",
    "    data=args.config_train,\n",
    "    epochs=args.epochs,\n",
    "    imgsz=640,\n",
    "    batch=args.batch,\n",
    "    project=yolo_project,\n",
    "    freeze=10,\n",
    "    patience=25,\n",
    "    plots=True,\n",
    "    half=False,\n",
    ")"
   ]
  },
  {
   "cell_type": "code",
   "execution_count": 32,
   "metadata": {
    "colab": {
     "base_uri": "https://localhost:8080/"
    },
    "id": "0pT4_GVoVmkZ",
    "outputId": "d9477036-b311-4a7e-95ee-715bb0b82198"
   },
   "outputs": [
    {
     "name": "stdout",
     "output_type": "stream",
     "text": [
      "\n",
      "\n",
      "TEST ON config.yaml\n",
      "\n",
      "\n",
      "Ultralytics 8.3.27 🚀 Python-3.10.12 torch-2.5.0+cu121 CUDA:0 (Tesla T4, 15102MiB)\n",
      "YOLO11n summary (fused): 238 layers, 2,582,347 parameters, 0 gradients, 6.3 GFLOPs\n"
     ]
    },
    {
     "name": "stderr",
     "output_type": "stream",
     "text": [
      "\u001b[34m\u001b[1mval: \u001b[0mScanning /content/dataset/labels/val.cache... 62 images, 0 backgrounds, 0 corrupt: 100%|██████████| 62/62 [00:00<?, ?it/s]\n",
      "                 Class     Images  Instances      Box(P          R      mAP50  mAP50-95): 100%|██████████| 62/62 [00:03<00:00, 16.57it/s]\n"
     ]
    },
    {
     "name": "stdout",
     "output_type": "stream",
     "text": [
      "                   all         62       2869       0.82      0.863      0.905      0.513\n",
      "Speed: 0.5ms preprocess, 24.6ms inference, 0.0ms loss, 4.1ms postprocess per image\n",
      "Results saved to \u001b[1mtesting_code/yolo11n/val2\u001b[0m\n"
     ]
    }
   ],
   "source": [
    "# Load a model\n",
    "model = YOLO(\n",
    "    os.path.join(yolo_project, 'train/weights/best.pt')\n",
    ")\n",
    "\n",
    "print(f'\\n\\nTEST ON {args.config_train}\\n\\n')\n",
    "\n",
    "# Validate the model\n",
    "metrics = model.val(\n",
    "    data=args.config_train,\n",
    "    imgsz=640,\n",
    "    batch=1,\n",
    "    iou=0.5,\n",
    "    max_det=None,\n",
    "    augment=False,\n",
    "    # half=False,\n",
    "    # dnn=False,\n",
    "    device='cuda:0',\n",
    "    # rect=False,\n",
    "    split='test',\n",
    "    project=yolo_project\n",
    ")"
   ]
  },
  {
   "cell_type": "code",
   "execution_count": 35,
   "metadata": {
    "id": "3nq8cJYqcZv7"
   },
   "outputs": [],
   "source": [
    "# !cp -r testing_code /content/drive/MyDrive/Papaya-counter/results"
   ]
  },
  {
   "cell_type": "code",
   "execution_count": 19,
   "metadata": {
    "colab": {
     "base_uri": "https://localhost:8080/"
    },
    "collapsed": true,
    "id": "xKt8doMOiDtl",
    "outputId": "c06685fa-a113-4a88-b05c-d2d47c6c7bb4"
   },
   "outputs": [
    {
     "name": "stdout",
     "output_type": "stream",
     "text": [
      "\n",
      "video 1/1 (frame 1/1231) /content/drive/MyDrive/Papaya-counter/Teste_Video_resized.mp4: 480x640 39 Papayas, 9.7ms\n",
      "video 1/1 (frame 2/1231) /content/drive/MyDrive/Papaya-counter/Teste_Video_resized.mp4: 480x640 39 Papayas, 9.4ms\n",
      "video 1/1 (frame 3/1231) /content/drive/MyDrive/Papaya-counter/Teste_Video_resized.mp4: 480x640 39 Papayas, 8.6ms\n",
      "video 1/1 (frame 4/1231) /content/drive/MyDrive/Papaya-counter/Teste_Video_resized.mp4: 480x640 41 Papayas, 8.8ms\n",
      "video 1/1 (frame 5/1231) /content/drive/MyDrive/Papaya-counter/Teste_Video_resized.mp4: 480x640 43 Papayas, 8.7ms\n",
      "video 1/1 (frame 6/1231) /content/drive/MyDrive/Papaya-counter/Teste_Video_resized.mp4: 480x640 43 Papayas, 8.7ms\n",
      "video 1/1 (frame 7/1231) /content/drive/MyDrive/Papaya-counter/Teste_Video_resized.mp4: 480x640 46 Papayas, 17.3ms\n",
      "video 1/1 (frame 8/1231) /content/drive/MyDrive/Papaya-counter/Teste_Video_resized.mp4: 480x640 41 Papayas, 8.8ms\n",
      "video 1/1 (frame 9/1231) /content/drive/MyDrive/Papaya-counter/Teste_Video_resized.mp4: 480x640 38 Papayas, 8.8ms\n",
      "video 1/1 (frame 10/1231) /content/drive/MyDrive/Papaya-counter/Teste_Video_resized.mp4: 480x640 42 Papayas, 9.2ms\n",
      "video 1/1 (frame 11/1231) /content/drive/MyDrive/Papaya-counter/Teste_Video_resized.mp4: 480x640 39 Papayas, 8.6ms\n",
      "video 1/1 (frame 12/1231) /content/drive/MyDrive/Papaya-counter/Teste_Video_resized.mp4: 480x640 43 Papayas, 8.7ms\n",
      "video 1/1 (frame 13/1231) /content/drive/MyDrive/Papaya-counter/Teste_Video_resized.mp4: 480x640 44 Papayas, 9.8ms\n",
      "video 1/1 (frame 14/1231) /content/drive/MyDrive/Papaya-counter/Teste_Video_resized.mp4: 480x640 41 Papayas, 9.5ms\n",
      "video 1/1 (frame 15/1231) /content/drive/MyDrive/Papaya-counter/Teste_Video_resized.mp4: 480x640 35 Papayas, 9.0ms\n",
      "video 1/1 (frame 16/1231) /content/drive/MyDrive/Papaya-counter/Teste_Video_resized.mp4: 480x640 39 Papayas, 10.6ms\n",
      "video 1/1 (frame 17/1231) /content/drive/MyDrive/Papaya-counter/Teste_Video_resized.mp4: 480x640 37 Papayas, 8.7ms\n",
      "video 1/1 (frame 18/1231) /content/drive/MyDrive/Papaya-counter/Teste_Video_resized.mp4: 480x640 39 Papayas, 9.1ms\n",
      "video 1/1 (frame 19/1231) /content/drive/MyDrive/Papaya-counter/Teste_Video_resized.mp4: 480x640 40 Papayas, 8.5ms\n",
      "video 1/1 (frame 20/1231) /content/drive/MyDrive/Papaya-counter/Teste_Video_resized.mp4: 480x640 39 Papayas, 10.2ms\n",
      "video 1/1 (frame 21/1231) /content/drive/MyDrive/Papaya-counter/Teste_Video_resized.mp4: 480x640 41 Papayas, 8.9ms\n",
      "video 1/1 (frame 22/1231) /content/drive/MyDrive/Papaya-counter/Teste_Video_resized.mp4: 480x640 38 Papayas, 11.7ms\n",
      "video 1/1 (frame 23/1231) /content/drive/MyDrive/Papaya-counter/Teste_Video_resized.mp4: 480x640 34 Papayas, 12.7ms\n",
      "video 1/1 (frame 24/1231) /content/drive/MyDrive/Papaya-counter/Teste_Video_resized.mp4: 480x640 34 Papayas, 14.0ms\n",
      "video 1/1 (frame 25/1231) /content/drive/MyDrive/Papaya-counter/Teste_Video_resized.mp4: 480x640 44 Papayas, 11.6ms\n",
      "video 1/1 (frame 26/1231) /content/drive/MyDrive/Papaya-counter/Teste_Video_resized.mp4: 480x640 39 Papayas, 9.5ms\n",
      "video 1/1 (frame 27/1231) /content/drive/MyDrive/Papaya-counter/Teste_Video_resized.mp4: 480x640 37 Papayas, 10.8ms\n",
      "video 1/1 (frame 28/1231) /content/drive/MyDrive/Papaya-counter/Teste_Video_resized.mp4: 480x640 41 Papayas, 9.3ms\n",
      "video 1/1 (frame 29/1231) /content/drive/MyDrive/Papaya-counter/Teste_Video_resized.mp4: 480x640 41 Papayas, 9.7ms\n",
      "video 1/1 (frame 30/1231) /content/drive/MyDrive/Papaya-counter/Teste_Video_resized.mp4: 480x640 39 Papayas, 8.5ms\n",
      "video 1/1 (frame 31/1231) /content/drive/MyDrive/Papaya-counter/Teste_Video_resized.mp4: 480x640 39 Papayas, 9.5ms\n",
      "video 1/1 (frame 32/1231) /content/drive/MyDrive/Papaya-counter/Teste_Video_resized.mp4: 480x640 35 Papayas, 9.7ms\n",
      "video 1/1 (frame 33/1231) /content/drive/MyDrive/Papaya-counter/Teste_Video_resized.mp4: 480x640 41 Papayas, 9.9ms\n",
      "video 1/1 (frame 34/1231) /content/drive/MyDrive/Papaya-counter/Teste_Video_resized.mp4: 480x640 37 Papayas, 10.3ms\n",
      "video 1/1 (frame 35/1231) /content/drive/MyDrive/Papaya-counter/Teste_Video_resized.mp4: 480x640 35 Papayas, 10.6ms\n",
      "video 1/1 (frame 36/1231) /content/drive/MyDrive/Papaya-counter/Teste_Video_resized.mp4: 480x640 39 Papayas, 9.1ms\n",
      "video 1/1 (frame 37/1231) /content/drive/MyDrive/Papaya-counter/Teste_Video_resized.mp4: 480x640 35 Papayas, 9.5ms\n",
      "video 1/1 (frame 38/1231) /content/drive/MyDrive/Papaya-counter/Teste_Video_resized.mp4: 480x640 32 Papayas, 8.6ms\n",
      "video 1/1 (frame 39/1231) /content/drive/MyDrive/Papaya-counter/Teste_Video_resized.mp4: 480x640 41 Papayas, 8.4ms\n",
      "video 1/1 (frame 40/1231) /content/drive/MyDrive/Papaya-counter/Teste_Video_resized.mp4: 480x640 39 Papayas, 8.4ms\n",
      "video 1/1 (frame 41/1231) /content/drive/MyDrive/Papaya-counter/Teste_Video_resized.mp4: 480x640 42 Papayas, 9.2ms\n",
      "video 1/1 (frame 42/1231) /content/drive/MyDrive/Papaya-counter/Teste_Video_resized.mp4: 480x640 38 Papayas, 17.4ms\n",
      "video 1/1 (frame 43/1231) /content/drive/MyDrive/Papaya-counter/Teste_Video_resized.mp4: 480x640 38 Papayas, 9.6ms\n",
      "video 1/1 (frame 44/1231) /content/drive/MyDrive/Papaya-counter/Teste_Video_resized.mp4: 480x640 42 Papayas, 10.4ms\n",
      "video 1/1 (frame 45/1231) /content/drive/MyDrive/Papaya-counter/Teste_Video_resized.mp4: 480x640 36 Papayas, 15.4ms\n",
      "video 1/1 (frame 46/1231) /content/drive/MyDrive/Papaya-counter/Teste_Video_resized.mp4: 480x640 35 Papayas, 11.4ms\n",
      "video 1/1 (frame 47/1231) /content/drive/MyDrive/Papaya-counter/Teste_Video_resized.mp4: 480x640 37 Papayas, 9.2ms\n",
      "video 1/1 (frame 48/1231) /content/drive/MyDrive/Papaya-counter/Teste_Video_resized.mp4: 480x640 37 Papayas, 10.7ms\n",
      "video 1/1 (frame 49/1231) /content/drive/MyDrive/Papaya-counter/Teste_Video_resized.mp4: 480x640 36 Papayas, 9.8ms\n",
      "video 1/1 (frame 50/1231) /content/drive/MyDrive/Papaya-counter/Teste_Video_resized.mp4: 480x640 33 Papayas, 9.5ms\n",
      "video 1/1 (frame 51/1231) /content/drive/MyDrive/Papaya-counter/Teste_Video_resized.mp4: 480x640 35 Papayas, 8.4ms\n",
      "video 1/1 (frame 52/1231) /content/drive/MyDrive/Papaya-counter/Teste_Video_resized.mp4: 480x640 37 Papayas, 8.8ms\n",
      "video 1/1 (frame 53/1231) /content/drive/MyDrive/Papaya-counter/Teste_Video_resized.mp4: 480x640 36 Papayas, 8.3ms\n",
      "video 1/1 (frame 54/1231) /content/drive/MyDrive/Papaya-counter/Teste_Video_resized.mp4: 480x640 38 Papayas, 8.6ms\n",
      "video 1/1 (frame 55/1231) /content/drive/MyDrive/Papaya-counter/Teste_Video_resized.mp4: 480x640 40 Papayas, 9.3ms\n",
      "video 1/1 (frame 56/1231) /content/drive/MyDrive/Papaya-counter/Teste_Video_resized.mp4: 480x640 40 Papayas, 10.2ms\n",
      "video 1/1 (frame 57/1231) /content/drive/MyDrive/Papaya-counter/Teste_Video_resized.mp4: 480x640 38 Papayas, 13.9ms\n",
      "video 1/1 (frame 58/1231) /content/drive/MyDrive/Papaya-counter/Teste_Video_resized.mp4: 480x640 38 Papayas, 12.4ms\n",
      "video 1/1 (frame 59/1231) /content/drive/MyDrive/Papaya-counter/Teste_Video_resized.mp4: 480x640 40 Papayas, 12.5ms\n",
      "video 1/1 (frame 60/1231) /content/drive/MyDrive/Papaya-counter/Teste_Video_resized.mp4: 480x640 38 Papayas, 12.3ms\n",
      "video 1/1 (frame 61/1231) /content/drive/MyDrive/Papaya-counter/Teste_Video_resized.mp4: 480x640 43 Papayas, 8.3ms\n",
      "video 1/1 (frame 62/1231) /content/drive/MyDrive/Papaya-counter/Teste_Video_resized.mp4: 480x640 45 Papayas, 8.3ms\n",
      "video 1/1 (frame 63/1231) /content/drive/MyDrive/Papaya-counter/Teste_Video_resized.mp4: 480x640 41 Papayas, 9.3ms\n",
      "video 1/1 (frame 64/1231) /content/drive/MyDrive/Papaya-counter/Teste_Video_resized.mp4: 480x640 42 Papayas, 8.2ms\n",
      "video 1/1 (frame 65/1231) /content/drive/MyDrive/Papaya-counter/Teste_Video_resized.mp4: 480x640 37 Papayas, 9.8ms\n",
      "video 1/1 (frame 66/1231) /content/drive/MyDrive/Papaya-counter/Teste_Video_resized.mp4: 480x640 41 Papayas, 8.1ms\n",
      "video 1/1 (frame 67/1231) /content/drive/MyDrive/Papaya-counter/Teste_Video_resized.mp4: 480x640 39 Papayas, 10.2ms\n",
      "video 1/1 (frame 68/1231) /content/drive/MyDrive/Papaya-counter/Teste_Video_resized.mp4: 480x640 41 Papayas, 8.5ms\n",
      "video 1/1 (frame 69/1231) /content/drive/MyDrive/Papaya-counter/Teste_Video_resized.mp4: 480x640 43 Papayas, 8.8ms\n",
      "video 1/1 (frame 70/1231) /content/drive/MyDrive/Papaya-counter/Teste_Video_resized.mp4: 480x640 35 Papayas, 8.9ms\n",
      "video 1/1 (frame 71/1231) /content/drive/MyDrive/Papaya-counter/Teste_Video_resized.mp4: 480x640 43 Papayas, 8.8ms\n",
      "video 1/1 (frame 72/1231) /content/drive/MyDrive/Papaya-counter/Teste_Video_resized.mp4: 480x640 39 Papayas, 8.9ms\n",
      "video 1/1 (frame 73/1231) /content/drive/MyDrive/Papaya-counter/Teste_Video_resized.mp4: 480x640 41 Papayas, 9.8ms\n",
      "video 1/1 (frame 74/1231) /content/drive/MyDrive/Papaya-counter/Teste_Video_resized.mp4: 480x640 43 Papayas, 8.8ms\n",
      "video 1/1 (frame 75/1231) /content/drive/MyDrive/Papaya-counter/Teste_Video_resized.mp4: 480x640 39 Papayas, 9.0ms\n",
      "video 1/1 (frame 76/1231) /content/drive/MyDrive/Papaya-counter/Teste_Video_resized.mp4: 480x640 47 Papayas, 8.5ms\n",
      "video 1/1 (frame 77/1231) /content/drive/MyDrive/Papaya-counter/Teste_Video_resized.mp4: 480x640 41 Papayas, 10.5ms\n",
      "video 1/1 (frame 78/1231) /content/drive/MyDrive/Papaya-counter/Teste_Video_resized.mp4: 480x640 42 Papayas, 9.2ms\n",
      "video 1/1 (frame 79/1231) /content/drive/MyDrive/Papaya-counter/Teste_Video_resized.mp4: 480x640 42 Papayas, 8.4ms\n",
      "video 1/1 (frame 80/1231) /content/drive/MyDrive/Papaya-counter/Teste_Video_resized.mp4: 480x640 43 Papayas, 9.6ms\n",
      "video 1/1 (frame 81/1231) /content/drive/MyDrive/Papaya-counter/Teste_Video_resized.mp4: 480x640 39 Papayas, 8.3ms\n",
      "video 1/1 (frame 82/1231) /content/drive/MyDrive/Papaya-counter/Teste_Video_resized.mp4: 480x640 44 Papayas, 9.7ms\n",
      "video 1/1 (frame 83/1231) /content/drive/MyDrive/Papaya-counter/Teste_Video_resized.mp4: 480x640 41 Papayas, 8.2ms\n",
      "video 1/1 (frame 84/1231) /content/drive/MyDrive/Papaya-counter/Teste_Video_resized.mp4: 480x640 38 Papayas, 11.6ms\n",
      "video 1/1 (frame 85/1231) /content/drive/MyDrive/Papaya-counter/Teste_Video_resized.mp4: 480x640 38 Papayas, 8.5ms\n",
      "video 1/1 (frame 86/1231) /content/drive/MyDrive/Papaya-counter/Teste_Video_resized.mp4: 480x640 41 Papayas, 10.0ms\n",
      "video 1/1 (frame 87/1231) /content/drive/MyDrive/Papaya-counter/Teste_Video_resized.mp4: 480x640 40 Papayas, 8.6ms\n",
      "video 1/1 (frame 88/1231) /content/drive/MyDrive/Papaya-counter/Teste_Video_resized.mp4: 480x640 44 Papayas, 10.9ms\n",
      "video 1/1 (frame 89/1231) /content/drive/MyDrive/Papaya-counter/Teste_Video_resized.mp4: 480x640 43 Papayas, 9.1ms\n",
      "video 1/1 (frame 90/1231) /content/drive/MyDrive/Papaya-counter/Teste_Video_resized.mp4: 480x640 43 Papayas, 13.5ms\n",
      "video 1/1 (frame 91/1231) /content/drive/MyDrive/Papaya-counter/Teste_Video_resized.mp4: 480x640 40 Papayas, 13.3ms\n",
      "video 1/1 (frame 92/1231) /content/drive/MyDrive/Papaya-counter/Teste_Video_resized.mp4: 480x640 37 Papayas, 11.5ms\n",
      "video 1/1 (frame 93/1231) /content/drive/MyDrive/Papaya-counter/Teste_Video_resized.mp4: 480x640 40 Papayas, 13.2ms\n",
      "video 1/1 (frame 94/1231) /content/drive/MyDrive/Papaya-counter/Teste_Video_resized.mp4: 480x640 44 Papayas, 13.1ms\n",
      "video 1/1 (frame 95/1231) /content/drive/MyDrive/Papaya-counter/Teste_Video_resized.mp4: 480x640 40 Papayas, 8.3ms\n",
      "video 1/1 (frame 96/1231) /content/drive/MyDrive/Papaya-counter/Teste_Video_resized.mp4: 480x640 38 Papayas, 8.3ms\n",
      "video 1/1 (frame 97/1231) /content/drive/MyDrive/Papaya-counter/Teste_Video_resized.mp4: 480x640 37 Papayas, 8.3ms\n",
      "video 1/1 (frame 98/1231) /content/drive/MyDrive/Papaya-counter/Teste_Video_resized.mp4: 480x640 43 Papayas, 8.7ms\n",
      "video 1/1 (frame 99/1231) /content/drive/MyDrive/Papaya-counter/Teste_Video_resized.mp4: 480x640 41 Papayas, 8.7ms\n",
      "video 1/1 (frame 100/1231) /content/drive/MyDrive/Papaya-counter/Teste_Video_resized.mp4: 480x640 38 Papayas, 9.5ms\n",
      "video 1/1 (frame 101/1231) /content/drive/MyDrive/Papaya-counter/Teste_Video_resized.mp4: 480x640 42 Papayas, 9.5ms\n",
      "video 1/1 (frame 102/1231) /content/drive/MyDrive/Papaya-counter/Teste_Video_resized.mp4: 480x640 36 Papayas, 9.1ms\n",
      "video 1/1 (frame 103/1231) /content/drive/MyDrive/Papaya-counter/Teste_Video_resized.mp4: 480x640 34 Papayas, 11.0ms\n",
      "video 1/1 (frame 104/1231) /content/drive/MyDrive/Papaya-counter/Teste_Video_resized.mp4: 480x640 40 Papayas, 8.9ms\n",
      "video 1/1 (frame 105/1231) /content/drive/MyDrive/Papaya-counter/Teste_Video_resized.mp4: 480x640 36 Papayas, 9.2ms\n",
      "video 1/1 (frame 106/1231) /content/drive/MyDrive/Papaya-counter/Teste_Video_resized.mp4: 480x640 39 Papayas, 8.8ms\n",
      "video 1/1 (frame 107/1231) /content/drive/MyDrive/Papaya-counter/Teste_Video_resized.mp4: 480x640 37 Papayas, 9.0ms\n",
      "video 1/1 (frame 108/1231) /content/drive/MyDrive/Papaya-counter/Teste_Video_resized.mp4: 480x640 37 Papayas, 10.1ms\n",
      "video 1/1 (frame 109/1231) /content/drive/MyDrive/Papaya-counter/Teste_Video_resized.mp4: 480x640 38 Papayas, 9.7ms\n",
      "video 1/1 (frame 110/1231) /content/drive/MyDrive/Papaya-counter/Teste_Video_resized.mp4: 480x640 33 Papayas, 11.9ms\n",
      "video 1/1 (frame 111/1231) /content/drive/MyDrive/Papaya-counter/Teste_Video_resized.mp4: 480x640 39 Papayas, 10.1ms\n",
      "video 1/1 (frame 112/1231) /content/drive/MyDrive/Papaya-counter/Teste_Video_resized.mp4: 480x640 43 Papayas, 9.0ms\n",
      "video 1/1 (frame 113/1231) /content/drive/MyDrive/Papaya-counter/Teste_Video_resized.mp4: 480x640 39 Papayas, 11.2ms\n",
      "video 1/1 (frame 114/1231) /content/drive/MyDrive/Papaya-counter/Teste_Video_resized.mp4: 480x640 35 Papayas, 9.7ms\n",
      "video 1/1 (frame 115/1231) /content/drive/MyDrive/Papaya-counter/Teste_Video_resized.mp4: 480x640 36 Papayas, 11.2ms\n",
      "video 1/1 (frame 116/1231) /content/drive/MyDrive/Papaya-counter/Teste_Video_resized.mp4: 480x640 37 Papayas, 10.2ms\n",
      "video 1/1 (frame 117/1231) /content/drive/MyDrive/Papaya-counter/Teste_Video_resized.mp4: 480x640 36 Papayas, 9.0ms\n",
      "video 1/1 (frame 118/1231) /content/drive/MyDrive/Papaya-counter/Teste_Video_resized.mp4: 480x640 34 Papayas, 9.7ms\n",
      "video 1/1 (frame 119/1231) /content/drive/MyDrive/Papaya-counter/Teste_Video_resized.mp4: 480x640 38 Papayas, 8.8ms\n",
      "video 1/1 (frame 120/1231) /content/drive/MyDrive/Papaya-counter/Teste_Video_resized.mp4: 480x640 36 Papayas, 10.0ms\n",
      "video 1/1 (frame 121/1231) /content/drive/MyDrive/Papaya-counter/Teste_Video_resized.mp4: 480x640 38 Papayas, 8.6ms\n",
      "video 1/1 (frame 122/1231) /content/drive/MyDrive/Papaya-counter/Teste_Video_resized.mp4: 480x640 41 Papayas, 9.6ms\n",
      "video 1/1 (frame 123/1231) /content/drive/MyDrive/Papaya-counter/Teste_Video_resized.mp4: 480x640 35 Papayas, 8.8ms\n",
      "video 1/1 (frame 124/1231) /content/drive/MyDrive/Papaya-counter/Teste_Video_resized.mp4: 480x640 37 Papayas, 9.8ms\n",
      "video 1/1 (frame 125/1231) /content/drive/MyDrive/Papaya-counter/Teste_Video_resized.mp4: 480x640 36 Papayas, 13.4ms\n",
      "video 1/1 (frame 126/1231) /content/drive/MyDrive/Papaya-counter/Teste_Video_resized.mp4: 480x640 39 Papayas, 13.0ms\n",
      "video 1/1 (frame 127/1231) /content/drive/MyDrive/Papaya-counter/Teste_Video_resized.mp4: 480x640 39 Papayas, 12.6ms\n",
      "video 1/1 (frame 128/1231) /content/drive/MyDrive/Papaya-counter/Teste_Video_resized.mp4: 480x640 36 Papayas, 13.1ms\n",
      "video 1/1 (frame 129/1231) /content/drive/MyDrive/Papaya-counter/Teste_Video_resized.mp4: 480x640 38 Papayas, 12.3ms\n",
      "video 1/1 (frame 130/1231) /content/drive/MyDrive/Papaya-counter/Teste_Video_resized.mp4: 480x640 34 Papayas, 9.1ms\n",
      "video 1/1 (frame 131/1231) /content/drive/MyDrive/Papaya-counter/Teste_Video_resized.mp4: 480x640 33 Papayas, 8.8ms\n",
      "video 1/1 (frame 132/1231) /content/drive/MyDrive/Papaya-counter/Teste_Video_resized.mp4: 480x640 34 Papayas, 8.5ms\n",
      "video 1/1 (frame 133/1231) /content/drive/MyDrive/Papaya-counter/Teste_Video_resized.mp4: 480x640 40 Papayas, 9.4ms\n",
      "video 1/1 (frame 134/1231) /content/drive/MyDrive/Papaya-counter/Teste_Video_resized.mp4: 480x640 31 Papayas, 8.8ms\n",
      "video 1/1 (frame 135/1231) /content/drive/MyDrive/Papaya-counter/Teste_Video_resized.mp4: 480x640 35 Papayas, 8.7ms\n",
      "video 1/1 (frame 136/1231) /content/drive/MyDrive/Papaya-counter/Teste_Video_resized.mp4: 480x640 30 Papayas, 10.2ms\n",
      "video 1/1 (frame 137/1231) /content/drive/MyDrive/Papaya-counter/Teste_Video_resized.mp4: 480x640 34 Papayas, 12.3ms\n",
      "video 1/1 (frame 138/1231) /content/drive/MyDrive/Papaya-counter/Teste_Video_resized.mp4: 480x640 35 Papayas, 10.9ms\n",
      "video 1/1 (frame 139/1231) /content/drive/MyDrive/Papaya-counter/Teste_Video_resized.mp4: 480x640 34 Papayas, 9.5ms\n",
      "video 1/1 (frame 140/1231) /content/drive/MyDrive/Papaya-counter/Teste_Video_resized.mp4: 480x640 32 Papayas, 9.4ms\n",
      "video 1/1 (frame 141/1231) /content/drive/MyDrive/Papaya-counter/Teste_Video_resized.mp4: 480x640 37 Papayas, 9.8ms\n",
      "video 1/1 (frame 142/1231) /content/drive/MyDrive/Papaya-counter/Teste_Video_resized.mp4: 480x640 35 Papayas, 9.0ms\n",
      "video 1/1 (frame 143/1231) /content/drive/MyDrive/Papaya-counter/Teste_Video_resized.mp4: 480x640 33 Papayas, 9.0ms\n",
      "video 1/1 (frame 144/1231) /content/drive/MyDrive/Papaya-counter/Teste_Video_resized.mp4: 480x640 38 Papayas, 10.4ms\n",
      "video 1/1 (frame 145/1231) /content/drive/MyDrive/Papaya-counter/Teste_Video_resized.mp4: 480x640 34 Papayas, 9.3ms\n",
      "video 1/1 (frame 146/1231) /content/drive/MyDrive/Papaya-counter/Teste_Video_resized.mp4: 480x640 37 Papayas, 10.7ms\n",
      "video 1/1 (frame 147/1231) /content/drive/MyDrive/Papaya-counter/Teste_Video_resized.mp4: 480x640 35 Papayas, 9.9ms\n",
      "video 1/1 (frame 148/1231) /content/drive/MyDrive/Papaya-counter/Teste_Video_resized.mp4: 480x640 40 Papayas, 10.7ms\n",
      "video 1/1 (frame 149/1231) /content/drive/MyDrive/Papaya-counter/Teste_Video_resized.mp4: 480x640 34 Papayas, 9.8ms\n",
      "video 1/1 (frame 150/1231) /content/drive/MyDrive/Papaya-counter/Teste_Video_resized.mp4: 480x640 32 Papayas, 10.5ms\n",
      "video 1/1 (frame 151/1231) /content/drive/MyDrive/Papaya-counter/Teste_Video_resized.mp4: 480x640 34 Papayas, 9.6ms\n",
      "video 1/1 (frame 152/1231) /content/drive/MyDrive/Papaya-counter/Teste_Video_resized.mp4: 480x640 36 Papayas, 10.6ms\n",
      "video 1/1 (frame 153/1231) /content/drive/MyDrive/Papaya-counter/Teste_Video_resized.mp4: 480x640 33 Papayas, 9.9ms\n",
      "video 1/1 (frame 154/1231) /content/drive/MyDrive/Papaya-counter/Teste_Video_resized.mp4: 480x640 36 Papayas, 11.1ms\n",
      "video 1/1 (frame 155/1231) /content/drive/MyDrive/Papaya-counter/Teste_Video_resized.mp4: 480x640 33 Papayas, 10.3ms\n",
      "video 1/1 (frame 156/1231) /content/drive/MyDrive/Papaya-counter/Teste_Video_resized.mp4: 480x640 35 Papayas, 9.0ms\n",
      "video 1/1 (frame 157/1231) /content/drive/MyDrive/Papaya-counter/Teste_Video_resized.mp4: 480x640 36 Papayas, 9.6ms\n",
      "video 1/1 (frame 158/1231) /content/drive/MyDrive/Papaya-counter/Teste_Video_resized.mp4: 480x640 34 Papayas, 14.6ms\n",
      "video 1/1 (frame 159/1231) /content/drive/MyDrive/Papaya-counter/Teste_Video_resized.mp4: 480x640 37 Papayas, 12.9ms\n",
      "video 1/1 (frame 160/1231) /content/drive/MyDrive/Papaya-counter/Teste_Video_resized.mp4: 480x640 35 Papayas, 9.5ms\n",
      "video 1/1 (frame 161/1231) /content/drive/MyDrive/Papaya-counter/Teste_Video_resized.mp4: 480x640 36 Papayas, 9.1ms\n",
      "video 1/1 (frame 162/1231) /content/drive/MyDrive/Papaya-counter/Teste_Video_resized.mp4: 480x640 35 Papayas, 9.9ms\n",
      "video 1/1 (frame 163/1231) /content/drive/MyDrive/Papaya-counter/Teste_Video_resized.mp4: 480x640 39 Papayas, 11.6ms\n",
      "video 1/1 (frame 164/1231) /content/drive/MyDrive/Papaya-counter/Teste_Video_resized.mp4: 480x640 29 Papayas, 8.5ms\n",
      "video 1/1 (frame 165/1231) /content/drive/MyDrive/Papaya-counter/Teste_Video_resized.mp4: 480x640 32 Papayas, 8.3ms\n",
      "video 1/1 (frame 166/1231) /content/drive/MyDrive/Papaya-counter/Teste_Video_resized.mp4: 480x640 31 Papayas, 9.9ms\n",
      "video 1/1 (frame 167/1231) /content/drive/MyDrive/Papaya-counter/Teste_Video_resized.mp4: 480x640 35 Papayas, 10.0ms\n",
      "video 1/1 (frame 168/1231) /content/drive/MyDrive/Papaya-counter/Teste_Video_resized.mp4: 480x640 34 Papayas, 11.7ms\n",
      "video 1/1 (frame 169/1231) /content/drive/MyDrive/Papaya-counter/Teste_Video_resized.mp4: 480x640 33 Papayas, 11.3ms\n",
      "video 1/1 (frame 170/1231) /content/drive/MyDrive/Papaya-counter/Teste_Video_resized.mp4: 480x640 31 Papayas, 12.1ms\n",
      "video 1/1 (frame 171/1231) /content/drive/MyDrive/Papaya-counter/Teste_Video_resized.mp4: 480x640 32 Papayas, 14.4ms\n",
      "video 1/1 (frame 172/1231) /content/drive/MyDrive/Papaya-counter/Teste_Video_resized.mp4: 480x640 31 Papayas, 9.6ms\n",
      "video 1/1 (frame 173/1231) /content/drive/MyDrive/Papaya-counter/Teste_Video_resized.mp4: 480x640 33 Papayas, 10.1ms\n",
      "video 1/1 (frame 174/1231) /content/drive/MyDrive/Papaya-counter/Teste_Video_resized.mp4: 480x640 30 Papayas, 10.0ms\n",
      "video 1/1 (frame 175/1231) /content/drive/MyDrive/Papaya-counter/Teste_Video_resized.mp4: 480x640 31 Papayas, 9.6ms\n",
      "video 1/1 (frame 176/1231) /content/drive/MyDrive/Papaya-counter/Teste_Video_resized.mp4: 480x640 32 Papayas, 10.1ms\n",
      "video 1/1 (frame 177/1231) /content/drive/MyDrive/Papaya-counter/Teste_Video_resized.mp4: 480x640 31 Papayas, 11.1ms\n",
      "video 1/1 (frame 178/1231) /content/drive/MyDrive/Papaya-counter/Teste_Video_resized.mp4: 480x640 29 Papayas, 12.2ms\n",
      "video 1/1 (frame 179/1231) /content/drive/MyDrive/Papaya-counter/Teste_Video_resized.mp4: 480x640 28 Papayas, 10.7ms\n",
      "video 1/1 (frame 180/1231) /content/drive/MyDrive/Papaya-counter/Teste_Video_resized.mp4: 480x640 29 Papayas, 10.9ms\n",
      "video 1/1 (frame 181/1231) /content/drive/MyDrive/Papaya-counter/Teste_Video_resized.mp4: 480x640 33 Papayas, 10.5ms\n",
      "video 1/1 (frame 182/1231) /content/drive/MyDrive/Papaya-counter/Teste_Video_resized.mp4: 480x640 30 Papayas, 10.2ms\n",
      "video 1/1 (frame 183/1231) /content/drive/MyDrive/Papaya-counter/Teste_Video_resized.mp4: 480x640 31 Papayas, 15.5ms\n",
      "video 1/1 (frame 184/1231) /content/drive/MyDrive/Papaya-counter/Teste_Video_resized.mp4: 480x640 30 Papayas, 9.6ms\n",
      "video 1/1 (frame 185/1231) /content/drive/MyDrive/Papaya-counter/Teste_Video_resized.mp4: 480x640 33 Papayas, 10.7ms\n",
      "video 1/1 (frame 186/1231) /content/drive/MyDrive/Papaya-counter/Teste_Video_resized.mp4: 480x640 36 Papayas, 10.2ms\n",
      "video 1/1 (frame 187/1231) /content/drive/MyDrive/Papaya-counter/Teste_Video_resized.mp4: 480x640 33 Papayas, 11.3ms\n",
      "video 1/1 (frame 188/1231) /content/drive/MyDrive/Papaya-counter/Teste_Video_resized.mp4: 480x640 32 Papayas, 13.6ms\n",
      "video 1/1 (frame 189/1231) /content/drive/MyDrive/Papaya-counter/Teste_Video_resized.mp4: 480x640 31 Papayas, 8.8ms\n",
      "video 1/1 (frame 190/1231) /content/drive/MyDrive/Papaya-counter/Teste_Video_resized.mp4: 480x640 32 Papayas, 9.2ms\n",
      "video 1/1 (frame 191/1231) /content/drive/MyDrive/Papaya-counter/Teste_Video_resized.mp4: 480x640 36 Papayas, 10.5ms\n",
      "video 1/1 (frame 192/1231) /content/drive/MyDrive/Papaya-counter/Teste_Video_resized.mp4: 480x640 33 Papayas, 13.2ms\n",
      "video 1/1 (frame 193/1231) /content/drive/MyDrive/Papaya-counter/Teste_Video_resized.mp4: 480x640 36 Papayas, 14.2ms\n",
      "video 1/1 (frame 194/1231) /content/drive/MyDrive/Papaya-counter/Teste_Video_resized.mp4: 480x640 34 Papayas, 12.2ms\n",
      "video 1/1 (frame 195/1231) /content/drive/MyDrive/Papaya-counter/Teste_Video_resized.mp4: 480x640 35 Papayas, 13.2ms\n",
      "video 1/1 (frame 196/1231) /content/drive/MyDrive/Papaya-counter/Teste_Video_resized.mp4: 480x640 31 Papayas, 12.6ms\n",
      "video 1/1 (frame 197/1231) /content/drive/MyDrive/Papaya-counter/Teste_Video_resized.mp4: 480x640 30 Papayas, 12.9ms\n",
      "video 1/1 (frame 198/1231) /content/drive/MyDrive/Papaya-counter/Teste_Video_resized.mp4: 480x640 33 Papayas, 12.6ms\n",
      "video 1/1 (frame 199/1231) /content/drive/MyDrive/Papaya-counter/Teste_Video_resized.mp4: 480x640 30 Papayas, 15.1ms\n",
      "video 1/1 (frame 200/1231) /content/drive/MyDrive/Papaya-counter/Teste_Video_resized.mp4: 480x640 33 Papayas, 12.8ms\n",
      "video 1/1 (frame 201/1231) /content/drive/MyDrive/Papaya-counter/Teste_Video_resized.mp4: 480x640 31 Papayas, 12.6ms\n",
      "video 1/1 (frame 202/1231) /content/drive/MyDrive/Papaya-counter/Teste_Video_resized.mp4: 480x640 35 Papayas, 8.4ms\n",
      "video 1/1 (frame 203/1231) /content/drive/MyDrive/Papaya-counter/Teste_Video_resized.mp4: 480x640 35 Papayas, 9.1ms\n",
      "video 1/1 (frame 204/1231) /content/drive/MyDrive/Papaya-counter/Teste_Video_resized.mp4: 480x640 36 Papayas, 8.4ms\n",
      "video 1/1 (frame 205/1231) /content/drive/MyDrive/Papaya-counter/Teste_Video_resized.mp4: 480x640 33 Papayas, 8.7ms\n",
      "video 1/1 (frame 206/1231) /content/drive/MyDrive/Papaya-counter/Teste_Video_resized.mp4: 480x640 36 Papayas, 9.1ms\n",
      "video 1/1 (frame 207/1231) /content/drive/MyDrive/Papaya-counter/Teste_Video_resized.mp4: 480x640 33 Papayas, 8.9ms\n",
      "video 1/1 (frame 208/1231) /content/drive/MyDrive/Papaya-counter/Teste_Video_resized.mp4: 480x640 40 Papayas, 8.6ms\n",
      "video 1/1 (frame 209/1231) /content/drive/MyDrive/Papaya-counter/Teste_Video_resized.mp4: 480x640 33 Papayas, 12.8ms\n",
      "video 1/1 (frame 210/1231) /content/drive/MyDrive/Papaya-counter/Teste_Video_resized.mp4: 480x640 38 Papayas, 8.9ms\n",
      "video 1/1 (frame 211/1231) /content/drive/MyDrive/Papaya-counter/Teste_Video_resized.mp4: 480x640 40 Papayas, 9.6ms\n",
      "video 1/1 (frame 212/1231) /content/drive/MyDrive/Papaya-counter/Teste_Video_resized.mp4: 480x640 40 Papayas, 9.6ms\n",
      "video 1/1 (frame 213/1231) /content/drive/MyDrive/Papaya-counter/Teste_Video_resized.mp4: 480x640 40 Papayas, 9.2ms\n",
      "video 1/1 (frame 214/1231) /content/drive/MyDrive/Papaya-counter/Teste_Video_resized.mp4: 480x640 38 Papayas, 10.5ms\n",
      "video 1/1 (frame 215/1231) /content/drive/MyDrive/Papaya-counter/Teste_Video_resized.mp4: 480x640 37 Papayas, 9.0ms\n",
      "video 1/1 (frame 216/1231) /content/drive/MyDrive/Papaya-counter/Teste_Video_resized.mp4: 480x640 38 Papayas, 10.9ms\n",
      "video 1/1 (frame 217/1231) /content/drive/MyDrive/Papaya-counter/Teste_Video_resized.mp4: 480x640 41 Papayas, 17.5ms\n",
      "video 1/1 (frame 218/1231) /content/drive/MyDrive/Papaya-counter/Teste_Video_resized.mp4: 480x640 36 Papayas, 11.8ms\n",
      "video 1/1 (frame 219/1231) /content/drive/MyDrive/Papaya-counter/Teste_Video_resized.mp4: 480x640 40 Papayas, 11.3ms\n",
      "video 1/1 (frame 220/1231) /content/drive/MyDrive/Papaya-counter/Teste_Video_resized.mp4: 480x640 43 Papayas, 8.5ms\n",
      "video 1/1 (frame 221/1231) /content/drive/MyDrive/Papaya-counter/Teste_Video_resized.mp4: 480x640 38 Papayas, 8.5ms\n",
      "video 1/1 (frame 222/1231) /content/drive/MyDrive/Papaya-counter/Teste_Video_resized.mp4: 480x640 36 Papayas, 8.6ms\n",
      "video 1/1 (frame 223/1231) /content/drive/MyDrive/Papaya-counter/Teste_Video_resized.mp4: 480x640 45 Papayas, 11.6ms\n",
      "video 1/1 (frame 224/1231) /content/drive/MyDrive/Papaya-counter/Teste_Video_resized.mp4: 480x640 39 Papayas, 8.6ms\n",
      "video 1/1 (frame 225/1231) /content/drive/MyDrive/Papaya-counter/Teste_Video_resized.mp4: 480x640 35 Papayas, 8.9ms\n",
      "video 1/1 (frame 226/1231) /content/drive/MyDrive/Papaya-counter/Teste_Video_resized.mp4: 480x640 38 Papayas, 13.9ms\n",
      "video 1/1 (frame 227/1231) /content/drive/MyDrive/Papaya-counter/Teste_Video_resized.mp4: 480x640 37 Papayas, 13.1ms\n",
      "video 1/1 (frame 228/1231) /content/drive/MyDrive/Papaya-counter/Teste_Video_resized.mp4: 480x640 37 Papayas, 11.6ms\n",
      "video 1/1 (frame 229/1231) /content/drive/MyDrive/Papaya-counter/Teste_Video_resized.mp4: 480x640 40 Papayas, 12.1ms\n",
      "video 1/1 (frame 230/1231) /content/drive/MyDrive/Papaya-counter/Teste_Video_resized.mp4: 480x640 39 Papayas, 10.9ms\n",
      "video 1/1 (frame 231/1231) /content/drive/MyDrive/Papaya-counter/Teste_Video_resized.mp4: 480x640 38 Papayas, 8.4ms\n",
      "video 1/1 (frame 232/1231) /content/drive/MyDrive/Papaya-counter/Teste_Video_resized.mp4: 480x640 36 Papayas, 9.2ms\n",
      "video 1/1 (frame 233/1231) /content/drive/MyDrive/Papaya-counter/Teste_Video_resized.mp4: 480x640 37 Papayas, 8.6ms\n",
      "video 1/1 (frame 234/1231) /content/drive/MyDrive/Papaya-counter/Teste_Video_resized.mp4: 480x640 37 Papayas, 8.7ms\n",
      "video 1/1 (frame 235/1231) /content/drive/MyDrive/Papaya-counter/Teste_Video_resized.mp4: 480x640 40 Papayas, 10.0ms\n",
      "video 1/1 (frame 236/1231) /content/drive/MyDrive/Papaya-counter/Teste_Video_resized.mp4: 480x640 41 Papayas, 9.0ms\n",
      "video 1/1 (frame 237/1231) /content/drive/MyDrive/Papaya-counter/Teste_Video_resized.mp4: 480x640 39 Papayas, 9.7ms\n",
      "video 1/1 (frame 238/1231) /content/drive/MyDrive/Papaya-counter/Teste_Video_resized.mp4: 480x640 46 Papayas, 10.4ms\n",
      "video 1/1 (frame 239/1231) /content/drive/MyDrive/Papaya-counter/Teste_Video_resized.mp4: 480x640 46 Papayas, 9.8ms\n",
      "video 1/1 (frame 240/1231) /content/drive/MyDrive/Papaya-counter/Teste_Video_resized.mp4: 480x640 41 Papayas, 9.9ms\n",
      "video 1/1 (frame 241/1231) /content/drive/MyDrive/Papaya-counter/Teste_Video_resized.mp4: 480x640 36 Papayas, 8.9ms\n",
      "video 1/1 (frame 242/1231) /content/drive/MyDrive/Papaya-counter/Teste_Video_resized.mp4: 480x640 43 Papayas, 10.8ms\n",
      "video 1/1 (frame 243/1231) /content/drive/MyDrive/Papaya-counter/Teste_Video_resized.mp4: 480x640 38 Papayas, 8.7ms\n",
      "video 1/1 (frame 244/1231) /content/drive/MyDrive/Papaya-counter/Teste_Video_resized.mp4: 480x640 41 Papayas, 8.9ms\n",
      "video 1/1 (frame 245/1231) /content/drive/MyDrive/Papaya-counter/Teste_Video_resized.mp4: 480x640 38 Papayas, 9.4ms\n",
      "video 1/1 (frame 246/1231) /content/drive/MyDrive/Papaya-counter/Teste_Video_resized.mp4: 480x640 36 Papayas, 9.7ms\n",
      "video 1/1 (frame 247/1231) /content/drive/MyDrive/Papaya-counter/Teste_Video_resized.mp4: 480x640 39 Papayas, 9.1ms\n",
      "video 1/1 (frame 248/1231) /content/drive/MyDrive/Papaya-counter/Teste_Video_resized.mp4: 480x640 39 Papayas, 9.3ms\n",
      "video 1/1 (frame 249/1231) /content/drive/MyDrive/Papaya-counter/Teste_Video_resized.mp4: 480x640 43 Papayas, 10.7ms\n",
      "video 1/1 (frame 250/1231) /content/drive/MyDrive/Papaya-counter/Teste_Video_resized.mp4: 480x640 41 Papayas, 10.5ms\n",
      "video 1/1 (frame 251/1231) /content/drive/MyDrive/Papaya-counter/Teste_Video_resized.mp4: 480x640 37 Papayas, 11.2ms\n",
      "video 1/1 (frame 252/1231) /content/drive/MyDrive/Papaya-counter/Teste_Video_resized.mp4: 480x640 40 Papayas, 17.3ms\n",
      "video 1/1 (frame 253/1231) /content/drive/MyDrive/Papaya-counter/Teste_Video_resized.mp4: 480x640 35 Papayas, 9.5ms\n",
      "video 1/1 (frame 254/1231) /content/drive/MyDrive/Papaya-counter/Teste_Video_resized.mp4: 480x640 36 Papayas, 14.1ms\n",
      "video 1/1 (frame 255/1231) /content/drive/MyDrive/Papaya-counter/Teste_Video_resized.mp4: 480x640 42 Papayas, 8.5ms\n",
      "video 1/1 (frame 256/1231) /content/drive/MyDrive/Papaya-counter/Teste_Video_resized.mp4: 480x640 41 Papayas, 11.0ms\n",
      "video 1/1 (frame 257/1231) /content/drive/MyDrive/Papaya-counter/Teste_Video_resized.mp4: 480x640 43 Papayas, 8.7ms\n",
      "video 1/1 (frame 258/1231) /content/drive/MyDrive/Papaya-counter/Teste_Video_resized.mp4: 480x640 37 Papayas, 8.8ms\n",
      "video 1/1 (frame 259/1231) /content/drive/MyDrive/Papaya-counter/Teste_Video_resized.mp4: 480x640 36 Papayas, 11.0ms\n",
      "video 1/1 (frame 260/1231) /content/drive/MyDrive/Papaya-counter/Teste_Video_resized.mp4: 480x640 33 Papayas, 13.2ms\n",
      "video 1/1 (frame 261/1231) /content/drive/MyDrive/Papaya-counter/Teste_Video_resized.mp4: 480x640 38 Papayas, 12.9ms\n",
      "video 1/1 (frame 262/1231) /content/drive/MyDrive/Papaya-counter/Teste_Video_resized.mp4: 480x640 36 Papayas, 12.1ms\n",
      "video 1/1 (frame 263/1231) /content/drive/MyDrive/Papaya-counter/Teste_Video_resized.mp4: 480x640 37 Papayas, 14.9ms\n",
      "video 1/1 (frame 264/1231) /content/drive/MyDrive/Papaya-counter/Teste_Video_resized.mp4: 480x640 33 Papayas, 10.1ms\n",
      "video 1/1 (frame 265/1231) /content/drive/MyDrive/Papaya-counter/Teste_Video_resized.mp4: 480x640 40 Papayas, 8.3ms\n",
      "video 1/1 (frame 266/1231) /content/drive/MyDrive/Papaya-counter/Teste_Video_resized.mp4: 480x640 39 Papayas, 8.7ms\n",
      "video 1/1 (frame 267/1231) /content/drive/MyDrive/Papaya-counter/Teste_Video_resized.mp4: 480x640 33 Papayas, 8.9ms\n",
      "video 1/1 (frame 268/1231) /content/drive/MyDrive/Papaya-counter/Teste_Video_resized.mp4: 480x640 39 Papayas, 8.5ms\n",
      "video 1/1 (frame 269/1231) /content/drive/MyDrive/Papaya-counter/Teste_Video_resized.mp4: 480x640 34 Papayas, 8.4ms\n",
      "video 1/1 (frame 270/1231) /content/drive/MyDrive/Papaya-counter/Teste_Video_resized.mp4: 480x640 32 Papayas, 11.4ms\n",
      "video 1/1 (frame 271/1231) /content/drive/MyDrive/Papaya-counter/Teste_Video_resized.mp4: 480x640 36 Papayas, 9.4ms\n",
      "video 1/1 (frame 272/1231) /content/drive/MyDrive/Papaya-counter/Teste_Video_resized.mp4: 480x640 34 Papayas, 9.7ms\n",
      "video 1/1 (frame 273/1231) /content/drive/MyDrive/Papaya-counter/Teste_Video_resized.mp4: 480x640 34 Papayas, 10.0ms\n",
      "video 1/1 (frame 274/1231) /content/drive/MyDrive/Papaya-counter/Teste_Video_resized.mp4: 480x640 40 Papayas, 9.0ms\n",
      "video 1/1 (frame 275/1231) /content/drive/MyDrive/Papaya-counter/Teste_Video_resized.mp4: 480x640 37 Papayas, 10.1ms\n",
      "video 1/1 (frame 276/1231) /content/drive/MyDrive/Papaya-counter/Teste_Video_resized.mp4: 480x640 37 Papayas, 10.5ms\n",
      "video 1/1 (frame 277/1231) /content/drive/MyDrive/Papaya-counter/Teste_Video_resized.mp4: 480x640 36 Papayas, 9.2ms\n",
      "video 1/1 (frame 278/1231) /content/drive/MyDrive/Papaya-counter/Teste_Video_resized.mp4: 480x640 38 Papayas, 8.9ms\n",
      "video 1/1 (frame 279/1231) /content/drive/MyDrive/Papaya-counter/Teste_Video_resized.mp4: 480x640 37 Papayas, 10.2ms\n",
      "video 1/1 (frame 280/1231) /content/drive/MyDrive/Papaya-counter/Teste_Video_resized.mp4: 480x640 35 Papayas, 9.0ms\n",
      "video 1/1 (frame 281/1231) /content/drive/MyDrive/Papaya-counter/Teste_Video_resized.mp4: 480x640 34 Papayas, 10.1ms\n",
      "video 1/1 (frame 282/1231) /content/drive/MyDrive/Papaya-counter/Teste_Video_resized.mp4: 480x640 33 Papayas, 8.4ms\n",
      "video 1/1 (frame 283/1231) /content/drive/MyDrive/Papaya-counter/Teste_Video_resized.mp4: 480x640 32 Papayas, 13.4ms\n",
      "video 1/1 (frame 284/1231) /content/drive/MyDrive/Papaya-counter/Teste_Video_resized.mp4: 480x640 35 Papayas, 8.4ms\n",
      "video 1/1 (frame 285/1231) /content/drive/MyDrive/Papaya-counter/Teste_Video_resized.mp4: 480x640 38 Papayas, 9.1ms\n",
      "video 1/1 (frame 286/1231) /content/drive/MyDrive/Papaya-counter/Teste_Video_resized.mp4: 480x640 37 Papayas, 9.9ms\n",
      "video 1/1 (frame 287/1231) /content/drive/MyDrive/Papaya-counter/Teste_Video_resized.mp4: 480x640 36 Papayas, 18.4ms\n",
      "video 1/1 (frame 288/1231) /content/drive/MyDrive/Papaya-counter/Teste_Video_resized.mp4: 480x640 34 Papayas, 10.3ms\n",
      "video 1/1 (frame 289/1231) /content/drive/MyDrive/Papaya-counter/Teste_Video_resized.mp4: 480x640 34 Papayas, 9.4ms\n",
      "video 1/1 (frame 290/1231) /content/drive/MyDrive/Papaya-counter/Teste_Video_resized.mp4: 480x640 31 Papayas, 9.2ms\n",
      "video 1/1 (frame 291/1231) /content/drive/MyDrive/Papaya-counter/Teste_Video_resized.mp4: 480x640 39 Papayas, 10.3ms\n",
      "video 1/1 (frame 292/1231) /content/drive/MyDrive/Papaya-counter/Teste_Video_resized.mp4: 480x640 36 Papayas, 9.4ms\n",
      "video 1/1 (frame 293/1231) /content/drive/MyDrive/Papaya-counter/Teste_Video_resized.mp4: 480x640 34 Papayas, 10.9ms\n",
      "video 1/1 (frame 294/1231) /content/drive/MyDrive/Papaya-counter/Teste_Video_resized.mp4: 480x640 31 Papayas, 13.6ms\n",
      "video 1/1 (frame 295/1231) /content/drive/MyDrive/Papaya-counter/Teste_Video_resized.mp4: 480x640 34 Papayas, 13.7ms\n",
      "video 1/1 (frame 296/1231) /content/drive/MyDrive/Papaya-counter/Teste_Video_resized.mp4: 480x640 29 Papayas, 11.6ms\n",
      "video 1/1 (frame 297/1231) /content/drive/MyDrive/Papaya-counter/Teste_Video_resized.mp4: 480x640 31 Papayas, 16.1ms\n",
      "video 1/1 (frame 298/1231) /content/drive/MyDrive/Papaya-counter/Teste_Video_resized.mp4: 480x640 38 Papayas, 17.3ms\n",
      "video 1/1 (frame 299/1231) /content/drive/MyDrive/Papaya-counter/Teste_Video_resized.mp4: 480x640 30 Papayas, 22.2ms\n",
      "video 1/1 (frame 300/1231) /content/drive/MyDrive/Papaya-counter/Teste_Video_resized.mp4: 480x640 34 Papayas, 14.7ms\n",
      "video 1/1 (frame 301/1231) /content/drive/MyDrive/Papaya-counter/Teste_Video_resized.mp4: 480x640 39 Papayas, 13.0ms\n",
      "video 1/1 (frame 302/1231) /content/drive/MyDrive/Papaya-counter/Teste_Video_resized.mp4: 480x640 35 Papayas, 16.1ms\n",
      "video 1/1 (frame 303/1231) /content/drive/MyDrive/Papaya-counter/Teste_Video_resized.mp4: 480x640 39 Papayas, 12.1ms\n",
      "video 1/1 (frame 304/1231) /content/drive/MyDrive/Papaya-counter/Teste_Video_resized.mp4: 480x640 34 Papayas, 18.7ms\n",
      "video 1/1 (frame 305/1231) /content/drive/MyDrive/Papaya-counter/Teste_Video_resized.mp4: 480x640 31 Papayas, 12.7ms\n",
      "video 1/1 (frame 306/1231) /content/drive/MyDrive/Papaya-counter/Teste_Video_resized.mp4: 480x640 33 Papayas, 15.4ms\n",
      "video 1/1 (frame 307/1231) /content/drive/MyDrive/Papaya-counter/Teste_Video_resized.mp4: 480x640 39 Papayas, 13.1ms\n",
      "video 1/1 (frame 308/1231) /content/drive/MyDrive/Papaya-counter/Teste_Video_resized.mp4: 480x640 30 Papayas, 18.0ms\n",
      "video 1/1 (frame 309/1231) /content/drive/MyDrive/Papaya-counter/Teste_Video_resized.mp4: 480x640 33 Papayas, 12.8ms\n",
      "video 1/1 (frame 310/1231) /content/drive/MyDrive/Papaya-counter/Teste_Video_resized.mp4: 480x640 35 Papayas, 13.0ms\n",
      "video 1/1 (frame 311/1231) /content/drive/MyDrive/Papaya-counter/Teste_Video_resized.mp4: 480x640 36 Papayas, 18.0ms\n",
      "video 1/1 (frame 312/1231) /content/drive/MyDrive/Papaya-counter/Teste_Video_resized.mp4: 480x640 36 Papayas, 18.0ms\n",
      "video 1/1 (frame 313/1231) /content/drive/MyDrive/Papaya-counter/Teste_Video_resized.mp4: 480x640 33 Papayas, 15.6ms\n",
      "video 1/1 (frame 314/1231) /content/drive/MyDrive/Papaya-counter/Teste_Video_resized.mp4: 480x640 32 Papayas, 16.7ms\n",
      "video 1/1 (frame 315/1231) /content/drive/MyDrive/Papaya-counter/Teste_Video_resized.mp4: 480x640 33 Papayas, 13.6ms\n",
      "video 1/1 (frame 316/1231) /content/drive/MyDrive/Papaya-counter/Teste_Video_resized.mp4: 480x640 32 Papayas, 11.6ms\n",
      "video 1/1 (frame 317/1231) /content/drive/MyDrive/Papaya-counter/Teste_Video_resized.mp4: 480x640 33 Papayas, 11.7ms\n",
      "video 1/1 (frame 318/1231) /content/drive/MyDrive/Papaya-counter/Teste_Video_resized.mp4: 480x640 32 Papayas, 11.9ms\n",
      "video 1/1 (frame 319/1231) /content/drive/MyDrive/Papaya-counter/Teste_Video_resized.mp4: 480x640 35 Papayas, 15.4ms\n",
      "video 1/1 (frame 320/1231) /content/drive/MyDrive/Papaya-counter/Teste_Video_resized.mp4: 480x640 34 Papayas, 11.5ms\n",
      "video 1/1 (frame 321/1231) /content/drive/MyDrive/Papaya-counter/Teste_Video_resized.mp4: 480x640 32 Papayas, 16.6ms\n",
      "video 1/1 (frame 322/1231) /content/drive/MyDrive/Papaya-counter/Teste_Video_resized.mp4: 480x640 35 Papayas, 15.6ms\n",
      "video 1/1 (frame 323/1231) /content/drive/MyDrive/Papaya-counter/Teste_Video_resized.mp4: 480x640 32 Papayas, 12.1ms\n",
      "video 1/1 (frame 324/1231) /content/drive/MyDrive/Papaya-counter/Teste_Video_resized.mp4: 480x640 32 Papayas, 15.1ms\n",
      "video 1/1 (frame 325/1231) /content/drive/MyDrive/Papaya-counter/Teste_Video_resized.mp4: 480x640 31 Papayas, 16.6ms\n",
      "video 1/1 (frame 326/1231) /content/drive/MyDrive/Papaya-counter/Teste_Video_resized.mp4: 480x640 33 Papayas, 15.8ms\n",
      "video 1/1 (frame 327/1231) /content/drive/MyDrive/Papaya-counter/Teste_Video_resized.mp4: 480x640 30 Papayas, 16.2ms\n",
      "video 1/1 (frame 328/1231) /content/drive/MyDrive/Papaya-counter/Teste_Video_resized.mp4: 480x640 29 Papayas, 14.0ms\n",
      "video 1/1 (frame 329/1231) /content/drive/MyDrive/Papaya-counter/Teste_Video_resized.mp4: 480x640 29 Papayas, 14.4ms\n",
      "video 1/1 (frame 330/1231) /content/drive/MyDrive/Papaya-counter/Teste_Video_resized.mp4: 480x640 29 Papayas, 14.9ms\n",
      "video 1/1 (frame 331/1231) /content/drive/MyDrive/Papaya-counter/Teste_Video_resized.mp4: 480x640 29 Papayas, 15.1ms\n",
      "video 1/1 (frame 332/1231) /content/drive/MyDrive/Papaya-counter/Teste_Video_resized.mp4: 480x640 31 Papayas, 18.2ms\n",
      "video 1/1 (frame 333/1231) /content/drive/MyDrive/Papaya-counter/Teste_Video_resized.mp4: 480x640 30 Papayas, 17.3ms\n",
      "video 1/1 (frame 334/1231) /content/drive/MyDrive/Papaya-counter/Teste_Video_resized.mp4: 480x640 29 Papayas, 15.3ms\n",
      "video 1/1 (frame 335/1231) /content/drive/MyDrive/Papaya-counter/Teste_Video_resized.mp4: 480x640 27 Papayas, 14.7ms\n",
      "video 1/1 (frame 336/1231) /content/drive/MyDrive/Papaya-counter/Teste_Video_resized.mp4: 480x640 32 Papayas, 15.4ms\n",
      "video 1/1 (frame 337/1231) /content/drive/MyDrive/Papaya-counter/Teste_Video_resized.mp4: 480x640 29 Papayas, 19.0ms\n",
      "video 1/1 (frame 338/1231) /content/drive/MyDrive/Papaya-counter/Teste_Video_resized.mp4: 480x640 35 Papayas, 18.6ms\n",
      "video 1/1 (frame 339/1231) /content/drive/MyDrive/Papaya-counter/Teste_Video_resized.mp4: 480x640 32 Papayas, 11.5ms\n",
      "video 1/1 (frame 340/1231) /content/drive/MyDrive/Papaya-counter/Teste_Video_resized.mp4: 480x640 34 Papayas, 9.5ms\n",
      "video 1/1 (frame 341/1231) /content/drive/MyDrive/Papaya-counter/Teste_Video_resized.mp4: 480x640 31 Papayas, 8.7ms\n",
      "video 1/1 (frame 342/1231) /content/drive/MyDrive/Papaya-counter/Teste_Video_resized.mp4: 480x640 37 Papayas, 9.1ms\n",
      "video 1/1 (frame 343/1231) /content/drive/MyDrive/Papaya-counter/Teste_Video_resized.mp4: 480x640 31 Papayas, 8.6ms\n",
      "video 1/1 (frame 344/1231) /content/drive/MyDrive/Papaya-counter/Teste_Video_resized.mp4: 480x640 35 Papayas, 9.0ms\n",
      "video 1/1 (frame 345/1231) /content/drive/MyDrive/Papaya-counter/Teste_Video_resized.mp4: 480x640 31 Papayas, 8.3ms\n",
      "video 1/1 (frame 346/1231) /content/drive/MyDrive/Papaya-counter/Teste_Video_resized.mp4: 480x640 30 Papayas, 9.9ms\n",
      "video 1/1 (frame 347/1231) /content/drive/MyDrive/Papaya-counter/Teste_Video_resized.mp4: 480x640 31 Papayas, 10.5ms\n",
      "video 1/1 (frame 348/1231) /content/drive/MyDrive/Papaya-counter/Teste_Video_resized.mp4: 480x640 33 Papayas, 9.1ms\n",
      "video 1/1 (frame 349/1231) /content/drive/MyDrive/Papaya-counter/Teste_Video_resized.mp4: 480x640 31 Papayas, 10.3ms\n",
      "video 1/1 (frame 350/1231) /content/drive/MyDrive/Papaya-counter/Teste_Video_resized.mp4: 480x640 30 Papayas, 8.6ms\n",
      "video 1/1 (frame 351/1231) /content/drive/MyDrive/Papaya-counter/Teste_Video_resized.mp4: 480x640 28 Papayas, 11.5ms\n",
      "video 1/1 (frame 352/1231) /content/drive/MyDrive/Papaya-counter/Teste_Video_resized.mp4: 480x640 33 Papayas, 8.5ms\n",
      "video 1/1 (frame 353/1231) /content/drive/MyDrive/Papaya-counter/Teste_Video_resized.mp4: 480x640 29 Papayas, 10.2ms\n",
      "video 1/1 (frame 354/1231) /content/drive/MyDrive/Papaya-counter/Teste_Video_resized.mp4: 480x640 31 Papayas, 8.3ms\n",
      "video 1/1 (frame 355/1231) /content/drive/MyDrive/Papaya-counter/Teste_Video_resized.mp4: 480x640 31 Papayas, 10.3ms\n",
      "video 1/1 (frame 356/1231) /content/drive/MyDrive/Papaya-counter/Teste_Video_resized.mp4: 480x640 30 Papayas, 8.5ms\n",
      "video 1/1 (frame 357/1231) /content/drive/MyDrive/Papaya-counter/Teste_Video_resized.mp4: 480x640 28 Papayas, 9.1ms\n",
      "video 1/1 (frame 358/1231) /content/drive/MyDrive/Papaya-counter/Teste_Video_resized.mp4: 480x640 30 Papayas, 10.5ms\n",
      "video 1/1 (frame 359/1231) /content/drive/MyDrive/Papaya-counter/Teste_Video_resized.mp4: 480x640 30 Papayas, 8.2ms\n",
      "video 1/1 (frame 360/1231) /content/drive/MyDrive/Papaya-counter/Teste_Video_resized.mp4: 480x640 29 Papayas, 12.1ms\n",
      "video 1/1 (frame 361/1231) /content/drive/MyDrive/Papaya-counter/Teste_Video_resized.mp4: 480x640 28 Papayas, 9.2ms\n",
      "video 1/1 (frame 362/1231) /content/drive/MyDrive/Papaya-counter/Teste_Video_resized.mp4: 480x640 31 Papayas, 9.4ms\n",
      "video 1/1 (frame 363/1231) /content/drive/MyDrive/Papaya-counter/Teste_Video_resized.mp4: 480x640 30 Papayas, 9.1ms\n",
      "video 1/1 (frame 364/1231) /content/drive/MyDrive/Papaya-counter/Teste_Video_resized.mp4: 480x640 32 Papayas, 11.5ms\n",
      "video 1/1 (frame 365/1231) /content/drive/MyDrive/Papaya-counter/Teste_Video_resized.mp4: 480x640 32 Papayas, 9.3ms\n",
      "video 1/1 (frame 366/1231) /content/drive/MyDrive/Papaya-counter/Teste_Video_resized.mp4: 480x640 36 Papayas, 9.2ms\n",
      "video 1/1 (frame 367/1231) /content/drive/MyDrive/Papaya-counter/Teste_Video_resized.mp4: 480x640 42 Papayas, 9.0ms\n",
      "video 1/1 (frame 368/1231) /content/drive/MyDrive/Papaya-counter/Teste_Video_resized.mp4: 480x640 34 Papayas, 8.8ms\n",
      "video 1/1 (frame 369/1231) /content/drive/MyDrive/Papaya-counter/Teste_Video_resized.mp4: 480x640 35 Papayas, 9.9ms\n",
      "video 1/1 (frame 370/1231) /content/drive/MyDrive/Papaya-counter/Teste_Video_resized.mp4: 480x640 33 Papayas, 10.4ms\n",
      "video 1/1 (frame 371/1231) /content/drive/MyDrive/Papaya-counter/Teste_Video_resized.mp4: 480x640 36 Papayas, 8.8ms\n",
      "video 1/1 (frame 372/1231) /content/drive/MyDrive/Papaya-counter/Teste_Video_resized.mp4: 480x640 34 Papayas, 12.6ms\n",
      "video 1/1 (frame 373/1231) /content/drive/MyDrive/Papaya-counter/Teste_Video_resized.mp4: 480x640 35 Papayas, 18.5ms\n",
      "video 1/1 (frame 374/1231) /content/drive/MyDrive/Papaya-counter/Teste_Video_resized.mp4: 480x640 36 Papayas, 12.4ms\n",
      "video 1/1 (frame 375/1231) /content/drive/MyDrive/Papaya-counter/Teste_Video_resized.mp4: 480x640 38 Papayas, 13.4ms\n",
      "video 1/1 (frame 376/1231) /content/drive/MyDrive/Papaya-counter/Teste_Video_resized.mp4: 480x640 38 Papayas, 12.6ms\n",
      "video 1/1 (frame 377/1231) /content/drive/MyDrive/Papaya-counter/Teste_Video_resized.mp4: 480x640 39 Papayas, 13.4ms\n",
      "video 1/1 (frame 378/1231) /content/drive/MyDrive/Papaya-counter/Teste_Video_resized.mp4: 480x640 36 Papayas, 9.6ms\n",
      "video 1/1 (frame 379/1231) /content/drive/MyDrive/Papaya-counter/Teste_Video_resized.mp4: 480x640 36 Papayas, 8.7ms\n",
      "video 1/1 (frame 380/1231) /content/drive/MyDrive/Papaya-counter/Teste_Video_resized.mp4: 480x640 36 Papayas, 8.8ms\n",
      "video 1/1 (frame 381/1231) /content/drive/MyDrive/Papaya-counter/Teste_Video_resized.mp4: 480x640 35 Papayas, 8.5ms\n",
      "video 1/1 (frame 382/1231) /content/drive/MyDrive/Papaya-counter/Teste_Video_resized.mp4: 480x640 33 Papayas, 10.5ms\n",
      "video 1/1 (frame 383/1231) /content/drive/MyDrive/Papaya-counter/Teste_Video_resized.mp4: 480x640 33 Papayas, 9.1ms\n",
      "video 1/1 (frame 384/1231) /content/drive/MyDrive/Papaya-counter/Teste_Video_resized.mp4: 480x640 34 Papayas, 10.9ms\n",
      "video 1/1 (frame 385/1231) /content/drive/MyDrive/Papaya-counter/Teste_Video_resized.mp4: 480x640 34 Papayas, 10.3ms\n",
      "video 1/1 (frame 386/1231) /content/drive/MyDrive/Papaya-counter/Teste_Video_resized.mp4: 480x640 34 Papayas, 9.4ms\n",
      "video 1/1 (frame 387/1231) /content/drive/MyDrive/Papaya-counter/Teste_Video_resized.mp4: 480x640 34 Papayas, 10.2ms\n",
      "video 1/1 (frame 388/1231) /content/drive/MyDrive/Papaya-counter/Teste_Video_resized.mp4: 480x640 36 Papayas, 10.7ms\n",
      "video 1/1 (frame 389/1231) /content/drive/MyDrive/Papaya-counter/Teste_Video_resized.mp4: 480x640 34 Papayas, 11.6ms\n",
      "video 1/1 (frame 390/1231) /content/drive/MyDrive/Papaya-counter/Teste_Video_resized.mp4: 480x640 40 Papayas, 11.6ms\n",
      "video 1/1 (frame 391/1231) /content/drive/MyDrive/Papaya-counter/Teste_Video_resized.mp4: 480x640 38 Papayas, 9.7ms\n",
      "video 1/1 (frame 392/1231) /content/drive/MyDrive/Papaya-counter/Teste_Video_resized.mp4: 480x640 36 Papayas, 11.5ms\n",
      "video 1/1 (frame 393/1231) /content/drive/MyDrive/Papaya-counter/Teste_Video_resized.mp4: 480x640 36 Papayas, 10.5ms\n",
      "video 1/1 (frame 394/1231) /content/drive/MyDrive/Papaya-counter/Teste_Video_resized.mp4: 480x640 36 Papayas, 9.4ms\n",
      "video 1/1 (frame 395/1231) /content/drive/MyDrive/Papaya-counter/Teste_Video_resized.mp4: 480x640 35 Papayas, 8.7ms\n",
      "video 1/1 (frame 396/1231) /content/drive/MyDrive/Papaya-counter/Teste_Video_resized.mp4: 480x640 39 Papayas, 9.9ms\n",
      "video 1/1 (frame 397/1231) /content/drive/MyDrive/Papaya-counter/Teste_Video_resized.mp4: 480x640 40 Papayas, 9.7ms\n",
      "video 1/1 (frame 398/1231) /content/drive/MyDrive/Papaya-counter/Teste_Video_resized.mp4: 480x640 41 Papayas, 10.1ms\n",
      "video 1/1 (frame 399/1231) /content/drive/MyDrive/Papaya-counter/Teste_Video_resized.mp4: 480x640 37 Papayas, 9.8ms\n",
      "video 1/1 (frame 400/1231) /content/drive/MyDrive/Papaya-counter/Teste_Video_resized.mp4: 480x640 39 Papayas, 9.6ms\n",
      "video 1/1 (frame 401/1231) /content/drive/MyDrive/Papaya-counter/Teste_Video_resized.mp4: 480x640 41 Papayas, 9.5ms\n",
      "video 1/1 (frame 402/1231) /content/drive/MyDrive/Papaya-counter/Teste_Video_resized.mp4: 480x640 36 Papayas, 8.6ms\n",
      "video 1/1 (frame 403/1231) /content/drive/MyDrive/Papaya-counter/Teste_Video_resized.mp4: 480x640 35 Papayas, 12.7ms\n",
      "video 1/1 (frame 404/1231) /content/drive/MyDrive/Papaya-counter/Teste_Video_resized.mp4: 480x640 36 Papayas, 9.3ms\n",
      "video 1/1 (frame 405/1231) /content/drive/MyDrive/Papaya-counter/Teste_Video_resized.mp4: 480x640 35 Papayas, 10.8ms\n",
      "video 1/1 (frame 406/1231) /content/drive/MyDrive/Papaya-counter/Teste_Video_resized.mp4: 480x640 39 Papayas, 9.7ms\n",
      "video 1/1 (frame 407/1231) /content/drive/MyDrive/Papaya-counter/Teste_Video_resized.mp4: 480x640 40 Papayas, 8.8ms\n",
      "video 1/1 (frame 408/1231) /content/drive/MyDrive/Papaya-counter/Teste_Video_resized.mp4: 480x640 40 Papayas, 9.2ms\n",
      "video 1/1 (frame 409/1231) /content/drive/MyDrive/Papaya-counter/Teste_Video_resized.mp4: 480x640 41 Papayas, 9.4ms\n",
      "video 1/1 (frame 410/1231) /content/drive/MyDrive/Papaya-counter/Teste_Video_resized.mp4: 480x640 41 Papayas, 10.5ms\n",
      "video 1/1 (frame 411/1231) /content/drive/MyDrive/Papaya-counter/Teste_Video_resized.mp4: 480x640 37 Papayas, 9.0ms\n",
      "video 1/1 (frame 412/1231) /content/drive/MyDrive/Papaya-counter/Teste_Video_resized.mp4: 480x640 37 Papayas, 9.8ms\n",
      "video 1/1 (frame 413/1231) /content/drive/MyDrive/Papaya-counter/Teste_Video_resized.mp4: 480x640 36 Papayas, 11.6ms\n",
      "video 1/1 (frame 414/1231) /content/drive/MyDrive/Papaya-counter/Teste_Video_resized.mp4: 480x640 33 Papayas, 10.1ms\n",
      "video 1/1 (frame 415/1231) /content/drive/MyDrive/Papaya-counter/Teste_Video_resized.mp4: 480x640 34 Papayas, 9.1ms\n",
      "video 1/1 (frame 416/1231) /content/drive/MyDrive/Papaya-counter/Teste_Video_resized.mp4: 480x640 36 Papayas, 8.7ms\n",
      "video 1/1 (frame 417/1231) /content/drive/MyDrive/Papaya-counter/Teste_Video_resized.mp4: 480x640 33 Papayas, 8.6ms\n",
      "video 1/1 (frame 418/1231) /content/drive/MyDrive/Papaya-counter/Teste_Video_resized.mp4: 480x640 36 Papayas, 8.6ms\n",
      "video 1/1 (frame 419/1231) /content/drive/MyDrive/Papaya-counter/Teste_Video_resized.mp4: 480x640 31 Papayas, 8.5ms\n",
      "video 1/1 (frame 420/1231) /content/drive/MyDrive/Papaya-counter/Teste_Video_resized.mp4: 480x640 33 Papayas, 8.3ms\n",
      "video 1/1 (frame 421/1231) /content/drive/MyDrive/Papaya-counter/Teste_Video_resized.mp4: 480x640 33 Papayas, 8.8ms\n",
      "video 1/1 (frame 422/1231) /content/drive/MyDrive/Papaya-counter/Teste_Video_resized.mp4: 480x640 35 Papayas, 10.9ms\n",
      "video 1/1 (frame 423/1231) /content/drive/MyDrive/Papaya-counter/Teste_Video_resized.mp4: 480x640 35 Papayas, 13.8ms\n",
      "video 1/1 (frame 424/1231) /content/drive/MyDrive/Papaya-counter/Teste_Video_resized.mp4: 480x640 33 Papayas, 20.8ms\n",
      "video 1/1 (frame 425/1231) /content/drive/MyDrive/Papaya-counter/Teste_Video_resized.mp4: 480x640 34 Papayas, 8.9ms\n",
      "video 1/1 (frame 426/1231) /content/drive/MyDrive/Papaya-counter/Teste_Video_resized.mp4: 480x640 34 Papayas, 10.4ms\n",
      "video 1/1 (frame 427/1231) /content/drive/MyDrive/Papaya-counter/Teste_Video_resized.mp4: 480x640 34 Papayas, 9.1ms\n",
      "video 1/1 (frame 428/1231) /content/drive/MyDrive/Papaya-counter/Teste_Video_resized.mp4: 480x640 33 Papayas, 8.8ms\n",
      "video 1/1 (frame 429/1231) /content/drive/MyDrive/Papaya-counter/Teste_Video_resized.mp4: 480x640 34 Papayas, 9.3ms\n",
      "video 1/1 (frame 430/1231) /content/drive/MyDrive/Papaya-counter/Teste_Video_resized.mp4: 480x640 33 Papayas, 8.4ms\n",
      "video 1/1 (frame 431/1231) /content/drive/MyDrive/Papaya-counter/Teste_Video_resized.mp4: 480x640 34 Papayas, 9.2ms\n",
      "video 1/1 (frame 432/1231) /content/drive/MyDrive/Papaya-counter/Teste_Video_resized.mp4: 480x640 33 Papayas, 8.9ms\n",
      "video 1/1 (frame 433/1231) /content/drive/MyDrive/Papaya-counter/Teste_Video_resized.mp4: 480x640 35 Papayas, 9.9ms\n",
      "video 1/1 (frame 434/1231) /content/drive/MyDrive/Papaya-counter/Teste_Video_resized.mp4: 480x640 36 Papayas, 9.7ms\n",
      "video 1/1 (frame 435/1231) /content/drive/MyDrive/Papaya-counter/Teste_Video_resized.mp4: 480x640 33 Papayas, 10.2ms\n",
      "video 1/1 (frame 436/1231) /content/drive/MyDrive/Papaya-counter/Teste_Video_resized.mp4: 480x640 34 Papayas, 8.8ms\n",
      "video 1/1 (frame 437/1231) /content/drive/MyDrive/Papaya-counter/Teste_Video_resized.mp4: 480x640 33 Papayas, 10.9ms\n",
      "video 1/1 (frame 438/1231) /content/drive/MyDrive/Papaya-counter/Teste_Video_resized.mp4: 480x640 34 Papayas, 10.3ms\n",
      "video 1/1 (frame 439/1231) /content/drive/MyDrive/Papaya-counter/Teste_Video_resized.mp4: 480x640 33 Papayas, 9.3ms\n",
      "video 1/1 (frame 440/1231) /content/drive/MyDrive/Papaya-counter/Teste_Video_resized.mp4: 480x640 36 Papayas, 9.4ms\n",
      "video 1/1 (frame 441/1231) /content/drive/MyDrive/Papaya-counter/Teste_Video_resized.mp4: 480x640 35 Papayas, 9.2ms\n",
      "video 1/1 (frame 442/1231) /content/drive/MyDrive/Papaya-counter/Teste_Video_resized.mp4: 480x640 35 Papayas, 8.3ms\n",
      "video 1/1 (frame 443/1231) /content/drive/MyDrive/Papaya-counter/Teste_Video_resized.mp4: 480x640 31 Papayas, 9.2ms\n",
      "video 1/1 (frame 444/1231) /content/drive/MyDrive/Papaya-counter/Teste_Video_resized.mp4: 480x640 36 Papayas, 13.1ms\n",
      "video 1/1 (frame 445/1231) /content/drive/MyDrive/Papaya-counter/Teste_Video_resized.mp4: 480x640 31 Papayas, 8.4ms\n",
      "video 1/1 (frame 446/1231) /content/drive/MyDrive/Papaya-counter/Teste_Video_resized.mp4: 480x640 34 Papayas, 9.0ms\n",
      "video 1/1 (frame 447/1231) /content/drive/MyDrive/Papaya-counter/Teste_Video_resized.mp4: 480x640 37 Papayas, 8.4ms\n",
      "video 1/1 (frame 448/1231) /content/drive/MyDrive/Papaya-counter/Teste_Video_resized.mp4: 480x640 29 Papayas, 9.2ms\n",
      "video 1/1 (frame 449/1231) /content/drive/MyDrive/Papaya-counter/Teste_Video_resized.mp4: 480x640 32 Papayas, 9.3ms\n",
      "video 1/1 (frame 450/1231) /content/drive/MyDrive/Papaya-counter/Teste_Video_resized.mp4: 480x640 37 Papayas, 12.6ms\n",
      "video 1/1 (frame 451/1231) /content/drive/MyDrive/Papaya-counter/Teste_Video_resized.mp4: 480x640 30 Papayas, 8.6ms\n",
      "video 1/1 (frame 452/1231) /content/drive/MyDrive/Papaya-counter/Teste_Video_resized.mp4: 480x640 36 Papayas, 11.3ms\n",
      "video 1/1 (frame 453/1231) /content/drive/MyDrive/Papaya-counter/Teste_Video_resized.mp4: 480x640 35 Papayas, 13.6ms\n",
      "video 1/1 (frame 454/1231) /content/drive/MyDrive/Papaya-counter/Teste_Video_resized.mp4: 480x640 31 Papayas, 9.1ms\n",
      "video 1/1 (frame 455/1231) /content/drive/MyDrive/Papaya-counter/Teste_Video_resized.mp4: 480x640 35 Papayas, 13.3ms\n",
      "video 1/1 (frame 456/1231) /content/drive/MyDrive/Papaya-counter/Teste_Video_resized.mp4: 480x640 32 Papayas, 9.5ms\n",
      "video 1/1 (frame 457/1231) /content/drive/MyDrive/Papaya-counter/Teste_Video_resized.mp4: 480x640 37 Papayas, 11.7ms\n",
      "video 1/1 (frame 458/1231) /content/drive/MyDrive/Papaya-counter/Teste_Video_resized.mp4: 480x640 33 Papayas, 14.6ms\n",
      "video 1/1 (frame 459/1231) /content/drive/MyDrive/Papaya-counter/Teste_Video_resized.mp4: 480x640 34 Papayas, 12.9ms\n",
      "video 1/1 (frame 460/1231) /content/drive/MyDrive/Papaya-counter/Teste_Video_resized.mp4: 480x640 32 Papayas, 12.6ms\n",
      "video 1/1 (frame 461/1231) /content/drive/MyDrive/Papaya-counter/Teste_Video_resized.mp4: 480x640 33 Papayas, 17.0ms\n",
      "video 1/1 (frame 462/1231) /content/drive/MyDrive/Papaya-counter/Teste_Video_resized.mp4: 480x640 31 Papayas, 13.0ms\n",
      "video 1/1 (frame 463/1231) /content/drive/MyDrive/Papaya-counter/Teste_Video_resized.mp4: 480x640 35 Papayas, 12.3ms\n",
      "video 1/1 (frame 464/1231) /content/drive/MyDrive/Papaya-counter/Teste_Video_resized.mp4: 480x640 37 Papayas, 9.7ms\n",
      "video 1/1 (frame 465/1231) /content/drive/MyDrive/Papaya-counter/Teste_Video_resized.mp4: 480x640 33 Papayas, 9.5ms\n",
      "video 1/1 (frame 466/1231) /content/drive/MyDrive/Papaya-counter/Teste_Video_resized.mp4: 480x640 37 Papayas, 9.6ms\n",
      "video 1/1 (frame 467/1231) /content/drive/MyDrive/Papaya-counter/Teste_Video_resized.mp4: 480x640 33 Papayas, 8.5ms\n",
      "video 1/1 (frame 468/1231) /content/drive/MyDrive/Papaya-counter/Teste_Video_resized.mp4: 480x640 33 Papayas, 11.3ms\n",
      "video 1/1 (frame 469/1231) /content/drive/MyDrive/Papaya-counter/Teste_Video_resized.mp4: 480x640 35 Papayas, 9.3ms\n",
      "video 1/1 (frame 470/1231) /content/drive/MyDrive/Papaya-counter/Teste_Video_resized.mp4: 480x640 34 Papayas, 11.8ms\n",
      "video 1/1 (frame 471/1231) /content/drive/MyDrive/Papaya-counter/Teste_Video_resized.mp4: 480x640 34 Papayas, 9.4ms\n",
      "video 1/1 (frame 472/1231) /content/drive/MyDrive/Papaya-counter/Teste_Video_resized.mp4: 480x640 33 Papayas, 9.5ms\n",
      "video 1/1 (frame 473/1231) /content/drive/MyDrive/Papaya-counter/Teste_Video_resized.mp4: 480x640 32 Papayas, 9.5ms\n",
      "video 1/1 (frame 474/1231) /content/drive/MyDrive/Papaya-counter/Teste_Video_resized.mp4: 480x640 32 Papayas, 8.8ms\n",
      "video 1/1 (frame 475/1231) /content/drive/MyDrive/Papaya-counter/Teste_Video_resized.mp4: 480x640 35 Papayas, 9.8ms\n",
      "video 1/1 (frame 476/1231) /content/drive/MyDrive/Papaya-counter/Teste_Video_resized.mp4: 480x640 34 Papayas, 8.9ms\n",
      "video 1/1 (frame 477/1231) /content/drive/MyDrive/Papaya-counter/Teste_Video_resized.mp4: 480x640 28 Papayas, 8.6ms\n",
      "video 1/1 (frame 478/1231) /content/drive/MyDrive/Papaya-counter/Teste_Video_resized.mp4: 480x640 31 Papayas, 8.7ms\n",
      "video 1/1 (frame 479/1231) /content/drive/MyDrive/Papaya-counter/Teste_Video_resized.mp4: 480x640 28 Papayas, 10.4ms\n",
      "video 1/1 (frame 480/1231) /content/drive/MyDrive/Papaya-counter/Teste_Video_resized.mp4: 480x640 30 Papayas, 8.8ms\n",
      "video 1/1 (frame 481/1231) /content/drive/MyDrive/Papaya-counter/Teste_Video_resized.mp4: 480x640 37 Papayas, 8.8ms\n",
      "video 1/1 (frame 482/1231) /content/drive/MyDrive/Papaya-counter/Teste_Video_resized.mp4: 480x640 34 Papayas, 9.3ms\n",
      "video 1/1 (frame 483/1231) /content/drive/MyDrive/Papaya-counter/Teste_Video_resized.mp4: 480x640 33 Papayas, 8.7ms\n",
      "video 1/1 (frame 484/1231) /content/drive/MyDrive/Papaya-counter/Teste_Video_resized.mp4: 480x640 35 Papayas, 9.3ms\n",
      "video 1/1 (frame 485/1231) /content/drive/MyDrive/Papaya-counter/Teste_Video_resized.mp4: 480x640 33 Papayas, 13.4ms\n",
      "video 1/1 (frame 486/1231) /content/drive/MyDrive/Papaya-counter/Teste_Video_resized.mp4: 480x640 32 Papayas, 14.7ms\n",
      "video 1/1 (frame 487/1231) /content/drive/MyDrive/Papaya-counter/Teste_Video_resized.mp4: 480x640 28 Papayas, 9.8ms\n",
      "video 1/1 (frame 488/1231) /content/drive/MyDrive/Papaya-counter/Teste_Video_resized.mp4: 480x640 29 Papayas, 10.3ms\n",
      "video 1/1 (frame 489/1231) /content/drive/MyDrive/Papaya-counter/Teste_Video_resized.mp4: 480x640 31 Papayas, 9.4ms\n",
      "video 1/1 (frame 490/1231) /content/drive/MyDrive/Papaya-counter/Teste_Video_resized.mp4: 480x640 28 Papayas, 10.7ms\n",
      "video 1/1 (frame 491/1231) /content/drive/MyDrive/Papaya-counter/Teste_Video_resized.mp4: 480x640 34 Papayas, 8.6ms\n",
      "video 1/1 (frame 492/1231) /content/drive/MyDrive/Papaya-counter/Teste_Video_resized.mp4: 480x640 33 Papayas, 8.6ms\n",
      "video 1/1 (frame 493/1231) /content/drive/MyDrive/Papaya-counter/Teste_Video_resized.mp4: 480x640 34 Papayas, 9.3ms\n",
      "video 1/1 (frame 494/1231) /content/drive/MyDrive/Papaya-counter/Teste_Video_resized.mp4: 480x640 35 Papayas, 8.3ms\n",
      "video 1/1 (frame 495/1231) /content/drive/MyDrive/Papaya-counter/Teste_Video_resized.mp4: 480x640 30 Papayas, 9.4ms\n",
      "video 1/1 (frame 496/1231) /content/drive/MyDrive/Papaya-counter/Teste_Video_resized.mp4: 480x640 31 Papayas, 8.6ms\n",
      "video 1/1 (frame 497/1231) /content/drive/MyDrive/Papaya-counter/Teste_Video_resized.mp4: 480x640 30 Papayas, 9.8ms\n",
      "video 1/1 (frame 498/1231) /content/drive/MyDrive/Papaya-counter/Teste_Video_resized.mp4: 480x640 29 Papayas, 8.9ms\n",
      "video 1/1 (frame 499/1231) /content/drive/MyDrive/Papaya-counter/Teste_Video_resized.mp4: 480x640 31 Papayas, 8.7ms\n",
      "video 1/1 (frame 500/1231) /content/drive/MyDrive/Papaya-counter/Teste_Video_resized.mp4: 480x640 33 Papayas, 8.2ms\n",
      "video 1/1 (frame 501/1231) /content/drive/MyDrive/Papaya-counter/Teste_Video_resized.mp4: 480x640 27 Papayas, 10.1ms\n",
      "video 1/1 (frame 502/1231) /content/drive/MyDrive/Papaya-counter/Teste_Video_resized.mp4: 480x640 31 Papayas, 17.1ms\n",
      "video 1/1 (frame 503/1231) /content/drive/MyDrive/Papaya-counter/Teste_Video_resized.mp4: 480x640 28 Papayas, 12.7ms\n",
      "video 1/1 (frame 504/1231) /content/drive/MyDrive/Papaya-counter/Teste_Video_resized.mp4: 480x640 30 Papayas, 10.7ms\n",
      "video 1/1 (frame 505/1231) /content/drive/MyDrive/Papaya-counter/Teste_Video_resized.mp4: 480x640 32 Papayas, 9.1ms\n",
      "video 1/1 (frame 506/1231) /content/drive/MyDrive/Papaya-counter/Teste_Video_resized.mp4: 480x640 33 Papayas, 12.6ms\n",
      "video 1/1 (frame 507/1231) /content/drive/MyDrive/Papaya-counter/Teste_Video_resized.mp4: 480x640 30 Papayas, 9.8ms\n",
      "video 1/1 (frame 508/1231) /content/drive/MyDrive/Papaya-counter/Teste_Video_resized.mp4: 480x640 32 Papayas, 12.0ms\n",
      "video 1/1 (frame 509/1231) /content/drive/MyDrive/Papaya-counter/Teste_Video_resized.mp4: 480x640 32 Papayas, 10.6ms\n",
      "video 1/1 (frame 510/1231) /content/drive/MyDrive/Papaya-counter/Teste_Video_resized.mp4: 480x640 38 Papayas, 8.7ms\n",
      "video 1/1 (frame 511/1231) /content/drive/MyDrive/Papaya-counter/Teste_Video_resized.mp4: 480x640 29 Papayas, 12.4ms\n",
      "video 1/1 (frame 512/1231) /content/drive/MyDrive/Papaya-counter/Teste_Video_resized.mp4: 480x640 33 Papayas, 9.9ms\n",
      "video 1/1 (frame 513/1231) /content/drive/MyDrive/Papaya-counter/Teste_Video_resized.mp4: 480x640 30 Papayas, 10.4ms\n",
      "video 1/1 (frame 514/1231) /content/drive/MyDrive/Papaya-counter/Teste_Video_resized.mp4: 480x640 27 Papayas, 11.0ms\n",
      "video 1/1 (frame 515/1231) /content/drive/MyDrive/Papaya-counter/Teste_Video_resized.mp4: 480x640 30 Papayas, 10.6ms\n",
      "video 1/1 (frame 516/1231) /content/drive/MyDrive/Papaya-counter/Teste_Video_resized.mp4: 480x640 30 Papayas, 8.5ms\n",
      "video 1/1 (frame 517/1231) /content/drive/MyDrive/Papaya-counter/Teste_Video_resized.mp4: 480x640 32 Papayas, 9.0ms\n",
      "video 1/1 (frame 518/1231) /content/drive/MyDrive/Papaya-counter/Teste_Video_resized.mp4: 480x640 30 Papayas, 12.7ms\n",
      "video 1/1 (frame 519/1231) /content/drive/MyDrive/Papaya-counter/Teste_Video_resized.mp4: 480x640 31 Papayas, 12.6ms\n",
      "video 1/1 (frame 520/1231) /content/drive/MyDrive/Papaya-counter/Teste_Video_resized.mp4: 480x640 28 Papayas, 12.4ms\n",
      "video 1/1 (frame 521/1231) /content/drive/MyDrive/Papaya-counter/Teste_Video_resized.mp4: 480x640 27 Papayas, 8.4ms\n",
      "video 1/1 (frame 522/1231) /content/drive/MyDrive/Papaya-counter/Teste_Video_resized.mp4: 480x640 31 Papayas, 9.1ms\n",
      "video 1/1 (frame 523/1231) /content/drive/MyDrive/Papaya-counter/Teste_Video_resized.mp4: 480x640 25 Papayas, 15.0ms\n",
      "video 1/1 (frame 524/1231) /content/drive/MyDrive/Papaya-counter/Teste_Video_resized.mp4: 480x640 29 Papayas, 8.2ms\n",
      "video 1/1 (frame 525/1231) /content/drive/MyDrive/Papaya-counter/Teste_Video_resized.mp4: 480x640 26 Papayas, 8.8ms\n",
      "video 1/1 (frame 526/1231) /content/drive/MyDrive/Papaya-counter/Teste_Video_resized.mp4: 480x640 30 Papayas, 9.5ms\n",
      "video 1/1 (frame 527/1231) /content/drive/MyDrive/Papaya-counter/Teste_Video_resized.mp4: 480x640 28 Papayas, 8.4ms\n",
      "video 1/1 (frame 528/1231) /content/drive/MyDrive/Papaya-counter/Teste_Video_resized.mp4: 480x640 28 Papayas, 8.2ms\n",
      "video 1/1 (frame 529/1231) /content/drive/MyDrive/Papaya-counter/Teste_Video_resized.mp4: 480x640 30 Papayas, 10.3ms\n",
      "video 1/1 (frame 530/1231) /content/drive/MyDrive/Papaya-counter/Teste_Video_resized.mp4: 480x640 32 Papayas, 8.7ms\n",
      "video 1/1 (frame 531/1231) /content/drive/MyDrive/Papaya-counter/Teste_Video_resized.mp4: 480x640 28 Papayas, 11.4ms\n",
      "video 1/1 (frame 532/1231) /content/drive/MyDrive/Papaya-counter/Teste_Video_resized.mp4: 480x640 30 Papayas, 10.9ms\n",
      "video 1/1 (frame 533/1231) /content/drive/MyDrive/Papaya-counter/Teste_Video_resized.mp4: 480x640 30 Papayas, 9.1ms\n",
      "video 1/1 (frame 534/1231) /content/drive/MyDrive/Papaya-counter/Teste_Video_resized.mp4: 480x640 34 Papayas, 9.3ms\n",
      "video 1/1 (frame 535/1231) /content/drive/MyDrive/Papaya-counter/Teste_Video_resized.mp4: 480x640 32 Papayas, 9.8ms\n",
      "video 1/1 (frame 536/1231) /content/drive/MyDrive/Papaya-counter/Teste_Video_resized.mp4: 480x640 30 Papayas, 8.7ms\n",
      "video 1/1 (frame 537/1231) /content/drive/MyDrive/Papaya-counter/Teste_Video_resized.mp4: 480x640 29 Papayas, 9.4ms\n",
      "video 1/1 (frame 538/1231) /content/drive/MyDrive/Papaya-counter/Teste_Video_resized.mp4: 480x640 32 Papayas, 10.1ms\n",
      "video 1/1 (frame 539/1231) /content/drive/MyDrive/Papaya-counter/Teste_Video_resized.mp4: 480x640 35 Papayas, 9.1ms\n",
      "video 1/1 (frame 540/1231) /content/drive/MyDrive/Papaya-counter/Teste_Video_resized.mp4: 480x640 32 Papayas, 11.1ms\n",
      "video 1/1 (frame 541/1231) /content/drive/MyDrive/Papaya-counter/Teste_Video_resized.mp4: 480x640 30 Papayas, 9.4ms\n",
      "video 1/1 (frame 542/1231) /content/drive/MyDrive/Papaya-counter/Teste_Video_resized.mp4: 480x640 29 Papayas, 10.3ms\n",
      "video 1/1 (frame 543/1231) /content/drive/MyDrive/Papaya-counter/Teste_Video_resized.mp4: 480x640 27 Papayas, 9.4ms\n",
      "video 1/1 (frame 544/1231) /content/drive/MyDrive/Papaya-counter/Teste_Video_resized.mp4: 480x640 24 Papayas, 10.2ms\n",
      "video 1/1 (frame 545/1231) /content/drive/MyDrive/Papaya-counter/Teste_Video_resized.mp4: 480x640 31 Papayas, 9.5ms\n",
      "video 1/1 (frame 546/1231) /content/drive/MyDrive/Papaya-counter/Teste_Video_resized.mp4: 480x640 29 Papayas, 11.3ms\n",
      "video 1/1 (frame 547/1231) /content/drive/MyDrive/Papaya-counter/Teste_Video_resized.mp4: 480x640 27 Papayas, 8.8ms\n",
      "video 1/1 (frame 548/1231) /content/drive/MyDrive/Papaya-counter/Teste_Video_resized.mp4: 480x640 30 Papayas, 14.2ms\n",
      "video 1/1 (frame 549/1231) /content/drive/MyDrive/Papaya-counter/Teste_Video_resized.mp4: 480x640 29 Papayas, 8.9ms\n",
      "video 1/1 (frame 550/1231) /content/drive/MyDrive/Papaya-counter/Teste_Video_resized.mp4: 480x640 28 Papayas, 10.3ms\n",
      "video 1/1 (frame 551/1231) /content/drive/MyDrive/Papaya-counter/Teste_Video_resized.mp4: 480x640 28 Papayas, 10.4ms\n",
      "video 1/1 (frame 552/1231) /content/drive/MyDrive/Papaya-counter/Teste_Video_resized.mp4: 480x640 27 Papayas, 13.0ms\n",
      "video 1/1 (frame 553/1231) /content/drive/MyDrive/Papaya-counter/Teste_Video_resized.mp4: 480x640 27 Papayas, 10.5ms\n",
      "video 1/1 (frame 554/1231) /content/drive/MyDrive/Papaya-counter/Teste_Video_resized.mp4: 480x640 26 Papayas, 12.2ms\n",
      "video 1/1 (frame 555/1231) /content/drive/MyDrive/Papaya-counter/Teste_Video_resized.mp4: 480x640 26 Papayas, 14.0ms\n",
      "video 1/1 (frame 556/1231) /content/drive/MyDrive/Papaya-counter/Teste_Video_resized.mp4: 480x640 29 Papayas, 12.7ms\n",
      "video 1/1 (frame 557/1231) /content/drive/MyDrive/Papaya-counter/Teste_Video_resized.mp4: 480x640 26 Papayas, 12.2ms\n",
      "video 1/1 (frame 558/1231) /content/drive/MyDrive/Papaya-counter/Teste_Video_resized.mp4: 480x640 26 Papayas, 13.7ms\n",
      "video 1/1 (frame 559/1231) /content/drive/MyDrive/Papaya-counter/Teste_Video_resized.mp4: 480x640 27 Papayas, 13.4ms\n",
      "video 1/1 (frame 560/1231) /content/drive/MyDrive/Papaya-counter/Teste_Video_resized.mp4: 480x640 27 Papayas, 17.0ms\n",
      "video 1/1 (frame 561/1231) /content/drive/MyDrive/Papaya-counter/Teste_Video_resized.mp4: 480x640 27 Papayas, 10.4ms\n",
      "video 1/1 (frame 562/1231) /content/drive/MyDrive/Papaya-counter/Teste_Video_resized.mp4: 480x640 31 Papayas, 10.4ms\n",
      "video 1/1 (frame 563/1231) /content/drive/MyDrive/Papaya-counter/Teste_Video_resized.mp4: 480x640 31 Papayas, 8.7ms\n",
      "video 1/1 (frame 564/1231) /content/drive/MyDrive/Papaya-counter/Teste_Video_resized.mp4: 480x640 25 Papayas, 9.2ms\n",
      "video 1/1 (frame 565/1231) /content/drive/MyDrive/Papaya-counter/Teste_Video_resized.mp4: 480x640 33 Papayas, 9.6ms\n",
      "video 1/1 (frame 566/1231) /content/drive/MyDrive/Papaya-counter/Teste_Video_resized.mp4: 480x640 31 Papayas, 9.0ms\n",
      "video 1/1 (frame 567/1231) /content/drive/MyDrive/Papaya-counter/Teste_Video_resized.mp4: 480x640 30 Papayas, 9.7ms\n",
      "video 1/1 (frame 568/1231) /content/drive/MyDrive/Papaya-counter/Teste_Video_resized.mp4: 480x640 30 Papayas, 10.3ms\n",
      "video 1/1 (frame 569/1231) /content/drive/MyDrive/Papaya-counter/Teste_Video_resized.mp4: 480x640 28 Papayas, 10.4ms\n",
      "video 1/1 (frame 570/1231) /content/drive/MyDrive/Papaya-counter/Teste_Video_resized.mp4: 480x640 27 Papayas, 10.6ms\n",
      "video 1/1 (frame 571/1231) /content/drive/MyDrive/Papaya-counter/Teste_Video_resized.mp4: 480x640 31 Papayas, 8.5ms\n",
      "video 1/1 (frame 572/1231) /content/drive/MyDrive/Papaya-counter/Teste_Video_resized.mp4: 480x640 29 Papayas, 8.9ms\n",
      "video 1/1 (frame 573/1231) /content/drive/MyDrive/Papaya-counter/Teste_Video_resized.mp4: 480x640 29 Papayas, 8.5ms\n",
      "video 1/1 (frame 574/1231) /content/drive/MyDrive/Papaya-counter/Teste_Video_resized.mp4: 480x640 32 Papayas, 8.9ms\n",
      "video 1/1 (frame 575/1231) /content/drive/MyDrive/Papaya-counter/Teste_Video_resized.mp4: 480x640 32 Papayas, 8.4ms\n",
      "video 1/1 (frame 576/1231) /content/drive/MyDrive/Papaya-counter/Teste_Video_resized.mp4: 480x640 33 Papayas, 8.4ms\n",
      "video 1/1 (frame 577/1231) /content/drive/MyDrive/Papaya-counter/Teste_Video_resized.mp4: 480x640 31 Papayas, 8.6ms\n",
      "video 1/1 (frame 578/1231) /content/drive/MyDrive/Papaya-counter/Teste_Video_resized.mp4: 480x640 34 Papayas, 8.6ms\n",
      "video 1/1 (frame 579/1231) /content/drive/MyDrive/Papaya-counter/Teste_Video_resized.mp4: 480x640 30 Papayas, 9.6ms\n",
      "video 1/1 (frame 580/1231) /content/drive/MyDrive/Papaya-counter/Teste_Video_resized.mp4: 480x640 30 Papayas, 9.6ms\n",
      "video 1/1 (frame 581/1231) /content/drive/MyDrive/Papaya-counter/Teste_Video_resized.mp4: 480x640 28 Papayas, 10.8ms\n",
      "video 1/1 (frame 582/1231) /content/drive/MyDrive/Papaya-counter/Teste_Video_resized.mp4: 480x640 27 Papayas, 10.8ms\n",
      "video 1/1 (frame 583/1231) /content/drive/MyDrive/Papaya-counter/Teste_Video_resized.mp4: 480x640 32 Papayas, 8.4ms\n",
      "video 1/1 (frame 584/1231) /content/drive/MyDrive/Papaya-counter/Teste_Video_resized.mp4: 480x640 30 Papayas, 10.8ms\n",
      "video 1/1 (frame 585/1231) /content/drive/MyDrive/Papaya-counter/Teste_Video_resized.mp4: 480x640 31 Papayas, 14.9ms\n",
      "video 1/1 (frame 586/1231) /content/drive/MyDrive/Papaya-counter/Teste_Video_resized.mp4: 480x640 28 Papayas, 14.9ms\n",
      "video 1/1 (frame 587/1231) /content/drive/MyDrive/Papaya-counter/Teste_Video_resized.mp4: 480x640 29 Papayas, 17.4ms\n",
      "video 1/1 (frame 588/1231) /content/drive/MyDrive/Papaya-counter/Teste_Video_resized.mp4: 480x640 28 Papayas, 13.8ms\n",
      "video 1/1 (frame 589/1231) /content/drive/MyDrive/Papaya-counter/Teste_Video_resized.mp4: 480x640 30 Papayas, 12.9ms\n",
      "video 1/1 (frame 590/1231) /content/drive/MyDrive/Papaya-counter/Teste_Video_resized.mp4: 480x640 32 Papayas, 17.8ms\n",
      "video 1/1 (frame 591/1231) /content/drive/MyDrive/Papaya-counter/Teste_Video_resized.mp4: 480x640 28 Papayas, 16.3ms\n",
      "video 1/1 (frame 592/1231) /content/drive/MyDrive/Papaya-counter/Teste_Video_resized.mp4: 480x640 34 Papayas, 14.5ms\n",
      "video 1/1 (frame 593/1231) /content/drive/MyDrive/Papaya-counter/Teste_Video_resized.mp4: 480x640 31 Papayas, 12.4ms\n",
      "video 1/1 (frame 594/1231) /content/drive/MyDrive/Papaya-counter/Teste_Video_resized.mp4: 480x640 28 Papayas, 10.8ms\n",
      "video 1/1 (frame 595/1231) /content/drive/MyDrive/Papaya-counter/Teste_Video_resized.mp4: 480x640 33 Papayas, 11.4ms\n",
      "video 1/1 (frame 596/1231) /content/drive/MyDrive/Papaya-counter/Teste_Video_resized.mp4: 480x640 35 Papayas, 20.7ms\n",
      "video 1/1 (frame 597/1231) /content/drive/MyDrive/Papaya-counter/Teste_Video_resized.mp4: 480x640 32 Papayas, 12.5ms\n",
      "video 1/1 (frame 598/1231) /content/drive/MyDrive/Papaya-counter/Teste_Video_resized.mp4: 480x640 32 Papayas, 14.2ms\n",
      "video 1/1 (frame 599/1231) /content/drive/MyDrive/Papaya-counter/Teste_Video_resized.mp4: 480x640 27 Papayas, 12.5ms\n",
      "video 1/1 (frame 600/1231) /content/drive/MyDrive/Papaya-counter/Teste_Video_resized.mp4: 480x640 30 Papayas, 11.5ms\n",
      "video 1/1 (frame 601/1231) /content/drive/MyDrive/Papaya-counter/Teste_Video_resized.mp4: 480x640 32 Papayas, 12.9ms\n",
      "video 1/1 (frame 602/1231) /content/drive/MyDrive/Papaya-counter/Teste_Video_resized.mp4: 480x640 30 Papayas, 12.5ms\n",
      "video 1/1 (frame 603/1231) /content/drive/MyDrive/Papaya-counter/Teste_Video_resized.mp4: 480x640 35 Papayas, 11.8ms\n",
      "video 1/1 (frame 604/1231) /content/drive/MyDrive/Papaya-counter/Teste_Video_resized.mp4: 480x640 35 Papayas, 11.6ms\n",
      "video 1/1 (frame 605/1231) /content/drive/MyDrive/Papaya-counter/Teste_Video_resized.mp4: 480x640 28 Papayas, 11.3ms\n",
      "video 1/1 (frame 606/1231) /content/drive/MyDrive/Papaya-counter/Teste_Video_resized.mp4: 480x640 32 Papayas, 10.9ms\n",
      "video 1/1 (frame 607/1231) /content/drive/MyDrive/Papaya-counter/Teste_Video_resized.mp4: 480x640 29 Papayas, 12.1ms\n",
      "video 1/1 (frame 608/1231) /content/drive/MyDrive/Papaya-counter/Teste_Video_resized.mp4: 480x640 29 Papayas, 10.5ms\n",
      "video 1/1 (frame 609/1231) /content/drive/MyDrive/Papaya-counter/Teste_Video_resized.mp4: 480x640 36 Papayas, 12.9ms\n",
      "video 1/1 (frame 610/1231) /content/drive/MyDrive/Papaya-counter/Teste_Video_resized.mp4: 480x640 29 Papayas, 19.8ms\n",
      "video 1/1 (frame 611/1231) /content/drive/MyDrive/Papaya-counter/Teste_Video_resized.mp4: 480x640 30 Papayas, 12.7ms\n",
      "video 1/1 (frame 612/1231) /content/drive/MyDrive/Papaya-counter/Teste_Video_resized.mp4: 480x640 29 Papayas, 15.8ms\n",
      "video 1/1 (frame 613/1231) /content/drive/MyDrive/Papaya-counter/Teste_Video_resized.mp4: 480x640 29 Papayas, 15.0ms\n",
      "video 1/1 (frame 614/1231) /content/drive/MyDrive/Papaya-counter/Teste_Video_resized.mp4: 480x640 30 Papayas, 12.9ms\n",
      "video 1/1 (frame 615/1231) /content/drive/MyDrive/Papaya-counter/Teste_Video_resized.mp4: 480x640 30 Papayas, 16.0ms\n",
      "video 1/1 (frame 616/1231) /content/drive/MyDrive/Papaya-counter/Teste_Video_resized.mp4: 480x640 32 Papayas, 20.4ms\n",
      "video 1/1 (frame 617/1231) /content/drive/MyDrive/Papaya-counter/Teste_Video_resized.mp4: 480x640 28 Papayas, 15.5ms\n",
      "video 1/1 (frame 618/1231) /content/drive/MyDrive/Papaya-counter/Teste_Video_resized.mp4: 480x640 25 Papayas, 22.6ms\n",
      "video 1/1 (frame 619/1231) /content/drive/MyDrive/Papaya-counter/Teste_Video_resized.mp4: 480x640 29 Papayas, 15.5ms\n",
      "video 1/1 (frame 620/1231) /content/drive/MyDrive/Papaya-counter/Teste_Video_resized.mp4: 480x640 25 Papayas, 16.0ms\n",
      "video 1/1 (frame 621/1231) /content/drive/MyDrive/Papaya-counter/Teste_Video_resized.mp4: 480x640 28 Papayas, 16.0ms\n",
      "video 1/1 (frame 622/1231) /content/drive/MyDrive/Papaya-counter/Teste_Video_resized.mp4: 480x640 32 Papayas, 15.9ms\n",
      "video 1/1 (frame 623/1231) /content/drive/MyDrive/Papaya-counter/Teste_Video_resized.mp4: 480x640 28 Papayas, 14.3ms\n",
      "video 1/1 (frame 624/1231) /content/drive/MyDrive/Papaya-counter/Teste_Video_resized.mp4: 480x640 29 Papayas, 12.9ms\n",
      "video 1/1 (frame 625/1231) /content/drive/MyDrive/Papaya-counter/Teste_Video_resized.mp4: 480x640 33 Papayas, 14.7ms\n",
      "video 1/1 (frame 626/1231) /content/drive/MyDrive/Papaya-counter/Teste_Video_resized.mp4: 480x640 30 Papayas, 14.7ms\n",
      "video 1/1 (frame 627/1231) /content/drive/MyDrive/Papaya-counter/Teste_Video_resized.mp4: 480x640 30 Papayas, 13.6ms\n",
      "video 1/1 (frame 628/1231) /content/drive/MyDrive/Papaya-counter/Teste_Video_resized.mp4: 480x640 29 Papayas, 13.3ms\n",
      "video 1/1 (frame 629/1231) /content/drive/MyDrive/Papaya-counter/Teste_Video_resized.mp4: 480x640 34 Papayas, 15.6ms\n",
      "video 1/1 (frame 630/1231) /content/drive/MyDrive/Papaya-counter/Teste_Video_resized.mp4: 480x640 34 Papayas, 15.1ms\n",
      "video 1/1 (frame 631/1231) /content/drive/MyDrive/Papaya-counter/Teste_Video_resized.mp4: 480x640 30 Papayas, 18.4ms\n",
      "video 1/1 (frame 632/1231) /content/drive/MyDrive/Papaya-counter/Teste_Video_resized.mp4: 480x640 29 Papayas, 18.1ms\n",
      "video 1/1 (frame 633/1231) /content/drive/MyDrive/Papaya-counter/Teste_Video_resized.mp4: 480x640 27 Papayas, 16.0ms\n",
      "video 1/1 (frame 634/1231) /content/drive/MyDrive/Papaya-counter/Teste_Video_resized.mp4: 480x640 29 Papayas, 16.8ms\n",
      "video 1/1 (frame 635/1231) /content/drive/MyDrive/Papaya-counter/Teste_Video_resized.mp4: 480x640 28 Papayas, 19.7ms\n",
      "video 1/1 (frame 636/1231) /content/drive/MyDrive/Papaya-counter/Teste_Video_resized.mp4: 480x640 26 Papayas, 25.1ms\n",
      "video 1/1 (frame 637/1231) /content/drive/MyDrive/Papaya-counter/Teste_Video_resized.mp4: 480x640 27 Papayas, 17.0ms\n",
      "video 1/1 (frame 638/1231) /content/drive/MyDrive/Papaya-counter/Teste_Video_resized.mp4: 480x640 27 Papayas, 10.1ms\n",
      "video 1/1 (frame 639/1231) /content/drive/MyDrive/Papaya-counter/Teste_Video_resized.mp4: 480x640 30 Papayas, 11.8ms\n",
      "video 1/1 (frame 640/1231) /content/drive/MyDrive/Papaya-counter/Teste_Video_resized.mp4: 480x640 28 Papayas, 10.1ms\n",
      "video 1/1 (frame 641/1231) /content/drive/MyDrive/Papaya-counter/Teste_Video_resized.mp4: 480x640 26 Papayas, 10.6ms\n",
      "video 1/1 (frame 642/1231) /content/drive/MyDrive/Papaya-counter/Teste_Video_resized.mp4: 480x640 28 Papayas, 8.8ms\n",
      "video 1/1 (frame 643/1231) /content/drive/MyDrive/Papaya-counter/Teste_Video_resized.mp4: 480x640 30 Papayas, 14.4ms\n",
      "video 1/1 (frame 644/1231) /content/drive/MyDrive/Papaya-counter/Teste_Video_resized.mp4: 480x640 29 Papayas, 9.7ms\n",
      "video 1/1 (frame 645/1231) /content/drive/MyDrive/Papaya-counter/Teste_Video_resized.mp4: 480x640 28 Papayas, 8.6ms\n",
      "video 1/1 (frame 646/1231) /content/drive/MyDrive/Papaya-counter/Teste_Video_resized.mp4: 480x640 27 Papayas, 10.3ms\n",
      "video 1/1 (frame 647/1231) /content/drive/MyDrive/Papaya-counter/Teste_Video_resized.mp4: 480x640 29 Papayas, 9.4ms\n",
      "video 1/1 (frame 648/1231) /content/drive/MyDrive/Papaya-counter/Teste_Video_resized.mp4: 480x640 28 Papayas, 8.7ms\n",
      "video 1/1 (frame 649/1231) /content/drive/MyDrive/Papaya-counter/Teste_Video_resized.mp4: 480x640 31 Papayas, 9.3ms\n",
      "video 1/1 (frame 650/1231) /content/drive/MyDrive/Papaya-counter/Teste_Video_resized.mp4: 480x640 32 Papayas, 9.7ms\n",
      "video 1/1 (frame 651/1231) /content/drive/MyDrive/Papaya-counter/Teste_Video_resized.mp4: 480x640 29 Papayas, 8.7ms\n",
      "video 1/1 (frame 652/1231) /content/drive/MyDrive/Papaya-counter/Teste_Video_resized.mp4: 480x640 27 Papayas, 10.8ms\n",
      "video 1/1 (frame 653/1231) /content/drive/MyDrive/Papaya-counter/Teste_Video_resized.mp4: 480x640 32 Papayas, 10.2ms\n",
      "video 1/1 (frame 654/1231) /content/drive/MyDrive/Papaya-counter/Teste_Video_resized.mp4: 480x640 31 Papayas, 11.1ms\n",
      "video 1/1 (frame 655/1231) /content/drive/MyDrive/Papaya-counter/Teste_Video_resized.mp4: 480x640 31 Papayas, 9.4ms\n",
      "video 1/1 (frame 656/1231) /content/drive/MyDrive/Papaya-counter/Teste_Video_resized.mp4: 480x640 33 Papayas, 10.2ms\n",
      "video 1/1 (frame 657/1231) /content/drive/MyDrive/Papaya-counter/Teste_Video_resized.mp4: 480x640 32 Papayas, 10.2ms\n",
      "video 1/1 (frame 658/1231) /content/drive/MyDrive/Papaya-counter/Teste_Video_resized.mp4: 480x640 36 Papayas, 9.3ms\n",
      "video 1/1 (frame 659/1231) /content/drive/MyDrive/Papaya-counter/Teste_Video_resized.mp4: 480x640 30 Papayas, 9.0ms\n",
      "video 1/1 (frame 660/1231) /content/drive/MyDrive/Papaya-counter/Teste_Video_resized.mp4: 480x640 33 Papayas, 8.7ms\n",
      "video 1/1 (frame 661/1231) /content/drive/MyDrive/Papaya-counter/Teste_Video_resized.mp4: 480x640 33 Papayas, 10.9ms\n",
      "video 1/1 (frame 662/1231) /content/drive/MyDrive/Papaya-counter/Teste_Video_resized.mp4: 480x640 32 Papayas, 10.1ms\n",
      "video 1/1 (frame 663/1231) /content/drive/MyDrive/Papaya-counter/Teste_Video_resized.mp4: 480x640 35 Papayas, 9.8ms\n",
      "video 1/1 (frame 664/1231) /content/drive/MyDrive/Papaya-counter/Teste_Video_resized.mp4: 480x640 34 Papayas, 9.6ms\n",
      "video 1/1 (frame 665/1231) /content/drive/MyDrive/Papaya-counter/Teste_Video_resized.mp4: 480x640 31 Papayas, 10.0ms\n",
      "video 1/1 (frame 666/1231) /content/drive/MyDrive/Papaya-counter/Teste_Video_resized.mp4: 480x640 33 Papayas, 10.2ms\n",
      "video 1/1 (frame 667/1231) /content/drive/MyDrive/Papaya-counter/Teste_Video_resized.mp4: 480x640 33 Papayas, 11.3ms\n",
      "video 1/1 (frame 668/1231) /content/drive/MyDrive/Papaya-counter/Teste_Video_resized.mp4: 480x640 33 Papayas, 11.9ms\n",
      "video 1/1 (frame 669/1231) /content/drive/MyDrive/Papaya-counter/Teste_Video_resized.mp4: 480x640 34 Papayas, 13.0ms\n",
      "video 1/1 (frame 670/1231) /content/drive/MyDrive/Papaya-counter/Teste_Video_resized.mp4: 480x640 33 Papayas, 14.4ms\n",
      "video 1/1 (frame 671/1231) /content/drive/MyDrive/Papaya-counter/Teste_Video_resized.mp4: 480x640 35 Papayas, 15.7ms\n",
      "video 1/1 (frame 672/1231) /content/drive/MyDrive/Papaya-counter/Teste_Video_resized.mp4: 480x640 33 Papayas, 10.8ms\n",
      "video 1/1 (frame 673/1231) /content/drive/MyDrive/Papaya-counter/Teste_Video_resized.mp4: 480x640 31 Papayas, 8.4ms\n",
      "video 1/1 (frame 674/1231) /content/drive/MyDrive/Papaya-counter/Teste_Video_resized.mp4: 480x640 36 Papayas, 10.2ms\n",
      "video 1/1 (frame 675/1231) /content/drive/MyDrive/Papaya-counter/Teste_Video_resized.mp4: 480x640 37 Papayas, 10.2ms\n",
      "video 1/1 (frame 676/1231) /content/drive/MyDrive/Papaya-counter/Teste_Video_resized.mp4: 480x640 34 Papayas, 8.5ms\n",
      "video 1/1 (frame 677/1231) /content/drive/MyDrive/Papaya-counter/Teste_Video_resized.mp4: 480x640 33 Papayas, 8.9ms\n",
      "video 1/1 (frame 678/1231) /content/drive/MyDrive/Papaya-counter/Teste_Video_resized.mp4: 480x640 31 Papayas, 11.6ms\n",
      "video 1/1 (frame 679/1231) /content/drive/MyDrive/Papaya-counter/Teste_Video_resized.mp4: 480x640 31 Papayas, 16.8ms\n",
      "video 1/1 (frame 680/1231) /content/drive/MyDrive/Papaya-counter/Teste_Video_resized.mp4: 480x640 33 Papayas, 9.8ms\n",
      "video 1/1 (frame 681/1231) /content/drive/MyDrive/Papaya-counter/Teste_Video_resized.mp4: 480x640 32 Papayas, 9.7ms\n",
      "video 1/1 (frame 682/1231) /content/drive/MyDrive/Papaya-counter/Teste_Video_resized.mp4: 480x640 31 Papayas, 8.8ms\n",
      "video 1/1 (frame 683/1231) /content/drive/MyDrive/Papaya-counter/Teste_Video_resized.mp4: 480x640 32 Papayas, 10.2ms\n",
      "video 1/1 (frame 684/1231) /content/drive/MyDrive/Papaya-counter/Teste_Video_resized.mp4: 480x640 33 Papayas, 12.5ms\n",
      "video 1/1 (frame 685/1231) /content/drive/MyDrive/Papaya-counter/Teste_Video_resized.mp4: 480x640 29 Papayas, 8.9ms\n",
      "video 1/1 (frame 686/1231) /content/drive/MyDrive/Papaya-counter/Teste_Video_resized.mp4: 480x640 30 Papayas, 9.2ms\n",
      "video 1/1 (frame 687/1231) /content/drive/MyDrive/Papaya-counter/Teste_Video_resized.mp4: 480x640 32 Papayas, 8.4ms\n",
      "video 1/1 (frame 688/1231) /content/drive/MyDrive/Papaya-counter/Teste_Video_resized.mp4: 480x640 31 Papayas, 8.3ms\n",
      "video 1/1 (frame 689/1231) /content/drive/MyDrive/Papaya-counter/Teste_Video_resized.mp4: 480x640 28 Papayas, 11.7ms\n",
      "video 1/1 (frame 690/1231) /content/drive/MyDrive/Papaya-counter/Teste_Video_resized.mp4: 480x640 32 Papayas, 9.9ms\n",
      "video 1/1 (frame 691/1231) /content/drive/MyDrive/Papaya-counter/Teste_Video_resized.mp4: 480x640 30 Papayas, 8.9ms\n",
      "video 1/1 (frame 692/1231) /content/drive/MyDrive/Papaya-counter/Teste_Video_resized.mp4: 480x640 31 Papayas, 8.2ms\n",
      "video 1/1 (frame 693/1231) /content/drive/MyDrive/Papaya-counter/Teste_Video_resized.mp4: 480x640 31 Papayas, 8.4ms\n",
      "video 1/1 (frame 694/1231) /content/drive/MyDrive/Papaya-counter/Teste_Video_resized.mp4: 480x640 29 Papayas, 8.5ms\n",
      "video 1/1 (frame 695/1231) /content/drive/MyDrive/Papaya-counter/Teste_Video_resized.mp4: 480x640 28 Papayas, 8.3ms\n",
      "video 1/1 (frame 696/1231) /content/drive/MyDrive/Papaya-counter/Teste_Video_resized.mp4: 480x640 34 Papayas, 9.1ms\n",
      "video 1/1 (frame 697/1231) /content/drive/MyDrive/Papaya-counter/Teste_Video_resized.mp4: 480x640 30 Papayas, 8.6ms\n",
      "video 1/1 (frame 698/1231) /content/drive/MyDrive/Papaya-counter/Teste_Video_resized.mp4: 480x640 31 Papayas, 8.6ms\n",
      "video 1/1 (frame 699/1231) /content/drive/MyDrive/Papaya-counter/Teste_Video_resized.mp4: 480x640 30 Papayas, 9.3ms\n",
      "video 1/1 (frame 700/1231) /content/drive/MyDrive/Papaya-counter/Teste_Video_resized.mp4: 480x640 31 Papayas, 9.4ms\n",
      "video 1/1 (frame 701/1231) /content/drive/MyDrive/Papaya-counter/Teste_Video_resized.mp4: 480x640 29 Papayas, 8.2ms\n",
      "video 1/1 (frame 702/1231) /content/drive/MyDrive/Papaya-counter/Teste_Video_resized.mp4: 480x640 29 Papayas, 8.8ms\n",
      "video 1/1 (frame 703/1231) /content/drive/MyDrive/Papaya-counter/Teste_Video_resized.mp4: 480x640 33 Papayas, 12.0ms\n",
      "video 1/1 (frame 704/1231) /content/drive/MyDrive/Papaya-counter/Teste_Video_resized.mp4: 480x640 32 Papayas, 13.2ms\n",
      "video 1/1 (frame 705/1231) /content/drive/MyDrive/Papaya-counter/Teste_Video_resized.mp4: 480x640 32 Papayas, 11.7ms\n",
      "video 1/1 (frame 706/1231) /content/drive/MyDrive/Papaya-counter/Teste_Video_resized.mp4: 480x640 29 Papayas, 13.6ms\n",
      "video 1/1 (frame 707/1231) /content/drive/MyDrive/Papaya-counter/Teste_Video_resized.mp4: 480x640 29 Papayas, 18.4ms\n",
      "video 1/1 (frame 708/1231) /content/drive/MyDrive/Papaya-counter/Teste_Video_resized.mp4: 480x640 30 Papayas, 8.9ms\n",
      "video 1/1 (frame 709/1231) /content/drive/MyDrive/Papaya-counter/Teste_Video_resized.mp4: 480x640 27 Papayas, 8.9ms\n",
      "video 1/1 (frame 710/1231) /content/drive/MyDrive/Papaya-counter/Teste_Video_resized.mp4: 480x640 31 Papayas, 8.8ms\n",
      "video 1/1 (frame 711/1231) /content/drive/MyDrive/Papaya-counter/Teste_Video_resized.mp4: 480x640 31 Papayas, 8.3ms\n",
      "video 1/1 (frame 712/1231) /content/drive/MyDrive/Papaya-counter/Teste_Video_resized.mp4: 480x640 30 Papayas, 8.5ms\n",
      "video 1/1 (frame 713/1231) /content/drive/MyDrive/Papaya-counter/Teste_Video_resized.mp4: 480x640 27 Papayas, 8.3ms\n",
      "video 1/1 (frame 714/1231) /content/drive/MyDrive/Papaya-counter/Teste_Video_resized.mp4: 480x640 25 Papayas, 9.0ms\n",
      "video 1/1 (frame 715/1231) /content/drive/MyDrive/Papaya-counter/Teste_Video_resized.mp4: 480x640 26 Papayas, 15.1ms\n",
      "video 1/1 (frame 716/1231) /content/drive/MyDrive/Papaya-counter/Teste_Video_resized.mp4: 480x640 31 Papayas, 13.6ms\n",
      "video 1/1 (frame 717/1231) /content/drive/MyDrive/Papaya-counter/Teste_Video_resized.mp4: 480x640 26 Papayas, 9.2ms\n",
      "video 1/1 (frame 718/1231) /content/drive/MyDrive/Papaya-counter/Teste_Video_resized.mp4: 480x640 27 Papayas, 10.7ms\n",
      "video 1/1 (frame 719/1231) /content/drive/MyDrive/Papaya-counter/Teste_Video_resized.mp4: 480x640 30 Papayas, 10.3ms\n",
      "video 1/1 (frame 720/1231) /content/drive/MyDrive/Papaya-counter/Teste_Video_resized.mp4: 480x640 28 Papayas, 10.9ms\n",
      "video 1/1 (frame 721/1231) /content/drive/MyDrive/Papaya-counter/Teste_Video_resized.mp4: 480x640 25 Papayas, 10.7ms\n",
      "video 1/1 (frame 722/1231) /content/drive/MyDrive/Papaya-counter/Teste_Video_resized.mp4: 480x640 25 Papayas, 10.5ms\n",
      "video 1/1 (frame 723/1231) /content/drive/MyDrive/Papaya-counter/Teste_Video_resized.mp4: 480x640 24 Papayas, 9.8ms\n",
      "video 1/1 (frame 724/1231) /content/drive/MyDrive/Papaya-counter/Teste_Video_resized.mp4: 480x640 24 Papayas, 10.3ms\n",
      "video 1/1 (frame 725/1231) /content/drive/MyDrive/Papaya-counter/Teste_Video_resized.mp4: 480x640 25 Papayas, 9.6ms\n",
      "video 1/1 (frame 726/1231) /content/drive/MyDrive/Papaya-counter/Teste_Video_resized.mp4: 480x640 30 Papayas, 11.6ms\n",
      "video 1/1 (frame 727/1231) /content/drive/MyDrive/Papaya-counter/Teste_Video_resized.mp4: 480x640 25 Papayas, 9.6ms\n",
      "video 1/1 (frame 728/1231) /content/drive/MyDrive/Papaya-counter/Teste_Video_resized.mp4: 480x640 27 Papayas, 11.0ms\n",
      "video 1/1 (frame 729/1231) /content/drive/MyDrive/Papaya-counter/Teste_Video_resized.mp4: 480x640 30 Papayas, 9.0ms\n",
      "video 1/1 (frame 730/1231) /content/drive/MyDrive/Papaya-counter/Teste_Video_resized.mp4: 480x640 26 Papayas, 10.8ms\n",
      "video 1/1 (frame 731/1231) /content/drive/MyDrive/Papaya-counter/Teste_Video_resized.mp4: 480x640 25 Papayas, 10.1ms\n",
      "video 1/1 (frame 732/1231) /content/drive/MyDrive/Papaya-counter/Teste_Video_resized.mp4: 480x640 29 Papayas, 8.9ms\n",
      "video 1/1 (frame 733/1231) /content/drive/MyDrive/Papaya-counter/Teste_Video_resized.mp4: 480x640 25 Papayas, 10.3ms\n",
      "video 1/1 (frame 734/1231) /content/drive/MyDrive/Papaya-counter/Teste_Video_resized.mp4: 480x640 28 Papayas, 9.0ms\n",
      "video 1/1 (frame 735/1231) /content/drive/MyDrive/Papaya-counter/Teste_Video_resized.mp4: 480x640 23 Papayas, 12.6ms\n",
      "video 1/1 (frame 736/1231) /content/drive/MyDrive/Papaya-counter/Teste_Video_resized.mp4: 480x640 27 Papayas, 9.2ms\n",
      "video 1/1 (frame 737/1231) /content/drive/MyDrive/Papaya-counter/Teste_Video_resized.mp4: 480x640 24 Papayas, 10.4ms\n",
      "video 1/1 (frame 738/1231) /content/drive/MyDrive/Papaya-counter/Teste_Video_resized.mp4: 480x640 28 Papayas, 10.0ms\n",
      "video 1/1 (frame 739/1231) /content/drive/MyDrive/Papaya-counter/Teste_Video_resized.mp4: 480x640 26 Papayas, 20.6ms\n",
      "video 1/1 (frame 740/1231) /content/drive/MyDrive/Papaya-counter/Teste_Video_resized.mp4: 480x640 25 Papayas, 15.1ms\n",
      "video 1/1 (frame 741/1231) /content/drive/MyDrive/Papaya-counter/Teste_Video_resized.mp4: 480x640 28 Papayas, 18.7ms\n",
      "video 1/1 (frame 742/1231) /content/drive/MyDrive/Papaya-counter/Teste_Video_resized.mp4: 480x640 26 Papayas, 14.3ms\n",
      "video 1/1 (frame 743/1231) /content/drive/MyDrive/Papaya-counter/Teste_Video_resized.mp4: 480x640 32 Papayas, 14.3ms\n",
      "video 1/1 (frame 744/1231) /content/drive/MyDrive/Papaya-counter/Teste_Video_resized.mp4: 480x640 33 Papayas, 11.9ms\n",
      "video 1/1 (frame 745/1231) /content/drive/MyDrive/Papaya-counter/Teste_Video_resized.mp4: 480x640 29 Papayas, 10.4ms\n",
      "video 1/1 (frame 746/1231) /content/drive/MyDrive/Papaya-counter/Teste_Video_resized.mp4: 480x640 23 Papayas, 8.9ms\n",
      "video 1/1 (frame 747/1231) /content/drive/MyDrive/Papaya-counter/Teste_Video_resized.mp4: 480x640 26 Papayas, 10.4ms\n",
      "video 1/1 (frame 748/1231) /content/drive/MyDrive/Papaya-counter/Teste_Video_resized.mp4: 480x640 26 Papayas, 8.4ms\n",
      "video 1/1 (frame 749/1231) /content/drive/MyDrive/Papaya-counter/Teste_Video_resized.mp4: 480x640 28 Papayas, 10.4ms\n",
      "video 1/1 (frame 750/1231) /content/drive/MyDrive/Papaya-counter/Teste_Video_resized.mp4: 480x640 33 Papayas, 12.0ms\n",
      "video 1/1 (frame 751/1231) /content/drive/MyDrive/Papaya-counter/Teste_Video_resized.mp4: 480x640 27 Papayas, 19.0ms\n",
      "video 1/1 (frame 752/1231) /content/drive/MyDrive/Papaya-counter/Teste_Video_resized.mp4: 480x640 27 Papayas, 9.4ms\n",
      "video 1/1 (frame 753/1231) /content/drive/MyDrive/Papaya-counter/Teste_Video_resized.mp4: 480x640 24 Papayas, 12.2ms\n",
      "video 1/1 (frame 754/1231) /content/drive/MyDrive/Papaya-counter/Teste_Video_resized.mp4: 480x640 25 Papayas, 10.2ms\n",
      "video 1/1 (frame 755/1231) /content/drive/MyDrive/Papaya-counter/Teste_Video_resized.mp4: 480x640 28 Papayas, 11.0ms\n",
      "video 1/1 (frame 756/1231) /content/drive/MyDrive/Papaya-counter/Teste_Video_resized.mp4: 480x640 33 Papayas, 9.4ms\n",
      "video 1/1 (frame 757/1231) /content/drive/MyDrive/Papaya-counter/Teste_Video_resized.mp4: 480x640 33 Papayas, 9.1ms\n",
      "video 1/1 (frame 758/1231) /content/drive/MyDrive/Papaya-counter/Teste_Video_resized.mp4: 480x640 30 Papayas, 9.1ms\n",
      "video 1/1 (frame 759/1231) /content/drive/MyDrive/Papaya-counter/Teste_Video_resized.mp4: 480x640 28 Papayas, 9.3ms\n",
      "video 1/1 (frame 760/1231) /content/drive/MyDrive/Papaya-counter/Teste_Video_resized.mp4: 480x640 33 Papayas, 12.8ms\n",
      "video 1/1 (frame 761/1231) /content/drive/MyDrive/Papaya-counter/Teste_Video_resized.mp4: 480x640 26 Papayas, 10.9ms\n",
      "video 1/1 (frame 762/1231) /content/drive/MyDrive/Papaya-counter/Teste_Video_resized.mp4: 480x640 28 Papayas, 10.5ms\n",
      "video 1/1 (frame 763/1231) /content/drive/MyDrive/Papaya-counter/Teste_Video_resized.mp4: 480x640 31 Papayas, 10.5ms\n",
      "video 1/1 (frame 764/1231) /content/drive/MyDrive/Papaya-counter/Teste_Video_resized.mp4: 480x640 30 Papayas, 9.2ms\n",
      "video 1/1 (frame 765/1231) /content/drive/MyDrive/Papaya-counter/Teste_Video_resized.mp4: 480x640 30 Papayas, 11.2ms\n",
      "video 1/1 (frame 766/1231) /content/drive/MyDrive/Papaya-counter/Teste_Video_resized.mp4: 480x640 30 Papayas, 15.2ms\n",
      "video 1/1 (frame 767/1231) /content/drive/MyDrive/Papaya-counter/Teste_Video_resized.mp4: 480x640 30 Papayas, 10.4ms\n",
      "video 1/1 (frame 768/1231) /content/drive/MyDrive/Papaya-counter/Teste_Video_resized.mp4: 480x640 27 Papayas, 9.5ms\n",
      "video 1/1 (frame 769/1231) /content/drive/MyDrive/Papaya-counter/Teste_Video_resized.mp4: 480x640 25 Papayas, 8.9ms\n",
      "video 1/1 (frame 770/1231) /content/drive/MyDrive/Papaya-counter/Teste_Video_resized.mp4: 480x640 27 Papayas, 9.3ms\n",
      "video 1/1 (frame 771/1231) /content/drive/MyDrive/Papaya-counter/Teste_Video_resized.mp4: 480x640 33 Papayas, 9.1ms\n",
      "video 1/1 (frame 772/1231) /content/drive/MyDrive/Papaya-counter/Teste_Video_resized.mp4: 480x640 32 Papayas, 11.2ms\n",
      "video 1/1 (frame 773/1231) /content/drive/MyDrive/Papaya-counter/Teste_Video_resized.mp4: 480x640 32 Papayas, 12.8ms\n",
      "video 1/1 (frame 774/1231) /content/drive/MyDrive/Papaya-counter/Teste_Video_resized.mp4: 480x640 30 Papayas, 13.8ms\n",
      "video 1/1 (frame 775/1231) /content/drive/MyDrive/Papaya-counter/Teste_Video_resized.mp4: 480x640 31 Papayas, 13.1ms\n",
      "video 1/1 (frame 776/1231) /content/drive/MyDrive/Papaya-counter/Teste_Video_resized.mp4: 480x640 28 Papayas, 16.9ms\n",
      "video 1/1 (frame 777/1231) /content/drive/MyDrive/Papaya-counter/Teste_Video_resized.mp4: 480x640 31 Papayas, 9.0ms\n",
      "video 1/1 (frame 778/1231) /content/drive/MyDrive/Papaya-counter/Teste_Video_resized.mp4: 480x640 28 Papayas, 10.3ms\n",
      "video 1/1 (frame 779/1231) /content/drive/MyDrive/Papaya-counter/Teste_Video_resized.mp4: 480x640 30 Papayas, 12.4ms\n",
      "video 1/1 (frame 780/1231) /content/drive/MyDrive/Papaya-counter/Teste_Video_resized.mp4: 480x640 26 Papayas, 13.0ms\n",
      "video 1/1 (frame 781/1231) /content/drive/MyDrive/Papaya-counter/Teste_Video_resized.mp4: 480x640 27 Papayas, 10.0ms\n",
      "video 1/1 (frame 782/1231) /content/drive/MyDrive/Papaya-counter/Teste_Video_resized.mp4: 480x640 26 Papayas, 10.2ms\n",
      "video 1/1 (frame 783/1231) /content/drive/MyDrive/Papaya-counter/Teste_Video_resized.mp4: 480x640 24 Papayas, 9.8ms\n",
      "video 1/1 (frame 784/1231) /content/drive/MyDrive/Papaya-counter/Teste_Video_resized.mp4: 480x640 24 Papayas, 11.3ms\n",
      "video 1/1 (frame 785/1231) /content/drive/MyDrive/Papaya-counter/Teste_Video_resized.mp4: 480x640 27 Papayas, 10.7ms\n",
      "video 1/1 (frame 786/1231) /content/drive/MyDrive/Papaya-counter/Teste_Video_resized.mp4: 480x640 31 Papayas, 10.5ms\n",
      "video 1/1 (frame 787/1231) /content/drive/MyDrive/Papaya-counter/Teste_Video_resized.mp4: 480x640 25 Papayas, 14.7ms\n",
      "video 1/1 (frame 788/1231) /content/drive/MyDrive/Papaya-counter/Teste_Video_resized.mp4: 480x640 32 Papayas, 11.3ms\n",
      "video 1/1 (frame 789/1231) /content/drive/MyDrive/Papaya-counter/Teste_Video_resized.mp4: 480x640 29 Papayas, 10.3ms\n",
      "video 1/1 (frame 790/1231) /content/drive/MyDrive/Papaya-counter/Teste_Video_resized.mp4: 480x640 24 Papayas, 10.5ms\n",
      "video 1/1 (frame 791/1231) /content/drive/MyDrive/Papaya-counter/Teste_Video_resized.mp4: 480x640 28 Papayas, 10.4ms\n",
      "video 1/1 (frame 792/1231) /content/drive/MyDrive/Papaya-counter/Teste_Video_resized.mp4: 480x640 35 Papayas, 10.1ms\n",
      "video 1/1 (frame 793/1231) /content/drive/MyDrive/Papaya-counter/Teste_Video_resized.mp4: 480x640 27 Papayas, 9.8ms\n",
      "video 1/1 (frame 794/1231) /content/drive/MyDrive/Papaya-counter/Teste_Video_resized.mp4: 480x640 31 Papayas, 13.7ms\n",
      "video 1/1 (frame 795/1231) /content/drive/MyDrive/Papaya-counter/Teste_Video_resized.mp4: 480x640 28 Papayas, 9.0ms\n",
      "video 1/1 (frame 796/1231) /content/drive/MyDrive/Papaya-counter/Teste_Video_resized.mp4: 480x640 27 Papayas, 18.4ms\n",
      "video 1/1 (frame 797/1231) /content/drive/MyDrive/Papaya-counter/Teste_Video_resized.mp4: 480x640 33 Papayas, 8.7ms\n",
      "video 1/1 (frame 798/1231) /content/drive/MyDrive/Papaya-counter/Teste_Video_resized.mp4: 480x640 28 Papayas, 12.2ms\n",
      "video 1/1 (frame 799/1231) /content/drive/MyDrive/Papaya-counter/Teste_Video_resized.mp4: 480x640 25 Papayas, 23.8ms\n",
      "video 1/1 (frame 800/1231) /content/drive/MyDrive/Papaya-counter/Teste_Video_resized.mp4: 480x640 31 Papayas, 10.6ms\n",
      "video 1/1 (frame 801/1231) /content/drive/MyDrive/Papaya-counter/Teste_Video_resized.mp4: 480x640 27 Papayas, 10.3ms\n",
      "video 1/1 (frame 802/1231) /content/drive/MyDrive/Papaya-counter/Teste_Video_resized.mp4: 480x640 27 Papayas, 10.3ms\n",
      "video 1/1 (frame 803/1231) /content/drive/MyDrive/Papaya-counter/Teste_Video_resized.mp4: 480x640 30 Papayas, 10.2ms\n",
      "video 1/1 (frame 804/1231) /content/drive/MyDrive/Papaya-counter/Teste_Video_resized.mp4: 480x640 29 Papayas, 9.8ms\n",
      "video 1/1 (frame 805/1231) /content/drive/MyDrive/Papaya-counter/Teste_Video_resized.mp4: 480x640 28 Papayas, 15.1ms\n",
      "video 1/1 (frame 806/1231) /content/drive/MyDrive/Papaya-counter/Teste_Video_resized.mp4: 480x640 32 Papayas, 13.0ms\n",
      "video 1/1 (frame 807/1231) /content/drive/MyDrive/Papaya-counter/Teste_Video_resized.mp4: 480x640 32 Papayas, 21.5ms\n",
      "video 1/1 (frame 808/1231) /content/drive/MyDrive/Papaya-counter/Teste_Video_resized.mp4: 480x640 33 Papayas, 13.2ms\n",
      "video 1/1 (frame 809/1231) /content/drive/MyDrive/Papaya-counter/Teste_Video_resized.mp4: 480x640 26 Papayas, 15.5ms\n",
      "video 1/1 (frame 810/1231) /content/drive/MyDrive/Papaya-counter/Teste_Video_resized.mp4: 480x640 27 Papayas, 11.4ms\n",
      "video 1/1 (frame 811/1231) /content/drive/MyDrive/Papaya-counter/Teste_Video_resized.mp4: 480x640 32 Papayas, 12.6ms\n",
      "video 1/1 (frame 812/1231) /content/drive/MyDrive/Papaya-counter/Teste_Video_resized.mp4: 480x640 37 Papayas, 8.7ms\n",
      "video 1/1 (frame 813/1231) /content/drive/MyDrive/Papaya-counter/Teste_Video_resized.mp4: 480x640 31 Papayas, 9.8ms\n",
      "video 1/1 (frame 814/1231) /content/drive/MyDrive/Papaya-counter/Teste_Video_resized.mp4: 480x640 35 Papayas, 9.0ms\n",
      "video 1/1 (frame 815/1231) /content/drive/MyDrive/Papaya-counter/Teste_Video_resized.mp4: 480x640 34 Papayas, 9.0ms\n",
      "video 1/1 (frame 816/1231) /content/drive/MyDrive/Papaya-counter/Teste_Video_resized.mp4: 480x640 33 Papayas, 8.7ms\n",
      "video 1/1 (frame 817/1231) /content/drive/MyDrive/Papaya-counter/Teste_Video_resized.mp4: 480x640 35 Papayas, 10.1ms\n",
      "video 1/1 (frame 818/1231) /content/drive/MyDrive/Papaya-counter/Teste_Video_resized.mp4: 480x640 38 Papayas, 9.1ms\n",
      "video 1/1 (frame 819/1231) /content/drive/MyDrive/Papaya-counter/Teste_Video_resized.mp4: 480x640 33 Papayas, 10.7ms\n",
      "video 1/1 (frame 820/1231) /content/drive/MyDrive/Papaya-counter/Teste_Video_resized.mp4: 480x640 37 Papayas, 13.4ms\n",
      "video 1/1 (frame 821/1231) /content/drive/MyDrive/Papaya-counter/Teste_Video_resized.mp4: 480x640 33 Papayas, 9.3ms\n",
      "video 1/1 (frame 822/1231) /content/drive/MyDrive/Papaya-counter/Teste_Video_resized.mp4: 480x640 33 Papayas, 10.2ms\n",
      "video 1/1 (frame 823/1231) /content/drive/MyDrive/Papaya-counter/Teste_Video_resized.mp4: 480x640 39 Papayas, 12.8ms\n",
      "video 1/1 (frame 824/1231) /content/drive/MyDrive/Papaya-counter/Teste_Video_resized.mp4: 480x640 31 Papayas, 9.5ms\n",
      "video 1/1 (frame 825/1231) /content/drive/MyDrive/Papaya-counter/Teste_Video_resized.mp4: 480x640 31 Papayas, 10.1ms\n",
      "video 1/1 (frame 826/1231) /content/drive/MyDrive/Papaya-counter/Teste_Video_resized.mp4: 480x640 37 Papayas, 8.6ms\n",
      "video 1/1 (frame 827/1231) /content/drive/MyDrive/Papaya-counter/Teste_Video_resized.mp4: 480x640 36 Papayas, 12.3ms\n",
      "video 1/1 (frame 828/1231) /content/drive/MyDrive/Papaya-counter/Teste_Video_resized.mp4: 480x640 38 Papayas, 9.8ms\n",
      "video 1/1 (frame 829/1231) /content/drive/MyDrive/Papaya-counter/Teste_Video_resized.mp4: 480x640 38 Papayas, 9.2ms\n",
      "video 1/1 (frame 830/1231) /content/drive/MyDrive/Papaya-counter/Teste_Video_resized.mp4: 480x640 32 Papayas, 12.9ms\n",
      "video 1/1 (frame 831/1231) /content/drive/MyDrive/Papaya-counter/Teste_Video_resized.mp4: 480x640 34 Papayas, 13.5ms\n",
      "video 1/1 (frame 832/1231) /content/drive/MyDrive/Papaya-counter/Teste_Video_resized.mp4: 480x640 34 Papayas, 9.4ms\n",
      "video 1/1 (frame 833/1231) /content/drive/MyDrive/Papaya-counter/Teste_Video_resized.mp4: 480x640 32 Papayas, 8.5ms\n",
      "video 1/1 (frame 834/1231) /content/drive/MyDrive/Papaya-counter/Teste_Video_resized.mp4: 480x640 29 Papayas, 9.9ms\n",
      "video 1/1 (frame 835/1231) /content/drive/MyDrive/Papaya-counter/Teste_Video_resized.mp4: 480x640 34 Papayas, 8.6ms\n",
      "video 1/1 (frame 836/1231) /content/drive/MyDrive/Papaya-counter/Teste_Video_resized.mp4: 480x640 31 Papayas, 19.5ms\n",
      "video 1/1 (frame 837/1231) /content/drive/MyDrive/Papaya-counter/Teste_Video_resized.mp4: 480x640 28 Papayas, 9.5ms\n",
      "video 1/1 (frame 838/1231) /content/drive/MyDrive/Papaya-counter/Teste_Video_resized.mp4: 480x640 31 Papayas, 13.9ms\n",
      "video 1/1 (frame 839/1231) /content/drive/MyDrive/Papaya-counter/Teste_Video_resized.mp4: 480x640 37 Papayas, 12.6ms\n",
      "video 1/1 (frame 840/1231) /content/drive/MyDrive/Papaya-counter/Teste_Video_resized.mp4: 480x640 29 Papayas, 12.9ms\n",
      "video 1/1 (frame 841/1231) /content/drive/MyDrive/Papaya-counter/Teste_Video_resized.mp4: 480x640 38 Papayas, 23.0ms\n",
      "video 1/1 (frame 842/1231) /content/drive/MyDrive/Papaya-counter/Teste_Video_resized.mp4: 480x640 34 Papayas, 14.7ms\n",
      "video 1/1 (frame 843/1231) /content/drive/MyDrive/Papaya-counter/Teste_Video_resized.mp4: 480x640 35 Papayas, 12.3ms\n",
      "video 1/1 (frame 844/1231) /content/drive/MyDrive/Papaya-counter/Teste_Video_resized.mp4: 480x640 37 Papayas, 8.6ms\n",
      "video 1/1 (frame 845/1231) /content/drive/MyDrive/Papaya-counter/Teste_Video_resized.mp4: 480x640 34 Papayas, 8.6ms\n",
      "video 1/1 (frame 846/1231) /content/drive/MyDrive/Papaya-counter/Teste_Video_resized.mp4: 480x640 39 Papayas, 10.2ms\n",
      "video 1/1 (frame 847/1231) /content/drive/MyDrive/Papaya-counter/Teste_Video_resized.mp4: 480x640 38 Papayas, 11.1ms\n",
      "video 1/1 (frame 848/1231) /content/drive/MyDrive/Papaya-counter/Teste_Video_resized.mp4: 480x640 39 Papayas, 11.0ms\n",
      "video 1/1 (frame 849/1231) /content/drive/MyDrive/Papaya-counter/Teste_Video_resized.mp4: 480x640 39 Papayas, 8.5ms\n",
      "video 1/1 (frame 850/1231) /content/drive/MyDrive/Papaya-counter/Teste_Video_resized.mp4: 480x640 36 Papayas, 8.9ms\n",
      "video 1/1 (frame 851/1231) /content/drive/MyDrive/Papaya-counter/Teste_Video_resized.mp4: 480x640 36 Papayas, 11.9ms\n",
      "video 1/1 (frame 852/1231) /content/drive/MyDrive/Papaya-counter/Teste_Video_resized.mp4: 480x640 37 Papayas, 9.1ms\n",
      "video 1/1 (frame 853/1231) /content/drive/MyDrive/Papaya-counter/Teste_Video_resized.mp4: 480x640 35 Papayas, 11.5ms\n",
      "video 1/1 (frame 854/1231) /content/drive/MyDrive/Papaya-counter/Teste_Video_resized.mp4: 480x640 38 Papayas, 15.9ms\n",
      "video 1/1 (frame 855/1231) /content/drive/MyDrive/Papaya-counter/Teste_Video_resized.mp4: 480x640 38 Papayas, 9.1ms\n",
      "video 1/1 (frame 856/1231) /content/drive/MyDrive/Papaya-counter/Teste_Video_resized.mp4: 480x640 43 Papayas, 8.5ms\n",
      "video 1/1 (frame 857/1231) /content/drive/MyDrive/Papaya-counter/Teste_Video_resized.mp4: 480x640 38 Papayas, 11.8ms\n",
      "video 1/1 (frame 858/1231) /content/drive/MyDrive/Papaya-counter/Teste_Video_resized.mp4: 480x640 38 Papayas, 8.8ms\n",
      "video 1/1 (frame 859/1231) /content/drive/MyDrive/Papaya-counter/Teste_Video_resized.mp4: 480x640 39 Papayas, 9.5ms\n",
      "video 1/1 (frame 860/1231) /content/drive/MyDrive/Papaya-counter/Teste_Video_resized.mp4: 480x640 38 Papayas, 11.2ms\n",
      "video 1/1 (frame 861/1231) /content/drive/MyDrive/Papaya-counter/Teste_Video_resized.mp4: 480x640 30 Papayas, 10.0ms\n",
      "video 1/1 (frame 862/1231) /content/drive/MyDrive/Papaya-counter/Teste_Video_resized.mp4: 480x640 38 Papayas, 8.4ms\n",
      "video 1/1 (frame 863/1231) /content/drive/MyDrive/Papaya-counter/Teste_Video_resized.mp4: 480x640 31 Papayas, 8.6ms\n",
      "video 1/1 (frame 864/1231) /content/drive/MyDrive/Papaya-counter/Teste_Video_resized.mp4: 480x640 31 Papayas, 10.6ms\n",
      "video 1/1 (frame 865/1231) /content/drive/MyDrive/Papaya-counter/Teste_Video_resized.mp4: 480x640 40 Papayas, 8.7ms\n",
      "video 1/1 (frame 866/1231) /content/drive/MyDrive/Papaya-counter/Teste_Video_resized.mp4: 480x640 34 Papayas, 14.4ms\n",
      "video 1/1 (frame 867/1231) /content/drive/MyDrive/Papaya-counter/Teste_Video_resized.mp4: 480x640 35 Papayas, 12.8ms\n",
      "video 1/1 (frame 868/1231) /content/drive/MyDrive/Papaya-counter/Teste_Video_resized.mp4: 480x640 32 Papayas, 8.7ms\n",
      "video 1/1 (frame 869/1231) /content/drive/MyDrive/Papaya-counter/Teste_Video_resized.mp4: 480x640 36 Papayas, 9.8ms\n",
      "video 1/1 (frame 870/1231) /content/drive/MyDrive/Papaya-counter/Teste_Video_resized.mp4: 480x640 36 Papayas, 9.9ms\n",
      "video 1/1 (frame 871/1231) /content/drive/MyDrive/Papaya-counter/Teste_Video_resized.mp4: 480x640 40 Papayas, 8.6ms\n",
      "video 1/1 (frame 872/1231) /content/drive/MyDrive/Papaya-counter/Teste_Video_resized.mp4: 480x640 37 Papayas, 10.5ms\n",
      "video 1/1 (frame 873/1231) /content/drive/MyDrive/Papaya-counter/Teste_Video_resized.mp4: 480x640 41 Papayas, 11.9ms\n",
      "video 1/1 (frame 874/1231) /content/drive/MyDrive/Papaya-counter/Teste_Video_resized.mp4: 480x640 38 Papayas, 9.1ms\n",
      "video 1/1 (frame 875/1231) /content/drive/MyDrive/Papaya-counter/Teste_Video_resized.mp4: 480x640 36 Papayas, 10.4ms\n",
      "video 1/1 (frame 876/1231) /content/drive/MyDrive/Papaya-counter/Teste_Video_resized.mp4: 480x640 37 Papayas, 14.3ms\n",
      "video 1/1 (frame 877/1231) /content/drive/MyDrive/Papaya-counter/Teste_Video_resized.mp4: 480x640 38 Papayas, 11.2ms\n",
      "video 1/1 (frame 878/1231) /content/drive/MyDrive/Papaya-counter/Teste_Video_resized.mp4: 480x640 34 Papayas, 8.9ms\n",
      "video 1/1 (frame 879/1231) /content/drive/MyDrive/Papaya-counter/Teste_Video_resized.mp4: 480x640 33 Papayas, 9.4ms\n",
      "video 1/1 (frame 880/1231) /content/drive/MyDrive/Papaya-counter/Teste_Video_resized.mp4: 480x640 34 Papayas, 9.5ms\n",
      "video 1/1 (frame 881/1231) /content/drive/MyDrive/Papaya-counter/Teste_Video_resized.mp4: 480x640 37 Papayas, 8.4ms\n",
      "video 1/1 (frame 882/1231) /content/drive/MyDrive/Papaya-counter/Teste_Video_resized.mp4: 480x640 34 Papayas, 11.5ms\n",
      "video 1/1 (frame 883/1231) /content/drive/MyDrive/Papaya-counter/Teste_Video_resized.mp4: 480x640 37 Papayas, 8.5ms\n",
      "video 1/1 (frame 884/1231) /content/drive/MyDrive/Papaya-counter/Teste_Video_resized.mp4: 480x640 38 Papayas, 10.0ms\n",
      "video 1/1 (frame 885/1231) /content/drive/MyDrive/Papaya-counter/Teste_Video_resized.mp4: 480x640 38 Papayas, 11.4ms\n",
      "video 1/1 (frame 886/1231) /content/drive/MyDrive/Papaya-counter/Teste_Video_resized.mp4: 480x640 35 Papayas, 8.5ms\n",
      "video 1/1 (frame 887/1231) /content/drive/MyDrive/Papaya-counter/Teste_Video_resized.mp4: 480x640 36 Papayas, 10.8ms\n",
      "video 1/1 (frame 888/1231) /content/drive/MyDrive/Papaya-counter/Teste_Video_resized.mp4: 480x640 37 Papayas, 17.5ms\n",
      "video 1/1 (frame 889/1231) /content/drive/MyDrive/Papaya-counter/Teste_Video_resized.mp4: 480x640 39 Papayas, 8.8ms\n",
      "video 1/1 (frame 890/1231) /content/drive/MyDrive/Papaya-counter/Teste_Video_resized.mp4: 480x640 39 Papayas, 9.0ms\n",
      "video 1/1 (frame 891/1231) /content/drive/MyDrive/Papaya-counter/Teste_Video_resized.mp4: 480x640 37 Papayas, 10.9ms\n",
      "video 1/1 (frame 892/1231) /content/drive/MyDrive/Papaya-counter/Teste_Video_resized.mp4: 480x640 37 Papayas, 12.4ms\n",
      "video 1/1 (frame 893/1231) /content/drive/MyDrive/Papaya-counter/Teste_Video_resized.mp4: 480x640 36 Papayas, 10.3ms\n",
      "video 1/1 (frame 894/1231) /content/drive/MyDrive/Papaya-counter/Teste_Video_resized.mp4: 480x640 37 Papayas, 11.8ms\n",
      "video 1/1 (frame 895/1231) /content/drive/MyDrive/Papaya-counter/Teste_Video_resized.mp4: 480x640 36 Papayas, 11.9ms\n",
      "video 1/1 (frame 896/1231) /content/drive/MyDrive/Papaya-counter/Teste_Video_resized.mp4: 480x640 41 Papayas, 10.8ms\n",
      "video 1/1 (frame 897/1231) /content/drive/MyDrive/Papaya-counter/Teste_Video_resized.mp4: 480x640 36 Papayas, 10.7ms\n",
      "video 1/1 (frame 898/1231) /content/drive/MyDrive/Papaya-counter/Teste_Video_resized.mp4: 480x640 38 Papayas, 10.9ms\n",
      "video 1/1 (frame 899/1231) /content/drive/MyDrive/Papaya-counter/Teste_Video_resized.mp4: 480x640 35 Papayas, 13.3ms\n",
      "video 1/1 (frame 900/1231) /content/drive/MyDrive/Papaya-counter/Teste_Video_resized.mp4: 480x640 39 Papayas, 11.3ms\n",
      "video 1/1 (frame 901/1231) /content/drive/MyDrive/Papaya-counter/Teste_Video_resized.mp4: 480x640 37 Papayas, 11.3ms\n",
      "video 1/1 (frame 902/1231) /content/drive/MyDrive/Papaya-counter/Teste_Video_resized.mp4: 480x640 40 Papayas, 10.6ms\n",
      "video 1/1 (frame 903/1231) /content/drive/MyDrive/Papaya-counter/Teste_Video_resized.mp4: 480x640 37 Papayas, 12.2ms\n",
      "video 1/1 (frame 904/1231) /content/drive/MyDrive/Papaya-counter/Teste_Video_resized.mp4: 480x640 37 Papayas, 9.9ms\n",
      "video 1/1 (frame 905/1231) /content/drive/MyDrive/Papaya-counter/Teste_Video_resized.mp4: 480x640 35 Papayas, 9.1ms\n",
      "video 1/1 (frame 906/1231) /content/drive/MyDrive/Papaya-counter/Teste_Video_resized.mp4: 480x640 38 Papayas, 15.5ms\n",
      "video 1/1 (frame 907/1231) /content/drive/MyDrive/Papaya-counter/Teste_Video_resized.mp4: 480x640 35 Papayas, 8.7ms\n",
      "video 1/1 (frame 908/1231) /content/drive/MyDrive/Papaya-counter/Teste_Video_resized.mp4: 480x640 33 Papayas, 9.3ms\n",
      "video 1/1 (frame 909/1231) /content/drive/MyDrive/Papaya-counter/Teste_Video_resized.mp4: 480x640 29 Papayas, 10.6ms\n",
      "video 1/1 (frame 910/1231) /content/drive/MyDrive/Papaya-counter/Teste_Video_resized.mp4: 480x640 35 Papayas, 9.7ms\n",
      "video 1/1 (frame 911/1231) /content/drive/MyDrive/Papaya-counter/Teste_Video_resized.mp4: 480x640 34 Papayas, 14.2ms\n",
      "video 1/1 (frame 912/1231) /content/drive/MyDrive/Papaya-counter/Teste_Video_resized.mp4: 480x640 38 Papayas, 10.8ms\n",
      "video 1/1 (frame 913/1231) /content/drive/MyDrive/Papaya-counter/Teste_Video_resized.mp4: 480x640 38 Papayas, 9.8ms\n",
      "video 1/1 (frame 914/1231) /content/drive/MyDrive/Papaya-counter/Teste_Video_resized.mp4: 480x640 33 Papayas, 8.8ms\n",
      "video 1/1 (frame 915/1231) /content/drive/MyDrive/Papaya-counter/Teste_Video_resized.mp4: 480x640 34 Papayas, 10.2ms\n",
      "video 1/1 (frame 916/1231) /content/drive/MyDrive/Papaya-counter/Teste_Video_resized.mp4: 480x640 32 Papayas, 8.4ms\n",
      "video 1/1 (frame 917/1231) /content/drive/MyDrive/Papaya-counter/Teste_Video_resized.mp4: 480x640 35 Papayas, 8.9ms\n",
      "video 1/1 (frame 918/1231) /content/drive/MyDrive/Papaya-counter/Teste_Video_resized.mp4: 480x640 39 Papayas, 9.1ms\n",
      "video 1/1 (frame 919/1231) /content/drive/MyDrive/Papaya-counter/Teste_Video_resized.mp4: 480x640 39 Papayas, 9.0ms\n",
      "video 1/1 (frame 920/1231) /content/drive/MyDrive/Papaya-counter/Teste_Video_resized.mp4: 480x640 37 Papayas, 9.4ms\n",
      "video 1/1 (frame 921/1231) /content/drive/MyDrive/Papaya-counter/Teste_Video_resized.mp4: 480x640 35 Papayas, 12.3ms\n",
      "video 1/1 (frame 922/1231) /content/drive/MyDrive/Papaya-counter/Teste_Video_resized.mp4: 480x640 35 Papayas, 20.1ms\n",
      "video 1/1 (frame 923/1231) /content/drive/MyDrive/Papaya-counter/Teste_Video_resized.mp4: 480x640 34 Papayas, 12.5ms\n",
      "video 1/1 (frame 924/1231) /content/drive/MyDrive/Papaya-counter/Teste_Video_resized.mp4: 480x640 39 Papayas, 21.1ms\n",
      "video 1/1 (frame 925/1231) /content/drive/MyDrive/Papaya-counter/Teste_Video_resized.mp4: 480x640 32 Papayas, 11.8ms\n",
      "video 1/1 (frame 926/1231) /content/drive/MyDrive/Papaya-counter/Teste_Video_resized.mp4: 480x640 36 Papayas, 16.3ms\n",
      "video 1/1 (frame 927/1231) /content/drive/MyDrive/Papaya-counter/Teste_Video_resized.mp4: 480x640 34 Papayas, 15.6ms\n",
      "video 1/1 (frame 928/1231) /content/drive/MyDrive/Papaya-counter/Teste_Video_resized.mp4: 480x640 38 Papayas, 15.9ms\n",
      "video 1/1 (frame 929/1231) /content/drive/MyDrive/Papaya-counter/Teste_Video_resized.mp4: 480x640 32 Papayas, 18.1ms\n",
      "video 1/1 (frame 930/1231) /content/drive/MyDrive/Papaya-counter/Teste_Video_resized.mp4: 480x640 32 Papayas, 13.1ms\n",
      "video 1/1 (frame 931/1231) /content/drive/MyDrive/Papaya-counter/Teste_Video_resized.mp4: 480x640 36 Papayas, 12.3ms\n",
      "video 1/1 (frame 932/1231) /content/drive/MyDrive/Papaya-counter/Teste_Video_resized.mp4: 480x640 31 Papayas, 15.7ms\n",
      "video 1/1 (frame 933/1231) /content/drive/MyDrive/Papaya-counter/Teste_Video_resized.mp4: 480x640 34 Papayas, 16.8ms\n",
      "video 1/1 (frame 934/1231) /content/drive/MyDrive/Papaya-counter/Teste_Video_resized.mp4: 480x640 33 Papayas, 12.7ms\n",
      "video 1/1 (frame 935/1231) /content/drive/MyDrive/Papaya-counter/Teste_Video_resized.mp4: 480x640 36 Papayas, 15.0ms\n",
      "video 1/1 (frame 936/1231) /content/drive/MyDrive/Papaya-counter/Teste_Video_resized.mp4: 480x640 35 Papayas, 15.2ms\n",
      "video 1/1 (frame 937/1231) /content/drive/MyDrive/Papaya-counter/Teste_Video_resized.mp4: 480x640 36 Papayas, 12.8ms\n",
      "video 1/1 (frame 938/1231) /content/drive/MyDrive/Papaya-counter/Teste_Video_resized.mp4: 480x640 33 Papayas, 11.7ms\n",
      "video 1/1 (frame 939/1231) /content/drive/MyDrive/Papaya-counter/Teste_Video_resized.mp4: 480x640 30 Papayas, 13.1ms\n",
      "video 1/1 (frame 940/1231) /content/drive/MyDrive/Papaya-counter/Teste_Video_resized.mp4: 480x640 34 Papayas, 11.7ms\n",
      "video 1/1 (frame 941/1231) /content/drive/MyDrive/Papaya-counter/Teste_Video_resized.mp4: 480x640 33 Papayas, 11.9ms\n",
      "video 1/1 (frame 942/1231) /content/drive/MyDrive/Papaya-counter/Teste_Video_resized.mp4: 480x640 40 Papayas, 13.9ms\n",
      "video 1/1 (frame 943/1231) /content/drive/MyDrive/Papaya-counter/Teste_Video_resized.mp4: 480x640 32 Papayas, 11.8ms\n",
      "video 1/1 (frame 944/1231) /content/drive/MyDrive/Papaya-counter/Teste_Video_resized.mp4: 480x640 38 Papayas, 14.0ms\n",
      "video 1/1 (frame 945/1231) /content/drive/MyDrive/Papaya-counter/Teste_Video_resized.mp4: 480x640 41 Papayas, 13.6ms\n",
      "video 1/1 (frame 946/1231) /content/drive/MyDrive/Papaya-counter/Teste_Video_resized.mp4: 480x640 38 Papayas, 12.5ms\n",
      "video 1/1 (frame 947/1231) /content/drive/MyDrive/Papaya-counter/Teste_Video_resized.mp4: 480x640 38 Papayas, 20.3ms\n",
      "video 1/1 (frame 948/1231) /content/drive/MyDrive/Papaya-counter/Teste_Video_resized.mp4: 480x640 32 Papayas, 16.2ms\n",
      "video 1/1 (frame 949/1231) /content/drive/MyDrive/Papaya-counter/Teste_Video_resized.mp4: 480x640 38 Papayas, 11.3ms\n",
      "video 1/1 (frame 950/1231) /content/drive/MyDrive/Papaya-counter/Teste_Video_resized.mp4: 480x640 35 Papayas, 14.0ms\n",
      "video 1/1 (frame 951/1231) /content/drive/MyDrive/Papaya-counter/Teste_Video_resized.mp4: 480x640 38 Papayas, 11.8ms\n",
      "video 1/1 (frame 952/1231) /content/drive/MyDrive/Papaya-counter/Teste_Video_resized.mp4: 480x640 33 Papayas, 11.3ms\n",
      "video 1/1 (frame 953/1231) /content/drive/MyDrive/Papaya-counter/Teste_Video_resized.mp4: 480x640 39 Papayas, 10.7ms\n",
      "video 1/1 (frame 954/1231) /content/drive/MyDrive/Papaya-counter/Teste_Video_resized.mp4: 480x640 36 Papayas, 11.6ms\n",
      "video 1/1 (frame 955/1231) /content/drive/MyDrive/Papaya-counter/Teste_Video_resized.mp4: 480x640 37 Papayas, 11.7ms\n",
      "video 1/1 (frame 956/1231) /content/drive/MyDrive/Papaya-counter/Teste_Video_resized.mp4: 480x640 31 Papayas, 11.0ms\n",
      "video 1/1 (frame 957/1231) /content/drive/MyDrive/Papaya-counter/Teste_Video_resized.mp4: 480x640 39 Papayas, 12.8ms\n",
      "video 1/1 (frame 958/1231) /content/drive/MyDrive/Papaya-counter/Teste_Video_resized.mp4: 480x640 36 Papayas, 12.2ms\n",
      "video 1/1 (frame 959/1231) /content/drive/MyDrive/Papaya-counter/Teste_Video_resized.mp4: 480x640 37 Papayas, 15.3ms\n",
      "video 1/1 (frame 960/1231) /content/drive/MyDrive/Papaya-counter/Teste_Video_resized.mp4: 480x640 35 Papayas, 16.5ms\n",
      "video 1/1 (frame 961/1231) /content/drive/MyDrive/Papaya-counter/Teste_Video_resized.mp4: 480x640 37 Papayas, 17.4ms\n",
      "video 1/1 (frame 962/1231) /content/drive/MyDrive/Papaya-counter/Teste_Video_resized.mp4: 480x640 28 Papayas, 15.6ms\n",
      "video 1/1 (frame 963/1231) /content/drive/MyDrive/Papaya-counter/Teste_Video_resized.mp4: 480x640 33 Papayas, 19.6ms\n",
      "video 1/1 (frame 964/1231) /content/drive/MyDrive/Papaya-counter/Teste_Video_resized.mp4: 480x640 41 Papayas, 13.6ms\n",
      "video 1/1 (frame 965/1231) /content/drive/MyDrive/Papaya-counter/Teste_Video_resized.mp4: 480x640 29 Papayas, 15.9ms\n",
      "video 1/1 (frame 966/1231) /content/drive/MyDrive/Papaya-counter/Teste_Video_resized.mp4: 480x640 30 Papayas, 13.2ms\n",
      "video 1/1 (frame 967/1231) /content/drive/MyDrive/Papaya-counter/Teste_Video_resized.mp4: 480x640 32 Papayas, 18.5ms\n",
      "video 1/1 (frame 968/1231) /content/drive/MyDrive/Papaya-counter/Teste_Video_resized.mp4: 480x640 36 Papayas, 11.3ms\n",
      "video 1/1 (frame 969/1231) /content/drive/MyDrive/Papaya-counter/Teste_Video_resized.mp4: 480x640 34 Papayas, 13.5ms\n",
      "video 1/1 (frame 970/1231) /content/drive/MyDrive/Papaya-counter/Teste_Video_resized.mp4: 480x640 29 Papayas, 14.7ms\n",
      "video 1/1 (frame 971/1231) /content/drive/MyDrive/Papaya-counter/Teste_Video_resized.mp4: 480x640 32 Papayas, 15.0ms\n",
      "video 1/1 (frame 972/1231) /content/drive/MyDrive/Papaya-counter/Teste_Video_resized.mp4: 480x640 30 Papayas, 14.5ms\n",
      "video 1/1 (frame 973/1231) /content/drive/MyDrive/Papaya-counter/Teste_Video_resized.mp4: 480x640 39 Papayas, 15.0ms\n",
      "video 1/1 (frame 974/1231) /content/drive/MyDrive/Papaya-counter/Teste_Video_resized.mp4: 480x640 37 Papayas, 15.9ms\n",
      "video 1/1 (frame 975/1231) /content/drive/MyDrive/Papaya-counter/Teste_Video_resized.mp4: 480x640 42 Papayas, 13.1ms\n",
      "video 1/1 (frame 976/1231) /content/drive/MyDrive/Papaya-counter/Teste_Video_resized.mp4: 480x640 40 Papayas, 11.6ms\n",
      "video 1/1 (frame 977/1231) /content/drive/MyDrive/Papaya-counter/Teste_Video_resized.mp4: 480x640 38 Papayas, 14.5ms\n",
      "video 1/1 (frame 978/1231) /content/drive/MyDrive/Papaya-counter/Teste_Video_resized.mp4: 480x640 32 Papayas, 11.4ms\n",
      "video 1/1 (frame 979/1231) /content/drive/MyDrive/Papaya-counter/Teste_Video_resized.mp4: 480x640 38 Papayas, 14.9ms\n",
      "video 1/1 (frame 980/1231) /content/drive/MyDrive/Papaya-counter/Teste_Video_resized.mp4: 480x640 34 Papayas, 12.5ms\n",
      "video 1/1 (frame 981/1231) /content/drive/MyDrive/Papaya-counter/Teste_Video_resized.mp4: 480x640 36 Papayas, 12.2ms\n",
      "video 1/1 (frame 982/1231) /content/drive/MyDrive/Papaya-counter/Teste_Video_resized.mp4: 480x640 31 Papayas, 12.1ms\n",
      "video 1/1 (frame 983/1231) /content/drive/MyDrive/Papaya-counter/Teste_Video_resized.mp4: 480x640 34 Papayas, 13.9ms\n",
      "video 1/1 (frame 984/1231) /content/drive/MyDrive/Papaya-counter/Teste_Video_resized.mp4: 480x640 33 Papayas, 14.6ms\n",
      "video 1/1 (frame 985/1231) /content/drive/MyDrive/Papaya-counter/Teste_Video_resized.mp4: 480x640 39 Papayas, 12.7ms\n",
      "video 1/1 (frame 986/1231) /content/drive/MyDrive/Papaya-counter/Teste_Video_resized.mp4: 480x640 39 Papayas, 12.4ms\n",
      "video 1/1 (frame 987/1231) /content/drive/MyDrive/Papaya-counter/Teste_Video_resized.mp4: 480x640 33 Papayas, 17.3ms\n",
      "video 1/1 (frame 988/1231) /content/drive/MyDrive/Papaya-counter/Teste_Video_resized.mp4: 480x640 32 Papayas, 16.0ms\n",
      "video 1/1 (frame 989/1231) /content/drive/MyDrive/Papaya-counter/Teste_Video_resized.mp4: 480x640 37 Papayas, 16.7ms\n",
      "video 1/1 (frame 990/1231) /content/drive/MyDrive/Papaya-counter/Teste_Video_resized.mp4: 480x640 37 Papayas, 12.0ms\n",
      "video 1/1 (frame 991/1231) /content/drive/MyDrive/Papaya-counter/Teste_Video_resized.mp4: 480x640 36 Papayas, 16.3ms\n",
      "video 1/1 (frame 992/1231) /content/drive/MyDrive/Papaya-counter/Teste_Video_resized.mp4: 480x640 38 Papayas, 15.9ms\n",
      "video 1/1 (frame 993/1231) /content/drive/MyDrive/Papaya-counter/Teste_Video_resized.mp4: 480x640 35 Papayas, 12.3ms\n",
      "video 1/1 (frame 994/1231) /content/drive/MyDrive/Papaya-counter/Teste_Video_resized.mp4: 480x640 41 Papayas, 17.3ms\n",
      "video 1/1 (frame 995/1231) /content/drive/MyDrive/Papaya-counter/Teste_Video_resized.mp4: 480x640 34 Papayas, 17.8ms\n",
      "video 1/1 (frame 996/1231) /content/drive/MyDrive/Papaya-counter/Teste_Video_resized.mp4: 480x640 31 Papayas, 25.9ms\n",
      "video 1/1 (frame 997/1231) /content/drive/MyDrive/Papaya-counter/Teste_Video_resized.mp4: 480x640 37 Papayas, 22.8ms\n",
      "video 1/1 (frame 998/1231) /content/drive/MyDrive/Papaya-counter/Teste_Video_resized.mp4: 480x640 34 Papayas, 15.2ms\n",
      "video 1/1 (frame 999/1231) /content/drive/MyDrive/Papaya-counter/Teste_Video_resized.mp4: 480x640 36 Papayas, 23.9ms\n",
      "video 1/1 (frame 1000/1231) /content/drive/MyDrive/Papaya-counter/Teste_Video_resized.mp4: 480x640 30 Papayas, 14.2ms\n",
      "video 1/1 (frame 1001/1231) /content/drive/MyDrive/Papaya-counter/Teste_Video_resized.mp4: 480x640 31 Papayas, 15.1ms\n",
      "video 1/1 (frame 1002/1231) /content/drive/MyDrive/Papaya-counter/Teste_Video_resized.mp4: 480x640 32 Papayas, 11.1ms\n",
      "video 1/1 (frame 1003/1231) /content/drive/MyDrive/Papaya-counter/Teste_Video_resized.mp4: 480x640 34 Papayas, 9.1ms\n",
      "video 1/1 (frame 1004/1231) /content/drive/MyDrive/Papaya-counter/Teste_Video_resized.mp4: 480x640 41 Papayas, 11.5ms\n",
      "video 1/1 (frame 1005/1231) /content/drive/MyDrive/Papaya-counter/Teste_Video_resized.mp4: 480x640 31 Papayas, 10.3ms\n",
      "video 1/1 (frame 1006/1231) /content/drive/MyDrive/Papaya-counter/Teste_Video_resized.mp4: 480x640 30 Papayas, 14.6ms\n",
      "video 1/1 (frame 1007/1231) /content/drive/MyDrive/Papaya-counter/Teste_Video_resized.mp4: 480x640 41 Papayas, 11.7ms\n",
      "video 1/1 (frame 1008/1231) /content/drive/MyDrive/Papaya-counter/Teste_Video_resized.mp4: 480x640 34 Papayas, 11.0ms\n",
      "video 1/1 (frame 1009/1231) /content/drive/MyDrive/Papaya-counter/Teste_Video_resized.mp4: 480x640 39 Papayas, 10.4ms\n",
      "video 1/1 (frame 1010/1231) /content/drive/MyDrive/Papaya-counter/Teste_Video_resized.mp4: 480x640 32 Papayas, 10.0ms\n",
      "video 1/1 (frame 1011/1231) /content/drive/MyDrive/Papaya-counter/Teste_Video_resized.mp4: 480x640 34 Papayas, 9.4ms\n",
      "video 1/1 (frame 1012/1231) /content/drive/MyDrive/Papaya-counter/Teste_Video_resized.mp4: 480x640 43 Papayas, 10.1ms\n",
      "video 1/1 (frame 1013/1231) /content/drive/MyDrive/Papaya-counter/Teste_Video_resized.mp4: 480x640 36 Papayas, 9.2ms\n",
      "video 1/1 (frame 1014/1231) /content/drive/MyDrive/Papaya-counter/Teste_Video_resized.mp4: 480x640 32 Papayas, 12.1ms\n",
      "video 1/1 (frame 1015/1231) /content/drive/MyDrive/Papaya-counter/Teste_Video_resized.mp4: 480x640 39 Papayas, 11.5ms\n",
      "video 1/1 (frame 1016/1231) /content/drive/MyDrive/Papaya-counter/Teste_Video_resized.mp4: 480x640 38 Papayas, 10.8ms\n",
      "video 1/1 (frame 1017/1231) /content/drive/MyDrive/Papaya-counter/Teste_Video_resized.mp4: 480x640 37 Papayas, 11.4ms\n",
      "video 1/1 (frame 1018/1231) /content/drive/MyDrive/Papaya-counter/Teste_Video_resized.mp4: 480x640 38 Papayas, 10.0ms\n",
      "video 1/1 (frame 1019/1231) /content/drive/MyDrive/Papaya-counter/Teste_Video_resized.mp4: 480x640 37 Papayas, 10.7ms\n",
      "video 1/1 (frame 1020/1231) /content/drive/MyDrive/Papaya-counter/Teste_Video_resized.mp4: 480x640 43 Papayas, 12.0ms\n",
      "video 1/1 (frame 1021/1231) /content/drive/MyDrive/Papaya-counter/Teste_Video_resized.mp4: 480x640 43 Papayas, 11.1ms\n",
      "video 1/1 (frame 1022/1231) /content/drive/MyDrive/Papaya-counter/Teste_Video_resized.mp4: 480x640 39 Papayas, 9.8ms\n",
      "video 1/1 (frame 1023/1231) /content/drive/MyDrive/Papaya-counter/Teste_Video_resized.mp4: 480x640 34 Papayas, 11.0ms\n",
      "video 1/1 (frame 1024/1231) /content/drive/MyDrive/Papaya-counter/Teste_Video_resized.mp4: 480x640 29 Papayas, 10.5ms\n",
      "video 1/1 (frame 1025/1231) /content/drive/MyDrive/Papaya-counter/Teste_Video_resized.mp4: 480x640 34 Papayas, 8.7ms\n",
      "video 1/1 (frame 1026/1231) /content/drive/MyDrive/Papaya-counter/Teste_Video_resized.mp4: 480x640 31 Papayas, 9.0ms\n",
      "video 1/1 (frame 1027/1231) /content/drive/MyDrive/Papaya-counter/Teste_Video_resized.mp4: 480x640 31 Papayas, 11.6ms\n",
      "video 1/1 (frame 1028/1231) /content/drive/MyDrive/Papaya-counter/Teste_Video_resized.mp4: 480x640 33 Papayas, 9.5ms\n",
      "video 1/1 (frame 1029/1231) /content/drive/MyDrive/Papaya-counter/Teste_Video_resized.mp4: 480x640 31 Papayas, 10.7ms\n",
      "video 1/1 (frame 1030/1231) /content/drive/MyDrive/Papaya-counter/Teste_Video_resized.mp4: 480x640 33 Papayas, 11.5ms\n",
      "video 1/1 (frame 1031/1231) /content/drive/MyDrive/Papaya-counter/Teste_Video_resized.mp4: 480x640 32 Papayas, 9.7ms\n",
      "video 1/1 (frame 1032/1231) /content/drive/MyDrive/Papaya-counter/Teste_Video_resized.mp4: 480x640 31 Papayas, 9.6ms\n",
      "video 1/1 (frame 1033/1231) /content/drive/MyDrive/Papaya-counter/Teste_Video_resized.mp4: 480x640 33 Papayas, 9.5ms\n",
      "video 1/1 (frame 1034/1231) /content/drive/MyDrive/Papaya-counter/Teste_Video_resized.mp4: 480x640 33 Papayas, 8.8ms\n",
      "video 1/1 (frame 1035/1231) /content/drive/MyDrive/Papaya-counter/Teste_Video_resized.mp4: 480x640 30 Papayas, 9.0ms\n",
      "video 1/1 (frame 1036/1231) /content/drive/MyDrive/Papaya-counter/Teste_Video_resized.mp4: 480x640 28 Papayas, 10.3ms\n",
      "video 1/1 (frame 1037/1231) /content/drive/MyDrive/Papaya-counter/Teste_Video_resized.mp4: 480x640 35 Papayas, 11.2ms\n",
      "video 1/1 (frame 1038/1231) /content/drive/MyDrive/Papaya-counter/Teste_Video_resized.mp4: 480x640 41 Papayas, 9.9ms\n",
      "video 1/1 (frame 1039/1231) /content/drive/MyDrive/Papaya-counter/Teste_Video_resized.mp4: 480x640 34 Papayas, 10.8ms\n",
      "video 1/1 (frame 1040/1231) /content/drive/MyDrive/Papaya-counter/Teste_Video_resized.mp4: 480x640 32 Papayas, 11.2ms\n",
      "video 1/1 (frame 1041/1231) /content/drive/MyDrive/Papaya-counter/Teste_Video_resized.mp4: 480x640 32 Papayas, 9.6ms\n",
      "video 1/1 (frame 1042/1231) /content/drive/MyDrive/Papaya-counter/Teste_Video_resized.mp4: 480x640 41 Papayas, 10.0ms\n",
      "video 1/1 (frame 1043/1231) /content/drive/MyDrive/Papaya-counter/Teste_Video_resized.mp4: 480x640 36 Papayas, 9.8ms\n",
      "video 1/1 (frame 1044/1231) /content/drive/MyDrive/Papaya-counter/Teste_Video_resized.mp4: 480x640 33 Papayas, 11.9ms\n",
      "video 1/1 (frame 1045/1231) /content/drive/MyDrive/Papaya-counter/Teste_Video_resized.mp4: 480x640 35 Papayas, 13.7ms\n",
      "video 1/1 (frame 1046/1231) /content/drive/MyDrive/Papaya-counter/Teste_Video_resized.mp4: 480x640 38 Papayas, 14.1ms\n",
      "video 1/1 (frame 1047/1231) /content/drive/MyDrive/Papaya-counter/Teste_Video_resized.mp4: 480x640 38 Papayas, 14.9ms\n",
      "video 1/1 (frame 1048/1231) /content/drive/MyDrive/Papaya-counter/Teste_Video_resized.mp4: 480x640 37 Papayas, 8.9ms\n",
      "video 1/1 (frame 1049/1231) /content/drive/MyDrive/Papaya-counter/Teste_Video_resized.mp4: 480x640 33 Papayas, 10.3ms\n",
      "video 1/1 (frame 1050/1231) /content/drive/MyDrive/Papaya-counter/Teste_Video_resized.mp4: 480x640 37 Papayas, 10.8ms\n",
      "video 1/1 (frame 1051/1231) /content/drive/MyDrive/Papaya-counter/Teste_Video_resized.mp4: 480x640 35 Papayas, 9.4ms\n",
      "video 1/1 (frame 1052/1231) /content/drive/MyDrive/Papaya-counter/Teste_Video_resized.mp4: 480x640 38 Papayas, 9.0ms\n",
      "video 1/1 (frame 1053/1231) /content/drive/MyDrive/Papaya-counter/Teste_Video_resized.mp4: 480x640 34 Papayas, 11.7ms\n",
      "video 1/1 (frame 1054/1231) /content/drive/MyDrive/Papaya-counter/Teste_Video_resized.mp4: 480x640 42 Papayas, 9.6ms\n",
      "video 1/1 (frame 1055/1231) /content/drive/MyDrive/Papaya-counter/Teste_Video_resized.mp4: 480x640 36 Papayas, 11.0ms\n",
      "video 1/1 (frame 1056/1231) /content/drive/MyDrive/Papaya-counter/Teste_Video_resized.mp4: 480x640 36 Papayas, 9.2ms\n",
      "video 1/1 (frame 1057/1231) /content/drive/MyDrive/Papaya-counter/Teste_Video_resized.mp4: 480x640 38 Papayas, 18.0ms\n",
      "video 1/1 (frame 1058/1231) /content/drive/MyDrive/Papaya-counter/Teste_Video_resized.mp4: 480x640 32 Papayas, 11.1ms\n",
      "video 1/1 (frame 1059/1231) /content/drive/MyDrive/Papaya-counter/Teste_Video_resized.mp4: 480x640 34 Papayas, 10.9ms\n",
      "video 1/1 (frame 1060/1231) /content/drive/MyDrive/Papaya-counter/Teste_Video_resized.mp4: 480x640 39 Papayas, 12.2ms\n",
      "video 1/1 (frame 1061/1231) /content/drive/MyDrive/Papaya-counter/Teste_Video_resized.mp4: 480x640 32 Papayas, 9.6ms\n",
      "video 1/1 (frame 1062/1231) /content/drive/MyDrive/Papaya-counter/Teste_Video_resized.mp4: 480x640 36 Papayas, 12.6ms\n",
      "video 1/1 (frame 1063/1231) /content/drive/MyDrive/Papaya-counter/Teste_Video_resized.mp4: 480x640 39 Papayas, 9.5ms\n",
      "video 1/1 (frame 1064/1231) /content/drive/MyDrive/Papaya-counter/Teste_Video_resized.mp4: 480x640 39 Papayas, 11.4ms\n",
      "video 1/1 (frame 1065/1231) /content/drive/MyDrive/Papaya-counter/Teste_Video_resized.mp4: 480x640 37 Papayas, 10.3ms\n",
      "video 1/1 (frame 1066/1231) /content/drive/MyDrive/Papaya-counter/Teste_Video_resized.mp4: 480x640 37 Papayas, 11.5ms\n",
      "video 1/1 (frame 1067/1231) /content/drive/MyDrive/Papaya-counter/Teste_Video_resized.mp4: 480x640 42 Papayas, 10.8ms\n",
      "video 1/1 (frame 1068/1231) /content/drive/MyDrive/Papaya-counter/Teste_Video_resized.mp4: 480x640 38 Papayas, 8.9ms\n",
      "video 1/1 (frame 1069/1231) /content/drive/MyDrive/Papaya-counter/Teste_Video_resized.mp4: 480x640 38 Papayas, 8.5ms\n",
      "video 1/1 (frame 1070/1231) /content/drive/MyDrive/Papaya-counter/Teste_Video_resized.mp4: 480x640 41 Papayas, 9.4ms\n",
      "video 1/1 (frame 1071/1231) /content/drive/MyDrive/Papaya-counter/Teste_Video_resized.mp4: 480x640 44 Papayas, 11.6ms\n",
      "video 1/1 (frame 1072/1231) /content/drive/MyDrive/Papaya-counter/Teste_Video_resized.mp4: 480x640 37 Papayas, 10.7ms\n",
      "video 1/1 (frame 1073/1231) /content/drive/MyDrive/Papaya-counter/Teste_Video_resized.mp4: 480x640 42 Papayas, 9.8ms\n",
      "video 1/1 (frame 1074/1231) /content/drive/MyDrive/Papaya-counter/Teste_Video_resized.mp4: 480x640 38 Papayas, 9.3ms\n",
      "video 1/1 (frame 1075/1231) /content/drive/MyDrive/Papaya-counter/Teste_Video_resized.mp4: 480x640 44 Papayas, 10.1ms\n",
      "video 1/1 (frame 1076/1231) /content/drive/MyDrive/Papaya-counter/Teste_Video_resized.mp4: 480x640 43 Papayas, 13.3ms\n",
      "video 1/1 (frame 1077/1231) /content/drive/MyDrive/Papaya-counter/Teste_Video_resized.mp4: 480x640 37 Papayas, 14.5ms\n",
      "video 1/1 (frame 1078/1231) /content/drive/MyDrive/Papaya-counter/Teste_Video_resized.mp4: 480x640 39 Papayas, 15.8ms\n",
      "video 1/1 (frame 1079/1231) /content/drive/MyDrive/Papaya-counter/Teste_Video_resized.mp4: 480x640 33 Papayas, 12.8ms\n",
      "video 1/1 (frame 1080/1231) /content/drive/MyDrive/Papaya-counter/Teste_Video_resized.mp4: 480x640 36 Papayas, 10.7ms\n",
      "video 1/1 (frame 1081/1231) /content/drive/MyDrive/Papaya-counter/Teste_Video_resized.mp4: 480x640 37 Papayas, 10.5ms\n",
      "video 1/1 (frame 1082/1231) /content/drive/MyDrive/Papaya-counter/Teste_Video_resized.mp4: 480x640 32 Papayas, 10.4ms\n",
      "video 1/1 (frame 1083/1231) /content/drive/MyDrive/Papaya-counter/Teste_Video_resized.mp4: 480x640 32 Papayas, 9.6ms\n",
      "video 1/1 (frame 1084/1231) /content/drive/MyDrive/Papaya-counter/Teste_Video_resized.mp4: 480x640 39 Papayas, 12.3ms\n",
      "video 1/1 (frame 1085/1231) /content/drive/MyDrive/Papaya-counter/Teste_Video_resized.mp4: 480x640 38 Papayas, 9.7ms\n",
      "video 1/1 (frame 1086/1231) /content/drive/MyDrive/Papaya-counter/Teste_Video_resized.mp4: 480x640 41 Papayas, 9.9ms\n",
      "video 1/1 (frame 1087/1231) /content/drive/MyDrive/Papaya-counter/Teste_Video_resized.mp4: 480x640 36 Papayas, 12.8ms\n",
      "video 1/1 (frame 1088/1231) /content/drive/MyDrive/Papaya-counter/Teste_Video_resized.mp4: 480x640 35 Papayas, 12.3ms\n",
      "video 1/1 (frame 1089/1231) /content/drive/MyDrive/Papaya-counter/Teste_Video_resized.mp4: 480x640 33 Papayas, 11.7ms\n",
      "video 1/1 (frame 1090/1231) /content/drive/MyDrive/Papaya-counter/Teste_Video_resized.mp4: 480x640 35 Papayas, 10.0ms\n",
      "video 1/1 (frame 1091/1231) /content/drive/MyDrive/Papaya-counter/Teste_Video_resized.mp4: 480x640 36 Papayas, 10.0ms\n",
      "video 1/1 (frame 1092/1231) /content/drive/MyDrive/Papaya-counter/Teste_Video_resized.mp4: 480x640 32 Papayas, 9.4ms\n",
      "video 1/1 (frame 1093/1231) /content/drive/MyDrive/Papaya-counter/Teste_Video_resized.mp4: 480x640 45 Papayas, 9.2ms\n",
      "video 1/1 (frame 1094/1231) /content/drive/MyDrive/Papaya-counter/Teste_Video_resized.mp4: 480x640 34 Papayas, 12.2ms\n",
      "video 1/1 (frame 1095/1231) /content/drive/MyDrive/Papaya-counter/Teste_Video_resized.mp4: 480x640 36 Papayas, 10.1ms\n",
      "video 1/1 (frame 1096/1231) /content/drive/MyDrive/Papaya-counter/Teste_Video_resized.mp4: 480x640 36 Papayas, 8.8ms\n",
      "video 1/1 (frame 1097/1231) /content/drive/MyDrive/Papaya-counter/Teste_Video_resized.mp4: 480x640 42 Papayas, 13.9ms\n",
      "video 1/1 (frame 1098/1231) /content/drive/MyDrive/Papaya-counter/Teste_Video_resized.mp4: 480x640 41 Papayas, 9.7ms\n",
      "video 1/1 (frame 1099/1231) /content/drive/MyDrive/Papaya-counter/Teste_Video_resized.mp4: 480x640 40 Papayas, 10.1ms\n",
      "video 1/1 (frame 1100/1231) /content/drive/MyDrive/Papaya-counter/Teste_Video_resized.mp4: 480x640 45 Papayas, 8.6ms\n",
      "video 1/1 (frame 1101/1231) /content/drive/MyDrive/Papaya-counter/Teste_Video_resized.mp4: 480x640 46 Papayas, 8.6ms\n",
      "video 1/1 (frame 1102/1231) /content/drive/MyDrive/Papaya-counter/Teste_Video_resized.mp4: 480x640 39 Papayas, 12.3ms\n",
      "video 1/1 (frame 1103/1231) /content/drive/MyDrive/Papaya-counter/Teste_Video_resized.mp4: 480x640 41 Papayas, 11.3ms\n",
      "video 1/1 (frame 1104/1231) /content/drive/MyDrive/Papaya-counter/Teste_Video_resized.mp4: 480x640 41 Papayas, 8.8ms\n",
      "video 1/1 (frame 1105/1231) /content/drive/MyDrive/Papaya-counter/Teste_Video_resized.mp4: 480x640 38 Papayas, 8.6ms\n",
      "video 1/1 (frame 1106/1231) /content/drive/MyDrive/Papaya-counter/Teste_Video_resized.mp4: 480x640 39 Papayas, 10.6ms\n",
      "video 1/1 (frame 1107/1231) /content/drive/MyDrive/Papaya-counter/Teste_Video_resized.mp4: 480x640 39 Papayas, 9.1ms\n",
      "video 1/1 (frame 1108/1231) /content/drive/MyDrive/Papaya-counter/Teste_Video_resized.mp4: 480x640 36 Papayas, 9.8ms\n",
      "video 1/1 (frame 1109/1231) /content/drive/MyDrive/Papaya-counter/Teste_Video_resized.mp4: 480x640 42 Papayas, 13.1ms\n",
      "video 1/1 (frame 1110/1231) /content/drive/MyDrive/Papaya-counter/Teste_Video_resized.mp4: 480x640 38 Papayas, 10.3ms\n",
      "video 1/1 (frame 1111/1231) /content/drive/MyDrive/Papaya-counter/Teste_Video_resized.mp4: 480x640 36 Papayas, 11.7ms\n",
      "video 1/1 (frame 1112/1231) /content/drive/MyDrive/Papaya-counter/Teste_Video_resized.mp4: 480x640 38 Papayas, 10.1ms\n",
      "video 1/1 (frame 1113/1231) /content/drive/MyDrive/Papaya-counter/Teste_Video_resized.mp4: 480x640 38 Papayas, 9.2ms\n",
      "video 1/1 (frame 1114/1231) /content/drive/MyDrive/Papaya-counter/Teste_Video_resized.mp4: 480x640 42 Papayas, 9.9ms\n",
      "video 1/1 (frame 1115/1231) /content/drive/MyDrive/Papaya-counter/Teste_Video_resized.mp4: 480x640 37 Papayas, 10.3ms\n",
      "video 1/1 (frame 1116/1231) /content/drive/MyDrive/Papaya-counter/Teste_Video_resized.mp4: 480x640 38 Papayas, 9.9ms\n",
      "video 1/1 (frame 1117/1231) /content/drive/MyDrive/Papaya-counter/Teste_Video_resized.mp4: 480x640 41 Papayas, 10.8ms\n",
      "video 1/1 (frame 1118/1231) /content/drive/MyDrive/Papaya-counter/Teste_Video_resized.mp4: 480x640 35 Papayas, 9.4ms\n",
      "video 1/1 (frame 1119/1231) /content/drive/MyDrive/Papaya-counter/Teste_Video_resized.mp4: 480x640 37 Papayas, 11.6ms\n",
      "video 1/1 (frame 1120/1231) /content/drive/MyDrive/Papaya-counter/Teste_Video_resized.mp4: 480x640 37 Papayas, 9.2ms\n",
      "video 1/1 (frame 1121/1231) /content/drive/MyDrive/Papaya-counter/Teste_Video_resized.mp4: 480x640 39 Papayas, 15.0ms\n",
      "video 1/1 (frame 1122/1231) /content/drive/MyDrive/Papaya-counter/Teste_Video_resized.mp4: 480x640 44 Papayas, 10.9ms\n",
      "video 1/1 (frame 1123/1231) /content/drive/MyDrive/Papaya-counter/Teste_Video_resized.mp4: 480x640 42 Papayas, 9.8ms\n",
      "video 1/1 (frame 1124/1231) /content/drive/MyDrive/Papaya-counter/Teste_Video_resized.mp4: 480x640 37 Papayas, 13.9ms\n",
      "video 1/1 (frame 1125/1231) /content/drive/MyDrive/Papaya-counter/Teste_Video_resized.mp4: 480x640 40 Papayas, 12.7ms\n",
      "video 1/1 (frame 1126/1231) /content/drive/MyDrive/Papaya-counter/Teste_Video_resized.mp4: 480x640 36 Papayas, 14.6ms\n",
      "video 1/1 (frame 1127/1231) /content/drive/MyDrive/Papaya-counter/Teste_Video_resized.mp4: 480x640 41 Papayas, 14.0ms\n",
      "video 1/1 (frame 1128/1231) /content/drive/MyDrive/Papaya-counter/Teste_Video_resized.mp4: 480x640 40 Papayas, 10.1ms\n",
      "video 1/1 (frame 1129/1231) /content/drive/MyDrive/Papaya-counter/Teste_Video_resized.mp4: 480x640 46 Papayas, 10.2ms\n",
      "video 1/1 (frame 1130/1231) /content/drive/MyDrive/Papaya-counter/Teste_Video_resized.mp4: 480x640 40 Papayas, 12.2ms\n",
      "video 1/1 (frame 1131/1231) /content/drive/MyDrive/Papaya-counter/Teste_Video_resized.mp4: 480x640 41 Papayas, 10.2ms\n",
      "video 1/1 (frame 1132/1231) /content/drive/MyDrive/Papaya-counter/Teste_Video_resized.mp4: 480x640 43 Papayas, 10.8ms\n",
      "video 1/1 (frame 1133/1231) /content/drive/MyDrive/Papaya-counter/Teste_Video_resized.mp4: 480x640 39 Papayas, 10.4ms\n",
      "video 1/1 (frame 1134/1231) /content/drive/MyDrive/Papaya-counter/Teste_Video_resized.mp4: 480x640 46 Papayas, 12.6ms\n",
      "video 1/1 (frame 1135/1231) /content/drive/MyDrive/Papaya-counter/Teste_Video_resized.mp4: 480x640 41 Papayas, 9.0ms\n",
      "video 1/1 (frame 1136/1231) /content/drive/MyDrive/Papaya-counter/Teste_Video_resized.mp4: 480x640 45 Papayas, 8.5ms\n",
      "video 1/1 (frame 1137/1231) /content/drive/MyDrive/Papaya-counter/Teste_Video_resized.mp4: 480x640 41 Papayas, 12.4ms\n",
      "video 1/1 (frame 1138/1231) /content/drive/MyDrive/Papaya-counter/Teste_Video_resized.mp4: 480x640 44 Papayas, 8.7ms\n",
      "video 1/1 (frame 1139/1231) /content/drive/MyDrive/Papaya-counter/Teste_Video_resized.mp4: 480x640 43 Papayas, 9.4ms\n",
      "video 1/1 (frame 1140/1231) /content/drive/MyDrive/Papaya-counter/Teste_Video_resized.mp4: 480x640 42 Papayas, 11.6ms\n",
      "video 1/1 (frame 1141/1231) /content/drive/MyDrive/Papaya-counter/Teste_Video_resized.mp4: 480x640 44 Papayas, 8.4ms\n",
      "video 1/1 (frame 1142/1231) /content/drive/MyDrive/Papaya-counter/Teste_Video_resized.mp4: 480x640 40 Papayas, 10.6ms\n",
      "video 1/1 (frame 1143/1231) /content/drive/MyDrive/Papaya-counter/Teste_Video_resized.mp4: 480x640 41 Papayas, 11.4ms\n",
      "video 1/1 (frame 1144/1231) /content/drive/MyDrive/Papaya-counter/Teste_Video_resized.mp4: 480x640 43 Papayas, 11.0ms\n",
      "video 1/1 (frame 1145/1231) /content/drive/MyDrive/Papaya-counter/Teste_Video_resized.mp4: 480x640 51 Papayas, 10.6ms\n",
      "video 1/1 (frame 1146/1231) /content/drive/MyDrive/Papaya-counter/Teste_Video_resized.mp4: 480x640 44 Papayas, 9.4ms\n",
      "video 1/1 (frame 1147/1231) /content/drive/MyDrive/Papaya-counter/Teste_Video_resized.mp4: 480x640 38 Papayas, 9.8ms\n",
      "video 1/1 (frame 1148/1231) /content/drive/MyDrive/Papaya-counter/Teste_Video_resized.mp4: 480x640 40 Papayas, 9.2ms\n",
      "video 1/1 (frame 1149/1231) /content/drive/MyDrive/Papaya-counter/Teste_Video_resized.mp4: 480x640 38 Papayas, 9.4ms\n",
      "video 1/1 (frame 1150/1231) /content/drive/MyDrive/Papaya-counter/Teste_Video_resized.mp4: 480x640 46 Papayas, 10.3ms\n",
      "video 1/1 (frame 1151/1231) /content/drive/MyDrive/Papaya-counter/Teste_Video_resized.mp4: 480x640 41 Papayas, 11.6ms\n",
      "video 1/1 (frame 1152/1231) /content/drive/MyDrive/Papaya-counter/Teste_Video_resized.mp4: 480x640 36 Papayas, 11.5ms\n",
      "video 1/1 (frame 1153/1231) /content/drive/MyDrive/Papaya-counter/Teste_Video_resized.mp4: 480x640 40 Papayas, 10.2ms\n",
      "video 1/1 (frame 1154/1231) /content/drive/MyDrive/Papaya-counter/Teste_Video_resized.mp4: 480x640 41 Papayas, 21.9ms\n",
      "video 1/1 (frame 1155/1231) /content/drive/MyDrive/Papaya-counter/Teste_Video_resized.mp4: 480x640 38 Papayas, 9.9ms\n",
      "video 1/1 (frame 1156/1231) /content/drive/MyDrive/Papaya-counter/Teste_Video_resized.mp4: 480x640 39 Papayas, 13.4ms\n",
      "video 1/1 (frame 1157/1231) /content/drive/MyDrive/Papaya-counter/Teste_Video_resized.mp4: 480x640 38 Papayas, 14.7ms\n",
      "video 1/1 (frame 1158/1231) /content/drive/MyDrive/Papaya-counter/Teste_Video_resized.mp4: 480x640 43 Papayas, 12.9ms\n",
      "video 1/1 (frame 1159/1231) /content/drive/MyDrive/Papaya-counter/Teste_Video_resized.mp4: 480x640 40 Papayas, 16.2ms\n",
      "video 1/1 (frame 1160/1231) /content/drive/MyDrive/Papaya-counter/Teste_Video_resized.mp4: 480x640 43 Papayas, 9.2ms\n",
      "video 1/1 (frame 1161/1231) /content/drive/MyDrive/Papaya-counter/Teste_Video_resized.mp4: 480x640 43 Papayas, 11.7ms\n",
      "video 1/1 (frame 1162/1231) /content/drive/MyDrive/Papaya-counter/Teste_Video_resized.mp4: 480x640 45 Papayas, 9.1ms\n",
      "video 1/1 (frame 1163/1231) /content/drive/MyDrive/Papaya-counter/Teste_Video_resized.mp4: 480x640 41 Papayas, 8.5ms\n",
      "video 1/1 (frame 1164/1231) /content/drive/MyDrive/Papaya-counter/Teste_Video_resized.mp4: 480x640 41 Papayas, 11.4ms\n",
      "video 1/1 (frame 1165/1231) /content/drive/MyDrive/Papaya-counter/Teste_Video_resized.mp4: 480x640 41 Papayas, 8.3ms\n",
      "video 1/1 (frame 1166/1231) /content/drive/MyDrive/Papaya-counter/Teste_Video_resized.mp4: 480x640 43 Papayas, 9.7ms\n",
      "video 1/1 (frame 1167/1231) /content/drive/MyDrive/Papaya-counter/Teste_Video_resized.mp4: 480x640 35 Papayas, 11.1ms\n",
      "video 1/1 (frame 1168/1231) /content/drive/MyDrive/Papaya-counter/Teste_Video_resized.mp4: 480x640 46 Papayas, 9.5ms\n",
      "video 1/1 (frame 1169/1231) /content/drive/MyDrive/Papaya-counter/Teste_Video_resized.mp4: 480x640 43 Papayas, 11.2ms\n",
      "video 1/1 (frame 1170/1231) /content/drive/MyDrive/Papaya-counter/Teste_Video_resized.mp4: 480x640 42 Papayas, 10.3ms\n",
      "video 1/1 (frame 1171/1231) /content/drive/MyDrive/Papaya-counter/Teste_Video_resized.mp4: 480x640 46 Papayas, 11.3ms\n",
      "video 1/1 (frame 1172/1231) /content/drive/MyDrive/Papaya-counter/Teste_Video_resized.mp4: 480x640 47 Papayas, 9.5ms\n",
      "video 1/1 (frame 1173/1231) /content/drive/MyDrive/Papaya-counter/Teste_Video_resized.mp4: 480x640 42 Papayas, 9.2ms\n",
      "video 1/1 (frame 1174/1231) /content/drive/MyDrive/Papaya-counter/Teste_Video_resized.mp4: 480x640 38 Papayas, 10.3ms\n",
      "video 1/1 (frame 1175/1231) /content/drive/MyDrive/Papaya-counter/Teste_Video_resized.mp4: 480x640 46 Papayas, 8.5ms\n",
      "video 1/1 (frame 1176/1231) /content/drive/MyDrive/Papaya-counter/Teste_Video_resized.mp4: 480x640 47 Papayas, 8.6ms\n",
      "video 1/1 (frame 1177/1231) /content/drive/MyDrive/Papaya-counter/Teste_Video_resized.mp4: 480x640 42 Papayas, 12.8ms\n",
      "video 1/1 (frame 1178/1231) /content/drive/MyDrive/Papaya-counter/Teste_Video_resized.mp4: 480x640 40 Papayas, 13.2ms\n",
      "video 1/1 (frame 1179/1231) /content/drive/MyDrive/Papaya-counter/Teste_Video_resized.mp4: 480x640 44 Papayas, 14.4ms\n",
      "video 1/1 (frame 1180/1231) /content/drive/MyDrive/Papaya-counter/Teste_Video_resized.mp4: 480x640 42 Papayas, 10.9ms\n",
      "video 1/1 (frame 1181/1231) /content/drive/MyDrive/Papaya-counter/Teste_Video_resized.mp4: 480x640 40 Papayas, 9.3ms\n",
      "video 1/1 (frame 1182/1231) /content/drive/MyDrive/Papaya-counter/Teste_Video_resized.mp4: 480x640 45 Papayas, 12.0ms\n",
      "video 1/1 (frame 1183/1231) /content/drive/MyDrive/Papaya-counter/Teste_Video_resized.mp4: 480x640 38 Papayas, 10.3ms\n",
      "video 1/1 (frame 1184/1231) /content/drive/MyDrive/Papaya-counter/Teste_Video_resized.mp4: 480x640 41 Papayas, 9.4ms\n",
      "video 1/1 (frame 1185/1231) /content/drive/MyDrive/Papaya-counter/Teste_Video_resized.mp4: 480x640 42 Papayas, 10.6ms\n",
      "video 1/1 (frame 1186/1231) /content/drive/MyDrive/Papaya-counter/Teste_Video_resized.mp4: 480x640 41 Papayas, 13.1ms\n",
      "video 1/1 (frame 1187/1231) /content/drive/MyDrive/Papaya-counter/Teste_Video_resized.mp4: 480x640 39 Papayas, 13.3ms\n",
      "video 1/1 (frame 1188/1231) /content/drive/MyDrive/Papaya-counter/Teste_Video_resized.mp4: 480x640 46 Papayas, 13.1ms\n",
      "video 1/1 (frame 1189/1231) /content/drive/MyDrive/Papaya-counter/Teste_Video_resized.mp4: 480x640 40 Papayas, 15.4ms\n",
      "video 1/1 (frame 1190/1231) /content/drive/MyDrive/Papaya-counter/Teste_Video_resized.mp4: 480x640 46 Papayas, 14.7ms\n",
      "video 1/1 (frame 1191/1231) /content/drive/MyDrive/Papaya-counter/Teste_Video_resized.mp4: 480x640 43 Papayas, 13.4ms\n",
      "video 1/1 (frame 1192/1231) /content/drive/MyDrive/Papaya-counter/Teste_Video_resized.mp4: 480x640 45 Papayas, 14.9ms\n",
      "video 1/1 (frame 1193/1231) /content/drive/MyDrive/Papaya-counter/Teste_Video_resized.mp4: 480x640 44 Papayas, 9.9ms\n",
      "video 1/1 (frame 1194/1231) /content/drive/MyDrive/Papaya-counter/Teste_Video_resized.mp4: 480x640 45 Papayas, 12.7ms\n",
      "video 1/1 (frame 1195/1231) /content/drive/MyDrive/Papaya-counter/Teste_Video_resized.mp4: 480x640 41 Papayas, 9.6ms\n",
      "video 1/1 (frame 1196/1231) /content/drive/MyDrive/Papaya-counter/Teste_Video_resized.mp4: 480x640 48 Papayas, 9.8ms\n",
      "video 1/1 (frame 1197/1231) /content/drive/MyDrive/Papaya-counter/Teste_Video_resized.mp4: 480x640 42 Papayas, 11.5ms\n",
      "video 1/1 (frame 1198/1231) /content/drive/MyDrive/Papaya-counter/Teste_Video_resized.mp4: 480x640 43 Papayas, 9.1ms\n",
      "video 1/1 (frame 1199/1231) /content/drive/MyDrive/Papaya-counter/Teste_Video_resized.mp4: 480x640 44 Papayas, 10.9ms\n",
      "video 1/1 (frame 1200/1231) /content/drive/MyDrive/Papaya-counter/Teste_Video_resized.mp4: 480x640 41 Papayas, 9.8ms\n",
      "video 1/1 (frame 1201/1231) /content/drive/MyDrive/Papaya-counter/Teste_Video_resized.mp4: 480x640 45 Papayas, 11.1ms\n",
      "video 1/1 (frame 1202/1231) /content/drive/MyDrive/Papaya-counter/Teste_Video_resized.mp4: 480x640 44 Papayas, 9.5ms\n",
      "video 1/1 (frame 1203/1231) /content/drive/MyDrive/Papaya-counter/Teste_Video_resized.mp4: 480x640 37 Papayas, 9.1ms\n",
      "video 1/1 (frame 1204/1231) /content/drive/MyDrive/Papaya-counter/Teste_Video_resized.mp4: 480x640 43 Papayas, 13.5ms\n",
      "video 1/1 (frame 1205/1231) /content/drive/MyDrive/Papaya-counter/Teste_Video_resized.mp4: 480x640 39 Papayas, 11.8ms\n",
      "video 1/1 (frame 1206/1231) /content/drive/MyDrive/Papaya-counter/Teste_Video_resized.mp4: 480x640 40 Papayas, 10.0ms\n",
      "video 1/1 (frame 1207/1231) /content/drive/MyDrive/Papaya-counter/Teste_Video_resized.mp4: 480x640 38 Papayas, 12.5ms\n",
      "video 1/1 (frame 1208/1231) /content/drive/MyDrive/Papaya-counter/Teste_Video_resized.mp4: 480x640 38 Papayas, 10.0ms\n",
      "video 1/1 (frame 1209/1231) /content/drive/MyDrive/Papaya-counter/Teste_Video_resized.mp4: 480x640 40 Papayas, 12.1ms\n",
      "video 1/1 (frame 1210/1231) /content/drive/MyDrive/Papaya-counter/Teste_Video_resized.mp4: 480x640 40 Papayas, 11.4ms\n",
      "video 1/1 (frame 1211/1231) /content/drive/MyDrive/Papaya-counter/Teste_Video_resized.mp4: 480x640 41 Papayas, 11.8ms\n",
      "video 1/1 (frame 1212/1231) /content/drive/MyDrive/Papaya-counter/Teste_Video_resized.mp4: 480x640 42 Papayas, 8.7ms\n",
      "video 1/1 (frame 1213/1231) /content/drive/MyDrive/Papaya-counter/Teste_Video_resized.mp4: 480x640 41 Papayas, 10.4ms\n",
      "video 1/1 (frame 1214/1231) /content/drive/MyDrive/Papaya-counter/Teste_Video_resized.mp4: 480x640 41 Papayas, 9.4ms\n",
      "video 1/1 (frame 1215/1231) /content/drive/MyDrive/Papaya-counter/Teste_Video_resized.mp4: 480x640 43 Papayas, 18.7ms\n",
      "video 1/1 (frame 1216/1231) /content/drive/MyDrive/Papaya-counter/Teste_Video_resized.mp4: 480x640 36 Papayas, 9.4ms\n",
      "video 1/1 (frame 1217/1231) /content/drive/MyDrive/Papaya-counter/Teste_Video_resized.mp4: 480x640 43 Papayas, 9.8ms\n",
      "video 1/1 (frame 1218/1231) /content/drive/MyDrive/Papaya-counter/Teste_Video_resized.mp4: 480x640 43 Papayas, 9.0ms\n",
      "video 1/1 (frame 1219/1231) /content/drive/MyDrive/Papaya-counter/Teste_Video_resized.mp4: 480x640 44 Papayas, 15.6ms\n",
      "video 1/1 (frame 1220/1231) /content/drive/MyDrive/Papaya-counter/Teste_Video_resized.mp4: 480x640 42 Papayas, 16.4ms\n",
      "video 1/1 (frame 1221/1231) /content/drive/MyDrive/Papaya-counter/Teste_Video_resized.mp4: 480x640 45 Papayas, 13.8ms\n",
      "video 1/1 (frame 1222/1231) /content/drive/MyDrive/Papaya-counter/Teste_Video_resized.mp4: 480x640 44 Papayas, 12.6ms\n",
      "video 1/1 (frame 1223/1231) /content/drive/MyDrive/Papaya-counter/Teste_Video_resized.mp4: 480x640 47 Papayas, 13.8ms\n",
      "video 1/1 (frame 1224/1231) /content/drive/MyDrive/Papaya-counter/Teste_Video_resized.mp4: 480x640 44 Papayas, 12.7ms\n",
      "video 1/1 (frame 1225/1231) /content/drive/MyDrive/Papaya-counter/Teste_Video_resized.mp4: 480x640 40 Papayas, 9.2ms\n",
      "video 1/1 (frame 1226/1231) /content/drive/MyDrive/Papaya-counter/Teste_Video_resized.mp4: 480x640 39 Papayas, 8.4ms\n",
      "video 1/1 (frame 1227/1231) /content/drive/MyDrive/Papaya-counter/Teste_Video_resized.mp4: 480x640 36 Papayas, 8.5ms\n",
      "video 1/1 (frame 1228/1231) /content/drive/MyDrive/Papaya-counter/Teste_Video_resized.mp4: 480x640 32 Papayas, 8.9ms\n",
      "video 1/1 (frame 1229/1231) /content/drive/MyDrive/Papaya-counter/Teste_Video_resized.mp4: 480x640 36 Papayas, 10.7ms\n",
      "video 1/1 (frame 1230/1231) /content/drive/MyDrive/Papaya-counter/Teste_Video_resized.mp4: 480x640 39 Papayas, 11.7ms\n",
      "video 1/1 (frame 1231/1231) /content/drive/MyDrive/Papaya-counter/Teste_Video_resized.mp4: 480x640 34 Papayas, 8.6ms\n",
      "Speed: 1.7ms preprocess, 11.2ms inference, 1.3ms postprocess per image at shape (1, 3, 480, 640)\n",
      "Results saved to \u001b[1mruns/detect/predict5\u001b[0m\n"
     ]
    }
   ],
   "source": [
    "# Load a model\n",
    "model = YOLO(\n",
    "    os.path.join(\"/content/drive/MyDrive/Papaya-counter/results/raw_detection/yolo11n\", 'train/weights/best.pt')\n",
    ")\n",
    "\n",
    "results = model.predict(\"/content/drive/MyDrive/Papaya-counter/Teste_Video_resized.mp4\", stream=True, save=True, imgsz=640, conf=0.5, vid_stride=1)\n",
    "\n",
    "# activate generator\n",
    "for res in results:\n",
    "    pass"
   ]
  },
  {
   "cell_type": "code",
   "execution_count": 13,
   "metadata": {
    "colab": {
     "base_uri": "https://localhost:8080/"
    },
    "id": "ceyZGcWViBY2",
    "outputId": "79aea057-477c-4be3-9dae-f3fb0117d94c"
   },
   "outputs": [
    {
     "data": {
      "text/plain": [
       "<generator object BasePredictor.stream_inference at 0x7c225c45a110>"
      ]
     },
     "execution_count": 13,
     "metadata": {},
     "output_type": "execute_result"
    }
   ],
   "source": [
    "results"
   ]
  },
  {
   "cell_type": "code",
   "execution_count": 20,
   "metadata": {
    "id": "aaKawbDKl0t1"
   },
   "outputs": [],
   "source": [
    "!cp /content/runs/detect/predict5/Teste_Video_resized.avi /content/drive/MyDrive/Papaya-counter/results/raw_detection/yolo11n/"
   ]
  }
 ],
 "metadata": {
  "accelerator": "GPU",
  "colab": {
   "gpuType": "T4",
   "provenance": []
  },
  "kernelspec": {
   "display_name": "Python 3",
   "name": "python3"
  },
  "language_info": {
   "name": "python"
  }
 },
 "nbformat": 4,
 "nbformat_minor": 0
}
